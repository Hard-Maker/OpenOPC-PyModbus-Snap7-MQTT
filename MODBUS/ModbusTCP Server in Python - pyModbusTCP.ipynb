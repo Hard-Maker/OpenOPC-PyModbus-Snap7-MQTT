{
 "cells": [
  {
   "cell_type": "markdown",
   "id": "deadly-healthcare",
   "metadata": {},
   "source": [
    "# Install Modbus library for python"
   ]
  },
  {
   "cell_type": "code",
   "execution_count": 4,
   "id": "alpha-speaker",
   "metadata": {},
   "outputs": [
    {
     "name": "stdout",
     "output_type": "stream",
     "text": [
      "Requirement already satisfied: pyModbusTCP in c:\\users\\parrot\\appdata\\local\\programs\\python\\python36-32\\lib\\site-packages (0.1.8)\n"
     ]
    },
    {
     "name": "stderr",
     "output_type": "stream",
     "text": [
      "WARNING: You are using pip version 21.0.1; however, version 21.1.1 is available.\n",
      "You should consider upgrading via the 'c:\\users\\parrot\\appdata\\local\\programs\\python\\python36-32\\python.exe -m pip install --upgrade pip' command.\n"
     ]
    }
   ],
   "source": [
    "!pip install pyModbusTCP"
   ]
  },
  {
   "cell_type": "markdown",
   "id": "caroline-actor",
   "metadata": {},
   "source": [
    "# Import Required Functions from Library"
   ]
  },
  {
   "cell_type": "code",
   "execution_count": 1,
   "id": "missing-diabetes",
   "metadata": {},
   "outputs": [],
   "source": [
    "import time\n",
    "import socket\n",
    "from pyModbusTCP.server import ModbusServer"
   ]
  },
  {
   "cell_type": "markdown",
   "id": "moral-sunset",
   "metadata": {},
   "source": [
    "# Get System IP address and Define Default PORT-502 for Connection"
   ]
  },
  {
   "cell_type": "code",
   "execution_count": 2,
   "id": "divided-expansion",
   "metadata": {},
   "outputs": [],
   "source": [
    "hostname = socket.gethostname()    \n",
    "server_ip_address = socket.gethostbyname(hostname)\n",
    "server_port = 502"
   ]
  },
  {
   "cell_type": "markdown",
   "id": "indian-lancaster",
   "metadata": {},
   "source": [
    "# Initiate Server"
   ]
  },
  {
   "cell_type": "code",
   "execution_count": 3,
   "id": "hawaiian-intake",
   "metadata": {},
   "outputs": [],
   "source": [
    "server = ModbusServer(server_ip_address,server_port,no_block=True)"
   ]
  },
  {
   "cell_type": "markdown",
   "id": "elect-crazy",
   "metadata": {},
   "source": [
    "# Start Modbus TCP Server"
   ]
  },
  {
   "cell_type": "code",
   "execution_count": 4,
   "id": "amateur-mexico",
   "metadata": {},
   "outputs": [
    {
     "name": "stdout",
     "output_type": "stream",
     "text": [
      "[+]info : Server is Online on IP : 192.168.43.28 and PORT : 502 \n"
     ]
    }
   ],
   "source": [
    "server.start()\n",
    "print(f\"[+]info : Server is Online on IP : {server_ip_address} and PORT : {server_port} \")"
   ]
  },
  {
   "cell_type": "markdown",
   "id": "undefined-receipt",
   "metadata": {},
   "source": [
    "# Stop Modbus TCP Server"
   ]
  },
  {
   "cell_type": "code",
   "execution_count": 5,
   "id": "spatial-recipe",
   "metadata": {},
   "outputs": [],
   "source": [
    "server.stop()"
   ]
  },
  {
   "cell_type": "code",
   "execution_count": null,
   "id": "united-procedure",
   "metadata": {},
   "outputs": [],
   "source": []
  }
 ],
 "metadata": {
  "kernelspec": {
   "display_name": "Python 3",
   "language": "python",
   "name": "python3"
  },
  "language_info": {
   "codemirror_mode": {
    "name": "ipython",
    "version": 3
   },
   "file_extension": ".py",
   "mimetype": "text/x-python",
   "name": "python",
   "nbconvert_exporter": "python",
   "pygments_lexer": "ipython3",
   "version": "3.6.8"
  }
 },
 "nbformat": 4,
 "nbformat_minor": 5
}
