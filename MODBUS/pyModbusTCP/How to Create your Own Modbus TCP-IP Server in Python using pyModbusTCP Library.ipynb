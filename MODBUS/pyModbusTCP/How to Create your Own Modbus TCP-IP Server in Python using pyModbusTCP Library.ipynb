{
 "cells": [
  {
   "cell_type": "markdown",
   "id": "23c746f5",
   "metadata": {},
   "source": [
    "## Watch This Video for Complete Guide\n",
    "[![Part-6 | Create ModbusTCP Server in Python | pyModbusTCP |](http://img.youtube.com/vi/6qwUImG_CsE/0.jpg)](https://youtu.be/6qwUImG_CsE?t=1s \"Part-6 | Create ModbusTCP Server in Python | pyModbusTCP |\")"
   ]
  },
  {
   "cell_type": "markdown",
   "id": "deadly-healthcare",
   "metadata": {},
   "source": [
    "# Install Modbus library for python"
   ]
  },
  {
   "cell_type": "code",
   "execution_count": null,
   "id": "alpha-speaker",
   "metadata": {},
   "outputs": [],
   "source": [
    "!pip install pyModbusTCP"
   ]
  },
  {
   "cell_type": "markdown",
   "id": "caroline-actor",
   "metadata": {},
   "source": [
    "# Import Required Functions from Library"
   ]
  },
  {
   "cell_type": "code",
   "execution_count": 1,
   "id": "missing-diabetes",
   "metadata": {},
   "outputs": [],
   "source": [
    "import socket\n",
    "from pyModbusTCP.server import ModbusServer"
   ]
  },
  {
   "cell_type": "markdown",
   "id": "moral-sunset",
   "metadata": {},
   "source": [
    "# Get System IP address and Define Default PORT-502 for Connection"
   ]
  },
  {
   "cell_type": "code",
   "execution_count": 2,
   "id": "divided-expansion",
   "metadata": {},
   "outputs": [],
   "source": [
    "hostname = socket.gethostname()    \n",
    "server_ip_address = socket.gethostbyname(hostname)\n",
    "server_port = 502"
   ]
  },
  {
   "cell_type": "code",
   "execution_count": 3,
   "id": "temporal-insert",
   "metadata": {},
   "outputs": [
    {
     "name": "stdout",
     "output_type": "stream",
     "text": [
      "[+]Info : IP Address for Modbus Server : 192.168.43.28\n"
     ]
    }
   ],
   "source": [
    "print(f\"[+]Info : IP Address for Modbus Server : {server_ip_address}\")"
   ]
  },
  {
   "cell_type": "markdown",
   "id": "indian-lancaster",
   "metadata": {},
   "source": [
    "# Initiate Server"
   ]
  },
  {
   "cell_type": "code",
   "execution_count": null,
   "id": "developmental-tulsa",
   "metadata": {},
   "outputs": [],
   "source": [
    "ModbusServer?"
   ]
  },
  {
   "cell_type": "code",
   "execution_count": 4,
   "id": "hawaiian-intake",
   "metadata": {},
   "outputs": [],
   "source": [
    "server = ModbusServer(server_ip_address,server_port,no_block=True)"
   ]
  },
  {
   "cell_type": "markdown",
   "id": "elect-crazy",
   "metadata": {},
   "source": [
    "# Start Modbus TCP Server"
   ]
  },
  {
   "cell_type": "code",
   "execution_count": 5,
   "id": "living-feature",
   "metadata": {},
   "outputs": [
    {
     "name": "stdout",
     "output_type": "stream",
     "text": [
      "[+]info : Server is Online on IP : 192.168.43.28 and PORT : 502 \n"
     ]
    }
   ],
   "source": [
    "server.start()\n",
    "print(f\"[+]info : Server is Online on IP : {server_ip_address} and PORT : {server_port} \")"
   ]
  },
  {
   "cell_type": "markdown",
   "id": "musical-hygiene",
   "metadata": {},
   "source": [
    "# Check Server is Running !\n",
    "### Return True if Running or Return False if not Running."
   ]
  },
  {
   "cell_type": "code",
   "execution_count": 8,
   "id": "fuzzy-collar",
   "metadata": {},
   "outputs": [
    {
     "data": {
      "text/plain": [
       "False"
      ]
     },
     "execution_count": 8,
     "metadata": {},
     "output_type": "execute_result"
    }
   ],
   "source": [
    "server.is_run"
   ]
  },
  {
   "cell_type": "markdown",
   "id": "undefined-receipt",
   "metadata": {},
   "source": [
    "# Stop Modbus TCP Server"
   ]
  },
  {
   "cell_type": "code",
   "execution_count": 7,
   "id": "spatial-recipe",
   "metadata": {},
   "outputs": [],
   "source": [
    "server.stop()"
   ]
  },
  {
   "cell_type": "markdown",
   "id": "grateful-committee",
   "metadata": {},
   "source": [
    "# Check Server is Running !\n",
    "### Return True if Running or Return False if not Running."
   ]
  },
  {
   "cell_type": "code",
   "execution_count": 9,
   "id": "united-procedure",
   "metadata": {},
   "outputs": [
    {
     "data": {
      "text/plain": [
       "False"
      ]
     },
     "execution_count": 9,
     "metadata": {},
     "output_type": "execute_result"
    }
   ],
   "source": [
    "server.is_run"
   ]
  },
  {
   "cell_type": "code",
   "execution_count": null,
   "id": "automatic-seafood",
   "metadata": {},
   "outputs": [],
   "source": []
  }
 ],
 "metadata": {
  "kernelspec": {
   "display_name": "Python 3",
   "language": "python",
   "name": "python3"
  },
  "language_info": {
   "codemirror_mode": {
    "name": "ipython",
    "version": 3
   },
   "file_extension": ".py",
   "mimetype": "text/x-python",
   "name": "python",
   "nbconvert_exporter": "python",
   "pygments_lexer": "ipython3",
   "version": "3.6.8"
  }
 },
 "nbformat": 4,
 "nbformat_minor": 5
}
