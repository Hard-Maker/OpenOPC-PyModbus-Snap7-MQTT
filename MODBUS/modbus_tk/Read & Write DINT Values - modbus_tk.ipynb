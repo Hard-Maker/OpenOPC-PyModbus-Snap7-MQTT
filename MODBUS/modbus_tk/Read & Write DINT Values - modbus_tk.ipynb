{
 "cells": [
  {
   "cell_type": "markdown",
   "id": "asian-torture",
   "metadata": {},
   "source": [
    "# Install Modbus library for python"
   ]
  },
  {
   "cell_type": "code",
   "execution_count": null,
   "id": "ambient-fisher",
   "metadata": {
    "scrolled": false
   },
   "outputs": [],
   "source": [
    "!pip install modbus_tk"
   ]
  },
  {
   "cell_type": "markdown",
   "id": "conscious-mainland",
   "metadata": {},
   "source": [
    "# Import all necessary functions from Library"
   ]
  },
  {
   "cell_type": "code",
   "execution_count": 1,
   "id": "happy-parade",
   "metadata": {},
   "outputs": [],
   "source": [
    "import modbus_tk.defines as cst\n",
    "import modbus_tk.modbus_tcp as modbus_tcp\n",
    "import socket\n",
    "import numpy as np"
   ]
  },
  {
   "cell_type": "markdown",
   "id": "urban-rapid",
   "metadata": {},
   "source": [
    "# Get System IP address and Define Default PORT-502 for Connection"
   ]
  },
  {
   "cell_type": "code",
   "execution_count": 2,
   "id": "afraid-accordance",
   "metadata": {},
   "outputs": [],
   "source": [
    "hostname = socket.gethostname()    \n",
    "server_ip_address = socket.gethostbyname(hostname)\n",
    "server_port = 502"
   ]
  },
  {
   "cell_type": "markdown",
   "id": "active-glenn",
   "metadata": {},
   "source": [
    "# Initiate Modbus Client\n",
    "## In case of Real PLC or Gateway use PLC/Gateway IP Address."
   ]
  },
  {
   "cell_type": "code",
   "execution_count": 3,
   "id": "awful-soviet",
   "metadata": {},
   "outputs": [],
   "source": [
    "client = modbus_tcp.TcpMaster(host = server_ip_address)"
   ]
  },
  {
   "cell_type": "markdown",
   "id": "religious-cylinder",
   "metadata": {},
   "source": [
    "# Read holding register\n",
    "### It will read Holding Register Value from 40000 and 40001"
   ]
  },
  {
   "cell_type": "code",
   "execution_count": 22,
   "id": "latter-lender",
   "metadata": {},
   "outputs": [
    {
     "name": "stdout",
     "output_type": "stream",
     "text": [
      "(52994, 0, 38036, 1245, 64644, 913, 8998, 2235, 17933, 8444, 0, 0)\n"
     ]
    }
   ],
   "source": [
    "Result = client.execute (1, cst.READ_HOLDING_REGISTERS, 0, 12)\n",
    "print(Result)"
   ]
  },
  {
   "cell_type": "markdown",
   "id": "ab86695e",
   "metadata": {},
   "source": [
    "### Create Numpy Array of Int Values"
   ]
  },
  {
   "cell_type": "code",
   "execution_count": 23,
   "id": "ea14c9ac",
   "metadata": {},
   "outputs": [
    {
     "name": "stdout",
     "output_type": "stream",
     "text": [
      "[-12542      0 -27500   1245   -892    913   8998   2235  17933   8444\n",
      "      0      0]\n"
     ]
    }
   ],
   "source": [
    "d16 = np.array(Result, dtype=np.int16)\n",
    "print(d16)"
   ]
  },
  {
   "cell_type": "markdown",
   "id": "cad01c42",
   "metadata": {},
   "source": [
    "### Create Array Int Values to Float"
   ]
  },
  {
   "cell_type": "code",
   "execution_count": 24,
   "id": "929ccc21",
   "metadata": {
    "scrolled": true
   },
   "outputs": [
    {
     "name": "stdout",
     "output_type": "stream",
     "text": [
      "[    52994  81630356  59899012 146481958 553403917         0]\n"
     ]
    }
   ],
   "source": [
    "# Convert to an array of type float32\n",
    "f32 = d16.view(dtype = np.int32)\n",
    "print(f32)"
   ]
  },
  {
   "cell_type": "markdown",
   "id": "58d9dc3e",
   "metadata": {},
   "source": [
    "# Function to Read Float Values from Modbus Holding Register\n",
    "- start_Add : from where you want to read your holding register\n",
    "- count : Number of Register you want to read in single request"
   ]
  },
  {
   "cell_type": "code",
   "execution_count": 7,
   "id": "36c556c6",
   "metadata": {},
   "outputs": [],
   "source": [
    "def read_dint(start_add, count):\n",
    "    res = client.execute (1, cst.READ_HOLDING_REGISTERS, int(start_add), int(count))\n",
    "    d16 = np.array(res, dtype=np.int16)\n",
    "    return list(d16.view(dtype = np.int32))"
   ]
  },
  {
   "cell_type": "code",
   "execution_count": 15,
   "id": "b1e590b6",
   "metadata": {},
   "outputs": [
    {
     "data": {
      "text/plain": [
       "[52994, 577866334, 235117349, 136275978, 84355846]"
      ]
     },
     "execution_count": 15,
     "metadata": {},
     "output_type": "execute_result"
    }
   ],
   "source": [
    "read_dint(0,10)"
   ]
  },
  {
   "cell_type": "markdown",
   "id": "548d5810",
   "metadata": {},
   "source": [
    "# Function to Write Float Values to Modbus Holding Register\n",
    "\n",
    "- strat_add : It will Write Float Values from That Address"
   ]
  },
  {
   "cell_type": "code",
   "execution_count": null,
   "id": "d35e52ad",
   "metadata": {},
   "outputs": [],
   "source": [
    "def write_float(start_add):\n",
    "    \n",
    "    # it will read 40000 and 40001 and convert it into float\n",
    "    f_32 = np.array(read_float(0,2), dtype=np.float32)\n",
    "    I_16 = f_32.view(dtype = np.int16)\n",
    "    \n",
    "    # And it will write same value to Given Modbus Holding Register Address\n",
    "    return client.execute (1, cst.WRITE_MULTIPLE_REGISTERS, int(start_add), output_value = list(I_16))\n",
    "    "
   ]
  },
  {
   "cell_type": "code",
   "execution_count": null,
   "id": "143c5533",
   "metadata": {},
   "outputs": [],
   "source": [
    "write_float(6)"
   ]
  },
  {
   "cell_type": "code",
   "execution_count": null,
   "id": "0d1a6122",
   "metadata": {},
   "outputs": [],
   "source": []
  }
 ],
 "metadata": {
  "kernelspec": {
   "display_name": "Python 3",
   "language": "python",
   "name": "python3"
  },
  "language_info": {
   "codemirror_mode": {
    "name": "ipython",
    "version": 3
   },
   "file_extension": ".py",
   "mimetype": "text/x-python",
   "name": "python",
   "nbconvert_exporter": "python",
   "pygments_lexer": "ipython3",
   "version": "3.6.8"
  }
 },
 "nbformat": 4,
 "nbformat_minor": 5
}
