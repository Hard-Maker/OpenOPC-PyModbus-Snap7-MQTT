{
 "cells": [
  {
   "cell_type": "markdown",
   "id": "asian-torture",
   "metadata": {},
   "source": [
    "# Install Modbus library for python"
   ]
  },
  {
   "cell_type": "code",
   "execution_count": null,
   "id": "ambient-fisher",
   "metadata": {
    "scrolled": false
   },
   "outputs": [],
   "source": [
    "!pip install modbus_tk"
   ]
  },
  {
   "cell_type": "markdown",
   "id": "conscious-mainland",
   "metadata": {},
   "source": [
    "# Import all necessary functions from Library"
   ]
  },
  {
   "cell_type": "code",
   "execution_count": null,
   "id": "happy-parade",
   "metadata": {},
   "outputs": [],
   "source": [
    "import modbus_tk.defines as cst\n",
    "import modbus_tk.modbus_tcp as modbus_tcp\n",
    "import socket"
   ]
  },
  {
   "cell_type": "markdown",
   "id": "urban-rapid",
   "metadata": {},
   "source": [
    "# Get System IP address and Define Default PORT-502 for Connection"
   ]
  },
  {
   "cell_type": "code",
   "execution_count": null,
   "id": "afraid-accordance",
   "metadata": {},
   "outputs": [],
   "source": [
    "hostname = socket.gethostname()    \n",
    "server_ip_address = socket.gethostbyname(hostname)\n",
    "server_port = 502"
   ]
  },
  {
   "cell_type": "markdown",
   "id": "active-glenn",
   "metadata": {},
   "source": [
    "# Initiate Modbus Client\n",
    "## In case of Real PLC or Gateway use PLC/Gateway IP Address."
   ]
  },
  {
   "cell_type": "code",
   "execution_count": null,
   "id": "awful-soviet",
   "metadata": {},
   "outputs": [],
   "source": [
    "client = modbus_tcp.TcpMaster(host = server_ip_address)"
   ]
  },
  {
   "cell_type": "markdown",
   "id": "religious-cylinder",
   "metadata": {},
   "source": [
    "# Read holding register\n",
    "## It will read Holding Register Value from 40001"
   ]
  },
  {
   "cell_type": "code",
   "execution_count": null,
   "id": "latter-lender",
   "metadata": {},
   "outputs": [],
   "source": [
    "client.execute (1, cst.READ_HOLDING_REGISTERS, 0, 1)"
   ]
  },
  {
   "cell_type": "markdown",
   "id": "pointed-formula",
   "metadata": {},
   "source": [
    "# Read Multiple holding register\n",
    "## It will read Holding Register Value from 40001 to 40016"
   ]
  },
  {
   "cell_type": "code",
   "execution_count": null,
   "id": "loaded-commander",
   "metadata": {},
   "outputs": [],
   "source": [
    "client.execute (1, cst.READ_HOLDING_REGISTERS, 0, 16)"
   ]
  },
  {
   "cell_type": "markdown",
   "id": "wrapped-robin",
   "metadata": {},
   "source": [
    "# Write holding register\n",
    "## It will Write Value 21 at Holding Register 40001"
   ]
  },
  {
   "cell_type": "code",
   "execution_count": null,
   "id": "structural-figure",
   "metadata": {},
   "outputs": [],
   "source": [
    "client.execute (1, cst.WRITE_SINGLE_REGISTER, 0, output_value = 210)"
   ]
  },
  {
   "cell_type": "markdown",
   "id": "spiritual-traffic",
   "metadata": {},
   "source": [
    "# Write Multiple Holding Register\n",
    "### It will Write Value (20, 21, 22, 23) to Holding Register (40001, 40002, 40003, 40004)"
   ]
  },
  {
   "cell_type": "code",
   "execution_count": null,
   "id": "caroline-quarter",
   "metadata": {},
   "outputs": [],
   "source": [
    "client.execute (1, cst.WRITE_MULTIPLE_REGISTERS, 0, output_value = [20,21,22,23])"
   ]
  }
 ],
 "metadata": {
  "kernelspec": {
   "display_name": "Python 3",
   "language": "python",
   "name": "python3"
  },
  "language_info": {
   "codemirror_mode": {
    "name": "ipython",
    "version": 3
   },
   "file_extension": ".py",
   "mimetype": "text/x-python",
   "name": "python",
   "nbconvert_exporter": "python",
   "pygments_lexer": "ipython3",
   "version": "3.6.8"
  }
 },
 "nbformat": 4,
 "nbformat_minor": 5
}
