{
 "cells": [
  {
   "cell_type": "code",
   "execution_count": 1,
   "id": "happy-parade",
   "metadata": {},
   "outputs": [],
   "source": [
    "#-*-coding: utf_8-*-\n",
    "import sys\n",
    "import modbus_tk\n",
    "import modbus_tk.defines as cst\n",
    "import modbus_tk.modbus_tcp as modbus_tcp"
   ]
  },
  {
   "cell_type": "code",
   "execution_count": 5,
   "id": "improving-outreach",
   "metadata": {},
   "outputs": [
    {
     "ename": "SyntaxError",
     "evalue": "unexpected EOF while parsing (<ipython-input-5-9a3d388e03b6>, line 11)",
     "output_type": "error",
     "traceback": [
      "\u001b[1;36m  File \u001b[1;32m\"<ipython-input-5-9a3d388e03b6>\"\u001b[1;36m, line \u001b[1;32m11\u001b[0m\n\u001b[1;33m    master.set_timeout (5.0)\u001b[0m\n\u001b[1;37m                            ^\u001b[0m\n\u001b[1;31mSyntaxError\u001b[0m\u001b[1;31m:\u001b[0m unexpected EOF while parsing\n"
     ]
    }
   ],
   "source": [
    "if __name__ == \"__main__\":\n",
    "    try:\n",
    "        # Connect MODBUS TCP slave\n",
    "        master = modbus_tcp.TcpMaster (host = \"192.168.43.28\")\n",
    "        master.set_timeout (5.0)"
   ]
  },
  {
   "cell_type": "code",
   "execution_count": 2,
   "id": "caring-quilt",
   "metadata": {},
   "outputs": [],
   "source": [
    "        # Read holding register\n",
    "        master.execute (1, cst.READ_HOLDING_REGISTERS, 0, 16)\n",
    "\n",
    "        # Read input register\n",
    "        master.execute (1, cst.READ_INPUT_REGISTERS, 0, 16)\n",
    "\n",
    "        # Read coil register\n",
    "        master.execute (1, cst.READ_COILS, 0, 16)\n",
    "\n",
    "        # Read discrete input register\n",
    "        master.execute (1, cst.READ_DISCRETE_INPUTS, 0, 16)\n",
    "\n",
    "        # Single read and write register operation\n",
    "        # Write holding register with register address 0\n",
    "        master.execute (1, cst.WRITE_SINGLE_REGISTER, 0, output_value = 21)\n",
    "        master.execute (1, cst.READ_HOLDING_REGISTERS, 0, 1)\n",
    "\n",
    "        # Write coil register with register address 0, write content is 0 (bit operation)\n",
    "        master.execute (1, cst.WRITE_SINGLE_COIL, 0, output_value = 0)\n",
    "        master.execute (1, cst.READ_COILS, 0, 1)\n",
    "\n",
    "        # Multiple register read and write operations\n",
    "        # Write the holding register whose starting address is 0, and the number of operation registers is 4\n",
    "        master.execute (1, cst.WRITE_MULTIPLE_REGISTERS, 0, output_value = [20,21,22,23])\n",
    "        master.execute (1, cst.READ_HOLDING_REGISTERS, 0, 4)\n",
    "\n",
    "        # Write the coil register whose starting address is 0\n",
    "        master.execute (1, cst.WRITE_MULTIPLE_COILS, 0, output_value = [0,0,0,0])\n",
    "        master.execute (1, cst.READ_COILS, 0, 4)\n",
    "\n",
    "    except modbus_tk.modbus.ModbusError as  e:\n",
    "        print(\"% s- Code =% d\"% (e, e.get_exception_code ()))"
   ]
  }
 ],
 "metadata": {
  "kernelspec": {
   "display_name": "Python 3",
   "language": "python",
   "name": "python3"
  },
  "language_info": {
   "codemirror_mode": {
    "name": "ipython",
    "version": 3
   },
   "file_extension": ".py",
   "mimetype": "text/x-python",
   "name": "python",
   "nbconvert_exporter": "python",
   "pygments_lexer": "ipython3",
   "version": "3.6.8"
  }
 },
 "nbformat": 4,
 "nbformat_minor": 5
}
