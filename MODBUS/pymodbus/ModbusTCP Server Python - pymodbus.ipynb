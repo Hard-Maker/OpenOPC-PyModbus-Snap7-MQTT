{
 "cells": [
  {
   "cell_type": "code",
   "execution_count": null,
   "id": "cognitive-instruction",
   "metadata": {},
   "outputs": [],
   "source": [
    "!python -m pip install pymodbus"
   ]
  },
  {
   "cell_type": "markdown",
   "id": "express-photography",
   "metadata": {},
   "source": [
    "# Import Required Functions from Library"
   ]
  },
  {
   "cell_type": "code",
   "execution_count": 1,
   "id": "republican-washer",
   "metadata": {},
   "outputs": [],
   "source": [
    "import socket\n",
    "from pymodbus.server.sync import StartTcpServer\n",
    "from pymodbus.datastore import ModbusSlaveContext, ModbusServerContext\n"
   ]
  },
  {
   "cell_type": "markdown",
   "id": "palestinian-launch",
   "metadata": {},
   "source": [
    "# Get System IP address and Define Default PORT-502 for Connection"
   ]
  },
  {
   "cell_type": "code",
   "execution_count": 2,
   "id": "waiting-footwear",
   "metadata": {},
   "outputs": [],
   "source": [
    "hostname = socket.gethostname()    \n",
    "server_ip_address = socket.gethostbyname(hostname)\n",
    "server_port = 502"
   ]
  },
  {
   "cell_type": "markdown",
   "id": "corrected-transaction",
   "metadata": {},
   "source": [
    "# Define Server Perameter"
   ]
  },
  {
   "cell_type": "code",
   "execution_count": 4,
   "id": "organic-research",
   "metadata": {},
   "outputs": [],
   "source": [
    "store = ModbusSlaveContext(zero_mode=True)\n",
    "context = ModbusServerContext(slaves=store, single=True)"
   ]
  },
  {
   "cell_type": "markdown",
   "id": "computational-duplicate",
   "metadata": {},
   "source": [
    "# Start Modbus TCP Serevr"
   ]
  },
  {
   "cell_type": "code",
   "execution_count": null,
   "id": "duplicate-history",
   "metadata": {},
   "outputs": [
    {
     "name": "stdout",
     "output_type": "stream",
     "text": [
      "[+]Info : Server Started on IP : 192.168.43.28 and PORT : 502 \n"
     ]
    }
   ],
   "source": [
    "print(\"[+]Info : Server Started on IP : {I} and PORT : {P} \".format(I=server_ip_address,P=server_port))\n",
    "StartTcpServer(context, address=(server_ip_address,server_port))"
   ]
  },
  {
   "cell_type": "code",
   "execution_count": null,
   "id": "disciplinary-nursing",
   "metadata": {},
   "outputs": [],
   "source": []
  }
 ],
 "metadata": {
  "kernelspec": {
   "display_name": "Python 3",
   "language": "python",
   "name": "python3"
  },
  "language_info": {
   "codemirror_mode": {
    "name": "ipython",
    "version": 3
   },
   "file_extension": ".py",
   "mimetype": "text/x-python",
   "name": "python",
   "nbconvert_exporter": "python",
   "pygments_lexer": "ipython3",
   "version": "3.6.8"
  }
 },
 "nbformat": 4,
 "nbformat_minor": 5
}
