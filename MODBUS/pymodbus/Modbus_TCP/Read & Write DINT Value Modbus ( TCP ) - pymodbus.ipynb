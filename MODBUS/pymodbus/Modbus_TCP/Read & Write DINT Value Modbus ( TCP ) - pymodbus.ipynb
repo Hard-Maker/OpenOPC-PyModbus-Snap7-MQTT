{
 "cells": [
  {
   "cell_type": "markdown",
   "id": "b530d8fd",
   "metadata": {},
   "source": [
    "## Watch This Video for Complete Guide\n",
    "[![Part-4 | Read & Write DINT Values on Modbus Holding Register Address in Python | Pymodbus |](http://img.youtube.com/vi/yKG0XaVblpQ/0.jpg)](https://youtu.be/yKG0XaVblpQ?t=1s \"Part-4 | Read & Write DINT Values on Modbus Holding Register Address in Python | Pymodbus |\")"
   ]
  },
  {
   "cell_type": "markdown",
   "id": "toxic-tracker",
   "metadata": {},
   "source": [
    "# Install Modbus library for python"
   ]
  },
  {
   "cell_type": "code",
   "execution_count": null,
   "id": "wooden-glance",
   "metadata": {},
   "outputs": [],
   "source": [
    "!pip install pymodbus"
   ]
  },
  {
   "cell_type": "code",
   "execution_count": 1,
   "id": "adaptive-custom",
   "metadata": {},
   "outputs": [
    {
     "name": "stdout",
     "output_type": "stream",
     "text": [
      "Requirement already satisfied: pymodbus in c:\\users\\parrot\\appdata\\local\\programs\\python\\python36-32\\lib\\site-packages (2.4.0)\n",
      "Requirement already satisfied: six>=1.15.0 in c:\\users\\parrot\\appdata\\local\\programs\\python\\python36-32\\lib\\site-packages (from pymodbus) (1.15.0)\n",
      "Requirement already satisfied: pyserial>=3.4 in c:\\users\\parrot\\appdata\\local\\programs\\python\\python36-32\\lib\\site-packages (from pymodbus) (3.5)\n"
     ]
    }
   ],
   "source": [
    "!python -m pip install pymodbus"
   ]
  },
  {
   "cell_type": "markdown",
   "id": "pacific-distributor",
   "metadata": {},
   "source": [
    "# Import all necessary functions from Library"
   ]
  },
  {
   "cell_type": "code",
   "execution_count": 3,
   "id": "legislative-illustration",
   "metadata": {},
   "outputs": [],
   "source": [
    "from pymodbus.client.sync import ModbusTcpClient\n",
    "from pymodbus.payload import BinaryPayloadDecoder \n",
    "from pymodbus.constants import Endian\n",
    "from pymodbus.payload import BinaryPayloadBuilder\n"
   ]
  },
  {
   "cell_type": "markdown",
   "id": "sacred-mileage",
   "metadata": {},
   "source": [
    "# Connect with PLC as a Client\n",
    "## In case of Real PLC use PLC IP Address."
   ]
  },
  {
   "cell_type": "code",
   "execution_count": 6,
   "id": "nervous-renaissance",
   "metadata": {},
   "outputs": [],
   "source": [
    "IP_Address = '127.0.0.1'\n",
    "client = ModbusTcpClient(IP_Address)"
   ]
  },
  {
   "cell_type": "markdown",
   "id": "enhanced-grocery",
   "metadata": {},
   "source": [
    "# Check Connection to Modbus TCP Server that it's connected or not?"
   ]
  },
  {
   "cell_type": "code",
   "execution_count": 7,
   "id": "french-cardiff",
   "metadata": {},
   "outputs": [
    {
     "name": "stdout",
     "output_type": "stream",
     "text": [
      "[+]Info : Connection : True\n"
     ]
    }
   ],
   "source": [
    "print(\"[+]Info : Connection : \" + str(client.connect()))"
   ]
  },
  {
   "cell_type": "markdown",
   "id": "corresponding-priority",
   "metadata": {},
   "source": [
    "# Read Registers Values (%MD0)"
   ]
  },
  {
   "cell_type": "code",
   "execution_count": 21,
   "id": "owned-horizon",
   "metadata": {},
   "outputs": [],
   "source": [
    "read_value = client.read_holding_registers(0,2)\n",
    "dint_decoder = BinaryPayloadDecoder.fromRegisters(read_value.registers,Endian.Big, wordorder=Endian.Little)\n",
    "value = dint_decoder.decode_32bit_int()"
   ]
  },
  {
   "cell_type": "code",
   "execution_count": 22,
   "id": "handled-peter",
   "metadata": {},
   "outputs": [
    {
     "name": "stdout",
     "output_type": "stream",
     "text": [
      "65536\n"
     ]
    }
   ],
   "source": [
    "print(value)"
   ]
  },
  {
   "cell_type": "markdown",
   "id": "dimensional-physiology",
   "metadata": {},
   "source": [
    "# Write Registers Values (%MD2)\n",
    "\n",
    "## In this Example we will write Double Int value to %MD2 address."
   ]
  },
  {
   "cell_type": "code",
   "execution_count": 30,
   "id": "fitted-explosion",
   "metadata": {},
   "outputs": [],
   "source": [
    "builder = BinaryPayloadBuilder(byteorder = Endian.Big, wordorder=Endian.Little)\n",
    "builder.add_32bit_int(98)\n",
    "payload = builder.build()"
   ]
  },
  {
   "cell_type": "code",
   "execution_count": 31,
   "id": "incoming-halloween",
   "metadata": {},
   "outputs": [
    {
     "data": {
      "text/plain": [
       "<pymodbus.register_write_message.WriteMultipleRegistersResponse at 0x13abd90>"
      ]
     },
     "execution_count": 31,
     "metadata": {},
     "output_type": "execute_result"
    }
   ],
   "source": [
    "client.write_registers(2,payload,skip_encode=True)"
   ]
  }
 ],
 "metadata": {
  "kernelspec": {
   "display_name": "Python 3",
   "language": "python",
   "name": "python3"
  },
  "language_info": {
   "codemirror_mode": {
    "name": "ipython",
    "version": 3
   },
   "file_extension": ".py",
   "mimetype": "text/x-python",
   "name": "python",
   "nbconvert_exporter": "python",
   "pygments_lexer": "ipython3",
   "version": "3.6.8"
  }
 },
 "nbformat": 4,
 "nbformat_minor": 5
}
