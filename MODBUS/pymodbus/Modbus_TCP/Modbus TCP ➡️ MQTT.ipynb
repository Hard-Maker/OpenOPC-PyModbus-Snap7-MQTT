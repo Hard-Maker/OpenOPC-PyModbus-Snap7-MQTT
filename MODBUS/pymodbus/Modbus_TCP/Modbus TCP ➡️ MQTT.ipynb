{
 "cells": [
  {
   "cell_type": "markdown",
   "id": "0e8e8383",
   "metadata": {},
   "source": [
    "### Install Required Library"
   ]
  },
  {
   "cell_type": "code",
   "execution_count": null,
   "id": "d91a6b9a",
   "metadata": {},
   "outputs": [],
   "source": [
    "!pip install modbus4mqtt"
   ]
  },
  {
   "cell_type": "markdown",
   "id": "8f546f8b",
   "metadata": {},
   "source": [
    "### Command to use with modbus4mqtt"
   ]
  },
  {
   "cell_type": "code",
   "execution_count": 3,
   "id": "d50b85a7",
   "metadata": {},
   "outputs": [
    {
     "name": "stdout",
     "output_type": "stream",
     "text": [
      "Usage: modbus4mqtt [OPTIONS]\n",
      "\n",
      "Options:\n",
      "  --hostname TEXT           The hostname or IP address of the MQTT server.\n",
      "                            [default: localhost]\n",
      "  --port INTEGER            The port of the MQTT server.  [default: 1883]\n",
      "  --username TEXT           The username to authenticate to the MQTT server.\n",
      "                            [default: username]\n",
      "  --password TEXT           The password to authenticate to the MQTT server.\n",
      "                            [default: password]\n",
      "  --mqtt_topic_prefix TEXT  A prefix for published MQTT topics.  [default:\n",
      "                            modbus4mqtt]\n",
      "  --config TEXT             The YAML config file for your modbus device.\n",
      "                            [default: ./Sungrow_SH5k_20.yaml]\n",
      "  --use_tls BOOLEAN         Configure network encryption and authentication\n",
      "                            options. Enables SSL/TLS.  [default: False]\n",
      "  --insecure BOOLEAN        Do not check that the server certificate hostname\n",
      "                            matches the remote hostname.  [default: True]\n",
      "  --cafile TEXT             The path to a file containing trusted CA\n",
      "                            certificates to enable encryption.\n",
      "  --cert TEXT               Client certificate for authentication, if required\n",
      "                            by server.\n",
      "  --key TEXT                Client private key for authentication, if required\n",
      "                            by server.\n",
      "  --help                    Show this message and exit.\n"
     ]
    }
   ],
   "source": [
    "!modbus4mqtt --help"
   ]
  },
  {
   "cell_type": "markdown",
   "id": "2a6ea709",
   "metadata": {},
   "source": [
    "### Take a trial to publish your modbus TCP/IP data to MQTT Broker"
   ]
  },
  {
   "cell_type": "code",
   "execution_count": null,
   "id": "7fe3892c",
   "metadata": {},
   "outputs": [],
   "source": [
    "!modbus4mqtt --hostname 127.0.0.1 --port 1883 --config test.yaml"
   ]
  },
  {
   "cell_type": "code",
   "execution_count": null,
   "id": "dff5c0b1",
   "metadata": {},
   "outputs": [],
   "source": []
  }
 ],
 "metadata": {
  "kernelspec": {
   "display_name": "Python 3",
   "language": "python",
   "name": "python3"
  },
  "language_info": {
   "codemirror_mode": {
    "name": "ipython",
    "version": 3
   },
   "file_extension": ".py",
   "mimetype": "text/x-python",
   "name": "python",
   "nbconvert_exporter": "python",
   "pygments_lexer": "ipython3",
   "version": "3.6.8rc1"
  }
 },
 "nbformat": 4,
 "nbformat_minor": 5
}
