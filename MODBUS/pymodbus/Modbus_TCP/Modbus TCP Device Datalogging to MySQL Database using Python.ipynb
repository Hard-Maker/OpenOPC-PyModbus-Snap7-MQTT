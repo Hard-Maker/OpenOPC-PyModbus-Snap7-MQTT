{
 "cells": [
  {
   "cell_type": "markdown",
   "id": "496e6b7b-d60e-4514-bdf3-cf7ea83ea3f3",
   "metadata": {},
   "source": [
    "# Install mysql-connector python library if not installed"
   ]
  },
  {
   "cell_type": "code",
   "execution_count": null,
   "id": "24ec7a2a-950d-4cdb-9b8d-168884fd8e0e",
   "metadata": {},
   "outputs": [],
   "source": [
    "!pip install mysql-connector-python"
   ]
  },
  {
   "cell_type": "code",
   "execution_count": null,
   "id": "aedeb9bd-f502-4c03-b350-36cd9be4bfb0",
   "metadata": {},
   "outputs": [],
   "source": [
    "import mysql.connector\n",
    "from pymodbus.client import ModbusTcpClient\n",
    "import time"
   ]
  },
  {
   "cell_type": "markdown",
   "id": "cc18c4c5-86f2-4c8b-9e6b-61cb1a57113c",
   "metadata": {},
   "source": [
    "# Define the Modbus TCP device's IP address and port"
   ]
  },
  {
   "cell_type": "code",
   "execution_count": null,
   "id": "52ba1763-3dac-43ff-b428-c97588c7ef1d",
   "metadata": {},
   "outputs": [],
   "source": [
    "device_ip = \"127.0.0.1\"\n",
    "device_port = 502"
   ]
  },
  {
   "cell_type": "markdown",
   "id": "89bfec7a-a1c4-4e9b-904d-32bc2bd4acb5",
   "metadata": {},
   "source": [
    "# Create a connection to the Modbus TCP device"
   ]
  },
  {
   "cell_type": "code",
   "execution_count": null,
   "id": "71adf05d-cfc3-45ee-8575-39ac777d6098",
   "metadata": {},
   "outputs": [],
   "source": [
    "client = ModbusTcpClient(device_ip, port=device_port)"
   ]
  },
  {
   "cell_type": "markdown",
   "id": "f05ad7d3-a8cf-476f-9357-1bf173e6b8a9",
   "metadata": {},
   "source": [
    "# Define the Modbus slave unit ID (usually 1)"
   ]
  },
  {
   "cell_type": "code",
   "execution_count": null,
   "id": "751a06c0-b95a-45ed-8bc0-46b91f747166",
   "metadata": {},
   "outputs": [],
   "source": [
    "unit_id = 1"
   ]
  },
  {
   "cell_type": "markdown",
   "id": "cedfe9f1-6793-478f-b5a1-fa02cbc058f4",
   "metadata": {},
   "source": [
    "# Define the starting register address and the number of registers to read"
   ]
  },
  {
   "cell_type": "code",
   "execution_count": null,
   "id": "816b7ba0-1314-45ac-b0a9-9c0bc8a5e1f7",
   "metadata": {},
   "outputs": [],
   "source": [
    "start_address = 0\n",
    "num_registers = 2"
   ]
  },
  {
   "cell_type": "markdown",
   "id": "f4ac3f44-7814-4d2c-9c5f-7f0823f8f271",
   "metadata": {},
   "source": [
    "# Connect to the Modbus device"
   ]
  },
  {
   "cell_type": "code",
   "execution_count": null,
   "id": "123f7c3a-eef6-4ec0-a0da-a180f88dcaa5",
   "metadata": {},
   "outputs": [],
   "source": [
    "client.connect()"
   ]
  },
  {
   "cell_type": "markdown",
   "id": "6f98fdf5-7d1b-42a2-b5b2-81f4e5c7ed5f",
   "metadata": {},
   "source": [
    "# Connect to the MySQL database"
   ]
  },
  {
   "cell_type": "code",
   "execution_count": null,
   "id": "14d2eec3-a7a6-4146-b4c4-fec5c900ffb5",
   "metadata": {},
   "outputs": [],
   "source": [
    "conn = mysql.connector.connect(\n",
    "    host=\"127.0.0.1\",\n",
    "    user=\"root\",\n",
    "    password=\"toor\",\n",
    "    database=\"test\",\n",
    "    port=3306\n",
    ")\n",
    "\n",
    "cursor = conn.cursor()"
   ]
  },
  {
   "cell_type": "markdown",
   "id": "7391c83c-60a1-47d4-ae56-1d665802cd5a",
   "metadata": {},
   "source": [
    "# Check if the table exists; if not, create it"
   ]
  },
  {
   "cell_type": "code",
   "execution_count": null,
   "id": "15dbdb50-a62c-45df-8b85-2051ba497334",
   "metadata": {},
   "outputs": [],
   "source": [
    "create_table_query = \"\"\"\n",
    "CREATE TABLE IF NOT EXISTS modbus_data (\n",
    "    id INT AUTO_INCREMENT PRIMARY KEY,\n",
    "    timestamp TIMESTAMP DEFAULT CURRENT_TIMESTAMP,\n",
    "    holding_register_1 INT,\n",
    "    holding_register_2 INT\n",
    ")\n",
    "\"\"\"\n",
    "cursor.execute(create_table_query)"
   ]
  },
  {
   "cell_type": "markdown",
   "id": "fe4cd859-3f37-4ed9-8ea2-724398e5ac48",
   "metadata": {},
   "source": [
    "# Continuous data reading and logging"
   ]
  },
  {
   "cell_type": "code",
   "execution_count": null,
   "id": "0ab7418b-cc58-47eb-b1d7-1239d361f140",
   "metadata": {},
   "outputs": [],
   "source": [
    "while True:\n",
    "    # Read holding registers\n",
    "    response = client.read_holding_registers(start_address, num_registers, unit=unit_id)\n",
    "\n",
    "    # Check if the request was successful\n",
    "    if response.isError():\n",
    "        print(\"Modbus Error:\", response)\n",
    "    else:\n",
    "        data = response.registers\n",
    "        #print(\"Holding Register Data:\", data)\n",
    "\n",
    "        # Insert the data into the MySQL database\n",
    "        insert_query = \"INSERT INTO modbus_data (holding_register_1, holding_register_2) VALUES (%s, %s)\"\n",
    "        cursor.execute(insert_query, (data[0], data[1]))\n",
    "        conn.commit()\n",
    "\n",
    "    # Wait for 5 seconds before reading data again\n",
    "    time.sleep(5)"
   ]
  },
  {
   "cell_type": "markdown",
   "id": "c75fc306-60aa-4099-9bc4-16c4fddb1274",
   "metadata": {},
   "source": [
    "# Close the Modbus connection and the MySQL connection (this will never be reached in this example)"
   ]
  },
  {
   "cell_type": "code",
   "execution_count": null,
   "id": "29119a42-3e53-4f34-a5d2-a4b29a3695bc",
   "metadata": {},
   "outputs": [],
   "source": [
    "client.close()\n",
    "conn.close()"
   ]
  }
 ],
 "metadata": {
  "kernelspec": {
   "display_name": "Python 3 (ipykernel)",
   "language": "python",
   "name": "python3"
  },
  "language_info": {
   "codemirror_mode": {
    "name": "ipython",
    "version": 3
   },
   "file_extension": ".py",
   "mimetype": "text/x-python",
   "name": "python",
   "nbconvert_exporter": "python",
   "pygments_lexer": "ipython3",
   "version": "3.12.0"
  }
 },
 "nbformat": 4,
 "nbformat_minor": 5
}
