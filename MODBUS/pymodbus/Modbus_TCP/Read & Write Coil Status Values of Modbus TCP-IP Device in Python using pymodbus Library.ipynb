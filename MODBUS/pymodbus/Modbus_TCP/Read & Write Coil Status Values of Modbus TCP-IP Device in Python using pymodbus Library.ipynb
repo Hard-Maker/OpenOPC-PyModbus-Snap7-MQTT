{
 "cells": [
  {
   "cell_type": "markdown",
   "id": "091e6c9f",
   "metadata": {},
   "source": [
    "## Watch This Video for Complete Guide\n",
    "[![Part-5 | Create ModbusTCP Server & Updating Values on Server as a Client in Python | Pymodbus |](http://img.youtube.com/vi/emIn7T3C1Ts/0.jpg)](https://youtu.be/emIn7T3C1Ts?t=1s \"Part-5 | Create ModbusTCP Server & Updating Values on Server as a Client in Python | Pymodbus |\")"
   ]
  },
  {
   "cell_type": "markdown",
   "id": "concerned-ontario",
   "metadata": {},
   "source": [
    "# Install Modbus library for python"
   ]
  },
  {
   "cell_type": "code",
   "execution_count": 30,
   "id": "victorian-contrast",
   "metadata": {},
   "outputs": [
    {
     "name": "stdout",
     "output_type": "stream",
     "text": [
      "Requirement already satisfied: pymodbus in c:\\users\\parrot\\appdata\\local\\programs\\python\\python36-32\\lib\\site-packages (2.4.0)\n",
      "Requirement already satisfied: six>=1.15.0 in c:\\users\\parrot\\appdata\\local\\programs\\python\\python36-32\\lib\\site-packages (from pymodbus) (1.15.0)\n",
      "Requirement already satisfied: pyserial>=3.4 in c:\\users\\parrot\\appdata\\local\\programs\\python\\python36-32\\lib\\site-packages (from pymodbus) (3.5)\n"
     ]
    }
   ],
   "source": [
    "!pip install pymodbus"
   ]
  },
  {
   "cell_type": "markdown",
   "id": "rough-jacksonville",
   "metadata": {},
   "source": [
    "# Import all necessary functions"
   ]
  },
  {
   "cell_type": "code",
   "execution_count": 31,
   "id": "patent-absence",
   "metadata": {},
   "outputs": [],
   "source": [
    "from pymodbus.client.sync import ModbusTcpClient"
   ]
  },
  {
   "cell_type": "markdown",
   "id": "innocent-knowing",
   "metadata": {},
   "source": [
    "# Connect with PLC Client\n",
    "## In case of Real PLC use PLC IP Address."
   ]
  },
  {
   "cell_type": "code",
   "execution_count": 32,
   "id": "brown-waters",
   "metadata": {},
   "outputs": [],
   "source": [
    "IP_Address = '127.0.0.1'\n",
    "client = ModbusTcpClient(IP_Address)"
   ]
  },
  {
   "cell_type": "code",
   "execution_count": 33,
   "id": "tutorial-cherry",
   "metadata": {},
   "outputs": [
    {
     "data": {
      "text/plain": [
       "True"
      ]
     },
     "execution_count": 33,
     "metadata": {},
     "output_type": "execute_result"
    }
   ],
   "source": [
    "client.connect()"
   ]
  },
  {
   "cell_type": "markdown",
   "id": "instructional-bibliography",
   "metadata": {},
   "source": [
    "# Write Coil (Ex: %M0)\n",
    "## IN this example we will set %M1 to %M5 to True(1)"
   ]
  },
  {
   "cell_type": "code",
   "execution_count": 34,
   "id": "upper-chinese",
   "metadata": {},
   "outputs": [
    {
     "data": {
      "text/plain": [
       "<pymodbus.bit_write_message.WriteMultipleCoilsResponse at 0xbc1cf0>"
      ]
     },
     "execution_count": 34,
     "metadata": {},
     "output_type": "execute_result"
    }
   ],
   "source": [
    "client.write_coils(1, [1]*5)"
   ]
  },
  {
   "cell_type": "code",
   "execution_count": 35,
   "id": "careful-commonwealth",
   "metadata": {},
   "outputs": [],
   "source": [
    "client.write_coils?"
   ]
  },
  {
   "cell_type": "markdown",
   "id": "given-elder",
   "metadata": {},
   "source": [
    "# Read Coil Status (Ex: %M0)\n",
    "## In this example we will read from %M6 to %M10 (Total 5 Coils)"
   ]
  },
  {
   "cell_type": "code",
   "execution_count": 36,
   "id": "powerful-subdivision",
   "metadata": {},
   "outputs": [],
   "source": [
    "result = client.read_coils(6,5)"
   ]
  },
  {
   "cell_type": "code",
   "execution_count": 37,
   "id": "coordinate-turkish",
   "metadata": {},
   "outputs": [],
   "source": [
    "client.read_coils?"
   ]
  },
  {
   "cell_type": "markdown",
   "id": "identical-teens",
   "metadata": {},
   "source": [
    "# Print Coil Status"
   ]
  },
  {
   "cell_type": "code",
   "execution_count": 38,
   "id": "collective-cleveland",
   "metadata": {},
   "outputs": [
    {
     "name": "stdout",
     "output_type": "stream",
     "text": [
      "%M6 : True\n",
      "%M7 : True\n",
      "%M8 : True\n",
      "%M9 : True\n",
      "%M10 : True\n"
     ]
    }
   ],
   "source": [
    "if result:\n",
    "    print(\"%M6 : \" + str(result.bits[0]))\n",
    "    print(\"%M7 : \" + str(result.bits[1]))\n",
    "    print(\"%M8 : \" + str(result.bits[2]))\n",
    "    print(\"%M9 : \" + str(result.bits[3]))\n",
    "    print(\"%M10 : \" + str(result.bits[4]))"
   ]
  },
  {
   "cell_type": "markdown",
   "id": "arranged-minneapolis",
   "metadata": {},
   "source": [
    "# Write Coil (Ex: %M0)\n",
    "# IN this example we will set %M1 to %M5 to False(0)"
   ]
  },
  {
   "cell_type": "code",
   "execution_count": 39,
   "id": "stuffed-disease",
   "metadata": {},
   "outputs": [
    {
     "data": {
      "text/plain": [
       "<pymodbus.bit_write_message.WriteMultipleCoilsResponse at 0xbc1ff0>"
      ]
     },
     "execution_count": 39,
     "metadata": {},
     "output_type": "execute_result"
    }
   ],
   "source": [
    "client.write_coils(1, [0]*5)"
   ]
  },
  {
   "cell_type": "markdown",
   "id": "alien-congo",
   "metadata": {},
   "source": [
    "# Read Coil Status (Ex: %M0)\n",
    "## In this example we will read from %M6 to %M10"
   ]
  },
  {
   "cell_type": "code",
   "execution_count": 40,
   "id": "honey-injection",
   "metadata": {},
   "outputs": [],
   "source": [
    "result = client.read_coils(6,5)"
   ]
  },
  {
   "cell_type": "markdown",
   "id": "active-caribbean",
   "metadata": {},
   "source": [
    "# Print Coil Status"
   ]
  },
  {
   "cell_type": "code",
   "execution_count": 41,
   "id": "desperate-mixer",
   "metadata": {},
   "outputs": [
    {
     "name": "stdout",
     "output_type": "stream",
     "text": [
      "%M6 : True\n",
      "%M7 : False\n",
      "%M8 : False\n",
      "%M9 : False\n",
      "%M10 : False\n"
     ]
    }
   ],
   "source": [
    "if result:\n",
    "    print(\"%M6 : \" + str(result.bits[0]))\n",
    "    print(\"%M7 : \" + str(result.bits[1]))\n",
    "    print(\"%M8 : \" + str(result.bits[2]))\n",
    "    print(\"%M9 : \" + str(result.bits[3]))\n",
    "    print(\"%M10 : \" + str(result.bits[4]))"
   ]
  },
  {
   "cell_type": "markdown",
   "id": "through-taylor",
   "metadata": {},
   "source": [
    "# Close Connection with PLC"
   ]
  },
  {
   "cell_type": "code",
   "execution_count": null,
   "id": "polar-audit",
   "metadata": {},
   "outputs": [],
   "source": [
    "client.close()"
   ]
  }
 ],
 "metadata": {
  "kernelspec": {
   "display_name": "Python 3",
   "language": "python",
   "name": "python3"
  },
  "language_info": {
   "codemirror_mode": {
    "name": "ipython",
    "version": 3
   },
   "file_extension": ".py",
   "mimetype": "text/x-python",
   "name": "python",
   "nbconvert_exporter": "python",
   "pygments_lexer": "ipython3",
   "version": "3.6.8"
  }
 },
 "nbformat": 4,
 "nbformat_minor": 5
}
