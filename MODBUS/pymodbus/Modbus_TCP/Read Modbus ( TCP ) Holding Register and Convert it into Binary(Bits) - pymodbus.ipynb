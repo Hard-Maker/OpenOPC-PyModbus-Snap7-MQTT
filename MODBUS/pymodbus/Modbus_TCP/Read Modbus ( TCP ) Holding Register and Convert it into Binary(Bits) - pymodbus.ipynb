{
 "cells": [
  {
   "cell_type": "markdown",
   "id": "toxic-tracker",
   "metadata": {},
   "source": [
    "# Install Modbus library for python"
   ]
  },
  {
   "cell_type": "code",
   "execution_count": 1,
   "id": "adaptive-custom",
   "metadata": {},
   "outputs": [
    {
     "name": "stdout",
     "output_type": "stream",
     "text": [
      "Requirement already satisfied: pymodbus in c:\\users\\parrot\\appdata\\local\\programs\\python\\python36-32\\lib\\site-packages (2.4.0)\n",
      "Requirement already satisfied: pyserial>=3.4 in c:\\users\\parrot\\appdata\\local\\programs\\python\\python36-32\\lib\\site-packages (from pymodbus) (3.5)\n",
      "Requirement already satisfied: six>=1.15.0 in c:\\users\\parrot\\appdata\\local\\programs\\python\\python36-32\\lib\\site-packages (from pymodbus) (1.15.0)\n"
     ]
    },
    {
     "name": "stderr",
     "output_type": "stream",
     "text": [
      "WARNING: You are using pip version 21.0.1; however, version 21.1.1 is available.\n",
      "You should consider upgrading via the 'c:\\users\\parrot\\appdata\\local\\programs\\python\\python36-32\\python.exe -m pip install --upgrade pip' command.\n"
     ]
    }
   ],
   "source": [
    "!pip install pymodbus"
   ]
  },
  {
   "cell_type": "markdown",
   "id": "pacific-distributor",
   "metadata": {},
   "source": [
    "# Import all necessary functions"
   ]
  },
  {
   "cell_type": "code",
   "execution_count": 2,
   "id": "legislative-illustration",
   "metadata": {},
   "outputs": [],
   "source": [
    "from pymodbus.client.sync import ModbusTcpClient\n",
    "import numpy as np"
   ]
  },
  {
   "cell_type": "markdown",
   "id": "sacred-mileage",
   "metadata": {},
   "source": [
    "# Connect with PLC Client\n",
    "## In case of Real PLC use PLC IP Address."
   ]
  },
  {
   "cell_type": "code",
   "execution_count": 3,
   "id": "nervous-renaissance",
   "metadata": {},
   "outputs": [],
   "source": [
    "IP_Address = '127.0.0.1'\n",
    "client = ModbusTcpClient(IP_Address)"
   ]
  },
  {
   "cell_type": "markdown",
   "id": "enhanced-grocery",
   "metadata": {},
   "source": [
    "# Check Connection to Modbus TCP Server that it's connected or not?"
   ]
  },
  {
   "cell_type": "code",
   "execution_count": 4,
   "id": "french-cardiff",
   "metadata": {},
   "outputs": [
    {
     "name": "stdout",
     "output_type": "stream",
     "text": [
      "True\n"
     ]
    }
   ],
   "source": [
    "print(client.connect())"
   ]
  },
  {
   "cell_type": "markdown",
   "id": "particular-valentine",
   "metadata": {},
   "source": [
    "# Read Register Values (%MW0)"
   ]
  },
  {
   "cell_type": "code",
   "execution_count": 5,
   "id": "parallel-memory",
   "metadata": {},
   "outputs": [],
   "source": [
    "result = client.read_holding_registers(0,4)"
   ]
  },
  {
   "cell_type": "markdown",
   "id": "institutional-reduction",
   "metadata": {},
   "source": [
    "# Print Register Value"
   ]
  },
  {
   "cell_type": "code",
   "execution_count": 6,
   "id": "cheap-framing",
   "metadata": {},
   "outputs": [],
   "source": [
    "Register_Value_0 = result.registers[0]\n",
    "Register_Value_1 = result.registers[1]\n",
    "Register_Value_2 = result.registers[2]\n",
    "Register_Value_3 = result.registers[3]"
   ]
  },
  {
   "cell_type": "code",
   "execution_count": 7,
   "id": "grave-promotion",
   "metadata": {},
   "outputs": [
    {
     "data": {
      "text/plain": [
       "2525"
      ]
     },
     "execution_count": 7,
     "metadata": {},
     "output_type": "execute_result"
    }
   ],
   "source": [
    "Register_Value_0"
   ]
  },
  {
   "cell_type": "code",
   "execution_count": 8,
   "id": "restricted-dealing",
   "metadata": {},
   "outputs": [
    {
     "data": {
      "text/plain": [
       "7575"
      ]
     },
     "execution_count": 8,
     "metadata": {},
     "output_type": "execute_result"
    }
   ],
   "source": [
    "Register_Value_1"
   ]
  },
  {
   "cell_type": "code",
   "execution_count": 9,
   "id": "protecting-intention",
   "metadata": {},
   "outputs": [
    {
     "data": {
      "text/plain": [
       "8486"
      ]
     },
     "execution_count": 9,
     "metadata": {},
     "output_type": "execute_result"
    }
   ],
   "source": [
    "Register_Value_2"
   ]
  },
  {
   "cell_type": "code",
   "execution_count": 10,
   "id": "complex-semester",
   "metadata": {},
   "outputs": [
    {
     "data": {
      "text/plain": [
       "9999"
      ]
     },
     "execution_count": 10,
     "metadata": {},
     "output_type": "execute_result"
    }
   ],
   "source": [
    "Register_Value_3"
   ]
  },
  {
   "cell_type": "markdown",
   "id": "clean-volume",
   "metadata": {},
   "source": [
    "# Convert Register Values to Bits Using Numpy\n",
    "\n",
    "Note : You can use loop as well"
   ]
  },
  {
   "cell_type": "code",
   "execution_count": 11,
   "id": "entertaining-numbers",
   "metadata": {},
   "outputs": [],
   "source": [
    "Data_0 = np.unpackbits(np.array([Register_Value_0], dtype='>i2').view(np.uint8)).tolist()\n",
    "Data_1 = np.unpackbits(np.array([Register_Value_1], dtype='>i2').view(np.uint8)).tolist()\n",
    "Data_2 = np.unpackbits(np.array([Register_Value_2], dtype='>i2').view(np.uint8)).tolist()\n",
    "Data_3 = np.unpackbits(np.array([Register_Value_3], dtype='>i2').view(np.uint8)).tolist()"
   ]
  },
  {
   "cell_type": "markdown",
   "id": "velvet-lease",
   "metadata": {},
   "source": [
    "# Converted Data"
   ]
  },
  {
   "cell_type": "code",
   "execution_count": 12,
   "id": "pleasant-salvation",
   "metadata": {},
   "outputs": [
    {
     "data": {
      "text/plain": [
       "[0, 0, 0, 0, 1, 0, 0, 1, 1, 1, 0, 1, 1, 1, 0, 1]"
      ]
     },
     "execution_count": 12,
     "metadata": {},
     "output_type": "execute_result"
    }
   ],
   "source": [
    "Data_0"
   ]
  },
  {
   "cell_type": "code",
   "execution_count": 13,
   "id": "alpha-check",
   "metadata": {},
   "outputs": [
    {
     "data": {
      "text/plain": [
       "[0, 0, 0, 1, 1, 1, 0, 1, 1, 0, 0, 1, 0, 1, 1, 1]"
      ]
     },
     "execution_count": 13,
     "metadata": {},
     "output_type": "execute_result"
    }
   ],
   "source": [
    "Data_1"
   ]
  },
  {
   "cell_type": "code",
   "execution_count": 14,
   "id": "liquid-closure",
   "metadata": {},
   "outputs": [
    {
     "data": {
      "text/plain": [
       "[0, 0, 1, 0, 0, 0, 0, 1, 0, 0, 1, 0, 0, 1, 1, 0]"
      ]
     },
     "execution_count": 14,
     "metadata": {},
     "output_type": "execute_result"
    }
   ],
   "source": [
    "Data_2"
   ]
  },
  {
   "cell_type": "code",
   "execution_count": 15,
   "id": "executive-alert",
   "metadata": {},
   "outputs": [
    {
     "data": {
      "text/plain": [
       "[0, 0, 1, 0, 0, 1, 1, 1, 0, 0, 0, 0, 1, 1, 1, 1]"
      ]
     },
     "execution_count": 15,
     "metadata": {},
     "output_type": "execute_result"
    }
   ],
   "source": [
    "Data_3"
   ]
  },
  {
   "cell_type": "markdown",
   "id": "tender-google",
   "metadata": {},
   "source": [
    "# Close Connection with Client"
   ]
  },
  {
   "cell_type": "code",
   "execution_count": 16,
   "id": "moved-davis",
   "metadata": {},
   "outputs": [],
   "source": [
    "client.close()"
   ]
  }
 ],
 "metadata": {
  "kernelspec": {
   "display_name": "Python 3",
   "language": "python",
   "name": "python3"
  },
  "language_info": {
   "codemirror_mode": {
    "name": "ipython",
    "version": 3
   },
   "file_extension": ".py",
   "mimetype": "text/x-python",
   "name": "python",
   "nbconvert_exporter": "python",
   "pygments_lexer": "ipython3",
   "version": "3.6.8"
  }
 },
 "nbformat": 4,
 "nbformat_minor": 5
}
