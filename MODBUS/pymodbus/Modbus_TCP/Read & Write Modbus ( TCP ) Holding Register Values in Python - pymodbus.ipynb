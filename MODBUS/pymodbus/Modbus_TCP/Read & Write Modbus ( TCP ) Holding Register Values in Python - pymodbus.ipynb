{
 "cells": [
  {
   "cell_type": "markdown",
   "id": "toxic-tracker",
   "metadata": {},
   "source": [
    "# Install Modbus library for python"
   ]
  },
  {
   "cell_type": "code",
   "execution_count": 1,
   "id": "adaptive-custom",
   "metadata": {},
   "outputs": [
    {
     "name": "stdout",
     "output_type": "stream",
     "text": [
      "Requirement already satisfied: pymodbus in c:\\users\\parrot\\appdata\\local\\programs\\python\\python36-32\\lib\\site-packages (2.4.0)\n",
      "Requirement already satisfied: six>=1.15.0 in c:\\users\\parrot\\appdata\\local\\programs\\python\\python36-32\\lib\\site-packages (from pymodbus) (1.15.0)\n",
      "Requirement already satisfied: pyserial>=3.4 in c:\\users\\parrot\\appdata\\local\\programs\\python\\python36-32\\lib\\site-packages (from pymodbus) (3.5)\n"
     ]
    }
   ],
   "source": [
    "!pip install pymodbus"
   ]
  },
  {
   "cell_type": "markdown",
   "id": "pacific-distributor",
   "metadata": {},
   "source": [
    "# Import all necessary functions"
   ]
  },
  {
   "cell_type": "code",
   "execution_count": 2,
   "id": "legislative-illustration",
   "metadata": {},
   "outputs": [],
   "source": [
    "from pymodbus.client.sync import ModbusTcpClient"
   ]
  },
  {
   "cell_type": "markdown",
   "id": "sacred-mileage",
   "metadata": {},
   "source": [
    "# Connect with PLC Client\n",
    "## In case of Real PLC use PLC IP Address."
   ]
  },
  {
   "cell_type": "code",
   "execution_count": null,
   "id": "nervous-renaissance",
   "metadata": {},
   "outputs": [],
   "source": [
    "IP_Address = '192.168.1.235'\n",
    "client = ModbusTcpClient(IP_Address)\n",
    "print(client.connect())"
   ]
  },
  {
   "cell_type": "markdown",
   "id": "enhanced-grocery",
   "metadata": {},
   "source": [
    "# Check Connection to Modbus TCP Server that it's connected or not?"
   ]
  },
  {
   "cell_type": "code",
   "execution_count": null,
   "id": "french-cardiff",
   "metadata": {},
   "outputs": [],
   "source": [
    "print(client.connect())"
   ]
  },
  {
   "cell_type": "markdown",
   "id": "corresponding-priority",
   "metadata": {},
   "source": [
    "# Write Registers Values (%MW0)\n",
    "## This will write value \"10\" into %MW0"
   ]
  },
  {
   "cell_type": "code",
   "execution_count": null,
   "id": "plain-center",
   "metadata": {},
   "outputs": [],
   "source": [
    "client.write_registers(0,10)"
   ]
  },
  {
   "cell_type": "markdown",
   "id": "soviet-cruise",
   "metadata": {},
   "source": [
    "# Write Registers Values (%MW1)\n",
    "## This will write value \"11\" into %MW1"
   ]
  },
  {
   "cell_type": "code",
   "execution_count": null,
   "id": "honey-plumbing",
   "metadata": {},
   "outputs": [],
   "source": [
    "client.write_registers(1,11)"
   ]
  },
  {
   "cell_type": "markdown",
   "id": "capital-consolidation",
   "metadata": {},
   "source": [
    "# Write Registers Values (%MW2)\n",
    "## This will write value \"12\" into %MW2"
   ]
  },
  {
   "cell_type": "code",
   "execution_count": null,
   "id": "funny-pierce",
   "metadata": {
    "scrolled": true
   },
   "outputs": [],
   "source": [
    "client.write_registers(2,12)"
   ]
  },
  {
   "cell_type": "markdown",
   "id": "pointed-combining",
   "metadata": {},
   "source": [
    "# Write Registers Values (%MW3)\n",
    "## This will write value \"13\" into %MW3"
   ]
  },
  {
   "cell_type": "code",
   "execution_count": null,
   "id": "demographic-florida",
   "metadata": {},
   "outputs": [],
   "source": [
    "client.write_registers(3,13)"
   ]
  },
  {
   "cell_type": "markdown",
   "id": "cathedral-puzzle",
   "metadata": {},
   "source": [
    "# Write Registers Values (%MW4)\n",
    "## This will write value \"14\" into %MW4"
   ]
  },
  {
   "cell_type": "code",
   "execution_count": null,
   "id": "divided-minnesota",
   "metadata": {},
   "outputs": [],
   "source": [
    "client.write_registers(4,14)"
   ]
  },
  {
   "cell_type": "markdown",
   "id": "identified-inventory",
   "metadata": {},
   "source": [
    "# Write Registers Values (%MW5)\n",
    "## This will write value \"15\" into %MW5"
   ]
  },
  {
   "cell_type": "code",
   "execution_count": null,
   "id": "expired-distribution",
   "metadata": {
    "scrolled": true
   },
   "outputs": [],
   "source": [
    "client.write_registers(5,15)"
   ]
  },
  {
   "cell_type": "markdown",
   "id": "particular-valentine",
   "metadata": {},
   "source": [
    "# Read Register Values (Ex: %MW0)\n",
    "### In this example we will read from %MW0 to %MW5 (Total 6 Registers)"
   ]
  },
  {
   "cell_type": "code",
   "execution_count": null,
   "id": "talented-cookbook",
   "metadata": {},
   "outputs": [],
   "source": [
    "client.read_holding_registers?"
   ]
  },
  {
   "cell_type": "code",
   "execution_count": null,
   "id": "parallel-memory",
   "metadata": {},
   "outputs": [],
   "source": [
    "result = client.read_holding_registers(1000,100)"
   ]
  },
  {
   "cell_type": "code",
   "execution_count": null,
   "id": "amino-miniature",
   "metadata": {},
   "outputs": [],
   "source": [
    "for i in range(999,1100):\n",
    "    print(\"%MW{} : \".format(i) + str(result.registers[i]))"
   ]
  },
  {
   "cell_type": "code",
   "execution_count": null,
   "id": "scientific-confusion",
   "metadata": {},
   "outputs": [],
   "source": [
    "print(\"%MW0 : \" + str(result.registers[0]))\n",
    "print(\"%MW1 : \" + str(result.registers[1]))\n",
    "print(\"%MW2 : \" + str(result.registers[2]))\n",
    "print(\"%MW3 : \" + str(result.registers[3]))\n",
    "print(\"%MW4 : \" + str(result.registers[4]))\n",
    "print(\"%MW5 : \" + str(result.registers[5]))"
   ]
  },
  {
   "cell_type": "markdown",
   "id": "activated-camcorder",
   "metadata": {},
   "source": [
    "# Close Connection with PLC"
   ]
  },
  {
   "cell_type": "code",
   "execution_count": null,
   "id": "moved-davis",
   "metadata": {},
   "outputs": [],
   "source": [
    "client.close()"
   ]
  }
 ],
 "metadata": {
  "kernelspec": {
   "display_name": "Python 3",
   "language": "python",
   "name": "python3"
  },
  "language_info": {
   "codemirror_mode": {
    "name": "ipython",
    "version": 3
   },
   "file_extension": ".py",
   "mimetype": "text/x-python",
   "name": "python",
   "nbconvert_exporter": "python",
   "pygments_lexer": "ipython3",
   "version": "3.6.8"
  }
 },
 "nbformat": 4,
 "nbformat_minor": 5
}
