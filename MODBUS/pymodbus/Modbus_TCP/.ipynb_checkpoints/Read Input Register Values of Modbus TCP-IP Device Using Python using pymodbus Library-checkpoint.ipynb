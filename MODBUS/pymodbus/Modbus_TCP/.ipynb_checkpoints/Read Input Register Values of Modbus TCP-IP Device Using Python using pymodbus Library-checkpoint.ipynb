{
 "cells": [
  {
   "cell_type": "markdown",
   "id": "92178ff6-1b8b-4a0a-aacb-823e4303d829",
   "metadata": {},
   "source": [
    "# Install pymodbus library for modbus communication"
   ]
  },
  {
   "cell_type": "code",
   "execution_count": null,
   "id": "d8c463e7-27c4-49c2-9e1f-9f5a13ac05c5",
   "metadata": {},
   "outputs": [],
   "source": [
    "!pip install pymodbus"
   ]
  },
  {
   "cell_type": "markdown",
   "id": "3e531ccb-1b80-4110-83e2-476dd1a96b6a",
   "metadata": {},
   "source": [
    "# Import necessary functions"
   ]
  },
  {
   "cell_type": "code",
   "execution_count": 5,
   "id": "b303aaaf-4474-4b7b-a056-54e9a9336eec",
   "metadata": {},
   "outputs": [],
   "source": [
    "from pymodbus.client import ModbusTcpClient"
   ]
  },
  {
   "cell_type": "markdown",
   "id": "abb840c9-360f-43ee-84e8-c75a730409b4",
   "metadata": {},
   "source": [
    "# Create Modbus TCP Client to Connect with Modbus TCP/IP Device"
   ]
  },
  {
   "cell_type": "code",
   "execution_count": 6,
   "id": "d09184c9-4aa5-4d7a-90de-53b40c02617c",
   "metadata": {},
   "outputs": [],
   "source": [
    "IP_Address = '127.0.0.1'\n",
    "client = ModbusTcpClient(IP_Address)"
   ]
  },
  {
   "cell_type": "markdown",
   "id": "31dd5f2c-e58e-431f-8783-c5c247aad4dc",
   "metadata": {},
   "source": [
    "# Get Client Connection Status"
   ]
  },
  {
   "cell_type": "code",
   "execution_count": 7,
   "id": "1ec2e561-1cfb-477f-8f62-f168f5d5e06c",
   "metadata": {},
   "outputs": [
    {
     "name": "stdout",
     "output_type": "stream",
     "text": [
      "True\n"
     ]
    }
   ],
   "source": [
    "print(client.connect())"
   ]
  },
  {
   "cell_type": "markdown",
   "id": "ac143e56-6e54-4fb6-82fd-36ef03a9b2c1",
   "metadata": {},
   "source": [
    "# Read 10 Input Register Starting from 0 of Device ID 1"
   ]
  },
  {
   "cell_type": "code",
   "execution_count": 8,
   "id": "93945e28-4b2d-4515-a7df-2aa166de191b",
   "metadata": {},
   "outputs": [],
   "source": [
    "result = client.read_input_registers(address = 0,count = 10, slave = 1)"
   ]
  },
  {
   "cell_type": "markdown",
   "id": "51f4b87d-5cd0-4334-975b-b31bdb9c6447",
   "metadata": {},
   "source": [
    "# Print Value of 1st(0th) Input Register"
   ]
  },
  {
   "cell_type": "code",
   "execution_count": 11,
   "id": "f9407f4d-4249-4fd1-8d95-16e03cb9e95d",
   "metadata": {},
   "outputs": [
    {
     "data": {
      "text/plain": [
       "21425"
      ]
     },
     "execution_count": 11,
     "metadata": {},
     "output_type": "execute_result"
    }
   ],
   "source": [
    "result.registers[0]"
   ]
  },
  {
   "cell_type": "markdown",
   "id": "04225c58-e240-4fd7-a4f8-05ab9e3108d3",
   "metadata": {},
   "source": [
    "# Print Value of All Input Register"
   ]
  },
  {
   "cell_type": "code",
   "execution_count": 9,
   "id": "98753273-8b3a-4286-bae0-66542e8fc1b1",
   "metadata": {},
   "outputs": [
    {
     "data": {
      "text/plain": [
       "[21425, 0, 0, 0, 0, 0, 0, 0, 0, 0]"
      ]
     },
     "execution_count": 9,
     "metadata": {},
     "output_type": "execute_result"
    }
   ],
   "source": [
    "result.registers"
   ]
  },
  {
   "cell_type": "code",
   "execution_count": null,
   "id": "dd825e15-1b1b-43b7-9536-4f185c6bc698",
   "metadata": {},
   "outputs": [],
   "source": []
  }
 ],
 "metadata": {
  "kernelspec": {
   "display_name": "Python 3 (ipykernel)",
   "language": "python",
   "name": "python3"
  },
  "language_info": {
   "codemirror_mode": {
    "name": "ipython",
    "version": 3
   },
   "file_extension": ".py",
   "mimetype": "text/x-python",
   "name": "python",
   "nbconvert_exporter": "python",
   "pygments_lexer": "ipython3",
   "version": "3.12.2"
  }
 },
 "nbformat": 4,
 "nbformat_minor": 5
}
