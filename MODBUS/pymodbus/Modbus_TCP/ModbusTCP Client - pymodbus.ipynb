{
 "cells": [
  {
   "cell_type": "markdown",
   "id": "edda169b",
   "metadata": {},
   "source": [
    "## Watch This Video for Complete Guide\n",
    "[![Part-2 | Read & Write Coil Status Values on Modbus Address Using Python | Pymodbus |](http://img.youtube.com/vi/vIzE2vUKcMw/0.jpg)](https://youtu.be/vIzE2vUKcMw?t=1s \"Part-2 | Read & Write Coil Status Values on Modbus Address Using Python | Pymodbus |\")"
   ]
  },
  {
   "cell_type": "markdown",
   "id": "certified-imagination",
   "metadata": {},
   "source": [
    "# Import Required Functions from Library"
   ]
  },
  {
   "cell_type": "code",
   "execution_count": 15,
   "id": "scenic-inside",
   "metadata": {},
   "outputs": [],
   "source": [
    "from pymodbus.constants import Endian\n",
    "from pymodbus.client.sync import ModbusTcpClient\n",
    "from pymodbus.payload import BinaryPayloadBuilder\n",
    "import socket\n",
    "import time"
   ]
  },
  {
   "cell_type": "markdown",
   "id": "conservative-elite",
   "metadata": {},
   "source": [
    "# Get System IP address and Define Default PORT-502 for Connection"
   ]
  },
  {
   "cell_type": "code",
   "execution_count": 16,
   "id": "induced-custody",
   "metadata": {},
   "outputs": [],
   "source": [
    "hostname = socket.gethostname()    \n",
    "server_ip_address = socket.gethostbyname(hostname)\n",
    "server_port = 502"
   ]
  },
  {
   "cell_type": "markdown",
   "id": "collect-luther",
   "metadata": {},
   "source": [
    "# Connect with Server as a Client"
   ]
  },
  {
   "cell_type": "code",
   "execution_count": 17,
   "id": "dutch-pencil",
   "metadata": {},
   "outputs": [],
   "source": [
    "client = ModbusTcpClient(server_ip_address,server_port)"
   ]
  },
  {
   "cell_type": "markdown",
   "id": "hairy-suggestion",
   "metadata": {},
   "source": [
    "# Check if Client is Connected to Server or not ?"
   ]
  },
  {
   "cell_type": "code",
   "execution_count": 18,
   "id": "boring-kentucky",
   "metadata": {},
   "outputs": [
    {
     "name": "stdout",
     "output_type": "stream",
     "text": [
      "[+]Info : Connection : True\n"
     ]
    }
   ],
   "source": [
    "print(\"[+]Info : Connection : \" + str(client.connect()))"
   ]
  },
  {
   "cell_type": "markdown",
   "id": "above-proportion",
   "metadata": {},
   "source": [
    "# Write Holding Regsiter Value on Server"
   ]
  },
  {
   "cell_type": "code",
   "execution_count": 19,
   "id": "narrative-halifax",
   "metadata": {},
   "outputs": [
    {
     "name": "stdout",
     "output_type": "stream",
     "text": [
      "[+]Info : Writing Value : 0 On Register : 0 \n",
      "[+]Info : Writing Value : 1 On Register : 1 \n",
      "[+]Info : Writing Value : 2 On Register : 2 \n",
      "[+]Info : Writing Value : 3 On Register : 3 \n",
      "[+]Info : Writing Value : 4 On Register : 4 \n",
      "[+]Info : Writing Value : 5 On Register : 5 \n",
      "[+]Info : Writing Value : 6 On Register : 6 \n",
      "[+]Info : Writing Value : 7 On Register : 7 \n",
      "[+]Info : Writing Value : 8 On Register : 8 \n",
      "[+]Info : Writing Value : 9 On Register : 9 \n"
     ]
    }
   ],
   "source": [
    "for i in range(0,10):\n",
    "    print(f\"[+]Info : Writing Value : {i} On Register : {i} \")\n",
    "    client.write_registers(i,i)"
   ]
  },
  {
   "cell_type": "markdown",
   "id": "attempted-florida",
   "metadata": {},
   "source": [
    "# Read Holding Register Values from Server"
   ]
  },
  {
   "cell_type": "code",
   "execution_count": 22,
   "id": "juvenile-rugby",
   "metadata": {},
   "outputs": [],
   "source": [
    "value = client.read_holding_registers(0,10)\n"
   ]
  },
  {
   "cell_type": "code",
   "execution_count": 23,
   "id": "requested-penny",
   "metadata": {},
   "outputs": [
    {
     "data": {
      "text/plain": [
       "[0, 300, 2, 3, 4, 5, 6, 7, 8, 9]"
      ]
     },
     "execution_count": 23,
     "metadata": {},
     "output_type": "execute_result"
    }
   ],
   "source": [
    "value.registers"
   ]
  },
  {
   "cell_type": "code",
   "execution_count": null,
   "id": "dependent-shelter",
   "metadata": {},
   "outputs": [],
   "source": []
  }
 ],
 "metadata": {
  "kernelspec": {
   "display_name": "Python 3",
   "language": "python",
   "name": "python3"
  },
  "language_info": {
   "codemirror_mode": {
    "name": "ipython",
    "version": 3
   },
   "file_extension": ".py",
   "mimetype": "text/x-python",
   "name": "python",
   "nbconvert_exporter": "python",
   "pygments_lexer": "ipython3",
   "version": "3.6.8"
  }
 },
 "nbformat": 4,
 "nbformat_minor": 5
}
