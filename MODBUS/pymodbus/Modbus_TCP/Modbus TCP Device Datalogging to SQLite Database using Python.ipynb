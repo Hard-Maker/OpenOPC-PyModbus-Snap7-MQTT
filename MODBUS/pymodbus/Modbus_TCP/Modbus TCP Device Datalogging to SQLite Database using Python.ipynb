{
 "cells": [
  {
   "cell_type": "code",
   "execution_count": null,
   "id": "ef396838-daf2-4c3d-ab66-a148ea30f7e2",
   "metadata": {},
   "outputs": [],
   "source": [
    "import sqlite3\n",
    "from pymodbus.client import ModbusTcpClient\n",
    "import time"
   ]
  },
  {
   "cell_type": "markdown",
   "id": "fd9fc7b5-f857-47aa-b994-c5e4c60ac2a5",
   "metadata": {},
   "source": [
    "# Define the Modbus TCP device's IP address and port"
   ]
  },
  {
   "cell_type": "code",
   "execution_count": null,
   "id": "088ecb3a-a05e-40d1-a1c9-4a3799ffcffb",
   "metadata": {},
   "outputs": [],
   "source": [
    "device_ip = \"127.0.0.1\"  # Change to 127.0.0.1\n",
    "device_port = 502        # Change to 502"
   ]
  },
  {
   "cell_type": "markdown",
   "id": "17baf131-2fc0-4eba-a8ad-bafd7727eb8a",
   "metadata": {},
   "source": [
    "# Create a connection to the Modbus TCP device"
   ]
  },
  {
   "cell_type": "code",
   "execution_count": null,
   "id": "9a3d040a-72a7-4fb0-83b6-d276c6fb35af",
   "metadata": {},
   "outputs": [],
   "source": [
    "client = ModbusTcpClient(device_ip, port=device_port)"
   ]
  },
  {
   "cell_type": "markdown",
   "id": "7ce4ccd4-9751-4425-a3dd-b6430bc71617",
   "metadata": {},
   "source": [
    "# Define the Modbus slave unit ID (usually 1)"
   ]
  },
  {
   "cell_type": "code",
   "execution_count": null,
   "id": "cd03fe4d-8f85-4d89-a305-d1971e125b57",
   "metadata": {},
   "outputs": [],
   "source": [
    "unit_id = 1"
   ]
  },
  {
   "cell_type": "markdown",
   "id": "3f22cf0b-3e50-4511-a5a6-fea473aad5f5",
   "metadata": {},
   "source": [
    "# Define the starting register address and the number of registers to read"
   ]
  },
  {
   "cell_type": "code",
   "execution_count": null,
   "id": "bf51e22b-4db8-4d6a-84e2-1c388a5a9872",
   "metadata": {},
   "outputs": [],
   "source": [
    "start_address = 0\n",
    "num_registers = 2"
   ]
  },
  {
   "cell_type": "markdown",
   "id": "5447a045-6df3-427a-88f2-205272ba0bfa",
   "metadata": {},
   "source": [
    "# Connect to the Modbus device"
   ]
  },
  {
   "cell_type": "code",
   "execution_count": null,
   "id": "d7352ef7-43e5-4db0-ab19-f0903a1fae5c",
   "metadata": {},
   "outputs": [],
   "source": [
    "client.connect()"
   ]
  },
  {
   "cell_type": "markdown",
   "id": "87b12654-8b01-4499-9946-f806fdeb6cb7",
   "metadata": {},
   "source": [
    "# Connect to the SQLite database"
   ]
  },
  {
   "cell_type": "code",
   "execution_count": null,
   "id": "e39fe6f4-9c0e-4cdd-add4-692dc77a065d",
   "metadata": {},
   "outputs": [],
   "source": [
    "conn = sqlite3.connect(\"modbus_data.db\")\n",
    "cursor = conn.cursor()"
   ]
  },
  {
   "cell_type": "markdown",
   "id": "64077fcf-986b-4b5a-a6e4-686bd3447630",
   "metadata": {},
   "source": [
    "# Create a table for the data if it doesn't exist"
   ]
  },
  {
   "cell_type": "code",
   "execution_count": null,
   "id": "cda7125d-0bbc-4908-b246-1f8365efbaf9",
   "metadata": {},
   "outputs": [],
   "source": [
    "cursor.execute(\"\"\"\n",
    "CREATE TABLE IF NOT EXISTS modbus_data (\n",
    "    timestamp DATETIME DEFAULT CURRENT_TIMESTAMP,\n",
    "    holding_register_1 INT,\n",
    "    holding_register_2 INT\n",
    ")\n",
    "\"\"\")"
   ]
  },
  {
   "cell_type": "markdown",
   "id": "1d941789-8c68-454d-b087-b584a1287b4f",
   "metadata": {},
   "source": [
    "# Continuous data reading and logging"
   ]
  },
  {
   "cell_type": "code",
   "execution_count": null,
   "id": "ce2684bf-c7c5-4633-8059-1eaad19aeb93",
   "metadata": {},
   "outputs": [],
   "source": [
    "while True:\n",
    "    # Read holding registers\n",
    "    response = client.read_holding_registers(start_address, num_registers, unit=unit_id)\n",
    "\n",
    "    # Check if the request was successful\n",
    "    if response.isError():\n",
    "        print(\"Modbus Error:\", response)\n",
    "    else:\n",
    "        data = response.registers\n",
    "        #print(\"Holding Register Data:\", data)\n",
    "\n",
    "        # Insert the data into the database\n",
    "        cursor.execute(\"INSERT INTO modbus_data (holding_register_1, holding_register_2) VALUES (?, ?)\", (data[0], data[1]))\n",
    "\n",
    "        # Commit the transaction\n",
    "        conn.commit()\n",
    "\n",
    "    # Wait for 5 seconds before reading data again\n",
    "    time.sleep(5)"
   ]
  },
  {
   "cell_type": "markdown",
   "id": "0176b248-5eee-48d8-8764-af8c1029ebfb",
   "metadata": {},
   "source": [
    "# Close the Modbus connection and the SQLite connection (this will never be reached in this example)"
   ]
  },
  {
   "cell_type": "code",
   "execution_count": null,
   "id": "aec4b9da-0cb3-427c-b303-16416d596972",
   "metadata": {},
   "outputs": [],
   "source": [
    "client.close()\n",
    "conn.close()"
   ]
  }
 ],
 "metadata": {
  "kernelspec": {
   "display_name": "Python 3 (ipykernel)",
   "language": "python",
   "name": "python3"
  },
  "language_info": {
   "codemirror_mode": {
    "name": "ipython",
    "version": 3
   },
   "file_extension": ".py",
   "mimetype": "text/x-python",
   "name": "python",
   "nbconvert_exporter": "python",
   "pygments_lexer": "ipython3",
   "version": "3.12.0"
  }
 },
 "nbformat": 4,
 "nbformat_minor": 5
}
