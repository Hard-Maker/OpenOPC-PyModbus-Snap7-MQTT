{
 "cells": [
  {
   "cell_type": "markdown",
   "id": "certified-imagination",
   "metadata": {},
   "source": [
    "# Import Required Functions from Library"
   ]
  },
  {
   "cell_type": "code",
   "execution_count": null,
   "id": "scenic-inside",
   "metadata": {},
   "outputs": [],
   "source": [
    "from pymodbus.constants import Endian\n",
    "from pymodbus.client.sync import ModbusTcpClient\n",
    "from pymodbus.payload import BinaryPayloadBuilder\n",
    "import socket\n",
    "import time"
   ]
  },
  {
   "cell_type": "markdown",
   "id": "conservative-elite",
   "metadata": {},
   "source": [
    "# Get System IP address and Define Default PORT-502 for Connection"
   ]
  },
  {
   "cell_type": "code",
   "execution_count": null,
   "id": "induced-custody",
   "metadata": {},
   "outputs": [],
   "source": [
    "hostname = socket.gethostname()    \n",
    "server_ip_address = socket.gethostbyname(hostname)\n",
    "server_port = 502"
   ]
  },
  {
   "cell_type": "markdown",
   "id": "collect-luther",
   "metadata": {},
   "source": [
    "# Connect with Server as a Client"
   ]
  },
  {
   "cell_type": "code",
   "execution_count": null,
   "id": "dutch-pencil",
   "metadata": {},
   "outputs": [],
   "source": [
    "client = ModbusTcpClient(server_ip_address,server_port)"
   ]
  },
  {
   "cell_type": "markdown",
   "id": "hairy-suggestion",
   "metadata": {},
   "source": [
    "# Check if Client is Connected to Server or not ?"
   ]
  },
  {
   "cell_type": "code",
   "execution_count": null,
   "id": "boring-kentucky",
   "metadata": {},
   "outputs": [],
   "source": [
    "print(\"[+]Info : Connection : \" + str(client.connect()))"
   ]
  },
  {
   "cell_type": "markdown",
   "id": "above-proportion",
   "metadata": {},
   "source": [
    "# Write Holding Regsiter Value on Server"
   ]
  },
  {
   "cell_type": "code",
   "execution_count": null,
   "id": "narrative-halifax",
   "metadata": {},
   "outputs": [],
   "source": [
    "while True:\n",
    "    for i in range(0,10):\n",
    "        print(\"[+]Info : Writing Value : {V} On Register : {R} \".format(V=i,R=i))\n",
    "        client.write_registers(i,i)\n"
   ]
  },
  {
   "cell_type": "markdown",
   "id": "attempted-florida",
   "metadata": {},
   "source": [
    "# Read Holding Register Values from Server"
   ]
  },
  {
   "cell_type": "code",
   "execution_count": null,
   "id": "juvenile-rugby",
   "metadata": {},
   "outputs": [],
   "source": [
    "while True:\n",
    "    for i in range(0,22):\n",
    "        value = client.read_holding_registers(i)\n",
    "        print(value.registers)\n",
    "    time.sleep(10)"
   ]
  }
 ],
 "metadata": {
  "kernelspec": {
   "display_name": "Python 3",
   "language": "python",
   "name": "python3"
  },
  "language_info": {
   "codemirror_mode": {
    "name": "ipython",
    "version": 3
   },
   "file_extension": ".py",
   "mimetype": "text/x-python",
   "name": "python",
   "nbconvert_exporter": "python",
   "pygments_lexer": "ipython3",
   "version": "3.6.8"
  }
 },
 "nbformat": 4,
 "nbformat_minor": 5
}
