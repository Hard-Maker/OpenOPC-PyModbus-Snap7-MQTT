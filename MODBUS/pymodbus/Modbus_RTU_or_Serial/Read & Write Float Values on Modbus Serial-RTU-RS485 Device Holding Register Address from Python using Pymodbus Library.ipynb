{
 "cells": [
  {
   "cell_type": "markdown",
   "id": "f7af4924",
   "metadata": {},
   "source": [
    "## Watch This Video for Complete Guide\n",
    "[![Part-8 | Read and Write Float Values of Modbus RTU or Serial Device in Python | Pymodbus |](http://img.youtube.com/vi/G41xVrcrANU/0.jpg)](https://youtu.be/G41xVrcrANU?t=1s \"Part-8 | Read and Write Float Values of Modbus RTU or Serial Device in Python | Pymodbus |\")"
   ]
  },
  {
   "cell_type": "markdown",
   "id": "4006c344",
   "metadata": {},
   "source": [
    "# Start diagslave Modbus RTU/Serial Server using this CMD Command\n",
    "\n",
    "- Download diagslave Modbus Simulator : [Download](https://www.modbusdriver.com/downloads/diagslave.zip)\n",
    "- Download Virtual Serial Port Driver Software : [Download](https://cdn.eltima.com/download/vspd.exe)\n",
    "- Start Modbus RTU/Serial Server using this Command : diagslave -b 9600 -p none -m rtu COM1"
   ]
  },
  {
   "cell_type": "markdown",
   "id": "dfbe82ed",
   "metadata": {},
   "source": [
    "# Install Modbus library for python"
   ]
  },
  {
   "cell_type": "code",
   "execution_count": null,
   "id": "d6b6410e",
   "metadata": {},
   "outputs": [],
   "source": [
    "!pip install pymodbus"
   ]
  },
  {
   "cell_type": "markdown",
   "id": "12582503",
   "metadata": {},
   "source": [
    "# Import all necessary functions"
   ]
  },
  {
   "cell_type": "code",
   "execution_count": 1,
   "id": "e01c3b4d",
   "metadata": {},
   "outputs": [],
   "source": [
    "from pymodbus.client.sync import ModbusSerialClient\n",
    "from pymodbus.payload import BinaryPayloadBuilder\n",
    "from pymodbus.payload import BinaryPayloadDecoder \n",
    "from pymodbus.constants import Endian\n",
    "import numpy as np"
   ]
  },
  {
   "cell_type": "markdown",
   "id": "50eca25a",
   "metadata": {},
   "source": [
    "# Initiate Modbus Client to Connect Modbus RTU/Serial Server\n",
    "## In case of Real PLC or Gateway use PLC/Gateway IP Address."
   ]
  },
  {
   "cell_type": "code",
   "execution_count": 2,
   "id": "9b541fcd",
   "metadata": {},
   "outputs": [],
   "source": [
    "client= ModbusSerialClient(method = \"rtu\", port=\"COM2\",stopbits = 1, bytesize = 8, parity = 'N', baudrate= 9600)"
   ]
  },
  {
   "cell_type": "markdown",
   "id": "96efd4de",
   "metadata": {},
   "source": [
    "# Connect to Modbus RTU/Serial Server"
   ]
  },
  {
   "cell_type": "code",
   "execution_count": 3,
   "id": "7bea2fa7",
   "metadata": {},
   "outputs": [
    {
     "data": {
      "text/plain": [
       "True"
      ]
     },
     "execution_count": 3,
     "metadata": {},
     "output_type": "execute_result"
    }
   ],
   "source": [
    "client.connect()"
   ]
  },
  {
   "cell_type": "markdown",
   "id": "b1caa8ac",
   "metadata": {},
   "source": [
    "# Read Float Values from Holding Register"
   ]
  },
  {
   "cell_type": "markdown",
   "id": "092984e7",
   "metadata": {},
   "source": [
    "### Syntex > client.read_holding_registers(Starting_Address , No_of_Register_to_Read , Slave_Unit_ID)"
   ]
  },
  {
   "cell_type": "markdown",
   "id": "dbf57050",
   "metadata": {},
   "source": [
    "- start_Add : from where you want to read your holding register\n",
    "- count : Number of Register you want to read in single request"
   ]
  },
  {
   "cell_type": "code",
   "execution_count": 4,
   "id": "abb45d1c",
   "metadata": {},
   "outputs": [],
   "source": [
    "def read_float(start_add, count):\n",
    "    res = client.read_holding_registers(address=start_add,count=count, unit=1)\n",
    "    d16 = np.array(res.registers, dtype=np.int16)\n",
    "    return list(d16.view(dtype = np.float32))"
   ]
  },
  {
   "cell_type": "markdown",
   "id": "e575afc3",
   "metadata": {},
   "source": [
    "- One Float Value Occupie Two(2) Holding Register\n",
    "- So, When Count is 10 We Will Get Five(5) Float Values\n",
    "\n",
    "## What \"read_float\" Function Do..\n",
    "\n",
    "- It Will Read Integer Values from Address 40001 to 40010 and...\n",
    "- It will Convert That Integer Array or List to Floating Point Values\n"
   ]
  },
  {
   "cell_type": "code",
   "execution_count": 12,
   "id": "1a32dc0f",
   "metadata": {},
   "outputs": [
    {
     "data": {
      "text/plain": [
       "[5.5, 10.6, 44.4, 66.6, 0.0, 125.6, 0.0, 0.0, 0.0, 0.0]"
      ]
     },
     "execution_count": 12,
     "metadata": {},
     "output_type": "execute_result"
    }
   ],
   "source": [
    "read_float(40000,20)"
   ]
  },
  {
   "cell_type": "markdown",
   "id": "7e1f4b6d",
   "metadata": {},
   "source": [
    "# Write Float Values to Holding Register"
   ]
  },
  {
   "cell_type": "markdown",
   "id": "6603ebf9",
   "metadata": {},
   "source": [
    "### Syntex > client.write_register(Regsiter_Address, Value_To_Write, Slave_Unit_ID)"
   ]
  },
  {
   "cell_type": "markdown",
   "id": "e58bc237",
   "metadata": {},
   "source": [
    "- address : At Which Address You want to Write Float Value\n",
    "- value : what value you want to write"
   ]
  },
  {
   "cell_type": "code",
   "execution_count": 7,
   "id": "484f0519",
   "metadata": {},
   "outputs": [],
   "source": [
    "def write_float(address, value):\n",
    "    builder = BinaryPayloadBuilder(byteorder = Endian.Big, wordorder=Endian.Little)\n",
    "    builder.add_32bit_float(value)\n",
    "    payload = builder.build()\n",
    "    return client.write_registers(address,payload,skip_encode=True)"
   ]
  },
  {
   "cell_type": "markdown",
   "id": "4bb07f4a",
   "metadata": {},
   "source": [
    "- Dont Worry About Return Responce It will Work."
   ]
  },
  {
   "cell_type": "code",
   "execution_count": 11,
   "id": "a0eb921b",
   "metadata": {},
   "outputs": [
    {
     "data": {
      "text/plain": [
       "pymodbus.exceptions.ModbusIOException('No Response received from the remote unit/Unable to decode response',\n",
       "                                      16)"
      ]
     },
     "execution_count": 11,
     "metadata": {},
     "output_type": "execute_result"
    }
   ],
   "source": [
    "write_float(40006,66.6)"
   ]
  },
  {
   "cell_type": "markdown",
   "id": "d0f4bd53",
   "metadata": {},
   "source": [
    "# Closes connection with Modbus RTU Server"
   ]
  },
  {
   "cell_type": "code",
   "execution_count": null,
   "id": "4b816a8f",
   "metadata": {},
   "outputs": [],
   "source": [
    "client.close()"
   ]
  },
  {
   "cell_type": "code",
   "execution_count": null,
   "id": "e6f04189",
   "metadata": {},
   "outputs": [],
   "source": []
  }
 ],
 "metadata": {
  "kernelspec": {
   "display_name": "Python 3",
   "language": "python",
   "name": "python3"
  },
  "language_info": {
   "codemirror_mode": {
    "name": "ipython",
    "version": 3
   },
   "file_extension": ".py",
   "mimetype": "text/x-python",
   "name": "python",
   "nbconvert_exporter": "python",
   "pygments_lexer": "ipython3",
   "version": "3.6.8"
  }
 },
 "nbformat": 4,
 "nbformat_minor": 5
}
