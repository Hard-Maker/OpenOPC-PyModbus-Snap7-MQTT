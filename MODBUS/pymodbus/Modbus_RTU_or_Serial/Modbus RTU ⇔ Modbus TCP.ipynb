{
 "cells": [
  {
   "cell_type": "markdown",
   "id": "693599df",
   "metadata": {},
   "source": [
    "### Software Download Link\n",
    "\n",
    "✅ [Download Virtual Serial Port Driver Software](https://thefile.herokuapp.com/146596/Virtual+Serial+Port+Driver+10.0.858.zip)\n",
    "\n",
    "✅ [Download Modbus Slave Software With Crack](https://thefile.herokuapp.com/149104/Modbus+Slave+version+7.4.4+With+KEY.7z)\n",
    "\n",
    "✅ [Download Modscan Software With Crack](https://thefile.herokuapp.com/150900/modscan32.zip)"
   ]
  },
  {
   "cell_type": "markdown",
   "id": "10aa032a",
   "metadata": {},
   "source": [
    "## Demo\n",
    "\n",
    "<img src=\"Modbus RTU ⇔ Modbus TCP.png\">"
   ]
  },
  {
   "cell_type": "markdown",
   "id": "81277e66",
   "metadata": {},
   "source": [
    "# Install Modbus library for python\n"
   ]
  },
  {
   "cell_type": "code",
   "execution_count": null,
   "id": "6df7c0cf",
   "metadata": {},
   "outputs": [],
   "source": [
    "!pip install pymodbus"
   ]
  },
  {
   "cell_type": "markdown",
   "id": "5e24a656",
   "metadata": {},
   "source": [
    "# Import all necessary functions from Library\n"
   ]
  },
  {
   "cell_type": "code",
   "execution_count": 3,
   "id": "4bec1a3f",
   "metadata": {},
   "outputs": [],
   "source": [
    "from pymodbus.server.sync import StartTcpServer as StartServer\n",
    "from pymodbus.client.sync import ModbusSerialClient as ModbusClient\n",
    "from pymodbus.datastore.remote import RemoteSlaveContext\n",
    "from pymodbus.datastore import ModbusSlaveContext, ModbusServerContext"
   ]
  },
  {
   "cell_type": "markdown",
   "id": "d602d79b",
   "metadata": {},
   "source": [
    "Create Funtion that Forward Modbus Serial Data to Modbus TCP Server and Vice Versa\n",
    "\n",
    "### Modbus Serial ⇔ Modbus TCP"
   ]
  },
  {
   "cell_type": "code",
   "execution_count": 2,
   "id": "c73af9a8",
   "metadata": {},
   "outputs": [],
   "source": [
    "def run_serial_forwarder():\n",
    "    client = ModbusClient(method = \"rtu\", port=\"COM2\",stopbits = 1, bytesize = 8, parity = 'N', baudrate= 9600)\n",
    "    \n",
    "    store = RemoteSlaveContext(client, unit=1)\n",
    "    context = ModbusServerContext(slaves=store, single=True)\n",
    "\n",
    "    StartServer(context, address=(\"localhost\", 504))"
   ]
  },
  {
   "cell_type": "markdown",
   "id": "d40c5cb9",
   "metadata": {},
   "source": [
    "# Run the Function"
   ]
  },
  {
   "cell_type": "code",
   "execution_count": null,
   "id": "40d96ce0",
   "metadata": {},
   "outputs": [],
   "source": [
    "if __name__ == \"__main__\":\n",
    "    run_serial_forwarder()"
   ]
  },
  {
   "cell_type": "markdown",
   "id": "a29741d1",
   "metadata": {},
   "source": [
    "# With Actual Field Device\n",
    "\n",
    "<img src=\"Actual.png\">"
   ]
  },
  {
   "cell_type": "code",
   "execution_count": 6,
   "id": "04c35905",
   "metadata": {},
   "outputs": [],
   "source": [
    "RemoteSlaveContext?"
   ]
  },
  {
   "cell_type": "code",
   "execution_count": null,
   "id": "67835003",
   "metadata": {},
   "outputs": [],
   "source": []
  }
 ],
 "metadata": {
  "kernelspec": {
   "display_name": "Python 3",
   "language": "python",
   "name": "python3"
  },
  "language_info": {
   "codemirror_mode": {
    "name": "ipython",
    "version": 3
   },
   "file_extension": ".py",
   "mimetype": "text/x-python",
   "name": "python",
   "nbconvert_exporter": "python",
   "pygments_lexer": "ipython3",
   "version": "3.6.8rc1"
  }
 },
 "nbformat": 4,
 "nbformat_minor": 5
}
