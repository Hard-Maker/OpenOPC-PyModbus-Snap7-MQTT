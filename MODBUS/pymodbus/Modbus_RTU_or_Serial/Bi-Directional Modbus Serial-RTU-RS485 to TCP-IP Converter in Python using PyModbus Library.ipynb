{
 "cells": [
  {
   "cell_type": "markdown",
   "id": "81277e66",
   "metadata": {},
   "source": [
    "# Install pymodbus library for python\n"
   ]
  },
  {
   "cell_type": "code",
   "execution_count": null,
   "id": "6df7c0cf",
   "metadata": {},
   "outputs": [],
   "source": [
    "!pip install pymodbus"
   ]
  },
  {
   "cell_type": "markdown",
   "id": "5e24a656",
   "metadata": {},
   "source": [
    "# Import all necessary functions from Library\n"
   ]
  },
  {
   "cell_type": "code",
   "execution_count": null,
   "id": "4bec1a3f",
   "metadata": {},
   "outputs": [],
   "source": [
    "from pymodbus.server import StartTcpServer as StartServer\n",
    "from pymodbus.client import ModbusSerialClient as ModbusClient\n",
    "from pymodbus.datastore.remote import RemoteSlaveContext\n",
    "from pymodbus.datastore import ModbusSlaveContext, ModbusServerContext"
   ]
  },
  {
   "cell_type": "markdown",
   "id": "d602d79b",
   "metadata": {},
   "source": [
    "Create Funtion that Forward Modbus Serial Data to Modbus TCP Server and Vice Versa\n",
    "\n",
    "### Modbus Serial ⇔ Modbus TCP"
   ]
  },
  {
   "cell_type": "code",
   "execution_count": null,
   "id": "c73af9a8",
   "metadata": {},
   "outputs": [],
   "source": [
    "def run_serial_forwarder():\n",
    "    client = ModbusClient(method = \"rtu\", port=\"COM2\",stopbits = 1, bytesize = 8, parity = 'N', baudrate= 9600)\n",
    "    \n",
    "    store = RemoteSlaveContext(client, slave=1)\n",
    "    context = ModbusServerContext(slaves=store, single=True)\n",
    "\n",
    "    StartServer(context, address=(\"localhost\", 502))"
   ]
  },
  {
   "cell_type": "markdown",
   "id": "d40c5cb9",
   "metadata": {},
   "source": [
    "# Run the Function"
   ]
  },
  {
   "cell_type": "code",
   "execution_count": null,
   "id": "40d96ce0",
   "metadata": {},
   "outputs": [],
   "source": [
    "if __name__ == \"__main__\":\n",
    "    run_serial_forwarder()"
   ]
  }
 ],
 "metadata": {
  "kernelspec": {
   "display_name": "Python 3 (ipykernel)",
   "language": "python",
   "name": "python3"
  },
  "language_info": {
   "codemirror_mode": {
    "name": "ipython",
    "version": 3
   },
   "file_extension": ".py",
   "mimetype": "text/x-python",
   "name": "python",
   "nbconvert_exporter": "python",
   "pygments_lexer": "ipython3",
   "version": "3.12.2"
  }
 },
 "nbformat": 4,
 "nbformat_minor": 5
}
