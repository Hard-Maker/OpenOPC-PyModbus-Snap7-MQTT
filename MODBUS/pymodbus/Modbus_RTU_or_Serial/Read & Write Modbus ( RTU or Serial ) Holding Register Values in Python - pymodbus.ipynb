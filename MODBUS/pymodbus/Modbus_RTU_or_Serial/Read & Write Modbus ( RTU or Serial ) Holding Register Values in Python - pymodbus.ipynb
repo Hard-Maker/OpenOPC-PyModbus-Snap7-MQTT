{
 "cells": [
  {
   "cell_type": "markdown",
   "id": "9141e888",
   "metadata": {},
   "source": [
    "# Start diagslave Modbus RTU/Serial Server using this CMD Command\n",
    "\n",
    "- Download diagslave Modbus Simulator : [Download](https://www.modbusdriver.com/downloads/diagslave.zip)\n",
    "- Download Virtual Serial Port Driver Software : [Download](https://cdn.eltima.com/download/vspd.exe)\n",
    "- Start Modbus RTU/Serial Server using this Command : diagslave -b 9600 -p none -m rtu COM1"
   ]
  },
  {
   "cell_type": "markdown",
   "id": "dfbe82ed",
   "metadata": {},
   "source": [
    "# Install Modbus library for python"
   ]
  },
  {
   "cell_type": "code",
   "execution_count": 1,
   "id": "d6b6410e",
   "metadata": {},
   "outputs": [
    {
     "name": "stdout",
     "output_type": "stream",
     "text": [
      "Requirement already satisfied: pymodbus in c:\\users\\parrot\\appdata\\local\\programs\\python\\python36-32\\lib\\site-packages (2.4.0)\n",
      "Requirement already satisfied: six>=1.15.0 in c:\\users\\parrot\\appdata\\local\\programs\\python\\python36-32\\lib\\site-packages (from pymodbus) (1.15.0)\n",
      "Requirement already satisfied: pyserial>=3.4 in c:\\users\\parrot\\appdata\\local\\programs\\python\\python36-32\\lib\\site-packages (from pymodbus) (3.5)\n"
     ]
    }
   ],
   "source": [
    "!pip install pymodbus"
   ]
  },
  {
   "cell_type": "markdown",
   "id": "12582503",
   "metadata": {},
   "source": [
    "# Import all necessary functions"
   ]
  },
  {
   "cell_type": "code",
   "execution_count": 2,
   "id": "e01c3b4d",
   "metadata": {},
   "outputs": [],
   "source": [
    "from pymodbus.client.sync import ModbusSerialClient\n",
    "from pymodbus.payload import BinaryPayloadBuilder\n",
    "from pymodbus.payload import BinaryPayloadDecoder \n",
    "from pymodbus.constants import Endian"
   ]
  },
  {
   "cell_type": "markdown",
   "id": "50eca25a",
   "metadata": {},
   "source": [
    "# Initiate Modbus Client to Connect Modbus RTU/Serial Server\n",
    "## In case of Real PLC or Gateway use PLC/Gateway IP Address."
   ]
  },
  {
   "cell_type": "code",
   "execution_count": 3,
   "id": "9b541fcd",
   "metadata": {},
   "outputs": [],
   "source": [
    "client= ModbusSerialClient(method = \"rtu\", port=\"COM2\",stopbits = 1, bytesize = 8, parity = 'N', baudrate= 9600)"
   ]
  },
  {
   "cell_type": "markdown",
   "id": "96efd4de",
   "metadata": {},
   "source": [
    "# Connect to Modbus RTU/Serial Server"
   ]
  },
  {
   "cell_type": "code",
   "execution_count": 4,
   "id": "7bea2fa7",
   "metadata": {},
   "outputs": [
    {
     "data": {
      "text/plain": [
       "True"
      ]
     },
     "execution_count": 4,
     "metadata": {},
     "output_type": "execute_result"
    }
   ],
   "source": [
    "client.connect()"
   ]
  },
  {
   "cell_type": "markdown",
   "id": "b1caa8ac",
   "metadata": {},
   "source": [
    "# Read from Holding Register Values"
   ]
  },
  {
   "cell_type": "markdown",
   "id": "092984e7",
   "metadata": {},
   "source": [
    "### Syntex > client.read_holding_registers(Starting_Address , No_of_Register_to_Read , Slave_Unit_ID)\n",
    "- This will read from Holding Register 40001 to 40010"
   ]
  },
  {
   "cell_type": "code",
   "execution_count": 24,
   "id": "abb45d1c",
   "metadata": {},
   "outputs": [],
   "source": [
    "result_ = client.read_holding_registers(address=40001,count=10, unit=1)"
   ]
  },
  {
   "cell_type": "code",
   "execution_count": 25,
   "id": "1a32dc0f",
   "metadata": {},
   "outputs": [
    {
     "data": {
      "text/plain": [
       "[15, 0, 0, 0, 0, 0, 0, 0, 0, 0]"
      ]
     },
     "execution_count": 25,
     "metadata": {},
     "output_type": "execute_result"
    }
   ],
   "source": [
    "result_.registers"
   ]
  },
  {
   "cell_type": "markdown",
   "id": "7e1f4b6d",
   "metadata": {},
   "source": [
    "# Write to Holding Register"
   ]
  },
  {
   "cell_type": "markdown",
   "id": "a0417d75",
   "metadata": {},
   "source": [
    "### Syntex > client.write_register(Regsiter_Address, Value_To_Write, Slave_Unit_ID)\n",
    "- This will write Value 15 to Holding Register 40001"
   ]
  },
  {
   "cell_type": "code",
   "execution_count": 26,
   "id": "3bc429d8",
   "metadata": {},
   "outputs": [],
   "source": [
    "_result = client.write_register(40001, 15, unit=1)"
   ]
  },
  {
   "cell_type": "code",
   "execution_count": 27,
   "id": "b349408f",
   "metadata": {},
   "outputs": [
    {
     "name": "stdout",
     "output_type": "stream",
     "text": [
      "WriteRegisterResponse 40001 => 15\n"
     ]
    }
   ],
   "source": [
    "print(_result)"
   ]
  },
  {
   "cell_type": "markdown",
   "id": "f4f8bd39",
   "metadata": {},
   "source": [
    "# Closes connection with Modbus RTU Server"
   ]
  },
  {
   "cell_type": "code",
   "execution_count": 9,
   "id": "24de98b3",
   "metadata": {},
   "outputs": [],
   "source": [
    "client.close()"
   ]
  },
  {
   "cell_type": "code",
   "execution_count": null,
   "id": "22b1cbab",
   "metadata": {},
   "outputs": [],
   "source": []
  }
 ],
 "metadata": {
  "kernelspec": {
   "display_name": "Python 3",
   "language": "python",
   "name": "python3"
  },
  "language_info": {
   "codemirror_mode": {
    "name": "ipython",
    "version": 3
   },
   "file_extension": ".py",
   "mimetype": "text/x-python",
   "name": "python",
   "nbconvert_exporter": "python",
   "pygments_lexer": "ipython3",
   "version": "3.6.8"
  }
 },
 "nbformat": 4,
 "nbformat_minor": 5
}
