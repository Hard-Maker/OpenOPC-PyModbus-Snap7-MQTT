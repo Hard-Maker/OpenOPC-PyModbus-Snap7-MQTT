{
 "cells": [
  {
   "cell_type": "markdown",
   "id": "0349f25d-1f94-4bc6-b9cc-af6a26e830b3",
   "metadata": {},
   "source": [
    "# Install pymodbus library for modbus communication"
   ]
  },
  {
   "cell_type": "code",
   "execution_count": null,
   "id": "5b6202cf-057d-4d9e-b4d2-10e013ac7f8f",
   "metadata": {},
   "outputs": [],
   "source": [
    "!pip install pymodbus"
   ]
  },
  {
   "cell_type": "markdown",
   "id": "5a833bb2-4643-4769-87a8-55b25ae08dc1",
   "metadata": {},
   "source": [
    "# Import necessary functions"
   ]
  },
  {
   "cell_type": "code",
   "execution_count": null,
   "id": "8eb94500-6af8-4075-a0f7-348a15f2c02c",
   "metadata": {},
   "outputs": [],
   "source": [
    "from pymodbus.client import ModbusSerialClient"
   ]
  },
  {
   "cell_type": "markdown",
   "id": "cf3aba30-6a9f-4082-8ddf-41171db0b24d",
   "metadata": {},
   "source": [
    "# Create Modbus Serial/RTU/RS485 Master(Client) to Connect with Modbus Serial/RTU/RS485 Slave Device"
   ]
  },
  {
   "cell_type": "code",
   "execution_count": null,
   "id": "88b30927-a98d-494a-bd85-677725c391fc",
   "metadata": {},
   "outputs": [],
   "source": [
    "client = ModbusSerialClient(method = \"rtu\", port=\"COM2\",stopbits = 1, bytesize = 8, parity = 'N', baudrate= 9600)"
   ]
  },
  {
   "cell_type": "markdown",
   "id": "916c7fd4-71e8-4bee-9bc1-dc76ee6ec73a",
   "metadata": {},
   "source": [
    "# Get Client Connection Status"
   ]
  },
  {
   "cell_type": "code",
   "execution_count": null,
   "id": "5e80bcb7-34de-4731-b111-7a028056390b",
   "metadata": {},
   "outputs": [],
   "source": [
    "client.connect()"
   ]
  },
  {
   "cell_type": "markdown",
   "id": "ee6d82ec-e5dd-4f91-a19b-e7b17e58628b",
   "metadata": {},
   "source": [
    "# Read 10 Input Coil Starting from 0 of Device ID 1"
   ]
  },
  {
   "cell_type": "code",
   "execution_count": null,
   "id": "422acce0-4503-4f49-878b-de2f3827ff47",
   "metadata": {},
   "outputs": [],
   "source": [
    "result = client.read_coils(address = 0,count = 10, slave = 1)"
   ]
  },
  {
   "cell_type": "markdown",
   "id": "42ced065-3500-4e1d-a51b-5fa679ee001d",
   "metadata": {},
   "source": [
    "# Print Value of All Coil Status"
   ]
  },
  {
   "cell_type": "code",
   "execution_count": null,
   "id": "189665fe-e10b-4931-8aa0-ce571c5a4912",
   "metadata": {},
   "outputs": [],
   "source": [
    "result.bits"
   ]
  },
  {
   "cell_type": "markdown",
   "id": "c8f5122d-3196-4cbd-b4aa-5b4b13598069",
   "metadata": {},
   "source": [
    "# Writing 1st(0th) Coil Status to 0 or 1 from Python"
   ]
  },
  {
   "cell_type": "code",
   "execution_count": null,
   "id": "8184a34c-74ca-4d0e-8c13-7f725910e70c",
   "metadata": {},
   "outputs": [],
   "source": [
    "client.write_coils(0, 0)"
   ]
  },
  {
   "cell_type": "code",
   "execution_count": null,
   "id": "2b0d1250-cf35-4077-b4fd-fedd78c916e7",
   "metadata": {},
   "outputs": [],
   "source": []
  }
 ],
 "metadata": {
  "kernelspec": {
   "display_name": "Python 3 (ipykernel)",
   "language": "python",
   "name": "python3"
  },
  "language_info": {
   "codemirror_mode": {
    "name": "ipython",
    "version": 3
   },
   "file_extension": ".py",
   "mimetype": "text/x-python",
   "name": "python",
   "nbconvert_exporter": "python",
   "pygments_lexer": "ipython3",
   "version": "3.12.2"
  }
 },
 "nbformat": 4,
 "nbformat_minor": 5
}
