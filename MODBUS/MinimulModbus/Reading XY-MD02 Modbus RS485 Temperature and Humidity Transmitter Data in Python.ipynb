{
 "cells": [
  {
   "cell_type": "code",
   "execution_count": 15,
   "id": "36ea6ba3-2be1-4035-93e6-15e99240fc51",
   "metadata": {},
   "outputs": [
    {
     "name": "stdout",
     "output_type": "stream",
     "text": [
      "Requirement already satisfied: minimalmodbus in c:\\python311\\lib\\site-packages (2.1.1)\n",
      "Requirement already satisfied: pyserial>=3.0 in c:\\python311\\lib\\site-packages (from minimalmodbus) (3.5)\n"
     ]
    }
   ],
   "source": [
    "!pip install minimalmodbus"
   ]
  },
  {
   "cell_type": "code",
   "execution_count": 2,
   "id": "6560f2ad-fe0f-4cf0-9cc1-158fde3f2e44",
   "metadata": {},
   "outputs": [],
   "source": [
    "import minimalmodbus"
   ]
  },
  {
   "cell_type": "markdown",
   "id": "20cf2dc5-0198-434c-a2e9-43e726eca6ec",
   "metadata": {},
   "source": [
    "# Define the serial port parameters"
   ]
  },
  {
   "cell_type": "code",
   "execution_count": 3,
   "id": "434bc680-130e-4365-bed5-bb428a91a056",
   "metadata": {},
   "outputs": [],
   "source": [
    "port = 'COM3'  # Change this to the actual serial port on your system\n",
    "baudrate = 9600\n",
    "stopbits = 1\n",
    "bytesize = 8\n",
    "parity = minimalmodbus.serial.PARITY_NONE"
   ]
  },
  {
   "cell_type": "markdown",
   "id": "0ed4f9d6-5295-46ca-8785-36077839aa7c",
   "metadata": {},
   "source": [
    "# Create a Modbus instrument object"
   ]
  },
  {
   "cell_type": "code",
   "execution_count": 4,
   "id": "4d4f5b13-ac58-4948-9b11-306ee70c0d3d",
   "metadata": {},
   "outputs": [],
   "source": [
    "instrument = minimalmodbus.Instrument(port, slaveaddress=1)  # Replace '1' with your device's slave address"
   ]
  },
  {
   "cell_type": "markdown",
   "id": "c450858c-aa3f-4f0e-a91a-ec6bdb3edc3f",
   "metadata": {},
   "source": [
    "# Set serial communication parameters"
   ]
  },
  {
   "cell_type": "code",
   "execution_count": 5,
   "id": "de232446-67a4-4d51-85d3-0a118626c3e6",
   "metadata": {},
   "outputs": [],
   "source": [
    "instrument.serial.baudrate = baudrate\n",
    "instrument.serial.bytesize = bytesize\n",
    "instrument.serial.stopbits = stopbits\n",
    "instrument.serial.parity = parity"
   ]
  },
  {
   "cell_type": "markdown",
   "id": "74a0059b-0f0b-49a5-83dc-6cb276ebf1d9",
   "metadata": {},
   "source": [
    "# Read the temperature and humidity values from registers 30001 and 30002 in a single request"
   ]
  },
  {
   "cell_type": "code",
   "execution_count": 10,
   "id": "d6f26643-653c-4e02-8423-dce98ce85a60",
   "metadata": {},
   "outputs": [],
   "source": [
    "values = instrument.read_registers(1, 2, functioncode=4)  # Read 2 registers starting from 30002"
   ]
  },
  {
   "cell_type": "markdown",
   "id": "f58d69c2-b4c6-4ac5-92b8-876eb3020305",
   "metadata": {},
   "source": [
    "# Extract the temperature and humidity values from the result"
   ]
  },
  {
   "cell_type": "code",
   "execution_count": 11,
   "id": "865c4977-3263-4fdf-a2c1-cc56c4d2672d",
   "metadata": {},
   "outputs": [],
   "source": [
    "temperature = values[0]\n",
    "humidity = values[1]"
   ]
  },
  {
   "cell_type": "markdown",
   "id": "a20cc5ec-4df2-4093-9efd-12b2d16b21bd",
   "metadata": {},
   "source": [
    "# Print the values"
   ]
  },
  {
   "cell_type": "code",
   "execution_count": 12,
   "id": "c2a58cff-2125-47db-8f62-891afc40da2e",
   "metadata": {},
   "outputs": [
    {
     "name": "stdout",
     "output_type": "stream",
     "text": [
      "Temperature: 34.3 °C\n",
      "Humidity: 48.8 %Rh\n"
     ]
    }
   ],
   "source": [
    "print(f\"Temperature: {temperature/10.0} °C\")\n",
    "print(f\"Humidity: {humidity/10.0} %Rh\")"
   ]
  },
  {
   "cell_type": "markdown",
   "id": "bd84d571-2d0f-4939-b3a1-6bd779daf8b6",
   "metadata": {},
   "source": [
    "# Close the serial connection"
   ]
  },
  {
   "cell_type": "code",
   "execution_count": 9,
   "id": "08aa6600-6f90-43f8-9315-c4b16223dcfc",
   "metadata": {},
   "outputs": [],
   "source": [
    "instrument.serial.close()"
   ]
  },
  {
   "cell_type": "code",
   "execution_count": null,
   "id": "1c9ea057-84e3-4c03-943a-0ceb74b4f4d0",
   "metadata": {},
   "outputs": [],
   "source": []
  }
 ],
 "metadata": {
  "kernelspec": {
   "display_name": "Python 3 (ipykernel)",
   "language": "python",
   "name": "python3"
  },
  "language_info": {
   "codemirror_mode": {
    "name": "ipython",
    "version": 3
   },
   "file_extension": ".py",
   "mimetype": "text/x-python",
   "name": "python",
   "nbconvert_exporter": "python",
   "pygments_lexer": "ipython3",
   "version": "3.11.3"
  }
 },
 "nbformat": 4,
 "nbformat_minor": 5
}
