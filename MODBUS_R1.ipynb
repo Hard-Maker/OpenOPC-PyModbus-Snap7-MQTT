{
 "cells": [
  {
   "cell_type": "markdown",
   "id": "streaming-stomach",
   "metadata": {},
   "source": [
    "# Import Library"
   ]
  },
  {
   "cell_type": "code",
   "execution_count": 1,
   "id": "bizarre-flash",
   "metadata": {},
   "outputs": [],
   "source": [
    "import pandas as pd\n",
    "import sqlite3\n",
    "import time\n",
    "from pymodbus.constants import Endian\n",
    "from pymodbus.payload import BinaryPayloadDecoder\n",
    "from pymodbus.payload import BinaryPayloadBuilder\n",
    "from pymodbus.client.sync import ModbusTcpClient\n",
    "%config Completer.use_jedi = False\n",
    "import datetime\n",
    "import pywintypes\n",
    "pywintypes.datetime=pywintypes.TimeType"
   ]
  },
  {
   "cell_type": "code",
   "execution_count": 2,
   "id": "mounted-mystery",
   "metadata": {},
   "outputs": [],
   "source": [
    "Variable_Config_csv_Path = \"VaribaleConfig.csv\"\n",
    "df = pd.read_csv(Variable_Config_csv_Path)\n",
    "Server_Config_csv_Path = \"ServerConfig.csv\"\n",
    "df1 = pd.read_csv(Server_Config_csv_Path)\n",
    "\n",
    "databse_name = \"Test.db\"\n",
    "table_name = \"modbus_data\"\n",
    "\n",
    "server_port_List = []\n",
    "server_dev_id_list = []\n",
    "server_IP_List = []"
   ]
  },
  {
   "cell_type": "code",
   "execution_count": 3,
   "id": "laden-watershed",
   "metadata": {},
   "outputs": [
    {
     "name": "stdout",
     "output_type": "stream",
     "text": [
      "[502][1]['192.168.1.232']\n"
     ]
    }
   ],
   "source": [
    "for i in range(0,len(df1)):\n",
    "    IP = df1[\"Dev_Address\"][i]\n",
    "    Port = df1[\"Dev_Port\"][i]\n",
    "    Dev_ID = df1[\"Dev_ID\"][i]\n",
    "    server_IP_List.append(IP)\n",
    "    server_port_List.append(Port)\n",
    "    server_dev_id_list.append(Dev_ID)\n",
    "    \n",
    "    \n",
    "print (str(server_port_List) + str(server_dev_id_list) +  str(server_IP_List))"
   ]
  },
  {
   "cell_type": "code",
   "execution_count": 4,
   "id": "activated-binary",
   "metadata": {},
   "outputs": [],
   "source": [
    "def sql_dump(tagname, tagvalue):\n",
    "    \n",
    "    # Connection with SQL Database\n",
    "    conn = sqlite3.connect(databse_name)\n",
    "    c = conn.cursor()\n",
    "    \n",
    "    # Create Table if not Exists\n",
    "    c.execute(\"CREATE TABLE IF NOT EXISTS %s (Tag TEXT, Value REAL)\" %(table_name))\n",
    "    \n",
    "    # Read CSV File\n",
    "#     df = pd.read_csv(\"Test.csv\")\n",
    "#     df = pd.DataFrame(df, columns= [\"Tag\", \"Value\"])\n",
    "    \n",
    "    # Dump CSV Data into SQLITE Database\n",
    "    #for index, row in df.iterrows():\n",
    "    c.execute(\"INSERT INTO modbus_data (Tag, Value) values(?,?)\",( tagname, tagvalue))\n",
    "\n",
    "    conn.commit()\n",
    "    c.close()\n",
    "    conn.close()"
   ]
  },
  {
   "cell_type": "code",
   "execution_count": 5,
   "id": "rising-retention",
   "metadata": {},
   "outputs": [],
   "source": [
    "def value_print(IP,DEV_ADD,DATA_TYPE,VALUE):\n",
    "    print (\"IP Address : \" + str(IP))\n",
    "    print(\"Modbus Address : \" + str(DEV_ADD))\n",
    "    print(\"Modbus Address Data Type : \" + str(DATA_TYPE))\n",
    "    print(\"Value : \" + str(VALUE))\n",
    "    print(\"--\" * 30)"
   ]
  },
  {
   "cell_type": "code",
   "execution_count": 6,
   "id": "white-disney",
   "metadata": {},
   "outputs": [
    {
     "name": "stdout",
     "output_type": "stream",
     "text": [
      "Runtime of the program is 26.48933720588684\n"
     ]
    }
   ],
   "source": [
    "start = time.time()\n",
    "for ip in server_IP_List: \n",
    "    \n",
    "    # Connect with Client\n",
    "    client = ModbusTcpClient(ip)\n",
    "    dev_id_from_serverconfig = (df1.loc[df1['Dev_Address'] == ip , 'Dev_ID'].values[0])\n",
    "\n",
    "    for i in range(0,len(df)):\n",
    "\n",
    "        datatype = df[\"Data_Type\"][i]\n",
    "        dev_id_from_var_config = df[\"Device_ID\"][i]\n",
    "        \n",
    "#         if (datatype == \"INT\") and (dev_id_from_serverconfig == dev_id_from_var_config)  :\n",
    "#             value = client.read_holding_registers(int(df[\"Device_Address\"][i]))\n",
    "#             decoder = BinaryPayloadDecoder.fromRegisters(value.registers,Endian.Big, wordorder=Endian.Little)\n",
    "#             #value_print(ip,df[\"Device_Address\"][i],df[\"Data_Type\"][i],decoder.decode_16bit_int())\n",
    "#             sql_dump(df[\"Variable_Name\"][i],decoder.decode_16bit_int())\n",
    "\n",
    "        if (datatype == \"REAL\") and (dev_id_from_serverconfig == dev_id_from_var_config) :\n",
    "            value = client.read_holding_registers(int(df[\"Device_Address\"][i]),count=2)\n",
    "            decoder = BinaryPayloadDecoder.fromRegisters(value.registers,Endian.Big, wordorder=Endian.Little)\n",
    "            #value_print(ip,df[\"Device_Address\"][i],df[\"Data_Type\"][i],decoder.decode_32bit_float())\n",
    "            #sql_dump(df[\"Variable_Name\"][i],decoder.decode_32bit_float())\n",
    "\n",
    "#         elif (datatype == \"DINT\") and (dev_id_from_serverconfig == dev_id_from_var_config) :\n",
    "#             value = client.read_holding_registers(int(df[\"Device_Address\"][i]),2)\n",
    "#             decoder = BinaryPayloadDecoder.fromRegisters(value.registers,Endian.Big, wordorder=Endian.Little)\n",
    "#             #value_print(ip,df[\"Device_Address\"][i],df[\"Data_Type\"][i],decoder.decode_32bit_int())\n",
    "#             sql_dump(df[\"Variable_Name\"][i],decoder.decode_32bit_int())\n",
    "\n",
    "#         elif (datatype == \"SWAP_REAL\") and (dev_id_from_serverconfig == dev_id_from_var_config):\n",
    "#             value = client.read_holding_registers(int(df[\"Device_Address\"][i]),2)\n",
    "#             decoder = BinaryPayloadDecoder.fromRegisters(value.registers,Endian.Big, wordorder=Endian.Big)\n",
    "#             #value_print(ip,df[\"Device_Address\"][i],df[\"Data_Type\"][i],decoder.decode_16bit_float())\n",
    "#             sql_dump(df[\"Variable_Name\"][i],decoder.decode_16bit_float())\n",
    "\n",
    "#         elif (datatype == \"SWAP_DINT\") and (dev_id_from_serverconfig == dev_id_from_var_config):\n",
    "#             value = client.read_holding_registers(int(df[\"Device_Address\"][i]),2)\n",
    "#             decoder = BinaryPayloadDecoder.fromRegisters(value.registers,Endian.Big, wordorder=Endian.Big)\n",
    "#             #value_print(ip,df[\"Device_Address\"][i],df[\"Data_Type\"][i],decoder.decode_32bit_int())\n",
    "#             sql_dump(df[\"Variable_Name\"][i],decoder.decode_32bit_int())\n",
    "\n",
    "end = time.time()\n",
    "print(f\"Runtime of the program is {end - start}\")\n"
   ]
  },
  {
   "cell_type": "code",
   "execution_count": null,
   "id": "sustained-formation",
   "metadata": {},
   "outputs": [],
   "source": [
    "client.close()"
   ]
  },
  {
   "cell_type": "code",
   "execution_count": null,
   "id": "medium-compound",
   "metadata": {},
   "outputs": [],
   "source": [
    "def get_server_data_from_ini(File_Path):\n",
    "\n",
    "    server_config_object = configparser.ConfigParser()\n",
    "    server_config_object.read(Server_Config_File_Path)\n",
    "\n",
    "    server_ID_List.clear()\n",
    "    server_IP_List.clear()\n",
    "    \n",
    "    # Get Server ID List from ServerConfig File\n",
    "    for sect in server_config_object.sections():\n",
    "        \n",
    "        # Append Server Section Name from ServerConfig File\n",
    "        server_ID_List.append(sect)\n",
    "    \n",
    "    # Get Server IP and Port from ServerConfig File\n",
    "    for s in server_ID_List:\n",
    "        serverinfo = server_config_object[s]\n",
    "        IP_Address = serverinfo[\"IP\"]\n",
    "        Port_Address = serverinfo[\"port\"]\n",
    "        \n",
    "        # Append Server IP into List\n",
    "        server_IP_List.append(IP_Address)\n",
    "        \n",
    "    print(\"Server ID's : \" + str(server_ID_List))\n",
    "    print(\"Server IP's : \" + str(server_IP_List))"
   ]
  },
  {
   "cell_type": "code",
   "execution_count": null,
   "id": "coral-orbit",
   "metadata": {},
   "outputs": [],
   "source": [
    "value = client.read_holding_registers?"
   ]
  },
  {
   "cell_type": "code",
   "execution_count": null,
   "id": "oriental-assembly",
   "metadata": {},
   "outputs": [],
   "source": [
    "value = client.read_holding_registers"
   ]
  },
  {
   "cell_type": "code",
   "execution_count": null,
   "id": "played-savannah",
   "metadata": {},
   "outputs": [],
   "source": []
  }
 ],
 "metadata": {
  "kernelspec": {
   "display_name": "Python 3",
   "language": "python",
   "name": "python3"
  },
  "language_info": {
   "codemirror_mode": {
    "name": "ipython",
    "version": 3
   },
   "file_extension": ".py",
   "mimetype": "text/x-python",
   "name": "python",
   "nbconvert_exporter": "python",
   "pygments_lexer": "ipython3",
   "version": "3.6.8"
  }
 },
 "nbformat": 4,
 "nbformat_minor": 5
}
