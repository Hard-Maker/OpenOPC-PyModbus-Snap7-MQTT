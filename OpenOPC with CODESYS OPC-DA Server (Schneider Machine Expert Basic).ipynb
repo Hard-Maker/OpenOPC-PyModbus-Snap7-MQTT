{
 "cells": [
  {
   "cell_type": "markdown",
   "id": "suspected-laptop",
   "metadata": {},
   "source": [
    "# Import All Required Libraries "
   ]
  },
  {
   "cell_type": "code",
   "execution_count": 54,
   "id": "alternative-latino",
   "metadata": {},
   "outputs": [],
   "source": [
    "import OpenOPC\n",
    "import pywintypes # To avoid timeout error\n",
    "pywintypes.datetime=pywintypes.TimeType"
   ]
  },
  {
   "cell_type": "markdown",
   "id": "international-burton",
   "metadata": {},
   "source": [
    "# Initiate OPC Client"
   ]
  },
  {
   "cell_type": "code",
   "execution_count": 55,
   "id": "minor-holiday",
   "metadata": {},
   "outputs": [],
   "source": [
    "opc = OpenOPC.client()"
   ]
  },
  {
   "cell_type": "markdown",
   "id": "extensive-moisture",
   "metadata": {},
   "source": [
    "# Search for all available OPC Servers"
   ]
  },
  {
   "cell_type": "code",
   "execution_count": 56,
   "id": "handy-perth",
   "metadata": {},
   "outputs": [
    {
     "name": "stdout",
     "output_type": "stream",
     "text": [
      "['CoDeSys.OPC.DA', 'SchneiderElectric.SCADA.OpcDaServer.1', 'Schneider-Aut.OFS.2', 'Matrikon.OPC.Simulation.1']\n"
     ]
    }
   ],
   "source": [
    "servers = opc.servers()\n",
    "print (servers)"
   ]
  },
  {
   "cell_type": "markdown",
   "id": "linear-patio",
   "metadata": {},
   "source": [
    "# Connect with Specific OPC Server"
   ]
  },
  {
   "cell_type": "code",
   "execution_count": 57,
   "id": "thick-austria",
   "metadata": {},
   "outputs": [],
   "source": [
    "opc.connect('CoDeSys.OPC.DA')"
   ]
  },
  {
   "cell_type": "markdown",
   "id": "bibliographic-sheep",
   "metadata": {},
   "source": [
    "# Get list of available aliases"
   ]
  },
  {
   "cell_type": "code",
   "execution_count": 58,
   "id": "composite-lancaster",
   "metadata": {},
   "outputs": [
    {
     "name": "stdout",
     "output_type": "stream",
     "text": [
      "['PLC']\n"
     ]
    }
   ],
   "source": [
    "aliases = opc.list()\n",
    "print (aliases)"
   ]
  },
  {
   "cell_type": "code",
   "execution_count": 59,
   "id": "central-preview",
   "metadata": {},
   "outputs": [
    {
     "name": "stdout",
     "output_type": "stream",
     "text": [
      "['Application']\n"
     ]
    }
   ],
   "source": [
    "groups = opc.list('PLC')\n",
    "print(groups)"
   ]
  },
  {
   "cell_type": "markdown",
   "id": "filled-exploration",
   "metadata": {},
   "source": [
    "# Get list of available sub-alias in specific alias"
   ]
  },
  {
   "cell_type": "code",
   "execution_count": 60,
   "id": "needed-gothic",
   "metadata": {},
   "outputs": [
    {
     "name": "stdout",
     "output_type": "stream",
     "text": [
      "['GVL']\n"
     ]
    }
   ],
   "source": [
    "salias = opc.list('PLC.Application')\n",
    "print(salias)"
   ]
  },
  {
   "cell_type": "markdown",
   "id": "czech-bathroom",
   "metadata": {},
   "source": [
    "# Get list of available groups in specific alias"
   ]
  },
  {
   "cell_type": "code",
   "execution_count": 61,
   "id": "awful-possible",
   "metadata": {},
   "outputs": [
    {
     "name": "stdout",
     "output_type": "stream",
     "text": [
      "['ACDB_EM', 'AUX_EM', 'AUX_HT', 'ICR1_EM', 'ICR1_HT', 'ICR1_INV1', 'ICR1_INV1_SMB1', 'ICR1_INV1_SMB10', 'ICR1_INV1_SMB11', 'ICR1_INV1_SMB12', 'ICR1_INV1_SMB13', 'ICR1_INV1_SMB14', 'ICR1_INV1_SMB15', 'ICR1_INV1_SMB2', 'ICR1_INV1_SMB3', 'ICR1_INV1_SMB4', 'ICR1_INV1_SMB5', 'ICR1_INV1_SMB6', 'ICR1_INV1_SMB7', 'ICR1_INV1_SMB8', 'ICR1_INV1_SMB9', 'ICR1_INV2', 'ICR1_INV2_SMB1', 'ICR1_INV2_SMB10', 'ICR1_INV2_SMB11', 'ICR1_INV2_SMB12', 'ICR1_INV2_SMB13', 'ICR1_INV2_SMB14', 'ICR1_INV2_SMB15', 'ICR1_INV2_SMB2', 'ICR1_INV2_SMB3', 'ICR1_INV2_SMB4', 'ICR1_INV2_SMB5', 'ICR1_INV2_SMB6', 'ICR1_INV2_SMB7', 'ICR1_INV2_SMB8', 'ICR1_INV2_SMB9', 'ICR1_RELAY', 'ICR1_TRF', 'ICR2_EM', 'ICR2_HT', 'ICR2_INV1', 'ICR2_INV1_SMB1', 'ICR2_INV1_SMB10', 'ICR2_INV1_SMB11', 'ICR2_INV1_SMB12', 'ICR2_INV1_SMB13', 'ICR2_INV1_SMB14', 'ICR2_INV1_SMB15', 'ICR2_INV1_SMB2', 'ICR2_INV1_SMB3', 'ICR2_INV1_SMB4', 'ICR2_INV1_SMB5', 'ICR2_INV1_SMB6', 'ICR2_INV1_SMB7', 'ICR2_INV1_SMB8', 'ICR2_INV1_SMB9', 'ICR2_INV2', 'ICR2_INV2_SMB1', 'ICR2_INV2_SMB10', 'ICR2_INV2_SMB11', 'ICR2_INV2_SMB12', 'ICR2_INV2_SMB13', 'ICR2_INV2_SMB14', 'ICR2_INV2_SMB15', 'ICR2_INV2_SMB2', 'ICR2_INV2_SMB3', 'ICR2_INV2_SMB4', 'ICR2_INV2_SMB5', 'ICR2_INV2_SMB6', 'ICR2_INV2_SMB7', 'ICR2_INV2_SMB8', 'ICR2_INV2_SMB9', 'ICR2_RELAY', 'ICR2_TRF', 'INC1_EM', 'INC1_HT', 'INC1_RELAY', 'INC2_EM', 'INC2_HT', 'INC2_RELAY', 'INC3_EM', 'INC3_HT', 'INC3_RELAY', 'MCR_INV1', 'MCR_INV1_SMB1', 'MCR_INV1_SMB10', 'MCR_INV1_SMB11', 'MCR_INV1_SMB12', 'MCR_INV1_SMB2', 'MCR_INV1_SMB3', 'MCR_INV1_SMB4', 'MCR_INV1_SMB5', 'MCR_INV1_SMB6', 'MCR_INV1_SMB7', 'MCR_INV1_SMB8', 'MCR_INV1_SMB9', 'MCR_TRF', 'OG1_EM', 'OG1_HT', 'OG1_RELAY', 'OG2_EM', 'OG2_HT', 'OG2_RELAY', 'PLC_DIAGNOSTIC', 'PLC_POWER_OFF_DATE', 'PLC_STOP_DATE', 'RTCFORHmi', 'SPARE_EM', 'TVM_EM', 'WMS']\n"
     ]
    }
   ],
   "source": [
    "group = opc.list('PLC.Application.GVL.*')\n",
    "print(group)"
   ]
  },
  {
   "cell_type": "markdown",
   "id": "positive-drill",
   "metadata": {},
   "source": [
    "# Get list of avaible tags in specfic group"
   ]
  },
  {
   "cell_type": "code",
   "execution_count": 62,
   "id": "present-representative",
   "metadata": {},
   "outputs": [
    {
     "name": "stdout",
     "output_type": "stream",
     "text": [
      "['PLC.Application.GVL.RTCFORHmi.CDT', 'PLC.Application.GVL.RTCFORHmi.EN', 'PLC.Application.GVL.RTCFORHmi.PDT', 'PLC.Application.GVL.RTCFORHmi.Q']\n"
     ]
    }
   ],
   "source": [
    "tags = opc.list('PLC.Application.GVL.RTCFORHmi')\n",
    "print(tags)"
   ]
  },
  {
   "cell_type": "markdown",
   "id": "regular-cancer",
   "metadata": {},
   "source": [
    "# Reading Tag Values"
   ]
  },
  {
   "cell_type": "code",
   "execution_count": 63,
   "id": "royal-times",
   "metadata": {},
   "outputs": [
    {
     "data": {
      "text/plain": [
       "('1970-01-01 00:00:00+00:00', 'Good', '2021-01-21 11:25:52.917000+00:00')"
      ]
     },
     "execution_count": 63,
     "metadata": {},
     "output_type": "execute_result"
    }
   ],
   "source": [
    "opc.read('PLC.Application.GVL.RTCFORHmi.CDT')"
   ]
  },
  {
   "cell_type": "markdown",
   "id": "accompanied-pastor",
   "metadata": {},
   "source": [
    "# Reading all values of Specific group"
   ]
  },
  {
   "cell_type": "code",
   "execution_count": 64,
   "id": "coated-tribe",
   "metadata": {},
   "outputs": [
    {
     "data": {
      "text/plain": [
       "[('PLC.Application.GVL.RTCFORHmi.CDT',\n",
       "  '1970-01-01 00:00:00+00:00',\n",
       "  'Good',\n",
       "  '2021-01-21 11:25:54.087000+00:00'),\n",
       " ('PLC.Application.GVL.RTCFORHmi.EN',\n",
       "  False,\n",
       "  'Good',\n",
       "  '2021-01-21 11:25:54.087000+00:00'),\n",
       " ('PLC.Application.GVL.RTCFORHmi.PDT',\n",
       "  '1970-01-01 00:00:00+00:00',\n",
       "  'Good',\n",
       "  '2021-01-21 11:25:54.087000+00:00'),\n",
       " ('PLC.Application.GVL.RTCFORHmi.Q',\n",
       "  False,\n",
       "  'Good',\n",
       "  '2021-01-21 11:25:54.087000+00:00')]"
      ]
     },
     "execution_count": 64,
     "metadata": {},
     "output_type": "execute_result"
    }
   ],
   "source": [
    "opc.read(opc.list('PLC.Application.GVL.RTCFORHmi'))"
   ]
  },
  {
   "cell_type": "code",
   "execution_count": 65,
   "id": "mysterious-drive",
   "metadata": {},
   "outputs": [
    {
     "name": "stdout",
     "output_type": "stream",
     "text": [
      "PLC.Application.GVL.ICR1_EM.AC_CAP : 0.0\n",
      "PLC.Application.GVL.ICR1_EM.AVAILABILITY : 0.0\n",
      "PLC.Application.GVL.ICR1_EM.BRKDWN_LOSS : 0.0\n",
      "PLC.Application.GVL.ICR1_EM.BRKDWN_MNT : 0\n",
      "PLC.Application.GVL.ICR1_EM.COMM_STS : False\n",
      "PLC.Application.GVL.ICR1_EM.CPR : 0.0\n",
      "PLC.Application.GVL.ICR1_EM.DC_CAP : 0.0\n",
      "PLC.Application.GVL.ICR1_EM.EXP_KVAH : 0.0\n",
      "PLC.Application.GVL.ICR1_EM.EXP_KVARH : 0.0\n",
      "PLC.Application.GVL.ICR1_EM.EXP_KWH : 0.0\n",
      "PLC.Application.GVL.ICR1_EM.EXP_KWH_YEST : 0.0\n",
      "PLC.Application.GVL.ICR1_EM.HZ : 0.0\n",
      "PLC.Application.GVL.ICR1_EM.IAVG : 0.0\n",
      "PLC.Application.GVL.ICR1_EM.IB : 0.0\n",
      "PLC.Application.GVL.ICR1_EM.IMP_KVAH : 0.0\n",
      "PLC.Application.GVL.ICR1_EM.IMP_KVARH : 0.0\n",
      "PLC.Application.GVL.ICR1_EM.IMP_KWH : 0.0\n",
      "PLC.Application.GVL.ICR1_EM.IMP_KWH_YEST : 0.0\n",
      "PLC.Application.GVL.ICR1_EM.IR : 0.0\n",
      "PLC.Application.GVL.ICR1_EM.IY : 0.0\n",
      "PLC.Application.GVL.ICR1_EM.KVA : 0.0\n",
      "PLC.Application.GVL.ICR1_EM.KVAR : 0.0\n",
      "PLC.Application.GVL.ICR1_EM.KW : 0.0\n",
      "PLC.Application.GVL.ICR1_EM.MTD_IMP : 0.0\n",
      "PLC.Application.GVL.ICR1_EM.MTD_KWH : 0.0\n",
      "PLC.Application.GVL.ICR1_EM.PF : 0.0\n",
      "PLC.Application.GVL.ICR1_EM.PR : 0.0\n",
      "PLC.Application.GVL.ICR1_EM.TODAY_IMP : 0.0\n",
      "PLC.Application.GVL.ICR1_EM.TODAY_KWH : 0.0\n",
      "PLC.Application.GVL.ICR1_EM.VAVG : 0.0\n",
      "PLC.Application.GVL.ICR1_EM.VBN : 0.0\n",
      "PLC.Application.GVL.ICR1_EM.VBR : 0.0\n",
      "PLC.Application.GVL.ICR1_EM.VRN : 0.0\n",
      "PLC.Application.GVL.ICR1_EM.VRY : 0.0\n",
      "PLC.Application.GVL.ICR1_EM.VYB : 0.0\n",
      "PLC.Application.GVL.ICR1_EM.VYN : 0.0\n",
      "PLC.Application.GVL.ICR1_EM.YEST_IMP : 0.0\n",
      "PLC.Application.GVL.ICR1_EM.YEST_KWH : 0.0\n",
      "PLC.Application.GVL.ICR1_EM.YTD_IMP : 0.0\n",
      "PLC.Application.GVL.ICR1_EM.YTD_KWH : 0.0\n"
     ]
    }
   ],
   "source": [
    "for name, value, quality, time in opc.iread(opc.list('PLC.Application.GVL.ICR1_EM')):\n",
    "    print (name + \" : \" + str(value))"
   ]
  },
  {
   "cell_type": "code",
   "execution_count": 48,
   "id": "owned-shipping",
   "metadata": {},
   "outputs": [],
   "source": [
    "opc.close()"
   ]
  },
  {
   "cell_type": "code",
   "execution_count": null,
   "id": "coral-fellow",
   "metadata": {},
   "outputs": [],
   "source": []
  }
 ],
 "metadata": {
  "kernelspec": {
   "display_name": "Python 3",
   "language": "python",
   "name": "python3"
  },
  "language_info": {
   "codemirror_mode": {
    "name": "ipython",
    "version": 3
   },
   "file_extension": ".py",
   "mimetype": "text/x-python",
   "name": "python",
   "nbconvert_exporter": "python",
   "pygments_lexer": "ipython3",
   "version": "3.6.8"
  }
 },
 "nbformat": 4,
 "nbformat_minor": 5
}
