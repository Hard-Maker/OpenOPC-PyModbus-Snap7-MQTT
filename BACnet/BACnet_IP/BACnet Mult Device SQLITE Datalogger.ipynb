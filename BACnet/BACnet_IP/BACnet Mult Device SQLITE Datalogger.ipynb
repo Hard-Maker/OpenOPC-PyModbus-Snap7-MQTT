{
 "cells": [
  {
   "cell_type": "code",
   "execution_count": null,
   "id": "cae178b9-fb1d-4e35-8c92-b74e0495e8a9",
   "metadata": {},
   "outputs": [],
   "source": [
    "import BAC0\n",
    "import time\n",
    "import csv\n",
    "import json\n",
    "import requests\n",
    "import traceback\n",
    "import sqlite3\n",
    "from math import isnan \n",
    "import pandas as pd\n",
    "import datetime"
   ]
  },
  {
   "cell_type": "code",
   "execution_count": null,
   "id": "494fba27-f463-4079-896a-fcd4ee994968",
   "metadata": {},
   "outputs": [],
   "source": [
    "ip_range = \"192.168.1.6/24\"  # Adjust this to your network range\n",
    "csv_filename = \"bacnet_devices.csv\"\n",
    "device_point_list = \"all_controllers_and_points.xlsx\""
   ]
  },
  {
   "cell_type": "code",
   "execution_count": null,
   "id": "fe708a46-902c-446a-9ea6-bbcfb15e9e9c",
   "metadata": {},
   "outputs": [],
   "source": [
    "df = pd.DataFrame(columns=['TimeStamp', 'Device_ID', 'Device_Add', 'TAG', 'Value'])"
   ]
  },
  {
   "cell_type": "code",
   "execution_count": null,
   "id": "6e2ce456-182f-44cc-96a8-0894b731ea55",
   "metadata": {},
   "outputs": [],
   "source": [
    "conn = sqlite3.connect('C:\\\\Users\\\\PARROT\\\\Desktop\\\\BACnetData.db')\n",
    "c = conn.cursor()\n",
    "c.execute(\"CREATE TABLE IF NOT EXISTS BACnet_LOG (id integer PRIMARY KEY, TimeStamp TEXT, Device_ID TEXT, Device_Add TEXT, TAG TEXT, Value TEXT)\")\n",
    "conn.commit()"
   ]
  },
  {
   "cell_type": "code",
   "execution_count": null,
   "id": "31d41ed6-b574-4c6f-b5cc-35ceeef5eae8",
   "metadata": {},
   "outputs": [],
   "source": [
    "# bacnet = BAC0.lite(ip = '192.168.1.6/24')"
   ]
  },
  {
   "cell_type": "code",
   "execution_count": null,
   "id": "1c25701c",
   "metadata": {},
   "outputs": [],
   "source": [
    "config_obj = {\n",
    "    \"host_ip\":\"192.168.1.6/24\",\n",
    "    \"find_devices\":False,\n",
    "    \"devices\":[\n",
    "        { \"ip\":\"0xc0a80104f8c6\", \"device_id\":770174 },\n",
    "        { \"ip\":\"0xc0a80106d615\", \"device_id\":3588107 }\n",
    "    ],\n",
    "    \"mqtt\":{\n",
    "        \"host\":\"nube-io.com\",\n",
    "        \"port\":1883,\n",
    "        \"base_topic\":\"TEST/\"\n",
    "    },\n",
    "    \"loop_time\":30\n",
    "}"
   ]
  },
  {
   "cell_type": "code",
   "execution_count": null,
   "id": "5548cd8f",
   "metadata": {},
   "outputs": [],
   "source": [
    "def get_bac0_device(device, network):\n",
    "    # print(\"Get BAC0 device\")\n",
    "    name, vendor, address, device_id = device\n",
    "    # print(name, \" | \", vendor, \" | \", address, \" | \", device_id, \" | \")\n",
    "    return BAC0.device(address, device_id, network, poll=0,object_list=None)"
   ]
  },
  {
   "cell_type": "code",
   "execution_count": null,
   "id": "a53e168c-3ffe-4a6e-af4a-e338ec6dfa85",
   "metadata": {},
   "outputs": [],
   "source": [
    "def make_excel(dfs):\n",
    "    with pd.ExcelWriter(device_point_list) as writer:\n",
    "        for k, v in dfs.items():\n",
    "            v.to_excel(writer, sheet_name=k)"
   ]
  },
  {
   "cell_type": "code",
   "execution_count": null,
   "id": "e2f5d398-9b93-4f2b-8ccc-5c641f286eb0",
   "metadata": {},
   "outputs": [],
   "source": [
    "def create_data(discovered_devices, network):\n",
    "    devices = {}\n",
    "    dataframes = {}\n",
    "    for each in discovered_devices:\n",
    "        name, vendor, address, device_id = each\n",
    "        # try excep eventually as we may have some issues with werid devices\n",
    "        if \"TEC3000\" in name:\n",
    "            custom_obj_list = tec_short_point_list()\n",
    "        else:\n",
    "            custom_obj_list = None\n",
    "        devices[name] = BAC0.device(address, device_id, network, poll=0, object_list=custom_obj_list)\n",
    "        # While we are here, make a dataframe with device\n",
    "        dataframes[name] = make_dataframe(devices[name])\n",
    "        devices[name].disconnect()\n",
    "    return  dataframes"
   ]
  },
  {
   "cell_type": "code",
   "execution_count": null,
   "id": "4ebe34e7-57c5-4e47-a697-0aad4c7391aa",
   "metadata": {},
   "outputs": [],
   "source": [
    "def make_dataframe(dev):\n",
    "    lst = {}\n",
    "    for each in dev.points:\n",
    "        lst[each.properties.name] = {\n",
    "            \"value\": each.lastValue,\n",
    "            \"units or states\": each.properties.units_state,\n",
    "            \"description\": each.properties.description,\n",
    "            \"object\": \"{}:{}\".format(each.properties.type, each.properties.address),\n",
    "        }\n",
    "    df = pd.DataFrame.from_dict(lst, orient=\"index\")\n",
    "    return df"
   ]
  },
  {
   "cell_type": "code",
   "execution_count": null,
   "id": "ae331df8-7d66-4934-b1b3-427496e8078e",
   "metadata": {},
   "outputs": [],
   "source": [
    "def save_to_csv(devices, csv_filename):\n",
    "    with open(csv_filename, mode='w', newline='') as file:\n",
    "        writer = csv.writer(file)\n",
    "        # Write headers to the CSV file\n",
    "        writer.writerow([\"Device Name\", \"Device ID\", \"Device Address\", \"Manufacturer\"])\n",
    "        # Write device information to the CSV file\n",
    "        for device in devices:\n",
    "            writer.writerow([device[0], device[3], device[2], device[1]])"
   ]
  },
  {
   "cell_type": "code",
   "execution_count": null,
   "id": "ddca02d1-ecd0-43f5-a6db-9bb9ad17bc9a",
   "metadata": {},
   "outputs": [],
   "source": [
    "def discover_bacnet_devices(ip_range):\n",
    "    # Create a BACnet IP network scanner\n",
    "    global bacnet \n",
    "    bacnet = BAC0.lite(ip_range)\n",
    "    # Discover BACnet devices on the network\n",
    "    bacnet.discover()\n",
    "    devices = bacnet.devices\n",
    "    print(devices)\n",
    "    dataframes = create_data(devices, network=bacnet)\n",
    "    make_excel(dataframes)\n",
    "    return devices"
   ]
  },
  {
   "cell_type": "code",
   "execution_count": null,
   "id": "755560cb",
   "metadata": {},
   "outputs": [],
   "source": [
    "devices = discover_bacnet_devices(ip_range)\n",
    "save_to_csv(devices, csv_filename)"
   ]
  },
  {
   "cell_type": "code",
   "execution_count": null,
   "id": "cb8f22c1-a4fb-499c-b70e-f8bc801deb81",
   "metadata": {},
   "outputs": [],
   "source": [
    "# discover_bacnet_devices(ip_range)"
   ]
  },
  {
   "cell_type": "code",
   "execution_count": null,
   "id": "2a141a21-8708-4555-b1a8-bcfb2379cac8",
   "metadata": {},
   "outputs": [],
   "source": [
    "# devices"
   ]
  },
  {
   "cell_type": "code",
   "execution_count": null,
   "id": "0de2eb28",
   "metadata": {},
   "outputs": [],
   "source": [
    "if config_obj['devices']:\n",
    "    while True:\n",
    "        start_time = time.time()\n",
    "        try:\n",
    "            for a_device in devices:                \n",
    "                device = get_bac0_device(a_device, bacnet)\n",
    "                if not(isinstance(device, BAC0.core.devices.Device.DeviceDisconnected)):\n",
    "                    for point in device.points:\n",
    "                        temp_df = {'TimeStamp': datetime.datetime.now().strftime(\"%D/%M/%Y %H:%M:%S\"),\n",
    "                                   'Device_ID': str(device.properties.device_id) , \n",
    "                                   'Device_Add': str(device.properties.address), \n",
    "                                   'TAG': str(point.properties.name), \n",
    "                                   'Value': str(point.lastValue)}\n",
    "                        df = pd.concat([df, pd.DataFrame(temp_df, index=[1])], ignore_index=True)\n",
    "                \n",
    "                device.disconnect()\n",
    "                    \n",
    "                        \n",
    "        except Exception as e:\n",
    "            print(traceback.print_exc())\n",
    "            \n",
    "        df.to_sql('BACnet_LOG', conn, if_exists='append', index=False)\n",
    "        df.drop(df.index, inplace=True)\n",
    "        \n",
    "        time_elapsed = time.time() - start_time\n",
    "        if config_obj['loop_time'] - time_elapsed > 0:\n",
    "            sleep_time = config_obj['loop_time'] - time_elapsed\n",
    "        else: \n",
    "            sleep_time = 0\n",
    "\n",
    "        print(\"---- Loop took %.2f seconds ----\" % time_elapsed)\n",
    "        print(\"--- Sleeping for %.2f seconds ---\" % sleep_time)\n",
    "        time.sleep(sleep_time)"
   ]
  },
  {
   "cell_type": "code",
   "execution_count": null,
   "id": "72b35c91",
   "metadata": {},
   "outputs": [],
   "source": []
  }
 ],
 "metadata": {
  "kernelspec": {
   "display_name": "Python 3 (ipykernel)",
   "language": "python",
   "name": "python3"
  },
  "language_info": {
   "codemirror_mode": {
    "name": "ipython",
    "version": 3
   },
   "file_extension": ".py",
   "mimetype": "text/x-python",
   "name": "python",
   "nbconvert_exporter": "python",
   "pygments_lexer": "ipython3",
   "version": "3.11.3"
  }
 },
 "nbformat": 4,
 "nbformat_minor": 5
}
