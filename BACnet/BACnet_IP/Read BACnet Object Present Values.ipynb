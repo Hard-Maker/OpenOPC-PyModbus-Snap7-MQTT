{
 "cells": [
  {
   "cell_type": "markdown",
   "id": "2de09c53",
   "metadata": {},
   "source": [
    "# Install Required Bacnet Library for Python\n"
   ]
  },
  {
   "cell_type": "code",
   "execution_count": null,
   "id": "18072107",
   "metadata": {},
   "outputs": [],
   "source": [
    "!pip install BAC0\n",
    "!pip install netifaces"
   ]
  },
  {
   "cell_type": "markdown",
   "id": "cced67fd",
   "metadata": {},
   "source": [
    "# Improt BAC0 Library to Communicate Python with Bacnet Protocol"
   ]
  },
  {
   "cell_type": "code",
   "execution_count": 2,
   "id": "4487eac2",
   "metadata": {},
   "outputs": [],
   "source": [
    "import BAC0"
   ]
  },
  {
   "cell_type": "markdown",
   "id": "5a4c3ae3",
   "metadata": {},
   "source": [
    "# BAC0.connect\n",
    "    BAC0.connect(\n",
    "        ip=None,\n",
    "        port=None,\n",
    "        mask=None,\n",
    "        bbmdAddress=None,\n",
    "        bbmdTTL=0,\n",
    "        bdtable=None,\n",
    "        ping=True,\n",
    "        ping_delay=300,\n",
    "        db_params=None,\n",
    "        **params,\n",
    "    )\n",
    "\n",
    "## Create Connection with Bacnet Device using BAC0.connect()\n",
    "\n",
    "Note: Complete will launch a web server with bokeh trending features. You will be able to access the server from another computer if you want."
   ]
  },
  {
   "cell_type": "code",
   "execution_count": 3,
   "id": "06966ee7",
   "metadata": {},
   "outputs": [
    {
     "name": "stdout",
     "output_type": "stream",
     "text": [
      "2021-12-18 21:05:33,869 - INFO    | Starting BAC0 version 21.12.03 (Lite)\n",
      "2021-12-18 21:05:33,876 - INFO    | Use BAC0.log_level to adjust verbosity of the app.\n",
      "2021-12-18 21:05:33,878 - INFO    | Ex. BAC0.log_level('silence') or BAC0.log_level('error')\n",
      "2021-12-18 21:05:33,879 - INFO    | Starting TaskManager\n",
      "2021-12-18 21:05:33,997 - INFO    | Using ip : 192.168.1.13\n",
      "2021-12-18 21:05:34,159 - INFO    | Starting app...\n",
      "2021-12-18 21:05:34,162 - INFO    | BAC0 started\n",
      "2021-12-18 21:05:34,165 - INFO    | Registered as Simple BACnet/IP App\n",
      "2021-12-18 21:05:34,183 - INFO    | Update Local COV Task started\n"
     ]
    }
   ],
   "source": [
    "bacnet = BAC0.connect()"
   ]
  },
  {
   "cell_type": "markdown",
   "id": "6d0f4edf",
   "metadata": {},
   "source": [
    "# BAC0.lite    \n",
    "    BAC0.lite(\n",
    "        ip=None,\n",
    "        port=None,\n",
    "        mask=None,\n",
    "        bbmdAddress=None,\n",
    "        bbmdTTL=0,\n",
    "        bdtable=None,\n",
    "        ping=True,\n",
    "        ping_delay=300,\n",
    "        db_params=None,\n",
    "        **params,\n",
    "    )\n",
    "    \n",
    "\n",
    "## Create Connection with Bacnet Device using BAC0.lite()\n",
    "\n",
    "Note: Use Lite if you only want to interact with some devices without using the web interface or the live trending features. On small devices like Raspberry Pi on which Numpy and Pandas are not installed, it will run without problem."
   ]
  },
  {
   "cell_type": "code",
   "execution_count": 4,
   "id": "6fd68f6d",
   "metadata": {},
   "outputs": [],
   "source": [
    "#bacnet = BAC0.lite()"
   ]
  },
  {
   "cell_type": "markdown",
   "id": "8f835b71",
   "metadata": {},
   "source": [
    "# Sending whois request to all available to BACnet Device in network.\n",
    "# Every device will respond to whois request with who they are.\n",
    "\n",
    "Example::\n",
    "\n",
    "    whois(global_broadcast=True) # WhoIs broadcast globally.  Every device will respond with an IAm\n",
    "    whois('2:5')                 # WhoIs looking for the device at (Network 2, Address 5)\n",
    "    whois('10 1000')             # WhoIs looking for devices in the ID range (10 - 1000)\n",
    "    "
   ]
  },
  {
   "cell_type": "code",
   "execution_count": 9,
   "id": "ca9fbbb9",
   "metadata": {},
   "outputs": [],
   "source": [
    "mac, device_id = bacnet.whois()[0]"
   ]
  },
  {
   "cell_type": "code",
   "execution_count": 10,
   "id": "8a93dc47",
   "metadata": {},
   "outputs": [
    {
     "data": {
      "text/plain": [
       "'0xc0a8010dd07d'"
      ]
     },
     "execution_count": 10,
     "metadata": {},
     "output_type": "execute_result"
    }
   ],
   "source": [
    "mac"
   ]
  },
  {
   "cell_type": "code",
   "execution_count": 11,
   "id": "41f5f07b",
   "metadata": {},
   "outputs": [
    {
     "data": {
      "text/plain": [
       "3588107"
      ]
     },
     "execution_count": 11,
     "metadata": {},
     "output_type": "execute_result"
    }
   ],
   "source": [
    "device_id"
   ]
  },
  {
   "cell_type": "code",
   "execution_count": null,
   "id": "d03c365d",
   "metadata": {},
   "outputs": [],
   "source": [
    "## Discover BACnet Devices with Global Brodcast\n",
    "#bacnet.discover(global_broadcast=True)"
   ]
  },
  {
   "cell_type": "markdown",
   "id": "34684dc6",
   "metadata": {},
   "source": [
    "# Get the details of each discoverd Bacnet Devices.\n",
    "\n",
    "## Like:\n",
    "- Device Name\n",
    "- Device Manufacturer\n",
    "- mac add of device (use to Read & Write Data)\n",
    "- Device ID\n",
    "- Etc..."
   ]
  },
  {
   "cell_type": "code",
   "execution_count": 8,
   "id": "30c14ab0",
   "metadata": {},
   "outputs": [
    {
     "data": {
      "text/plain": [
       "[('RoomController.Simulator',\n",
       "  'F. Chaxel, Thanks to Morten Kvistgaard, MIT licence, 2015',\n",
       "  '0xc0a8010dd07d',\n",
       "  3588107)]"
      ]
     },
     "execution_count": 8,
     "metadata": {},
     "output_type": "execute_result"
    }
   ],
   "source": [
    "bacnet.devices"
   ]
  },
  {
   "cell_type": "markdown",
   "id": "2b719b47",
   "metadata": {},
   "source": [
    "# Read object List of Device"
   ]
  },
  {
   "cell_type": "code",
   "execution_count": 12,
   "id": "a13485b9",
   "metadata": {},
   "outputs": [
    {
     "data": {
      "text/plain": [
       "[('device', 3588107),\n",
       " ('analogInput', 0),\n",
       " ('analogInput', 1),\n",
       " ('analogInput', 2),\n",
       " ('analogValue', 0),\n",
       " ('analogValue', 1),\n",
       " ('analogValue', 2),\n",
       " ('analogValue', 3),\n",
       " ('characterstringValue', 1),\n",
       " ('characterstringValue', 2),\n",
       " ('characterstringValue', 3),\n",
       " ('binaryValue', 0),\n",
       " ('binaryValue', 1),\n",
       " ('multiStateValue', 0),\n",
       " ('multiStateValue', 1)]"
      ]
     },
     "execution_count": 12,
     "metadata": {},
     "output_type": "execute_result"
    }
   ],
   "source": [
    "bacnet.read(f'{mac} device {device_id} objectList')"
   ]
  },
  {
   "cell_type": "markdown",
   "id": "d5a93052",
   "metadata": {},
   "source": [
    "# Reading Object Properties or Reading Tag or Object Value\n",
    "### Object Type: analogValue"
   ]
  },
  {
   "cell_type": "code",
   "execution_count": 15,
   "id": "35dd8556",
   "metadata": {},
   "outputs": [
    {
     "data": {
      "text/plain": [
       "55.0"
      ]
     },
     "execution_count": 15,
     "metadata": {},
     "output_type": "execute_result"
    }
   ],
   "source": [
    "bacnet.read(f'{mac} analogValue 0 presentValue')"
   ]
  },
  {
   "cell_type": "markdown",
   "id": "7403bde2",
   "metadata": {},
   "source": [
    "# Reading Object Properties or Reading Tag or Object Value\n",
    "### Object Type: analogInput"
   ]
  },
  {
   "cell_type": "code",
   "execution_count": 14,
   "id": "3ac50fe5",
   "metadata": {},
   "outputs": [
    {
     "data": {
      "text/plain": [
       "27.100000381469727"
      ]
     },
     "execution_count": 14,
     "metadata": {},
     "output_type": "execute_result"
    }
   ],
   "source": [
    "bacnet.read(f'{mac} analogInput 0 presentValue')"
   ]
  },
  {
   "cell_type": "markdown",
   "id": "2e72b423",
   "metadata": {},
   "source": [
    "# Reading Object Properties or Reading Tag or Object Value\n",
    "### Object Type: binaryValue"
   ]
  },
  {
   "cell_type": "code",
   "execution_count": 17,
   "id": "a7ca0f62",
   "metadata": {},
   "outputs": [
    {
     "data": {
      "text/plain": [
       "'active'"
      ]
     },
     "execution_count": 17,
     "metadata": {},
     "output_type": "execute_result"
    }
   ],
   "source": [
    "bacnet.read(f'{mac} binaryValue 0 presentValue')"
   ]
  },
  {
   "cell_type": "code",
   "execution_count": 19,
   "id": "add84f57",
   "metadata": {},
   "outputs": [
    {
     "ename": "AttributeError",
     "evalue": "module 'BAC0' has no attribute 'disconnect'",
     "output_type": "error",
     "traceback": [
      "\u001b[1;31m---------------------------------------------------------------------------\u001b[0m",
      "\u001b[1;31mAttributeError\u001b[0m                            Traceback (most recent call last)",
      "\u001b[1;32m<ipython-input-19-ab8c2b45f9c9>\u001b[0m in \u001b[0;36m<module>\u001b[1;34m\u001b[0m\n\u001b[1;32m----> 1\u001b[1;33m \u001b[0mBAC0\u001b[0m\u001b[1;33m.\u001b[0m\u001b[0mdisconnect\u001b[0m\u001b[1;33m(\u001b[0m\u001b[1;33m)\u001b[0m\u001b[1;33m\u001b[0m\u001b[1;33m\u001b[0m\u001b[0m\n\u001b[0m",
      "\u001b[1;31mAttributeError\u001b[0m: module 'BAC0' has no attribute 'disconnect'"
     ]
    }
   ],
   "source": [
    "BAC0.d"
   ]
  },
  {
   "cell_type": "code",
   "execution_count": null,
   "id": "6cb1ef8c",
   "metadata": {},
   "outputs": [],
   "source": []
  }
 ],
 "metadata": {
  "kernelspec": {
   "display_name": "Python 3",
   "language": "python",
   "name": "python3"
  },
  "language_info": {
   "codemirror_mode": {
    "name": "ipython",
    "version": 3
   },
   "file_extension": ".py",
   "mimetype": "text/x-python",
   "name": "python",
   "nbconvert_exporter": "python",
   "pygments_lexer": "ipython3",
   "version": "3.6.8"
  }
 },
 "nbformat": 4,
 "nbformat_minor": 5
}
