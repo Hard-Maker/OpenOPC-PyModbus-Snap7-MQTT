{
 "cells": [
  {
   "cell_type": "markdown",
   "id": "ab205256-eb7c-4277-a7ec-069c6373e2d2",
   "metadata": {},
   "source": [
    "# Import Functions and Libray"
   ]
  },
  {
   "cell_type": "code",
   "execution_count": null,
   "id": "d5e8be2c-7c45-4e4c-86bd-26e2ae1812df",
   "metadata": {},
   "outputs": [],
   "source": [
    "import BAC0\n",
    "import time\n",
    "import os, sys\n",
    "import paho.mqtt.client as mqtt\n",
    "import uuid\n",
    "import sqlite3\n",
    "import datetime"
   ]
  },
  {
   "cell_type": "markdown",
   "id": "3c3e33ca-72d4-4334-89d2-15f166a26893",
   "metadata": {},
   "source": [
    "# Create Connection with SQLite Database and Create Table to Log BACnet Device Data"
   ]
  },
  {
   "cell_type": "code",
   "execution_count": null,
   "id": "11dd4789-a498-439c-9d70-d28c846e7778",
   "metadata": {},
   "outputs": [],
   "source": [
    "conn = sqlite3.connect('C:\\\\Users\\\\PARROT\\\\Desktop\\\\BACnetData.db')\n",
    "c = conn.cursor()\n",
    "c.execute(\"CREATE TABLE IF NOT EXISTS BACnet_LOG (id integer PRIMARY KEY, TimeStamp TEXT, TAG TEXT, Value TEXT)\")\n",
    "conn.commit()"
   ]
  },
  {
   "cell_type": "code",
   "execution_count": null,
   "id": "0ebc67c7-1b85-48b7-876e-90e5bfe01789",
   "metadata": {},
   "outputs": [],
   "source": [
    "# Disable\n",
    "def blockPrint():\n",
    "    sys.stdout = open(os.devnull, 'w')\n",
    "\n",
    "# Restore\n",
    "def enablePrint():\n",
    "    sys.stdout = sys.__stdout__"
   ]
  },
  {
   "cell_type": "markdown",
   "id": "63e6b7d6-1ef7-4d52-bc99-a1ac8b3198d3",
   "metadata": {},
   "source": [
    "# Function to Return BACnet Device Details for Connection"
   ]
  },
  {
   "cell_type": "code",
   "execution_count": null,
   "id": "3aa46cc2-6f23-413d-a1c4-ff6f95042fef",
   "metadata": {},
   "outputs": [],
   "source": [
    "def get_bac0_device(device, network):\n",
    "    print(\"Get BAC0 device\")\n",
    "    name, vendor, address, device_id = device\n",
    "    return BAC0.device(address, device_id, network, poll=0,object_list=None)"
   ]
  },
  {
   "cell_type": "markdown",
   "id": "1a1c1768-3219-4567-b915-431a3fbce247",
   "metadata": {},
   "source": [
    "# Main function to connect with BACnet Device, "
   ]
  },
  {
   "cell_type": "code",
   "execution_count": null,
   "id": "8957e72c-4cea-413a-9a37-ca0069287ba4",
   "metadata": {},
   "outputs": [],
   "source": [
    "def main():\n",
    "\n",
    "    # BAC0 Setup\n",
    "    bacnet = BAC0.connect()\n",
    "    bacnet.discover()\n",
    "    # Use first device from list of discoverd devices\n",
    "    device = bacnet.devices[0]\n",
    "    # Fetch All info of BACnet Device like Device Name, Device Vendor Details , Device Address, Device ID \n",
    "    bac0_device = get_bac0_device(device, bacnet)\n",
    "    \n",
    "    # Main Loop of Reading and Logging TAG data\n",
    "    while True:\n",
    "\n",
    "        # Get list of points(Tags) with their latest values\n",
    "        points = bac0_device.points\n",
    "\n",
    "        # Ignor this code.\n",
    "        blockPrint()\n",
    "        print(points)\n",
    "        enablePrint()\n",
    "\n",
    "        for point in points:\n",
    "            timestamp = datetime.datetime.now()\n",
    "            # point.properties.name > Will get you the BACnet Device Tag Value\n",
    "            # point.lastValue > Will get you the BACnet Device Tag Value\n",
    "            # Log everything into SQLite Database\n",
    "            c.execute(\"INSERT INTO BACnet_LOG (TimeStamp, TAG, Value) VALUES (?, ?, ?)\", (timestamp, point.properties.name, point.lastValue))\n",
    "            # Commit.\n",
    "            conn.commit()\n",
    "            \n",
    "        # Wait for 4 seconds before sending updated data\n",
    "        time.sleep(4)"
   ]
  },
  {
   "cell_type": "code",
   "execution_count": null,
   "id": "03a3af48-b882-4bca-8472-0eff85824677",
   "metadata": {},
   "outputs": [],
   "source": [
    "if __name__ == \"__main__\":\n",
    "    # Run Main Function\n",
    "    main()"
   ]
  },
  {
   "cell_type": "code",
   "execution_count": null,
   "id": "232c6828-e91a-41f1-88e7-1d13b7fe0273",
   "metadata": {},
   "outputs": [],
   "source": []
  }
 ],
 "metadata": {
  "kernelspec": {
   "display_name": "Python 3 (ipykernel)",
   "language": "python",
   "name": "python3"
  },
  "language_info": {
   "codemirror_mode": {
    "name": "ipython",
    "version": 3
   },
   "file_extension": ".py",
   "mimetype": "text/x-python",
   "name": "python",
   "nbconvert_exporter": "python",
   "pygments_lexer": "ipython3",
   "version": "3.11.3"
  }
 },
 "nbformat": 4,
 "nbformat_minor": 5
}
