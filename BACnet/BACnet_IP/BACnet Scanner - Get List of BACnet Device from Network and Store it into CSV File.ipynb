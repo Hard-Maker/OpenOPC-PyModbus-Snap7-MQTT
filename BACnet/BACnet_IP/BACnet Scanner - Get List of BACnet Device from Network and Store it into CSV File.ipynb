{
 "cells": [
  {
   "cell_type": "code",
   "execution_count": null,
   "id": "5e97e145-9d39-4046-ab66-bdee92cb067d",
   "metadata": {},
   "outputs": [],
   "source": [
    "import csv\n",
    "import BAC0\n",
    "\n",
    "ip_range = \"192.168.1.6/24\"  # Adjust this to your network range\n",
    "csv_filename = \"bacnet_devices.csv\""
   ]
  },
  {
   "cell_type": "code",
   "execution_count": null,
   "id": "6384c3ab-e3e4-494e-8982-fc437f63b7f5",
   "metadata": {},
   "outputs": [],
   "source": [
    "def discover_bacnet_devices(ip_range):\n",
    "    # Create a BACnet IP network scanner\n",
    "    bacnet = BAC0.lite(ip_range)\n",
    "    # Discover BACnet devices on the network\n",
    "    bacnet.discover()\n",
    "    devices = bacnet.devices\n",
    "    return devices"
   ]
  },
  {
   "cell_type": "code",
   "execution_count": 4,
   "id": "a542db59-5363-424f-aa4e-aa0965c9d77f",
   "metadata": {},
   "outputs": [],
   "source": [
    "def save_to_csv(devices, csv_filename):\n",
    "    with open(csv_filename, mode='w', newline='') as file:\n",
    "        writer = csv.writer(file)\n",
    "        # Write headers to the CSV file\n",
    "        writer.writerow([\"Device Name\", \"Device Instance\", \"Device IP\", \"Model Name\"])\n",
    "\n",
    "        # Write device information to the CSV file\n",
    "        for device in devices:\n",
    "            device_name = device[0]\n",
    "            device_instance = device[3]\n",
    "            device_ip = device[2]\n",
    "            model_name = device[1]  # Assuming 8 is the object instance for the model name\n",
    "            writer.writerow([device_name, device_instance, device_ip, model_name])"
   ]
  },
  {
   "cell_type": "code",
   "execution_count": 5,
   "id": "ec5e16a6-fc2c-4f8a-92c4-2534d8bd22fe",
   "metadata": {},
   "outputs": [
    {
     "name": "stdout",
     "output_type": "stream",
     "text": [
      "2023-09-02 12:38:33,591 - INFO    | Starting BAC0 version 23.07.03 (Lite)\n",
      "2023-09-02 12:38:33,596 - INFO    | Use BAC0.log_level to adjust verbosity of the app.\n",
      "2023-09-02 12:38:33,599 - INFO    | Ex. BAC0.log_level('silence') or BAC0.log_level('error')\n",
      "2023-09-02 12:38:33,600 - INFO    | Starting TaskManager\n",
      "2023-09-02 12:38:33,609 - INFO    | Using ip : 192.168.1.6 on port 47808 | broadcast : 192.168.1.255\n",
      "2023-09-02 12:38:33,790 - INFO    | Starting app...\n",
      "2023-09-02 12:38:33,793 - INFO    | BAC0 started\n",
      "2023-09-02 12:38:33,796 - INFO    | Registered as Simple BACnet/IP App\n",
      "2023-09-02 12:38:33,798 - INFO    | Device instance (id) : 3056305\n",
      "2023-09-02 12:38:33,803 - INFO    | Update Local COV Task started (required to support COV)\n",
      "2023-09-02 12:38:37,833 - INFO    | Found those networks : set()\n",
      "2023-09-02 12:38:37,834 - INFO    | No BACnet network found, attempting a simple whois using provided device instances limits (0 - 4194303)\n",
      "BACnet devices discovered and saved to 'bacnet_devices.csv'.\n"
     ]
    }
   ],
   "source": [
    "if __name__ == \"__main__\":\n",
    "    devices = discover_bacnet_devices(ip_range)\n",
    "    save_to_csv(devices, csv_filename)\n",
    "    print(f\"BACnet devices discovered and saved to '{csv_filename}'.\")"
   ]
  },
  {
   "cell_type": "code",
   "execution_count": null,
   "id": "9c798f6c-9689-4a97-8bcf-4bd1a45b7bc9",
   "metadata": {},
   "outputs": [],
   "source": []
  }
 ],
 "metadata": {
  "kernelspec": {
   "display_name": "Python 3 (ipykernel)",
   "language": "python",
   "name": "python3"
  },
  "language_info": {
   "codemirror_mode": {
    "name": "ipython",
    "version": 3
   },
   "file_extension": ".py",
   "mimetype": "text/x-python",
   "name": "python",
   "nbconvert_exporter": "python",
   "pygments_lexer": "ipython3",
   "version": "3.11.3"
  }
 },
 "nbformat": 4,
 "nbformat_minor": 5
}
