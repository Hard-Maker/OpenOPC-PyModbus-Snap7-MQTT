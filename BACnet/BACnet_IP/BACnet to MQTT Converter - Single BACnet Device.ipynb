{
 "cells": [
  {
   "cell_type": "markdown",
   "id": "1e54e7a1-03d9-44fb-9315-768532a34986",
   "metadata": {},
   "source": [
    "# Import Functions and Libray"
   ]
  },
  {
   "cell_type": "code",
   "execution_count": null,
   "id": "64c07a70-0301-4aa3-9d9d-6102046f24a7",
   "metadata": {},
   "outputs": [],
   "source": [
    "import BAC0\n",
    "import time\n",
    "import os, sys\n",
    "import paho.mqtt.client as mqtt\n",
    "from random import randrange, uniform\n",
    "import uuid"
   ]
  },
  {
   "cell_type": "markdown",
   "id": "dada17d6-4e3c-4169-94a8-28e7af10514d",
   "metadata": {},
   "source": [
    "# Ignore this Code"
   ]
  },
  {
   "cell_type": "code",
   "execution_count": null,
   "id": "b5c20aa9-119e-47cb-bf7a-4fa174a8bbde",
   "metadata": {},
   "outputs": [],
   "source": [
    "# Disable\n",
    "def blockPrint():\n",
    "    sys.stdout = open(os.devnull, 'w')\n",
    "\n",
    "# Restore\n",
    "def enablePrint():\n",
    "    sys.stdout = sys.__stdout__"
   ]
  },
  {
   "cell_type": "markdown",
   "id": "b8c58ac4-f19a-4b3f-9f93-15f7dde0b5a0",
   "metadata": {},
   "source": [
    "# Function to Return BACnet Device Details for Connection"
   ]
  },
  {
   "cell_type": "code",
   "execution_count": null,
   "id": "3aa46cc2-6f23-413d-a1c4-ff6f95042fef",
   "metadata": {},
   "outputs": [],
   "source": [
    "def get_bac0_device(device, network):\n",
    "    print(\"Get BAC0 device\")\n",
    "    name, vendor, address, device_id = device\n",
    "    return BAC0.device(address, device_id, network, poll=0,\n",
    "    object_list=None)"
   ]
  },
  {
   "cell_type": "markdown",
   "id": "5db2ae67-62dc-4bc5-b87b-5682adbd157d",
   "metadata": {},
   "source": [
    "# Main function to connect with BACnet Device and Publish BACnet Device Data to Mosquitto MQTT Broker"
   ]
  },
  {
   "cell_type": "code",
   "execution_count": null,
   "id": "8957e72c-4cea-413a-9a37-ca0069287ba4",
   "metadata": {},
   "outputs": [],
   "source": [
    "def main():\n",
    "    # MQTT Setup\n",
    "    \n",
    "    # Local or azure mqtt broker address\n",
    "    # mosquitto broker IP Address\n",
    "    mqttBroker =\"127.0.0.1\"\n",
    "    # incase of broker usename and password uncomment below line    \n",
    "    # username = \"mqtt_username\"\n",
    "    # password = \"mqtt_password\"\n",
    "    \n",
    "    # mosquito broker tcp port\n",
    "    port = 1883\n",
    "    \n",
    "    # define client ID\n",
    "    cid = str(uuid.uuid4())\n",
    "    client = mqtt.Client(\"Gateway_Device_\" + cid)\n",
    "    \n",
    "    # incase of broker usename and password uncomment below line\n",
    "    # client.username_pw_set(username, password)\n",
    "    \n",
    "    #Connect to MQTT Broker\n",
    "    client.connect(mqttBroker, port)\n",
    "\n",
    "    # BAC0 Setup\n",
    "    # Create BACnet Network\n",
    "    bacnet = BAC0.connect()\n",
    "    # discover all BACnet IP device from network\n",
    "    bacnet.discover()\n",
    "    # Use first device from list of discoverd devices\n",
    "    device = bacnet.devices[0]\n",
    "    # Fetch All info of BACnet Device like Device Name, Device Vendor Details , Device Address, Device ID     \n",
    "    bac0_device = get_bac0_device(device, bacnet)\n",
    "    \n",
    "    # Main Loop of sending data to mosquitto mqtt broker\n",
    "    while True:\n",
    "        # Get list of points(Tags) with their latest values\n",
    "        points = bac0_device.points\n",
    "\n",
    "        # Ignor this code.\n",
    "        blockPrint()\n",
    "        print(points)\n",
    "        enablePrint()\n",
    "        \n",
    "        for idx, point in enumerate(points):\n",
    "            # point.properties.name > Will get you the BACnet Device Tag Value            \n",
    "            # point.lastValue > Will get you the BACnet Device Tag Value          \n",
    "            msg = str(point.lastValue)\n",
    "            topic = \"{}\".format(point.properties.name)\n",
    "            # publish data to mosquitto mqtt broker\n",
    "            client.publish(topic, msg)\n",
    "        \n",
    "        # Wait for 4 seconds before sending updated data\n",
    "        time.sleep(4)"
   ]
  },
  {
   "cell_type": "code",
   "execution_count": null,
   "id": "03a3af48-b882-4bca-8472-0eff85824677",
   "metadata": {},
   "outputs": [],
   "source": [
    "if __name__ == \"__main__\":\n",
    "    # Run Main Function\n",
    "    main()"
   ]
  }
 ],
 "metadata": {
  "kernelspec": {
   "display_name": "Python 3 (ipykernel)",
   "language": "python",
   "name": "python3"
  },
  "language_info": {
   "codemirror_mode": {
    "name": "ipython",
    "version": 3
   },
   "file_extension": ".py",
   "mimetype": "text/x-python",
   "name": "python",
   "nbconvert_exporter": "python",
   "pygments_lexer": "ipython3",
   "version": "3.11.3"
  }
 },
 "nbformat": 4,
 "nbformat_minor": 5
}
