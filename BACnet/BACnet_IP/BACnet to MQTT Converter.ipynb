{
 "cells": [
  {
   "cell_type": "code",
   "execution_count": 1,
   "id": "3f2cccdc-d236-40b9-9231-34ad25d38503",
   "metadata": {},
   "outputs": [],
   "source": [
    "import BAC0\n",
    "import time\n",
    "import os, sys\n",
    "import paho.mqtt.client as mqtt\n",
    "from random import randrange, uniform\n",
    "import uuid\n",
    "\n",
    "# Disable\n",
    "def blockPrint():\n",
    "    sys.stdout = open(os.devnull, 'w')\n",
    "\n",
    "# Restore\n",
    "def enablePrint():\n",
    "    sys.stdout = sys.__stdout__"
   ]
  },
  {
   "cell_type": "code",
   "execution_count": 2,
   "id": "3aa46cc2-6f23-413d-a1c4-ff6f95042fef",
   "metadata": {},
   "outputs": [],
   "source": [
    "def get_bac0_device(device, network):\n",
    "    print(\"Get BAC0 device\")\n",
    "    name, vendor, address, device_id = device\n",
    "    return BAC0.device(address, device_id, network, poll=0,\n",
    "    object_list=None)"
   ]
  },
  {
   "cell_type": "code",
   "execution_count": 3,
   "id": "8957e72c-4cea-413a-9a37-ca0069287ba4",
   "metadata": {},
   "outputs": [],
   "source": [
    "def main():\n",
    "    # MQTT Setup\n",
    "    \n",
    "    # Local or azure mqtt broker address\n",
    "    mqttBroker =\"127.0.0.1\"\n",
    "    # username = \"mqtt_username\"\n",
    "    # password = \"mqtt_password\"\n",
    "    port = 1883\n",
    "    cid = str(uuid.uuid4())\n",
    "    client = mqtt.Client(\"Gateway_Device_\" + cid)\n",
    "    # client.username_pw_set(username, password)\n",
    "    \n",
    "    #Connect to MQTT Broker\n",
    "    client.connect(mqttBroker, port)\n",
    "\n",
    "    # BAC0 Setup\n",
    "    bacnet = BAC0.connect()\n",
    "    bacnet.discover()\n",
    "    device = bacnet.devices[0]\n",
    "    bac0_device = get_bac0_device(device, bacnet)\n",
    "    \n",
    "    # Main Loop of sending data\n",
    "    while True:\n",
    "        points = bac0_device.points\n",
    "        blockPrint()\n",
    "        print(points)\n",
    "        enablePrint()\n",
    "        for idx, point in enumerate(points):\n",
    "            msg = str(point.lastValue)\n",
    "            topic = \"{}\".format(point.properties.name)\n",
    "            client.publish(topic, msg)\n",
    "        \n",
    "        # Wait for 4 seconds before sending updated data\n",
    "        time.sleep(4)"
   ]
  },
  {
   "cell_type": "code",
   "execution_count": null,
   "id": "03a3af48-b882-4bca-8472-0eff85824677",
   "metadata": {},
   "outputs": [
    {
     "name": "stdout",
     "output_type": "stream",
     "text": [
      "2023-08-26 01:33:45,021 - INFO    | Starting BAC0 version 23.07.03 (Lite)\n",
      "2023-08-26 01:33:45,025 - INFO    | Use BAC0.log_level to adjust verbosity of the app.\n",
      "2023-08-26 01:33:45,030 - INFO    | Ex. BAC0.log_level('silence') or BAC0.log_level('error')\n",
      "2023-08-26 01:33:45,033 - INFO    | Starting TaskManager\n",
      "2023-08-26 01:33:45,126 - INFO    | Using ip : 192.168.1.2 on port 47808 | broadcast : 192.168.1.255\n",
      "2023-08-26 01:33:45,341 - INFO    | Starting app...\n",
      "2023-08-26 01:33:45,345 - INFO    | BAC0 started\n",
      "2023-08-26 01:33:45,346 - INFO    | Registered as Simple BACnet/IP App\n",
      "2023-08-26 01:33:45,348 - INFO    | Device instance (id) : 3056824\n",
      "2023-08-26 01:33:45,354 - INFO    | Update Local COV Task started (required to support COV)\n",
      "2023-08-26 01:33:49,383 - INFO    | Found those networks : set()\n",
      "2023-08-26 01:33:49,384 - INFO    | No BACnet network found, attempting a simple whois using provided device instances limits (0 - 4194303)\n",
      "Get BAC0 device\n",
      "2023-08-26 01:33:50,422 - INFO    | Changing device state to DeviceDisconnected'>\n",
      "2023-08-26 01:33:51,454 - INFO    | Changing device state to RPMDeviceConnected'>\n",
      "2023-08-26 01:33:52,489 - INFO    | Device 3588107:[RoomController.Simulator] found... building points list\n",
      "2023-08-26 01:33:53,575 - INFO    | Ready!\n"
     ]
    }
   ],
   "source": [
    "if __name__ == \"__main__\":\n",
    "    main()"
   ]
  }
 ],
 "metadata": {
  "kernelspec": {
   "display_name": "Python 3 (ipykernel)",
   "language": "python",
   "name": "python3"
  },
  "language_info": {
   "codemirror_mode": {
    "name": "ipython",
    "version": 3
   },
   "file_extension": ".py",
   "mimetype": "text/x-python",
   "name": "python",
   "nbconvert_exporter": "python",
   "pygments_lexer": "ipython3",
   "version": "3.11.3"
  }
 },
 "nbformat": 4,
 "nbformat_minor": 5
}
