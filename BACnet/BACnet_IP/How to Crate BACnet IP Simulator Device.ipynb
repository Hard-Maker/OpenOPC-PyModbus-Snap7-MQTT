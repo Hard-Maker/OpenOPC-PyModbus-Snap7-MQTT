{
 "cells": [
  {
   "cell_type": "markdown",
   "id": "596675fe-2cab-4982-9ed1-7b22ac027e40",
   "metadata": {},
   "source": [
    "# Import Necessary Functions from Library"
   ]
  },
  {
   "cell_type": "code",
   "execution_count": null,
   "id": "7d57b04f-fe55-4dbd-97da-76cdc398ae39",
   "metadata": {},
   "outputs": [],
   "source": [
    "from time import sleep\n",
    "import random\n",
    "from BAC0.core.devices.local.object import ObjectFactory\n",
    "from bacpypes.object import ScheduleObject\n",
    "from bacpypes.primitivedata import Real\n",
    "from BAC0 import lite, connect\n",
    "from BAC0.core.devices.local.models import (\n",
    "    analog_input,\n",
    "    analog_output,\n",
    "    binary_output,\n",
    "    binary_input,\n",
    ")"
   ]
  },
  {
   "cell_type": "markdown",
   "id": "d08561ae-edb8-4d4d-b58b-54441c4a2b3e",
   "metadata": {},
   "source": [
    "# Fucntion for Defining Objects"
   ]
  },
  {
   "cell_type": "code",
   "execution_count": null,
   "id": "56ae57ba-6ec6-4a95-ba8a-db0cb2cfb29e",
   "metadata": {},
   "outputs": [],
   "source": [
    "# Define device objects\n",
    "def defining_objects(device):\n",
    "    #start from fresh\n",
    "    ObjectFactory.clear_objects()\n",
    "\n",
    "    #content of the object is defined here onwards. \n",
    "\n",
    "    _new_objects = analog_input(\n",
    "    instance=10,\n",
    "    name=\"Frequency\",\n",
    "    properties={\"units\": \"hertz\"},\n",
    "    description=\"Frequency\",\n",
    "    presentValue=18.0,\n",
    "    )\n",
    "    analog_input(\n",
    "        instance=20,\n",
    "        name=\"Barometer\",\n",
    "        properties={\"units\": \"pascals\"},\n",
    "        description=\"Room Pressure\",\n",
    "        presentValue=19.0,\n",
    "    )\n",
    "    analog_input(\n",
    "        instance=10,\n",
    "        name=\"Humidity\",\n",
    "        properties={\"units\": \"degreesCelsius\"}, #no supported units\n",
    "        description=\"Room Humidity\",\n",
    "        presentValue=21,\n",
    "        relinquish_default=21\n",
    "    )\n",
    "    analog_input(\n",
    "        instance=20,\n",
    "        name=\"Temperature\",\n",
    "        properties={\"units\": \"degreesCelsius\"},\n",
    "        description=\"Room Temperature\",\n",
    "        presentValue=20,\n",
    "        relinquish_default=20\n",
    "    )\n",
    "    analog_output(\n",
    "        instance=20,\n",
    "        name=\"Gas resistence\",\n",
    "        properties={\"units\": \"degreesCelsius\"}, #no supported units\n",
    "        description=\"Room two set point\",\n",
    "        presentValue=20,\n",
    "        relinquish_default=20\n",
    "    )\n",
    "    binary_output(\n",
    "        instance=10,\n",
    "        name=\"RoomOneHeatingEnabled\",\n",
    "        description=\"Room one heating enabled\",\n",
    "        presentValue=True,\n",
    "    )\n",
    "    binary_output(\n",
    "        instance=20,\n",
    "        name=\"RoomTwoHeatingEnabled\",\n",
    "        description=\"Room two heating enabled\",\n",
    "        presentValue=True,\n",
    "    )\n",
    "    binary_input(\n",
    "        instance=10,\n",
    "        name=\"RoomOneRadiatorState\",\n",
    "        description=\"Room one radiator on/off\",\n",
    "        presentValue=False,\n",
    "    )\n",
    "    binary_input(\n",
    "        instance=20,\n",
    "        name=\"RoomTwoRadiatorState\",\n",
    "        description=\"Room two radiator on/off\",\n",
    "        presentValue=False,\n",
    "    )\n",
    "\n",
    "    return _new_objects.add_objects_to_application(device)"
   ]
  },
  {
   "cell_type": "markdown",
   "id": "185de399-8fbe-4c4b-a60b-ac7abf50ffad",
   "metadata": {},
   "source": [
    "# Define Device and Assing Object to Device"
   ]
  },
  {
   "cell_type": "code",
   "execution_count": null,
   "id": "cad9aa3b-c48a-48fb-9ea0-a41be9887267",
   "metadata": {},
   "outputs": [],
   "source": [
    "# Define device\n",
    "# device1 = lite(ip='192.168.1.2/24', port='47808', deviceId='1110')\n",
    "device1 = connect(ip='192.168.1.2/24', port='47809', deviceId='1110')\n",
    "\n",
    "# Assign objects to device1\n",
    "defining_objects(device1)"
   ]
  },
  {
   "cell_type": "markdown",
   "id": "58084732-7c29-49a6-bfb3-1e2e29d67598",
   "metadata": {},
   "source": [
    "# Simulate Device Object Present Value"
   ]
  },
  {
   "cell_type": "code",
   "execution_count": null,
   "id": "d717e53e-4071-436f-a932-d7971bdaf3e4",
   "metadata": {
    "scrolled": true
   },
   "outputs": [],
   "source": [
    "while True:\n",
    "\n",
    "    device1[\"Frequency\"].presentValue = random.uniform(5, 100)\n",
    "    device1[\"Temperature\"].presentValue = random.uniform(5, 100)\n",
    "\n",
    "    # logging into console\n",
    "    print(\"Device 1 Frequency  :\", device1[\"Frequency\"].presentValue)\n",
    "    print(\"Device 1 Temparature:\", device1[\"Temperature\"].presentValue)\n",
    "    print(\" \")\n",
    "\n",
    "    # Wait for next iteration in seconds\n",
    "    sleep(2)"
   ]
  }
 ],
 "metadata": {
  "kernelspec": {
   "display_name": "Python 3 (ipykernel)",
   "language": "python",
   "name": "python3"
  },
  "language_info": {
   "codemirror_mode": {
    "name": "ipython",
    "version": 3
   },
   "file_extension": ".py",
   "mimetype": "text/x-python",
   "name": "python",
   "nbconvert_exporter": "python",
   "pygments_lexer": "ipython3",
   "version": "3.11.3"
  }
 },
 "nbformat": 4,
 "nbformat_minor": 5
}
