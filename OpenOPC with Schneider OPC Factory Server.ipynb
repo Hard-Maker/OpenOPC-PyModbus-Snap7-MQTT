{
 "cells": [
  {
   "cell_type": "markdown",
   "id": "suspected-laptop",
   "metadata": {},
   "source": [
    "# Import All Required Libraries "
   ]
  },
  {
   "cell_type": "code",
   "execution_count": 15,
   "id": "alternative-latino",
   "metadata": {},
   "outputs": [],
   "source": [
    "import OpenOPC\n",
    "import pywintypes # To avoid timeout error\n",
    "pywintypes.datetime=pywintypes.TimeType"
   ]
  },
  {
   "cell_type": "markdown",
   "id": "international-burton",
   "metadata": {},
   "source": [
    "# Initiate OPC Client"
   ]
  },
  {
   "cell_type": "code",
   "execution_count": 16,
   "id": "minor-holiday",
   "metadata": {},
   "outputs": [],
   "source": [
    "opc = OpenOPC.client()"
   ]
  },
  {
   "cell_type": "markdown",
   "id": "extensive-moisture",
   "metadata": {},
   "source": [
    "# Search for all available OPC Servers"
   ]
  },
  {
   "cell_type": "code",
   "execution_count": 17,
   "id": "handy-perth",
   "metadata": {},
   "outputs": [
    {
     "name": "stdout",
     "output_type": "stream",
     "text": [
      "['SchneiderElectric.SCADA.OpcDaServer.1', 'Schneider-Aut.OFS.2', 'Matrikon.OPC.Simulation.1']\n"
     ]
    }
   ],
   "source": [
    "servers = opc.servers()\n",
    "print (servers)"
   ]
  },
  {
   "cell_type": "markdown",
   "id": "linear-patio",
   "metadata": {},
   "source": [
    "# Connect with Specific OPC Server"
   ]
  },
  {
   "cell_type": "code",
   "execution_count": 18,
   "id": "thick-austria",
   "metadata": {},
   "outputs": [],
   "source": [
    "opc.connect('Schneider-Aut.OFS.2')"
   ]
  },
  {
   "cell_type": "markdown",
   "id": "bibliographic-sheep",
   "metadata": {},
   "source": [
    "# Get list of available aliases"
   ]
  },
  {
   "cell_type": "code",
   "execution_count": 19,
   "id": "composite-lancaster",
   "metadata": {},
   "outputs": [
    {
     "name": "stdout",
     "output_type": "stream",
     "text": [
      "['<<system>>', 'PLC']\n"
     ]
    }
   ],
   "source": [
    "aliases = opc.list()\n",
    "print (aliases)"
   ]
  },
  {
   "cell_type": "markdown",
   "id": "numerous-paradise",
   "metadata": {},
   "source": [
    "# Get list of available groups in specific alias"
   ]
  },
  {
   "cell_type": "code",
   "execution_count": 20,
   "id": "central-preview",
   "metadata": {},
   "outputs": [
    {
     "name": "stdout",
     "output_type": "stream",
     "text": [
      "['#Specific', 'UF_ABFV_2131A', 'UF_ABFV_2131B', 'RO_TUT_2102', 'UF_FIT_2103A', 'UF_FIT_2103B', 'RO_ABFV_2112A', 'UF_FIT_2103C', 'RO_ABFV_2112B', 'RO_LS_2105', 'RO_LS_2106', 'RO_LS_2107', 'RO_FIT_2104', 'RO_FIT_2106', 'RO_FIT_2107', 'RO_FIT_2108', 'RO_FIT_2109', 'UF_PIT_2109A', 'UF_PIT_2109B', 'UF_PH_2101', 'RO_P_2107A', 'RO_ABV_30', 'RO_P_2107B', 'UF_AB_2101A', 'HPRO_LT_2107', 'UF_AB_2101B', 'RO_LS_2113', 'RO_FIT_2110', 'HPRO_AG_2106', 'HPRO_PSH_2102A', 'HPRO_AG_2107', 'HPRO_PSH_2102B', 'HPRO_AG_2108', 'RO_AGLV_2101', 'UF_P_2101A', 'UF_P_2101B', 'UF_P_2101C', 'UF_P_2101D', 'HPRO_PH_2104', 'HPRO_PH_2105', 'RO_P_2108A', 'RO_ABV_40', 'RO_P_2108B', 'UF_ABFV_2133A', 'UF_ABFV_2133B', 'UF_ABFV_2133C', 'RO_ABFV_2113', 'RO_ABFV_2114A', 'RO_ABFV_2114B', 'RO_ABFV_2117', 'RO_ABFV_2114C', 'RO_ABFV_2114D', 'HPRO_ORP_2102', 'UF_P_2102A', 'UF_P_2102B', 'RC3_SEQ', 'HPRO_DP_4001A', 'UF_DP_2101A', 'HPRO_DP_4001B', 'UF_DP_2101B', 'HPRO_DP_4001C', 'RO_P_3004A', 'RO_P_3004B', 'RO_AV_21', 'RO_P_3004C', 'RO_AV_22', 'RO_AV_23', 'RO_ABFV_2118A1', 'RO_AV_24', 'RO_AV_25', 'UF_ABFV_2102A', 'RO_AV_26', 'UF_ABFV_2102B', 'HPRO_ABFV_2123A', 'RO_AV_27', 'UF_ABFV_2102C', 'HPRO_ABFV_2123B', 'RO_AV_28', 'UF_ABFV_2102D', 'RO_AV_29', 'HPRO_LS_2108', 'HPRO_LS_2109', 'R5_S0_ECRA', 'RO_ABFV_2115A', 'RO_AC_3001A', 'HPRO_PIT_2111', 'RO_ABFV_2115B', 'RO_AC_3001B', 'HPRO_PIT_2112', 'HPRO_PIT_2113', 'HPRO_PIT_2114', 'UF_P_2103A', 'RO_PIT_2110A', 'UF_P_2103B', 'RO_PIT_2110B', 'UF_DP_2102A', 'UF_DP_2102B', 'RO_P_2112A', 'RO_P_2112B', 'RO_P_3005A', 'RO_P_3005B', 'HPRO_LS_2110', 'RO_P_3005C', 'HPRO_LS_2111', 'RO_AV_33', 'RO_ABFV_2118B1', 'RO_AV_34', 'RO_AV_35', 'UF_ABFV_2103A', 'RO_AV_36', 'UF_ABFV_2103B', 'HPRO_ABFV_2124A', 'RO_AV_37', 'UF_ABFV_2103C', 'HPRO_ABFV_2124B', 'RO_AV_38', 'RO_AV_39', 'RO_ABFV_2116A', 'RO_CB_2101A', 'RO_ABFV_2116B', 'RO_CB_2101B', 'UF_PIT_2115A', 'UF_PIT_2115B', 'UF_PIT_2115C', 'HPRO_DP_2105A', 'UF_DP_2103A', 'HPRO_EMFM_107', 'HPRO_DP_2105B', 'UF_DP_2103B', 'HPRO_EMFM_108', 'RO_PIT_2109A', 'RO_PIT_2109B', 'HPRO_TUT_2103', 'RO_AV_41', 'RO_AV_42', 'RO_AV_25A', 'UF_ABFV_2104A', 'HPRO_ABFV_2125', 'UF_ABFV_2104B', 'UF_ABFV_2104C', 'HPRO_ABFV_2127', 'HPRO_ABFV_2125B', 'UF_AG_2101', 'UF_DPS_2101A', 'UF_AG_2102', 'UF_DPS_2101B', 'UF_PIT_2101A', 'UF_PIT_2101B', 'UF_PIT_2101C', 'HPRO_P_4002A', 'RC2_SEQ', 'RO_PIT_2104', 'HPRO_ABV_2110', 'RO_PIT_2105', 'RO_ORP_2101', 'HPRO_ABV_2111', 'HPRO_DP_2106A', 'HPRO_ABV_2112', 'RO_PIT_2107', 'HPRO_DP_2106B', 'HPRO_ABV_2113', 'RO_PIT_2108', 'HPRO_ABV_2114', 'HPRO_ABV_2115', 'RO_AV_11A', 'HPRO_ABV_2116', 'RO_AV_11B', 'R2_S0_ECRA', 'UF_ABFV_2105A', 'UF_ABFV_2105B', 'HPRO_ABFV_2126A', 'UF_ABFV_2105C', 'HPRO_ABFV_2126B', 'RO_ABFV_2120A', 'RO_LT_2102', 'RO_ABFV_2120B', 'RO_LT_2103', 'RO_LT_2104', 'RO_ABFV_2118A', 'RO_FIT_2105A', 'UF_PIT_2102A', 'RO_ABFV_2118B', 'RO_FIT_2105B', 'UF_PIT_2102B', 'RO_ABFV_2118C', 'UF_PIT_2102C', 'HPRO_P_4003A', 'RO_PIT_2111', 'RO_PIT_2112', 'RO_PIT_2113', 'RO_PIT_2114', 'RO_PIT_2115', 'RO_PIT_2116', 'HPRO_DP_2107A', 'RO_ACB_1', 'RO_PIT_2117', 'HPRO_DP_2107B', 'RO_ACB_2', 'RO_PIT_2118', 'RO_ACB_3', 'RO_ACB_4', 'RO_AV_12A', 'RO_ACB_5', 'UF_TUT_2101', 'RO_AV_12B', 'RO_DP_2104A', 'HPRO_ABV_2127', 'RO_PH_2102', 'RO_DP_2104B', 'RO_ABV_2101A', 'RO_PH_2103', 'UF_TUT_2104', 'UF_LS_2102', 'RO_ABV_2101B', 'UF_LS_2103', 'UF_LS_2104', 'UF_ABFV_2106A', 'UF_ABFV_2106B', 'UF_ABFV_2106C', 'RO_ABFV_2121A', 'RO_ABFV_2121B', 'RO_ABFV_2119A', 'RO_ABFV_2119B', 'HPRO_PT_101', 'HPRO_PT_102', 'Air_Scour_SEQ', 'HPRO_PT_103', 'RO_2101_RO_2102_SEQ', 'HPRO_PT_104', 'HPRO_PT_105', 'RO_EMFM_101', 'RO_EMFM_102', 'RO_EMFM_103', 'NC_SEQ', 'RO_EMFM_104', 'RO_EMFM_105', 'RO_EMFM_106', 'HPRO_CIT_2111', 'HPRO_CIT_2112', 'RO_ABV_2102', 'HPRO_CIT_2113', 'RO_ABV_2103', 'UF_LS_2112', 'RO_ABV_2104', 'R1_S0_ECRA', 'RO_ABV_2106', 'RO_ABV_2107', 'UF_ABFV_2107A', 'RO_ABV_2108', 'UF_ABFV_2107B', 'HPRO_ABFV_2128A', 'RO_ABV_2109', 'UF_ABFV_2107C', 'HPRO_ABFV_2128B', 'HPRO_ABFV_2128C', 'RO_ABFV_2122A', 'RO_ABFV_2122B', 'RC1_SEQ', 'HPRO_AV_70', 'HPRO_AV_71', 'HPRO_AV_72', 'HPRO_AV_73', 'HPRO_AV_74', 'HPRO_AV_76', 'HPRO_AV_77', 'UF_CIT_2101', 'RO_ABV_2117', 'UF_ABFV_2108A', 'UF_ABFV_2108B', 'HPRO_ABFV_2129A', 'UF_ABFV_2108C', 'HPRO_ABFV_2129B', 'HPRO_PSL_2102A', 'HPRO_P_2110A', 'HPRO_PSL_2102B', 'HPRO_P_2110B', 'R4_S0_ECRA', 'RO_CIT_2102', 'UF_ABFV_2109A', 'UF_ABFV_2109B', 'RO_CIT_2104', 'UF_ABFV_2109C', 'RO_CIT_2105', 'RO_CIT_2106A', 'RO_CIT_2106B', 'RO_CIT_2108', 'HPRO_P_2111A', 'HPRO_P_2111B', 'RO_PIT_2102A', 'RO_PIT_2102B', 'HPRO_P_2109A', 'HPRO_P_2109B', 'RO_P_2104A', 'RO_P_2104B', 'RO_DP_2108A', 'RO_DP_2108B', 'UF_FIT_2101A', 'UF_FIT_2101B', 'RO_CIT_2110', 'UF_FIT_2101C', 'RO_ABFV_2125A', 'RO_CIT_2107A', 'RO_CIT_2107B', 'MC3_SEQ', 'RO_AG_2103', 'RO_AG_2104', 'RO_AG_2105', 'RO_PSH_2101A', 'RO_PSH_2101B', 'UF_P_2113A', 'RO_PSH_2101C', 'UF_P_2113B', 'RO_PSL_2101A', 'RO_PIT_2103A', 'RO_PSL_2101B', 'RO_PIT_2103B', 'RO_PSL_2101C', 'RO_PSL_2101D', 'RO_PSL_2101E', 'RO_P_2105A', 'RO_P_2105B', 'MC1_2_SEQ', 'UF_ABFV_2130A', 'UF_ABFV_2130B', 'RO_DP_2109A', 'R3_S0_ECRA', 'RO_DP_2109B', 'UF_ABFV_2125', 'UF_FIT_2102A', 'UF_FIT_2102B', 'RO_ABFV_2111A', 'UF_FIT_2102C', 'RO_ABFV_2111B', 'HPRO_2103_SEQ', 'HPRO_AGLV_2114', 'UF_PIT_2110A', 'UF_PIT_2110B', 'RO_P_2106A', 'RO_ABV_20', 'RO_P_2106B', 'UF_LT_2101', 'RO_AV_35A']\n"
     ]
    }
   ],
   "source": [
    "groups = opc.list('PLC')\n",
    "print(groups)"
   ]
  },
  {
   "cell_type": "markdown",
   "id": "positive-drill",
   "metadata": {},
   "source": [
    "# Get list of avaible tags in specfic group"
   ]
  },
  {
   "cell_type": "code",
   "execution_count": 22,
   "id": "present-representative",
   "metadata": {},
   "outputs": [
    {
     "name": "stdout",
     "output_type": "stream",
     "text": [
      "['PLC!UF_ABFV_2131A.OpenFB', 'PLC!UF_ABFV_2131A.CloseFB', 'PLC!UF_ABFV_2131A.OpenCMD', 'PLC!UF_ABFV_2131A.AMSelection', 'PLC!UF_ABFV_2131A.ManualOpenCMD', 'PLC!UF_ABFV_2131A.ManualCloseCMD', 'PLC!UF_ABFV_2131A.FaultReset', 'PLC!UF_ABFV_2131A.FBFault', 'PLC!UF_ABFV_2131A.FaultTimer', 'PLC!UF_ABFV_2131A.SimEN']\n"
     ]
    }
   ],
   "source": [
    "tags = opc.list('PLC.UF_ABFV_2131A.*')\n",
    "print(tags)"
   ]
  },
  {
   "cell_type": "markdown",
   "id": "regular-cancer",
   "metadata": {},
   "source": [
    "# Reading Tag Values"
   ]
  },
  {
   "cell_type": "code",
   "execution_count": 24,
   "id": "royal-times",
   "metadata": {},
   "outputs": [
    {
     "data": {
      "text/plain": [
       "(False, 'Good', '2021-01-20 10:16:38.928000+00:00')"
      ]
     },
     "execution_count": 24,
     "metadata": {},
     "output_type": "execute_result"
    }
   ],
   "source": [
    "opc.read('PLC!UF_ABFV_2131A.OpenFB')"
   ]
  },
  {
   "cell_type": "markdown",
   "id": "accompanied-pastor",
   "metadata": {},
   "source": [
    "# Reading all values of Specific group"
   ]
  },
  {
   "cell_type": "code",
   "execution_count": 26,
   "id": "coated-tribe",
   "metadata": {},
   "outputs": [
    {
     "data": {
      "text/plain": [
       "[('PLC!UF_ABFV_2131A.OpenFB',\n",
       "  False,\n",
       "  'Good',\n",
       "  '2021-01-20 10:18:13.784000+00:00'),\n",
       " ('PLC!UF_ABFV_2131A.CloseFB',\n",
       "  False,\n",
       "  'Good',\n",
       "  '2021-01-20 10:18:13.784000+00:00'),\n",
       " ('PLC!UF_ABFV_2131A.OpenCMD',\n",
       "  False,\n",
       "  'Good',\n",
       "  '2021-01-20 10:18:13.784000+00:00'),\n",
       " ('PLC!UF_ABFV_2131A.AMSelection',\n",
       "  False,\n",
       "  'Good',\n",
       "  '2021-01-20 10:18:13.784000+00:00'),\n",
       " ('PLC!UF_ABFV_2131A.ManualOpenCMD',\n",
       "  False,\n",
       "  'Good',\n",
       "  '2021-01-20 10:18:13.784000+00:00'),\n",
       " ('PLC!UF_ABFV_2131A.ManualCloseCMD',\n",
       "  False,\n",
       "  'Good',\n",
       "  '2021-01-20 10:18:13.784000+00:00'),\n",
       " ('PLC!UF_ABFV_2131A.FaultReset',\n",
       "  False,\n",
       "  'Good',\n",
       "  '2021-01-20 10:18:13.784000+00:00'),\n",
       " ('PLC!UF_ABFV_2131A.FBFault',\n",
       "  False,\n",
       "  'Good',\n",
       "  '2021-01-20 10:18:13.784000+00:00'),\n",
       " ('PLC!UF_ABFV_2131A.FaultTimer',\n",
       "  0,\n",
       "  'Good',\n",
       "  '2021-01-20 10:18:13.784000+00:00'),\n",
       " ('PLC!UF_ABFV_2131A.SimEN',\n",
       "  False,\n",
       "  'Good',\n",
       "  '2021-01-20 10:18:13.784000+00:00')]"
      ]
     },
     "execution_count": 26,
     "metadata": {},
     "output_type": "execute_result"
    }
   ],
   "source": [
    "opc.read(opc.list('PLC.UF_ABFV_2131A.*'))"
   ]
  },
  {
   "cell_type": "code",
   "execution_count": 34,
   "id": "mysterious-drive",
   "metadata": {},
   "outputs": [
    {
     "name": "stdout",
     "output_type": "stream",
     "text": [
      "PLC!UF_ABFV_2131A.OpenFB : False\n",
      "PLC!UF_ABFV_2131A.CloseFB : False\n",
      "PLC!UF_ABFV_2131A.OpenCMD : False\n",
      "PLC!UF_ABFV_2131A.AMSelection : True\n",
      "PLC!UF_ABFV_2131A.ManualOpenCMD : False\n",
      "PLC!UF_ABFV_2131A.ManualCloseCMD : False\n",
      "PLC!UF_ABFV_2131A.FaultReset : False\n",
      "PLC!UF_ABFV_2131A.FBFault : False\n",
      "PLC!UF_ABFV_2131A.FaultTimer : 10\n",
      "PLC!UF_ABFV_2131A.SimEN : False\n"
     ]
    }
   ],
   "source": [
    "for name, value, quality, time in opc.iread(opc.list('PLC.UF_ABFV_2131A.*')):\n",
    "    print (name + \" : \" + str(value))"
   ]
  },
  {
   "cell_type": "code",
   "execution_count": 14,
   "id": "owned-shipping",
   "metadata": {},
   "outputs": [],
   "source": [
    "opc.close()"
   ]
  },
  {
   "cell_type": "code",
   "execution_count": null,
   "id": "economic-rwanda",
   "metadata": {},
   "outputs": [],
   "source": []
  }
 ],
 "metadata": {
  "kernelspec": {
   "display_name": "Python 3",
   "language": "python",
   "name": "python3"
  },
  "language_info": {
   "codemirror_mode": {
    "name": "ipython",
    "version": 3
   },
   "file_extension": ".py",
   "mimetype": "text/x-python",
   "name": "python",
   "nbconvert_exporter": "python",
   "pygments_lexer": "ipython3",
   "version": "3.6.8"
  }
 },
 "nbformat": 4,
 "nbformat_minor": 5
}
