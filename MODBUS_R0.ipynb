{
 "cells": [
  {
   "cell_type": "markdown",
   "id": "streaming-stomach",
   "metadata": {},
   "source": [
    "# Import Library"
   ]
  },
  {
   "cell_type": "code",
   "execution_count": 1,
   "id": "bizarre-flash",
   "metadata": {},
   "outputs": [],
   "source": [
    "import configparser\n",
    "import pandas as pd\n",
    "from pymodbus.constants import Endian\n",
    "from pymodbus.payload import BinaryPayloadDecoder\n",
    "from pymodbus.payload import BinaryPayloadBuilder\n",
    "from pymodbus.client.sync import ModbusTcpClient\n"
   ]
  },
  {
   "cell_type": "code",
   "execution_count": 2,
   "id": "mounted-mystery",
   "metadata": {},
   "outputs": [],
   "source": [
    "Variable_Config_csv_Path = \"VaribaleConfig.csv\"\n",
    "df = pd.read_csv(Variable_Config_csv_Path)\n",
    "Server_Config_Path = \"ServerConfig.ini\""
   ]
  },
  {
   "cell_type": "markdown",
   "id": "chronic-stuff",
   "metadata": {},
   "source": [
    "# Fetch IP Address and Port From Server Config File"
   ]
  },
  {
   "cell_type": "code",
   "execution_count": 3,
   "id": "medium-compound",
   "metadata": {},
   "outputs": [
    {
     "name": "stdout",
     "output_type": "stream",
     "text": [
      "IP Address : 127.0.0.1\n",
      "Port Number : 502\n"
     ]
    }
   ],
   "source": [
    "server_config_object = configparser.ConfigParser()\n",
    "server_config_object.read(Server_Config_Path)\n",
    "serverinfo = server_config_object[\"SERVERCONFIG\"]\n",
    "IP_Address = serverinfo[\"IP\"]\n",
    "Port_Address = serverinfo[\"port\"]\n",
    "print (\"IP Address : \" + IP_Address)\n",
    "print(\"Port Number : \" + Port_Address)"
   ]
  },
  {
   "cell_type": "markdown",
   "id": "acute-fiction",
   "metadata": {},
   "source": [
    "# Connect with Modbus TCP"
   ]
  },
  {
   "cell_type": "code",
   "execution_count": 4,
   "id": "brief-purpose",
   "metadata": {},
   "outputs": [],
   "source": [
    "client = ModbusTcpClient(IP_Address)"
   ]
  },
  {
   "cell_type": "markdown",
   "id": "configured-pottery",
   "metadata": {},
   "source": [
    "## Go to each section and read device address and read that address on modbus"
   ]
  },
  {
   "cell_type": "code",
   "execution_count": 5,
   "id": "white-disney",
   "metadata": {},
   "outputs": [
    {
     "name": "stdout",
     "output_type": "stream",
     "text": [
      "read_holding_registers: 15\n",
      "read_holding_registers: -15\n",
      "read_holding_registers: 30\n",
      "read_holding_registers: -25\n",
      "read_holding_registers: -46\n",
      "read_holding_registers: 25.5\n",
      "read_holding_registers: -255.0\n",
      "read_holding_registers: -330.0\n",
      "read_holding_registers: 660.0\n",
      "read_holding_registers: 525.5\n",
      "read_holding_registers: -60000\n",
      "read_holding_registers: -50000\n",
      "read_holding_registers: 100000\n",
      "read_holding_registers: -120000\n",
      "read_holding_registers: 0\n"
     ]
    }
   ],
   "source": [
    "for i in range(0,len(df)):\n",
    "\n",
    "    datatype = df[\"Data_Type\"][i]\n",
    "    if datatype == \"INT\" :\n",
    "        value = client.read_holding_registers(int(df[\"Device_Address\"][i]))\n",
    "        decoder = BinaryPayloadDecoder.fromRegisters(value.registers,Endian.Big, wordorder=Endian.Little)\n",
    "        print (\"read_holding_registers: \" + str(decoder.decode_16bit_int()))\n",
    "        \n",
    "    elif datatype == \"REAL\":\n",
    "        value = client.read_holding_registers(int(df[\"Device_Address\"][i]),2)\n",
    "        decoder = BinaryPayloadDecoder.fromRegisters(value.registers,Endian.Big, wordorder=Endian.Little)\n",
    "        print (\"read_holding_registers: \" + str(decoder.decode_32bit_float()))\n",
    "        \n",
    "        \n",
    "    elif datatype == \"DINT\":\n",
    "        value = client.read_holding_registers(int(df[\"Device_Address\"][i]),2)\n",
    "        decoder = BinaryPayloadDecoder.fromRegisters(value.registers,Endian.Big, wordorder=Endian.Little)\n",
    "        print (\"read_holding_registers: \" + str(decoder.decode_32bit_int()))"
   ]
  },
  {
   "cell_type": "code",
   "execution_count": null,
   "id": "absent-spice",
   "metadata": {},
   "outputs": [],
   "source": []
  }
 ],
 "metadata": {
  "kernelspec": {
   "display_name": "Python 3",
   "language": "python",
   "name": "python3"
  },
  "language_info": {
   "codemirror_mode": {
    "name": "ipython",
    "version": 3
   },
   "file_extension": ".py",
   "mimetype": "text/x-python",
   "name": "python",
   "nbconvert_exporter": "python",
   "pygments_lexer": "ipython3",
   "version": "3.6.8"
  }
 },
 "nbformat": 4,
 "nbformat_minor": 5
}
