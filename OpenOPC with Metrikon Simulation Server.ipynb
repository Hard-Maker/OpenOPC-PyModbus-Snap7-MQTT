{
 "cells": [
  {
   "cell_type": "markdown",
   "id": "suspected-laptop",
   "metadata": {},
   "source": [
    "# Import All Required Libraries "
   ]
  },
  {
   "cell_type": "code",
   "execution_count": 18,
   "id": "alternative-latino",
   "metadata": {},
   "outputs": [],
   "source": [
    "import OpenOPC\n",
    "import pywintypes # To avoid timeout error\n",
    "pywintypes.datetime=pywintypes.TimeType"
   ]
  },
  {
   "cell_type": "markdown",
   "id": "international-burton",
   "metadata": {},
   "source": [
    "# Initiate OPC Client"
   ]
  },
  {
   "cell_type": "code",
   "execution_count": 19,
   "id": "minor-holiday",
   "metadata": {},
   "outputs": [],
   "source": [
    "opc = OpenOPC.client()"
   ]
  },
  {
   "cell_type": "markdown",
   "id": "extensive-moisture",
   "metadata": {},
   "source": [
    "# Search for all available OPC Servers"
   ]
  },
  {
   "cell_type": "code",
   "execution_count": 20,
   "id": "handy-perth",
   "metadata": {},
   "outputs": [
    {
     "name": "stdout",
     "output_type": "stream",
     "text": [
      "['SchneiderElectric.SCADA.OpcDaServer.1', 'Schneider-Aut.OFS.2', 'Matrikon.OPC.Simulation.1']\n"
     ]
    }
   ],
   "source": [
    "servers = opc.servers()\n",
    "print (servers)"
   ]
  },
  {
   "cell_type": "markdown",
   "id": "linear-patio",
   "metadata": {},
   "source": [
    "# Connect with Specific OPC Server"
   ]
  },
  {
   "cell_type": "code",
   "execution_count": 23,
   "id": "thick-austria",
   "metadata": {},
   "outputs": [],
   "source": [
    "opc.connect('Matrikon.OPC.Simulation.1')"
   ]
  },
  {
   "cell_type": "markdown",
   "id": "bibliographic-sheep",
   "metadata": {},
   "source": [
    "# Get list of available aliases"
   ]
  },
  {
   "cell_type": "code",
   "execution_count": 24,
   "id": "composite-lancaster",
   "metadata": {},
   "outputs": [
    {
     "name": "stdout",
     "output_type": "stream",
     "text": [
      "['Simulation Items', 'Configured Aliases']\n"
     ]
    }
   ],
   "source": [
    "aliases = opc.list()\n",
    "print (aliases)"
   ]
  },
  {
   "cell_type": "markdown",
   "id": "numerous-paradise",
   "metadata": {},
   "source": [
    "# Get list of available groups in specific alias"
   ]
  },
  {
   "cell_type": "code",
   "execution_count": 25,
   "id": "central-preview",
   "metadata": {},
   "outputs": [
    {
     "name": "stdout",
     "output_type": "stream",
     "text": [
      "['Bucket Brigade', 'Random', 'Read Error', 'Saw-toothed Waves', 'Square Waves', 'Triangle Waves', 'Write Error', 'Write Only']\n"
     ]
    }
   ],
   "source": [
    "groups = opc.list('Simulation Items')\n",
    "print(groups)"
   ]
  },
  {
   "cell_type": "markdown",
   "id": "positive-drill",
   "metadata": {},
   "source": [
    "# Get list of avaible tags in specfic group"
   ]
  },
  {
   "cell_type": "code",
   "execution_count": 26,
   "id": "present-representative",
   "metadata": {},
   "outputs": [
    {
     "name": "stdout",
     "output_type": "stream",
     "text": [
      "['Random.ArrayOfReal8', 'Random.ArrayOfString', 'Random.Boolean', 'Random.Int1', 'Random.Int2', 'Random.Int4', 'Random.Money', 'Random.Qualities', 'Random.Real4', 'Random.Real8', 'Random.String', 'Random.Time', 'Random.UInt1', 'Random.UInt2', 'Random.UInt4']\n"
     ]
    }
   ],
   "source": [
    "tags = opc.list('Simulation Items.Random.*')\n",
    "print(tags)"
   ]
  },
  {
   "cell_type": "markdown",
   "id": "regular-cancer",
   "metadata": {},
   "source": [
    "# Reading Tag Values"
   ]
  },
  {
   "cell_type": "code",
   "execution_count": 27,
   "id": "royal-times",
   "metadata": {},
   "outputs": [
    {
     "data": {
      "text/plain": [
       "((7643.83446126,\n",
       "  15842.38941621,\n",
       "  12425.43342753,\n",
       "  1807.2987250800002,\n",
       "  9998.72228709,\n",
       "  6429.96950583),\n",
       " 'Good',\n",
       " '2021-01-20 10:04:05.525000+00:00')"
      ]
     },
     "execution_count": 27,
     "metadata": {},
     "output_type": "execute_result"
    }
   ],
   "source": [
    "opc.read('Random.ArrayOfReal8')"
   ]
  },
  {
   "cell_type": "markdown",
   "id": "accompanied-pastor",
   "metadata": {},
   "source": [
    "# Reading all values of Specific group"
   ]
  },
  {
   "cell_type": "code",
   "execution_count": 28,
   "id": "coated-tribe",
   "metadata": {},
   "outputs": [
    {
     "data": {
      "text/plain": [
       "[('Random.ArrayOfReal8',\n",
       "  (10164.272480340001,),\n",
       "  'Good',\n",
       "  '2021-01-20 10:04:05.884000+00:00'),\n",
       " ('Random.ArrayOfString',\n",
       "  ('and',),\n",
       "  'Good',\n",
       "  '2021-01-20 10:04:05.884000+00:00'),\n",
       " ('Random.Boolean', False, 'Good', '2021-01-20 10:04:05.884000+00:00'),\n",
       " ('Random.Int1', 19, 'Good', '2021-01-20 10:04:05.884000+00:00'),\n",
       " ('Random.Int2', 7376, 'Good', '2021-01-20 10:04:05.884000+00:00'),\n",
       " ('Random.Int4', 13931, 'Good', '2021-01-20 10:04:05.884000+00:00'),\n",
       " ('Random.Money',\n",
       "  Decimal('26308'),\n",
       "  'Good',\n",
       "  '2021-01-20 10:04:05.884000+00:00'),\n",
       " ('Random.Qualities', 5, 'Bad', '2021-01-20 10:04:05.884000+00:00'),\n",
       " ('Random.Real4', 13846.63671875, 'Good', '2021-01-20 10:04:05.884000+00:00'),\n",
       " ('Random.Real8', 16523.94682719, 'Good', '2021-01-20 10:04:05.884000+00:00'),\n",
       " ('Random.String', 'your', 'Good', '2021-01-20 10:04:05.884000+00:00'),\n",
       " ('Random.Time',\n",
       "  '2021-01-20 18:04:05+00:00',\n",
       "  'Good',\n",
       "  '2021-01-20 10:04:05.884000+00:00'),\n",
       " ('Random.UInt1', 192, 'Good', '2021-01-20 10:04:05.884000+00:00'),\n",
       " ('Random.UInt2', 11323, 'Good', '2021-01-20 10:04:05.884000+00:00'),\n",
       " ('Random.UInt4', 5537.0, 'Good', '2021-01-20 10:04:05.884000+00:00')]"
      ]
     },
     "execution_count": 28,
     "metadata": {},
     "output_type": "execute_result"
    }
   ],
   "source": [
    "opc.read(opc.list('Simulation Items.Random.*'))\n",
    "# ['Random.ArrayOfReal8',\n",
    "#  'Random.ArrayOfString',\n",
    "#  'Random.Boolean',\n",
    "#  'Random.Int1',\n",
    "#  'Random.Int2',\n",
    "#  'Random.Int4',\n",
    "#  'Random.Money',\n",
    "#  'Random.Qualities',\n",
    "#  'Random.Real4',\n",
    "#  'Random.Real8',\n",
    "#  'Random.String',\n",
    "#  'Random.Time',\n",
    "#  'Random.UInt1',\n",
    "#  'Random.UInt2',\n",
    "#  'Random.UInt4']"
   ]
  },
  {
   "cell_type": "code",
   "execution_count": 29,
   "id": "decent-circuit",
   "metadata": {},
   "outputs": [
    {
     "name": "stdout",
     "output_type": "stream",
     "text": [
      "Random.ArrayOfReal8 (8210.27081478, 1060.54000722)\n",
      "Random.ArrayOfString ('servers', 'connect', 'you', 'to', 'a', 'world', 'of')\n",
      "Random.Boolean True\n",
      "Random.Int1 19\n",
      "Random.Int2 31115\n",
      "Random.Int4 4639\n",
      "Random.Money 29658\n",
      "Random.Qualities 6\n",
      "Random.Real4 18553.708984375\n",
      "Random.Real8 5058.1951353\n",
      "Random.String process,\n",
      "Random.Time 2021-01-20 18:04:06+00:00\n",
      "Random.UInt1 109\n",
      "Random.UInt2 2306\n",
      "Random.UInt4 31673.0\n"
     ]
    }
   ],
   "source": [
    "for name, value, quality, time in opc.iread(opc.list('Simulation Items.Random.*')):\n",
    "    print (name,value)"
   ]
  },
  {
   "cell_type": "code",
   "execution_count": 30,
   "id": "mysterious-drive",
   "metadata": {},
   "outputs": [
    {
     "name": "stdout",
     "output_type": "stream",
     "text": [
      "Triangle Waves.Int1 2\n",
      "Triangle Waves.Int2 4\n",
      "Triangle Waves.Int4 24690\n",
      "Triangle Waves.Money 2500000\n",
      "Triangle Waves.Real4 5.079999923706055\n",
      "Triangle Waves.Real8 6.28318536904\n",
      "Triangle Waves.UInt1 2\n",
      "Triangle Waves.UInt2 4\n",
      "Triangle Waves.UInt4 19752.0\n"
     ]
    }
   ],
   "source": [
    "for name, value, quality, time in opc.iread(opc.list('Simulation Items.Triangle Waves.*')):\n",
    "    print (name, value)"
   ]
  },
  {
   "cell_type": "code",
   "execution_count": 31,
   "id": "owned-shipping",
   "metadata": {},
   "outputs": [],
   "source": [
    "opc.close()"
   ]
  }
 ],
 "metadata": {
  "kernelspec": {
   "display_name": "Python 3",
   "language": "python",
   "name": "python3"
  },
  "language_info": {
   "codemirror_mode": {
    "name": "ipython",
    "version": 3
   },
   "file_extension": ".py",
   "mimetype": "text/x-python",
   "name": "python",
   "nbconvert_exporter": "python",
   "pygments_lexer": "ipython3",
   "version": "3.6.8"
  }
 },
 "nbformat": 4,
 "nbformat_minor": 5
}
