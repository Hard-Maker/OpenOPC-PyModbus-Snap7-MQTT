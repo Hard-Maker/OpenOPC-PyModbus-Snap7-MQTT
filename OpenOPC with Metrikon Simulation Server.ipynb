{
 "cells": [
  {
   "cell_type": "markdown",
   "id": "amazing-ratio",
   "metadata": {},
   "source": [
    "# Import All Required Libraries "
   ]
  },
  {
   "cell_type": "code",
   "execution_count": 17,
   "id": "behind-segment",
   "metadata": {},
   "outputs": [],
   "source": [
    "import OpenOPC\n",
    "import pywintypes\n",
    "pywintypes.datetime=pywintypes.TimeType"
   ]
  },
  {
   "cell_type": "markdown",
   "id": "professional-pension",
   "metadata": {},
   "source": [
    "# Initiate OPC Client"
   ]
  },
  {
   "cell_type": "code",
   "execution_count": 23,
   "id": "individual-growth",
   "metadata": {},
   "outputs": [],
   "source": [
    "opc = OpenOPC.client()"
   ]
  },
  {
   "cell_type": "markdown",
   "id": "australian-wrist",
   "metadata": {},
   "source": [
    "# Search for all available OPC Servers"
   ]
  },
  {
   "cell_type": "code",
   "execution_count": 24,
   "id": "timely-ghana",
   "metadata": {},
   "outputs": [
    {
     "data": {
      "text/plain": [
       "['SchneiderElectric.SCADA.OpcDaServer.1',\n",
       " 'Schneider-Aut.OFS.2',\n",
       " 'Matrikon.OPC.Simulation.1']"
      ]
     },
     "execution_count": 24,
     "metadata": {},
     "output_type": "execute_result"
    }
   ],
   "source": [
    "opc.servers()"
   ]
  },
  {
   "cell_type": "markdown",
   "id": "southern-rugby",
   "metadata": {},
   "source": [
    "# Connect with Specific OPC Server"
   ]
  },
  {
   "cell_type": "code",
   "execution_count": 25,
   "id": "interracial-cherry",
   "metadata": {},
   "outputs": [],
   "source": [
    "opc.connect(\"Matrikon.OPC.Simulation.1\")"
   ]
  },
  {
   "cell_type": "markdown",
   "id": "proved-douglas",
   "metadata": {},
   "source": [
    "# Get list of available aliases"
   ]
  },
  {
   "cell_type": "code",
   "execution_count": 26,
   "id": "essential-mouse",
   "metadata": {},
   "outputs": [
    {
     "data": {
      "text/plain": [
       "['Simulation Items', 'Configured Aliases']"
      ]
     },
     "execution_count": 26,
     "metadata": {},
     "output_type": "execute_result"
    }
   ],
   "source": [
    "opc.list()"
   ]
  },
  {
   "cell_type": "markdown",
   "id": "entitled-honolulu",
   "metadata": {},
   "source": [
    "# Get list of available groups in specific alias"
   ]
  },
  {
   "cell_type": "code",
   "execution_count": 27,
   "id": "contrary-plaza",
   "metadata": {},
   "outputs": [
    {
     "data": {
      "text/plain": [
       "['Bucket Brigade',\n",
       " 'Random',\n",
       " 'Read Error',\n",
       " 'Saw-toothed Waves',\n",
       " 'Square Waves',\n",
       " 'Triangle Waves',\n",
       " 'Write Error',\n",
       " 'Write Only']"
      ]
     },
     "execution_count": 27,
     "metadata": {},
     "output_type": "execute_result"
    }
   ],
   "source": [
    "opc.list('Simulation Items')"
   ]
  },
  {
   "cell_type": "markdown",
   "id": "ongoing-offset",
   "metadata": {},
   "source": [
    "# Get list of avaible tags in specfic group"
   ]
  },
  {
   "cell_type": "code",
   "execution_count": 28,
   "id": "helpful-section",
   "metadata": {},
   "outputs": [
    {
     "data": {
      "text/plain": [
       "['Random.ArrayOfReal8',\n",
       " 'Random.ArrayOfString',\n",
       " 'Random.Boolean',\n",
       " 'Random.Int1',\n",
       " 'Random.Int2',\n",
       " 'Random.Int4',\n",
       " 'Random.Money',\n",
       " 'Random.Qualities',\n",
       " 'Random.Real4',\n",
       " 'Random.Real8',\n",
       " 'Random.String',\n",
       " 'Random.Time',\n",
       " 'Random.UInt1',\n",
       " 'Random.UInt2',\n",
       " 'Random.UInt4']"
      ]
     },
     "execution_count": 28,
     "metadata": {},
     "output_type": "execute_result"
    }
   ],
   "source": [
    "opc.list('Simulation Items.Random.*')"
   ]
  },
  {
   "cell_type": "markdown",
   "id": "confirmed-corner",
   "metadata": {},
   "source": [
    "# Reading Tag Values"
   ]
  },
  {
   "cell_type": "code",
   "execution_count": 31,
   "id": "dietary-metadata",
   "metadata": {},
   "outputs": [
    {
     "data": {
      "text/plain": [
       "((14207.26289211,\n",
       "  1740.0598773600002,\n",
       "  8605.04435253,\n",
       "  14413.05451695,\n",
       "  4912.001580030001),\n",
       " 'Good',\n",
       " '2021-01-20 09:25:03.858000+00:00')"
      ]
     },
     "execution_count": 31,
     "metadata": {},
     "output_type": "execute_result"
    }
   ],
   "source": [
    "opc.read('Random.ArrayOfReal8')"
   ]
  },
  {
   "cell_type": "markdown",
   "id": "collective-wellington",
   "metadata": {},
   "source": [
    "# Reading all values of Specific group"
   ]
  },
  {
   "cell_type": "code",
   "execution_count": 37,
   "id": "returning-strike",
   "metadata": {},
   "outputs": [
    {
     "data": {
      "text/plain": [
       "[('Random.ArrayOfReal8',\n",
       "  (430.43050245,\n",
       "   1784.8857758400002,\n",
       "   7376.91661122,\n",
       "   3976.2609492600004,\n",
       "   5599.16222832,\n",
       "   6933.24209331),\n",
       "  'Good',\n",
       "  '2021-01-20 09:27:42.179000+00:00'),\n",
       " ('Random.ArrayOfString',\n",
       "  ('you', 'to', 'a', 'world', 'of', 'process', 'control', 'software', 'and'),\n",
       "  'Good',\n",
       "  '2021-01-20 09:27:42.179000+00:00'),\n",
       " ('Random.Boolean', True, 'Good', '2021-01-20 09:27:42.179000+00:00'),\n",
       " ('Random.Int1', 29, 'Good', '2021-01-20 09:27:42.179000+00:00'),\n",
       " ('Random.Int2', 2509, 'Good', '2021-01-20 09:27:42.179000+00:00'),\n",
       " ('Random.Int4', 25103, 'Good', '2021-01-20 09:27:42.179000+00:00'),\n",
       " ('Random.Money',\n",
       "  Decimal('24334'),\n",
       "  'Good',\n",
       "  '2021-01-20 09:27:42.179000+00:00'),\n",
       " ('Random.Qualities', 3314, 'Good', '2021-01-20 09:27:42.179000+00:00'),\n",
       " ('Random.Real4', 23155.361328125, 'Good', '2021-01-20 09:27:42.179000+00:00'),\n",
       " ('Random.Real8',\n",
       "  4708.247496030001,\n",
       "  'Good',\n",
       "  '2021-01-20 09:27:42.179000+00:00'),\n",
       " ('Random.String', 'control', 'Good', '2021-01-20 09:27:42.179000+00:00'),\n",
       " ('Random.Time',\n",
       "  '2021-01-20 17:27:42+00:00',\n",
       "  'Good',\n",
       "  '2021-01-20 09:27:42.179000+00:00'),\n",
       " ('Random.UInt1', 92, 'Good', '2021-01-20 09:27:42.179000+00:00'),\n",
       " ('Random.UInt2', 18883, 'Good', '2021-01-20 09:27:42.179000+00:00'),\n",
       " ('Random.UInt4', 23556.0, 'Good', '2021-01-20 09:27:42.179000+00:00')]"
      ]
     },
     "execution_count": 37,
     "metadata": {},
     "output_type": "execute_result"
    }
   ],
   "source": [
    "opc.read(opc.list('Simulation Items.Random.*'))\n",
    "# ['Random.ArrayOfReal8',\n",
    "#  'Random.ArrayOfString',\n",
    "#  'Random.Boolean',\n",
    "#  'Random.Int1',\n",
    "#  'Random.Int2',\n",
    "#  'Random.Int4',\n",
    "#  'Random.Money',\n",
    "#  'Random.Qualities',\n",
    "#  'Random.Real4',\n",
    "#  'Random.Real8',\n",
    "#  'Random.String',\n",
    "#  'Random.Time',\n",
    "#  'Random.UInt1',\n",
    "#  'Random.UInt2',\n",
    "#  'Random.UInt4']"
   ]
  },
  {
   "cell_type": "code",
   "execution_count": null,
   "id": "muslim-convergence",
   "metadata": {},
   "outputs": [],
   "source": []
  }
 ],
 "metadata": {
  "kernelspec": {
   "display_name": "Python 3",
   "language": "python",
   "name": "python3"
  },
  "language_info": {
   "codemirror_mode": {
    "name": "ipython",
    "version": 3
   },
   "file_extension": ".py",
   "mimetype": "text/x-python",
   "name": "python",
   "nbconvert_exporter": "python",
   "pygments_lexer": "ipython3",
   "version": "3.6.8"
  }
 },
 "nbformat": 4,
 "nbformat_minor": 5
}
