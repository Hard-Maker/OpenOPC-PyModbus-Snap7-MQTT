{
 "cells": [
  {
   "cell_type": "code",
   "execution_count": null,
   "id": "signed-dispute",
   "metadata": {},
   "outputs": [],
   "source": [
    "!python -m pip install opcua"
   ]
  },
  {
   "cell_type": "markdown",
   "id": "advanced-grenada",
   "metadata": {},
   "source": [
    "# Import Required Library for OPC-UA Server"
   ]
  },
  {
   "cell_type": "code",
   "execution_count": 1,
   "id": "challenging-optimum",
   "metadata": {},
   "outputs": [],
   "source": [
    "from opcua import ua, uamethod, Server\n",
    "from opcua.common.xmlexporter import XmlExporter"
   ]
  },
  {
   "cell_type": "markdown",
   "id": "pharmaceutical-infection",
   "metadata": {},
   "source": [
    "# Setting Up OPC-UA Server Parameter"
   ]
  },
  {
   "cell_type": "code",
   "execution_count": 2,
   "id": "exterior-incident",
   "metadata": {},
   "outputs": [],
   "source": [
    "server = Server()\n",
    "url = \"opc.tcp://127.0.0.1:4840\"\n",
    "server.set_endpoint(url)"
   ]
  },
  {
   "cell_type": "markdown",
   "id": "static-pepper",
   "metadata": {},
   "source": [
    "# Server Node Modeling\n",
    "\n",
    "### get Objects node, this is where we should put our nodes"
   ]
  },
  {
   "cell_type": "code",
   "execution_count": 3,
   "id": "detailed-watershed",
   "metadata": {},
   "outputs": [],
   "source": [
    "object_node = server.get_objects_node()"
   ]
  },
  {
   "cell_type": "markdown",
   "id": "herbal-border",
   "metadata": {},
   "source": [
    "### Setup our own namespace"
   ]
  },
  {
   "cell_type": "code",
   "execution_count": 4,
   "id": "improved-attack",
   "metadata": {},
   "outputs": [],
   "source": [
    "idx = server.register_namespace(\"OPCUA_SERVER\")"
   ]
  },
  {
   "cell_type": "code",
   "execution_count": 5,
   "id": "nuclear-peoples",
   "metadata": {},
   "outputs": [
    {
     "name": "stdout",
     "output_type": "stream",
     "text": [
      "Object Node ID                         :  i=85\n"
     ]
    }
   ],
   "source": [
    "print(\"Object Node ID                         : \" , object_node)"
   ]
  },
  {
   "cell_type": "markdown",
   "id": "authorized-disposal",
   "metadata": {},
   "source": [
    "# Add Variable to OPC-UA Server\n",
    "\n",
    "### populating our address space"
   ]
  },
  {
   "cell_type": "code",
   "execution_count": 6,
   "id": "understanding-representation",
   "metadata": {},
   "outputs": [],
   "source": [
    "myobj = object_node.add_object(idx, \"Variable\")\n",
    "\n",
    "Temp = myobj.add_variable(idx ,\"Temperature\",0,ua.VariantType.Float)\n",
    "Pressure = myobj.add_variable(idx ,\"Pressure\",0,ua.VariantType.Float)\n",
    "Flow = myobj.add_variable(idx ,\"Flow\",0,ua.VariantType.Float)"
   ]
  },
  {
   "cell_type": "code",
   "execution_count": 7,
   "id": "faced-inspection",
   "metadata": {},
   "outputs": [
    {
     "name": "stdout",
     "output_type": "stream",
     "text": [
      "Name Space and ID of Varibale Object   :  ns=2;i=1\n",
      "Name Space and ID of Temperatre        :  ns=2;i=2\n",
      "Name Space and ID of Pressure          :  ns=2;i=3\n",
      "Name Space and ID of Flow              :  ns=2;i=4\n"
     ]
    }
   ],
   "source": [
    "print(\"Name Space and ID of Varibale Object   : \" , myobj)\n",
    "\n",
    "print(\"Name Space and ID of Temperatre        : \" , Temp)\n",
    "print(\"Name Space and ID of Pressure          : \" , Pressure)\n",
    "print(\"Name Space and ID of Flow              : \" , Flow)"
   ]
  },
  {
   "cell_type": "markdown",
   "id": "round-stability",
   "metadata": {},
   "source": [
    "# Export XML File"
   ]
  },
  {
   "cell_type": "code",
   "execution_count": 37,
   "id": "1a7d8fc3",
   "metadata": {},
   "outputs": [],
   "source": [
    "server.export_xml_by_ns('Server_Model.xml',namespaces=\"OPCUA_SERVER\")"
   ]
  },
  {
   "cell_type": "markdown",
   "id": "descending-tissue",
   "metadata": {},
   "source": [
    "# Start OPC-UA Server"
   ]
  },
  {
   "cell_type": "code",
   "execution_count": 32,
   "id": "blessed-firmware",
   "metadata": {},
   "outputs": [
    {
     "name": "stderr",
     "output_type": "stream",
     "text": [
      "Endpoints other than open requested but private key and certificate are not set.\n",
      "Listening on 127.0.0.1:4840\n"
     ]
    }
   ],
   "source": [
    "server.start()"
   ]
  },
  {
   "cell_type": "markdown",
   "id": "dramatic-whale",
   "metadata": {},
   "source": [
    "# Stop OPC-UA Server"
   ]
  },
  {
   "cell_type": "code",
   "execution_count": null,
   "id": "worse-soldier",
   "metadata": {},
   "outputs": [],
   "source": [
    "server.stop()"
   ]
  },
  {
   "cell_type": "code",
   "execution_count": null,
   "id": "fb15ba57",
   "metadata": {},
   "outputs": [],
   "source": []
  }
 ],
 "metadata": {
  "kernelspec": {
   "display_name": "Python 3",
   "language": "python",
   "name": "python3"
  },
  "language_info": {
   "codemirror_mode": {
    "name": "ipython",
    "version": 3
   },
   "file_extension": ".py",
   "mimetype": "text/x-python",
   "name": "python",
   "nbconvert_exporter": "python",
   "pygments_lexer": "ipython3",
   "version": "3.6.8"
  }
 },
 "nbformat": 4,
 "nbformat_minor": 5
}
