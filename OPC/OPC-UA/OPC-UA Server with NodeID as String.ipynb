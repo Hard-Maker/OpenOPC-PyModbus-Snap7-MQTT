{
 "cells": [
  {
   "cell_type": "markdown",
   "id": "advanced-grenada",
   "metadata": {},
   "source": [
    "# Import Required Library for OPC-UA Server"
   ]
  },
  {
   "cell_type": "code",
   "execution_count": 1,
   "id": "hawaiian-knitting",
   "metadata": {},
   "outputs": [],
   "source": [
    "from opcua import ua, uamethod, Server\n",
    "from time import sleep\n",
    "import random"
   ]
  },
  {
   "cell_type": "markdown",
   "id": "celtic-impact",
   "metadata": {},
   "source": [
    "# OPC-UA Server Setup"
   ]
  },
  {
   "cell_type": "code",
   "execution_count": 2,
   "id": "ready-butterfly",
   "metadata": {},
   "outputs": [],
   "source": [
    "if __name__ == \"__main__\":\n",
    "    \"\"\"\n",
    "    OPC-UA-Server Setup\n",
    "    \"\"\"\n",
    "    server = Server()\n",
    "    \n",
    "    endpoint = \"opc.tcp://127.0.0.1:4848\"\n",
    "    server.set_endpoint(endpoint)\n",
    "\n",
    "    servername = \"Python-OPC-UA-Server\"\n",
    "    server.set_server_name(servername)"
   ]
  },
  {
   "cell_type": "markdown",
   "id": "vanilla-forward",
   "metadata": {},
   "source": [
    "# Object Node and Variable Node Modeling"
   ]
  },
  {
   "cell_type": "code",
   "execution_count": 3,
   "id": "appointed-movie",
   "metadata": {},
   "outputs": [],
   "source": [
    "    \"\"\"\n",
    "    OPC-UA-Modeling\n",
    "    \"\"\"\n",
    "    root_node = server.get_root_node()\n",
    "    object_node = server.get_objects_node()\n",
    "    idx = server.register_namespace(\"OPCUA_SERVER\")\n",
    "    myobj = object_node.add_object(idx, \"Variables\")"
   ]
  },
  {
   "cell_type": "code",
   "execution_count": 5,
   "id": "verbal-browse",
   "metadata": {},
   "outputs": [
    {
     "name": "stdout",
     "output_type": "stream",
     "text": [
      "Root Node ID                           :  i=84\n",
      "Object Node ID                         :  i=85\n",
      "Name Space and ID of Varibale Object   :  ns=2;i=1\n"
     ]
    }
   ],
   "source": [
    "    print(\"Root Node ID                           : \" , root_node)\n",
    "    print(\"Object Node ID                         : \" , object_node)\n",
    "    print(\"Name Space and ID of Varibale Object   : \" , myobj)\n"
   ]
  },
  {
   "cell_type": "markdown",
   "id": "golden-dollar",
   "metadata": {},
   "source": [
    "# Add Variable in OPC-UA Server"
   ]
  },
  {
   "cell_type": "code",
   "execution_count": 6,
   "id": "protective-blake",
   "metadata": {},
   "outputs": [],
   "source": [
    "    \"\"\"\n",
    "    OPC-UA-Server Add Variable\n",
    "    \"\"\"\n",
    "    Temp = myobj.add_variable(\"ns=2;s=Temperature;\" ,\"Temperature\",0,ua.VariantType.Float)\n",
    "    Pressure = myobj.add_variable(\"ns=2;s=Pressure;\" ,\"Pressure\",0,ua.VariantType.Float)\n",
    "    Flow = myobj.add_variable(\"ns=2;s=Flow;\" ,\"Flow\",0,ua.VariantType.Float)\n",
    "    Level = myobj.add_variable(\"ns=2;s=Level;\" ,\"Level\",0,ua.VariantType.Float)\n"
   ]
  },
  {
   "cell_type": "code",
   "execution_count": 8,
   "id": "interested-triumph",
   "metadata": {},
   "outputs": [
    {
     "name": "stdout",
     "output_type": "stream",
     "text": [
      "Name Space and ID of Temperatre :  ns=2;s=Temperature\n",
      "Name Space and ID of Pressure   :  ns=2;s=Pressure\n",
      "Name Space and ID of Flow       :  ns=2;s=Flow\n",
      "Name Space and ID of Level      :  ns=2;s=Level\n"
     ]
    }
   ],
   "source": [
    "    print(\"Name Space and ID of Temperatre : \" , Temp)\n",
    "    print(\"Name Space and ID of Pressure   : \" , Pressure)\n",
    "    print(\"Name Space and ID of Flow       : \" , Flow)\n",
    "    print(\"Name Space and ID of Level      : \" , Level)"
   ]
  },
  {
   "cell_type": "markdown",
   "id": "boxed-platinum",
   "metadata": {},
   "source": [
    "# Start OPC-UA Server"
   ]
  },
  {
   "cell_type": "code",
   "execution_count": 9,
   "id": "considerable-glory",
   "metadata": {},
   "outputs": [
    {
     "name": "stderr",
     "output_type": "stream",
     "text": [
      "Endpoints other than open requested but private key and certificate are not set.\n",
      "Listening on 127.0.0.1:4848\n"
     ]
    }
   ],
   "source": [
    "    \"\"\"\n",
    "    OPC-UA-Server Start\n",
    "    \"\"\"\n",
    "    server.start()"
   ]
  },
  {
   "cell_type": "markdown",
   "id": "regulation-macintosh",
   "metadata": {},
   "source": [
    "# Update Variables on OPC-UA Server"
   ]
  },
  {
   "cell_type": "code",
   "execution_count": null,
   "id": "flexible-yield",
   "metadata": {},
   "outputs": [
    {
     "name": "stdout",
     "output_type": "stream",
     "text": [
      "Check Client for Update\n",
      "Check Client for Update\n",
      "Check Client for Update\n",
      "Check Client for Update\n"
     ]
    },
    {
     "name": "stderr",
     "output_type": "stream",
     "text": [
      "Tried to read attribute '14' in TwoByteNodeId(i=35), but the attribute is missing\n",
      "Tried to read attribute '15' in TwoByteNodeId(i=35), but the attribute is missing\n",
      "Tried to read attribute '16' in TwoByteNodeId(i=35), but the attribute is missing\n",
      "Tried to read attribute '14' in TwoByteNodeId(i=33), but the attribute is missing\n",
      "Tried to read attribute '15' in TwoByteNodeId(i=33), but the attribute is missing\n",
      "Tried to read attribute '16' in TwoByteNodeId(i=33), but the attribute is missing\n",
      "Tried to read attribute '14' in TwoByteNodeId(i=31), but the attribute is missing\n",
      "Tried to read attribute '15' in TwoByteNodeId(i=31), but the attribute is missing\n",
      "Tried to read attribute '16' in TwoByteNodeId(i=31), but the attribute is missing\n",
      "Tried to read attribute '14' in TwoByteNodeId(i=58), but the attribute is missing\n",
      "Tried to read attribute '15' in TwoByteNodeId(i=58), but the attribute is missing\n",
      "Tried to read attribute '16' in TwoByteNodeId(i=58), but the attribute is missing\n",
      "Tried to read attribute '10' in TwoByteNodeId(i=58), but the attribute is missing\n",
      "Tried to read attribute '14' in FourByteNodeId(i=2004), but the attribute is missing\n",
      "Tried to read attribute '15' in FourByteNodeId(i=2004), but the attribute is missing\n",
      "Tried to read attribute '16' in FourByteNodeId(i=2004), but the attribute is missing\n",
      "Tried to read attribute '10' in FourByteNodeId(i=2004), but the attribute is missing\n",
      "Tried to read attribute '24' in FourByteNodeId(ns=2;i=1), but the attribute is missing\n",
      "Tried to read attribute '25' in FourByteNodeId(ns=2;i=1), but the attribute is missing\n",
      "Tried to read attribute '26' in FourByteNodeId(ns=2;i=1), but the attribute is missing\n",
      "Tried to read attribute '14' in TwoByteNodeId(i=40), but the attribute is missing\n",
      "Tried to read attribute '15' in TwoByteNodeId(i=40), but the attribute is missing\n",
      "Tried to read attribute '16' in TwoByteNodeId(i=40), but the attribute is missing\n",
      "Tried to read attribute '14' in TwoByteNodeId(i=47), but the attribute is missing\n",
      "Tried to read attribute '15' in TwoByteNodeId(i=47), but the attribute is missing\n",
      "Tried to read attribute '16' in TwoByteNodeId(i=47), but the attribute is missing\n"
     ]
    },
    {
     "name": "stdout",
     "output_type": "stream",
     "text": [
      "Check Client for Update\n",
      "Check Client for Update\n",
      "Check Client for Update\n"
     ]
    },
    {
     "name": "stderr",
     "output_type": "stream",
     "text": [
      "Tried to read attribute '14' in TwoByteNodeId(i=44), but the attribute is missing\n",
      "Tried to read attribute '15' in TwoByteNodeId(i=44), but the attribute is missing\n",
      "Tried to read attribute '16' in TwoByteNodeId(i=44), but the attribute is missing\n",
      "Tried to read attribute '14' in TwoByteNodeId(i=34), but the attribute is missing\n",
      "Tried to read attribute '15' in TwoByteNodeId(i=34), but the attribute is missing\n",
      "Tried to read attribute '16' in TwoByteNodeId(i=34), but the attribute is missing\n",
      "Tried to read attribute '10' in TwoByteNodeId(i=63), but the attribute is missing\n",
      "Tried to read attribute '10' in TwoByteNodeId(i=62), but the attribute is missing\n"
     ]
    },
    {
     "name": "stdout",
     "output_type": "stream",
     "text": [
      "Check Client for Update\n",
      "Check Client for Update\n"
     ]
    },
    {
     "name": "stderr",
     "output_type": "stream",
     "text": [
      "Tried to read attribute '24' in StringNodeId(ns=2;s=Flow), but the attribute is missing\n",
      "Tried to read attribute '25' in StringNodeId(ns=2;s=Flow), but the attribute is missing\n",
      "Tried to read attribute '26' in StringNodeId(ns=2;s=Flow), but the attribute is missing\n",
      "Tried to read attribute '27' in StringNodeId(ns=2;s=Flow), but the attribute is missing\n",
      "Tried to read attribute '14' in TwoByteNodeId(i=10), but the attribute is missing\n",
      "Tried to read attribute '15' in TwoByteNodeId(i=10), but the attribute is missing\n",
      "Tried to read attribute '16' in TwoByteNodeId(i=10), but the attribute is missing\n",
      "Tried to read attribute '10' in TwoByteNodeId(i=10), but the attribute is missing\n"
     ]
    },
    {
     "name": "stdout",
     "output_type": "stream",
     "text": [
      "Check Client for Update\n",
      "Check Client for Update\n",
      "Check Client for Update\n",
      "Check Client for Update\n",
      "Check Client for Update\n",
      "Check Client for Update\n",
      "Check Client for Update\n",
      "Check Client for Update\n",
      "Check Client for Update\n",
      "Check Client for Update\n",
      "Check Client for Update\n",
      "Check Client for Update\n",
      "Check Client for Update\n",
      "Check Client for Update\n",
      "Check Client for Update\n",
      "Check Client for Update\n",
      "Check Client for Update\n",
      "Check Client for Update\n",
      "Check Client for Update\n",
      "Check Client for Update\n"
     ]
    },
    {
     "name": "stderr",
     "output_type": "stream",
     "text": [
      "Tried to read attribute '24' in FourByteNodeId(ns=2;i=1), but the attribute is missing\n",
      "Tried to read attribute '25' in FourByteNodeId(ns=2;i=1), but the attribute is missing\n",
      "Tried to read attribute '26' in FourByteNodeId(ns=2;i=1), but the attribute is missing\n"
     ]
    },
    {
     "name": "stdout",
     "output_type": "stream",
     "text": [
      "Check Client for Update\n",
      "Check Client for Update\n",
      "Check Client for Update\n",
      "Check Client for Update\n",
      "Check Client for Update\n",
      "Check Client for Update\n",
      "Check Client for Update\n",
      "Check Client for Update\n",
      "Check Client for Update\n",
      "Check Client for Update\n",
      "Check Client for Update\n",
      "Check Client for Update\n",
      "Check Client for Update\n",
      "Check Client for Update\n",
      "Check Client for Update\n",
      "Check Client for Update\n",
      "Check Client for Update\n",
      "Check Client for Update\n",
      "Check Client for Update\n",
      "Check Client for Update\n",
      "Check Client for Update\n",
      "Check Client for Update\n",
      "Check Client for Update\n",
      "Check Client for Update\n",
      "Check Client for Update\n",
      "Check Client for Update\n",
      "Check Client for Update\n",
      "Check Client for Update\n",
      "Check Client for Update\n",
      "Check Client for Update\n",
      "Check Client for Update\n",
      "Check Client for Update\n",
      "Check Client for Update\n",
      "Check Client for Update\n",
      "Check Client for Update\n",
      "Check Client for Update\n",
      "Check Client for Update\n",
      "Check Client for Update\n",
      "Check Client for Update\n",
      "Check Client for Update\n",
      "Check Client for Update\n",
      "Check Client for Update\n",
      "Check Client for Update\n",
      "Check Client for Update\n",
      "Check Client for Update\n",
      "Check Client for Update\n",
      "Check Client for Update\n",
      "Check Client for Update\n",
      "Check Client for Update\n",
      "Check Client for Update\n",
      "Check Client for Update\n",
      "Check Client for Update\n",
      "Check Client for Update\n",
      "Check Client for Update\n",
      "Check Client for Update\n",
      "Check Client for Update\n",
      "Check Client for Update\n",
      "Check Client for Update\n",
      "Check Client for Update\n",
      "Check Client for Update\n",
      "Check Client for Update\n",
      "Check Client for Update\n",
      "Check Client for Update\n",
      "Check Client for Update\n",
      "Check Client for Update\n",
      "Check Client for Update\n",
      "Check Client for Update\n",
      "Check Client for Update\n",
      "Check Client for Update\n",
      "Check Client for Update\n",
      "Check Client for Update\n",
      "Check Client for Update\n",
      "Check Client for Update\n",
      "Check Client for Update\n",
      "Check Client for Update\n",
      "Check Client for Update\n",
      "Check Client for Update\n",
      "Check Client for Update\n",
      "Check Client for Update\n",
      "Check Client for Update\n",
      "Check Client for Update\n",
      "Check Client for Update\n",
      "Check Client for Update\n",
      "Check Client for Update\n",
      "Check Client for Update\n",
      "Check Client for Update\n",
      "Check Client for Update\n",
      "Check Client for Update\n",
      "Check Client for Update\n",
      "Check Client for Update\n",
      "Check Client for Update\n",
      "Check Client for Update\n",
      "Check Client for Update\n",
      "Check Client for Update\n",
      "Check Client for Update\n",
      "Check Client for Update\n",
      "Check Client for Update\n",
      "Check Client for Update\n",
      "Check Client for Update\n",
      "Check Client for Update\n",
      "Check Client for Update\n",
      "Check Client for Update\n",
      "Check Client for Update\n",
      "Check Client for Update\n",
      "Check Client for Update\n",
      "Check Client for Update\n",
      "Check Client for Update\n",
      "Check Client for Update\n",
      "Check Client for Update\n",
      "Check Client for Update\n",
      "Check Client for Update\n",
      "Check Client for Update\n",
      "Check Client for Update\n",
      "Check Client for Update\n",
      "Check Client for Update\n",
      "Check Client for Update\n",
      "Check Client for Update\n",
      "Check Client for Update\n",
      "Check Client for Update\n",
      "Check Client for Update\n",
      "Check Client for Update\n",
      "Check Client for Update\n",
      "Check Client for Update\n",
      "Check Client for Update\n",
      "Check Client for Update\n",
      "Check Client for Update\n",
      "Check Client for Update\n",
      "Check Client for Update\n",
      "Check Client for Update\n",
      "Check Client for Update\n",
      "Check Client for Update\n",
      "Check Client for Update\n",
      "Check Client for Update\n",
      "Check Client for Update\n"
     ]
    }
   ],
   "source": [
    "    try:\n",
    "        while 1:\n",
    "            Temp.set_value(random.uniform(10, 100),ua.VariantType.Float)\n",
    "            Pressure.set_value(random.uniform(10, 100),ua.VariantType.Float)\n",
    "            Flow.set_value(random.uniform(10, 100),ua.VariantType.Float)\n",
    "            Level.set_value(random.uniform(10, 100),ua.VariantType.Float)\n",
    "            print(\"Check Client for Update\")\n",
    "            sleep(5)\n",
    "    except KeyboardInterrupt:\n",
    "        server.stop()"
   ]
  },
  {
   "cell_type": "code",
   "execution_count": null,
   "id": "numerous-physiology",
   "metadata": {},
   "outputs": [],
   "source": []
  }
 ],
 "metadata": {
  "kernelspec": {
   "display_name": "Python 3",
   "language": "python",
   "name": "python3"
  },
  "language_info": {
   "codemirror_mode": {
    "name": "ipython",
    "version": 3
   },
   "file_extension": ".py",
   "mimetype": "text/x-python",
   "name": "python",
   "nbconvert_exporter": "python",
   "pygments_lexer": "ipython3",
   "version": "3.6.8"
  }
 },
 "nbformat": 4,
 "nbformat_minor": 5
}
