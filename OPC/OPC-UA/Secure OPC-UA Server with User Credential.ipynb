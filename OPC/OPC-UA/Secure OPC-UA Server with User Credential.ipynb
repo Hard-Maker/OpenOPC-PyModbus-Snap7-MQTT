{
 "cells": [
  {
   "cell_type": "code",
   "execution_count": null,
   "id": "invalid-median",
   "metadata": {},
   "outputs": [],
   "source": [
    "!python -m pip install opcua"
   ]
  },
  {
   "cell_type": "markdown",
   "id": "advanced-grenada",
   "metadata": {},
   "source": [
    "# Import Required Library for OPC-UA Server"
   ]
  },
  {
   "cell_type": "code",
   "execution_count": null,
   "id": "hawaiian-knitting",
   "metadata": {},
   "outputs": [],
   "source": [
    "from opcua import ua, uamethod, Server\n",
    "from opcua.server.user_manager import UserManager\n",
    "from time import sleep\n",
    "i = 0"
   ]
  },
  {
   "cell_type": "markdown",
   "id": "first-repeat",
   "metadata": {},
   "source": [
    "# Create Databse for Users Credential"
   ]
  },
  {
   "cell_type": "code",
   "execution_count": null,
   "id": "defensive-insulation",
   "metadata": {},
   "outputs": [],
   "source": [
    "# Username = User\n",
    "# Password = Password"
   ]
  },
  {
   "cell_type": "code",
   "execution_count": null,
   "id": "voluntary-congo",
   "metadata": {},
   "outputs": [],
   "source": [
    "users_db = {\"User\" : \"Password\"}"
   ]
  },
  {
   "cell_type": "code",
   "execution_count": null,
   "id": "preliminary-military",
   "metadata": {},
   "outputs": [],
   "source": [
    "def user_manager(isession, username, password):\n",
    "    isession.user = UserManager.User\n",
    "    return username in users_db and password == users_db[username]"
   ]
  },
  {
   "cell_type": "markdown",
   "id": "celtic-impact",
   "metadata": {},
   "source": [
    "# OPC-UA Server Setup"
   ]
  },
  {
   "cell_type": "code",
   "execution_count": null,
   "id": "ready-butterfly",
   "metadata": {},
   "outputs": [],
   "source": [
    "if __name__ == \"__main__\":\n",
    "    \"\"\"\n",
    "    OPC-UA-Server Setup\n",
    "    \"\"\"\n",
    "    server = Server()\n",
    "\n",
    "    endpoint = \"opc.tcp://127.0.0.1:4848\"\n",
    "    server.set_endpoint(endpoint)\n",
    "\n",
    "    servername = \"Python-OPC-UA-Secure-Server\"\n",
    "    server.set_server_name(servername)\n",
    "    \n",
    "    policyIDs = [\"Username\"]\n",
    "    server.set_security_IDs(policyIDs)\n",
    "    server.user_manager.set_user_manager(user_manager)"
   ]
  },
  {
   "cell_type": "markdown",
   "id": "vanilla-forward",
   "metadata": {},
   "source": [
    "# Object Node and Variable Node Modeling"
   ]
  },
  {
   "cell_type": "code",
   "execution_count": null,
   "id": "appointed-movie",
   "metadata": {},
   "outputs": [],
   "source": [
    "    \"\"\"\n",
    "    OPC-UA-Modeling\n",
    "    \"\"\"\n",
    "    root_node = server.get_root_node()\n",
    "    object_node = server.get_objects_node()\n",
    "    idx = server.register_namespace(\"OPCUA_SERVER\")\n",
    "    myobj = object_node.add_object(idx, \"Variables\")"
   ]
  },
  {
   "cell_type": "code",
   "execution_count": null,
   "id": "verbal-browse",
   "metadata": {},
   "outputs": [],
   "source": [
    "    print(\"Root Node ID                           : \" , root_node)\n",
    "    print(\"Object Node ID                         : \" , object_node)\n",
    "    print(\"Name Space and ID of Varibale Object   : \" , myobj)\n"
   ]
  },
  {
   "cell_type": "markdown",
   "id": "golden-dollar",
   "metadata": {},
   "source": [
    "# Add Variable in OPC-UA Server"
   ]
  },
  {
   "cell_type": "code",
   "execution_count": null,
   "id": "protective-blake",
   "metadata": {},
   "outputs": [],
   "source": [
    "    \"\"\"\n",
    "    OPC-UA-Server Add Variable\n",
    "    \"\"\"\n",
    "    Temp = myobj.add_variable(idx ,\"Temperature\",0,ua.VariantType.Float)\n",
    "    Pressure = myobj.add_variable(idx ,\"Pressure\",0,ua.VariantType.Float)\n",
    "    Flow = myobj.add_variable(idx ,\"Flow\",0,ua.VariantType.Float)\n"
   ]
  },
  {
   "cell_type": "code",
   "execution_count": null,
   "id": "interested-triumph",
   "metadata": {},
   "outputs": [],
   "source": [
    "    print(\"Name Space and ID of Temperatre : \" , Temp)\n",
    "    print(\"Name Space and ID of Pressure   : \" , Pressure)\n",
    "    print(\"Name Space and ID of Flow       : \" , Flow)"
   ]
  },
  {
   "cell_type": "markdown",
   "id": "boxed-platinum",
   "metadata": {},
   "source": [
    "# Start OPC-UA Server"
   ]
  },
  {
   "cell_type": "code",
   "execution_count": null,
   "id": "considerable-glory",
   "metadata": {},
   "outputs": [],
   "source": [
    "    \"\"\"\n",
    "    OPC-UA-Server Start\n",
    "    \"\"\"\n",
    "    server.start()"
   ]
  },
  {
   "cell_type": "markdown",
   "id": "regulation-macintosh",
   "metadata": {},
   "source": [
    "# Update Variables on OPC-UA Server"
   ]
  },
  {
   "cell_type": "code",
   "execution_count": null,
   "id": "flexible-yield",
   "metadata": {},
   "outputs": [],
   "source": [
    "    try:\n",
    "        while 1:\n",
    "            Temp.set_value(i*0.25,ua.VariantType.Float)\n",
    "            Pressure.set_value(i*0.26,ua.VariantType.Float)\n",
    "            Flow.set_value(i*0.27,ua.VariantType.Float)\n",
    "            sleep(1)\n",
    "            i = i + 1\n",
    "    except KeyboardInterrupt:\n",
    "        server.stop()"
   ]
  },
  {
   "cell_type": "code",
   "execution_count": null,
   "id": "painful-uncertainty",
   "metadata": {},
   "outputs": [],
   "source": []
  }
 ],
 "metadata": {
  "kernelspec": {
   "display_name": "Python 3",
   "language": "python",
   "name": "python3"
  },
  "language_info": {
   "codemirror_mode": {
    "name": "ipython",
    "version": 3
   },
   "file_extension": ".py",
   "mimetype": "text/x-python",
   "name": "python",
   "nbconvert_exporter": "python",
   "pygments_lexer": "ipython3",
   "version": "3.6.8"
  }
 },
 "nbformat": 4,
 "nbformat_minor": 5
}
