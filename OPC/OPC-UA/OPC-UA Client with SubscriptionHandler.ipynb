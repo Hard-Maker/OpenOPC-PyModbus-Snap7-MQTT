{
 "cells": [
  {
   "cell_type": "markdown",
   "id": "b7726ddb",
   "metadata": {},
   "source": [
    "# Import Required Function from Library"
   ]
  },
  {
   "cell_type": "code",
   "execution_count": 19,
   "id": "b78eb6e8",
   "metadata": {},
   "outputs": [],
   "source": [
    "import time\n",
    "from opcua import Client, ua, Node\n",
    "from datetime import datetime"
   ]
  },
  {
   "cell_type": "markdown",
   "id": "c49a4fce",
   "metadata": {},
   "source": [
    "# SubscriptionHandler Class\n",
    "- We will Get Update When Value Changes "
   ]
  },
  {
   "cell_type": "code",
   "execution_count": 20,
   "id": "2ae26cc1",
   "metadata": {},
   "outputs": [],
   "source": [
    "class SubscriptionHandler:\n",
    "\n",
    "    def datachange_notification(self, node: Node, val, data):\n",
    "        print(str(datetime.now().strftime(\"%Y-%m-%d %H:%M %p\")) + \" : \" + str(node) + \" : \" + str(val))"
   ]
  },
  {
   "cell_type": "code",
   "execution_count": 21,
   "id": "77a70354",
   "metadata": {},
   "outputs": [],
   "source": [
    "client = Client(\"opc.tcp://127.0.0.1:4848\")"
   ]
  },
  {
   "cell_type": "code",
   "execution_count": 22,
   "id": "7e18cf6f",
   "metadata": {},
   "outputs": [],
   "source": [
    "client.connect()"
   ]
  },
  {
   "cell_type": "markdown",
   "id": "6a567595",
   "metadata": {},
   "source": [
    "# Now getting a variable node using its browse path"
   ]
  },
  {
   "cell_type": "code",
   "execution_count": 23,
   "id": "bca4f22e",
   "metadata": {},
   "outputs": [],
   "source": [
    "myvar = client.get_node(\"ns=2;i=1\").get_children()"
   ]
  },
  {
   "cell_type": "code",
   "execution_count": 24,
   "id": "ecc38241",
   "metadata": {},
   "outputs": [
    {
     "data": {
      "text/plain": [
       "[Node(StringNodeId(s=Temperature)),\n",
       " Node(StringNodeId(s=Pressure)),\n",
       " Node(StringNodeId(s=Flow)),\n",
       " Node(StringNodeId(s=Level))]"
      ]
     },
     "execution_count": 24,
     "metadata": {},
     "output_type": "execute_result"
    }
   ],
   "source": [
    "myvar"
   ]
  },
  {
   "cell_type": "markdown",
   "id": "5dcf07ca",
   "metadata": {},
   "source": [
    "# Subscribing to Variable Node & Get Update for Every Data (Variable Value) Change"
   ]
  },
  {
   "cell_type": "code",
   "execution_count": 25,
   "id": "719f3817",
   "metadata": {},
   "outputs": [
    {
     "name": "stdout",
     "output_type": "stream",
     "text": [
      "2021-07-03 23:38 PM : s=Temperature : 69.59896850585938\n",
      "2021-07-03 23:38 PM : s=Pressure : 75.29239654541016\n",
      "2021-07-03 23:38 PM : s=Flow : 51.17973709106445\n",
      "2021-07-03 23:38 PM : s=Level : 85.04009246826172\n",
      "2021-07-03 23:38 PM : s=Temperature : 70.51790618896484\n",
      "2021-07-03 23:38 PM : s=Pressure : 43.525856018066406\n",
      "2021-07-03 23:38 PM : s=Flow : 11.284247398376465\n",
      "2021-07-03 23:38 PM : s=Level : 48.34786605834961\n",
      "2021-07-03 23:38 PM : s=Temperature : 28.293256759643555\n",
      "2021-07-03 23:38 PM : s=Pressure : 45.041507720947266\n",
      "2021-07-03 23:38 PM : s=Flow : 66.2139892578125\n",
      "2021-07-03 23:38 PM : s=Level : 35.32646560668945\n",
      "2021-07-03 23:38 PM : s=Temperature : 72.79251861572266\n",
      "2021-07-03 23:38 PM : s=Pressure : 32.14333724975586\n",
      "2021-07-03 23:38 PM : s=Flow : 65.7938461303711\n",
      "2021-07-03 23:38 PM : s=Level : 93.27749633789062\n",
      "2021-07-03 23:39 PM : s=Temperature : 20.62428855895996\n",
      "2021-07-03 23:39 PM : s=Pressure : 49.53976821899414\n",
      "2021-07-03 23:39 PM : s=Flow : 40.23384475708008\n",
      "2021-07-03 23:39 PM : s=Level : 63.98869705200195\n",
      "2021-07-03 23:39 PM : s=Temperature : 27.365251541137695\n",
      "2021-07-03 23:39 PM : s=Pressure : 51.41850280761719\n",
      "2021-07-03 23:39 PM : s=Flow : 58.38798141479492\n",
      "2021-07-03 23:39 PM : s=Level : 75.01067352294922\n",
      "2021-07-03 23:39 PM : s=Temperature : 14.373645782470703\n",
      "2021-07-03 23:39 PM : s=Pressure : 56.161155700683594\n",
      "2021-07-03 23:39 PM : s=Flow : 26.724990844726562\n",
      "2021-07-03 23:39 PM : s=Level : 12.893211364746094\n",
      "2021-07-03 23:39 PM : s=Temperature : 42.96705627441406\n",
      "2021-07-03 23:39 PM : s=Pressure : 32.4447021484375\n",
      "2021-07-03 23:39 PM : s=Flow : 99.09420776367188\n",
      "2021-07-03 23:39 PM : s=Level : 82.90261840820312\n",
      "2021-07-03 23:39 PM : s=Temperature : 95.49781036376953\n",
      "2021-07-03 23:39 PM : s=Pressure : 61.33548355102539\n",
      "2021-07-03 23:39 PM : s=Flow : 18.460704803466797\n",
      "2021-07-03 23:39 PM : s=Level : 54.862579345703125\n",
      "2021-07-03 23:39 PM : s=Temperature : 47.77629852294922\n",
      "2021-07-03 23:39 PM : s=Pressure : 95.49732971191406\n",
      "2021-07-03 23:39 PM : s=Flow : 81.44481658935547\n",
      "2021-07-03 23:39 PM : s=Level : 84.8476333618164\n",
      "2021-07-03 23:40 PM : s=Temperature : 32.861656188964844\n",
      "2021-07-03 23:40 PM : s=Pressure : 73.98817443847656\n",
      "2021-07-03 23:40 PM : s=Flow : 55.725215911865234\n",
      "2021-07-03 23:40 PM : s=Level : 87.38208770751953\n",
      "2021-07-03 23:40 PM : s=Temperature : 77.3229751586914\n",
      "2021-07-03 23:40 PM : s=Pressure : 47.6158447265625\n",
      "2021-07-03 23:40 PM : s=Flow : 85.39632415771484\n",
      "2021-07-03 23:40 PM : s=Level : 35.449241638183594\n",
      "2021-07-03 23:40 PM : s=Temperature : 97.63291931152344\n",
      "2021-07-03 23:40 PM : s=Pressure : 82.15355682373047\n",
      "2021-07-03 23:40 PM : s=Flow : 29.519973754882812\n",
      "2021-07-03 23:40 PM : s=Level : 54.32080841064453\n",
      "2021-07-03 23:40 PM : s=Temperature : 39.93749237060547\n",
      "2021-07-03 23:40 PM : s=Pressure : 89.82011413574219\n",
      "2021-07-03 23:40 PM : s=Flow : 84.02079010009766\n",
      "2021-07-03 23:40 PM : s=Level : 12.580399513244629\n",
      "2021-07-03 23:40 PM : s=Temperature : 95.70430755615234\n",
      "2021-07-03 23:40 PM : s=Pressure : 55.20281219482422\n",
      "2021-07-03 23:40 PM : s=Flow : 23.655771255493164\n",
      "2021-07-03 23:40 PM : s=Level : 92.98265838623047\n",
      "2021-07-03 23:40 PM : s=Temperature : 83.89732360839844\n",
      "2021-07-03 23:40 PM : s=Pressure : 45.79281997680664\n",
      "2021-07-03 23:40 PM : s=Flow : 32.984519958496094\n",
      "2021-07-03 23:40 PM : s=Level : 15.249177932739258\n",
      "2021-07-03 23:41 PM : s=Temperature : 27.473100662231445\n",
      "2021-07-03 23:41 PM : s=Pressure : 31.619182586669922\n",
      "2021-07-03 23:41 PM : s=Flow : 48.05006408691406\n",
      "2021-07-03 23:41 PM : s=Level : 97.17405700683594\n",
      "2021-07-03 23:41 PM : s=Temperature : 88.19486999511719\n",
      "2021-07-03 23:41 PM : s=Pressure : 73.50605010986328\n",
      "2021-07-03 23:41 PM : s=Flow : 35.48604202270508\n",
      "2021-07-03 23:41 PM : s=Level : 72.8783187866211\n",
      "2021-07-03 23:41 PM : s=Temperature : 87.87445068359375\n",
      "2021-07-03 23:41 PM : s=Pressure : 50.74485397338867\n",
      "2021-07-03 23:41 PM : s=Flow : 96.99784088134766\n",
      "2021-07-03 23:41 PM : s=Level : 81.26887512207031\n",
      "2021-07-03 23:41 PM : s=Temperature : 27.022340774536133\n",
      "2021-07-03 23:41 PM : s=Pressure : 59.603065490722656\n",
      "2021-07-03 23:41 PM : s=Flow : 23.19293212890625\n",
      "2021-07-03 23:41 PM : s=Level : 89.4262924194336\n",
      "2021-07-03 23:41 PM : s=Temperature : 23.487356185913086\n",
      "2021-07-03 23:41 PM : s=Pressure : 56.52799606323242\n",
      "2021-07-03 23:41 PM : s=Flow : 59.29054260253906\n",
      "2021-07-03 23:41 PM : s=Level : 78.69768524169922\n",
      "2021-07-03 23:41 PM : s=Temperature : 67.97534942626953\n",
      "2021-07-03 23:41 PM : s=Pressure : 48.309818267822266\n",
      "2021-07-03 23:41 PM : s=Flow : 59.51892852783203\n",
      "2021-07-03 23:41 PM : s=Level : 19.267004013061523\n",
      "2021-07-03 23:42 PM : s=Temperature : 92.45394897460938\n",
      "2021-07-03 23:42 PM : s=Pressure : 21.062944412231445\n",
      "2021-07-03 23:42 PM : s=Flow : 73.89642333984375\n",
      "2021-07-03 23:42 PM : s=Level : 68.61451721191406\n"
     ]
    }
   ],
   "source": [
    "handler = SubscriptionHandler()\n",
    "sub = client.create_subscription(500, handler)\n",
    "handle = sub.subscribe_data_change(myvar)\n",
    "time.sleep(0.1)"
   ]
  },
  {
   "cell_type": "markdown",
   "id": "87b8624a",
   "metadata": {},
   "source": [
    "# Unscbscribe to Variable Node"
   ]
  },
  {
   "cell_type": "code",
   "execution_count": 16,
   "id": "1b5901c9",
   "metadata": {},
   "outputs": [],
   "source": [
    "sub.unsubscribe(handle)"
   ]
  },
  {
   "cell_type": "markdown",
   "id": "873eb9a3",
   "metadata": {},
   "source": [
    "# Disconnect Client from OPC-UA Server"
   ]
  },
  {
   "cell_type": "code",
   "execution_count": 17,
   "id": "4b98b617",
   "metadata": {},
   "outputs": [],
   "source": [
    "client.disconnect()"
   ]
  }
 ],
 "metadata": {
  "kernelspec": {
   "display_name": "Python 3",
   "language": "python",
   "name": "python3"
  },
  "language_info": {
   "codemirror_mode": {
    "name": "ipython",
    "version": 3
   },
   "file_extension": ".py",
   "mimetype": "text/x-python",
   "name": "python",
   "nbconvert_exporter": "python",
   "pygments_lexer": "ipython3",
   "version": "3.6.8"
  }
 },
 "nbformat": 4,
 "nbformat_minor": 5
}
