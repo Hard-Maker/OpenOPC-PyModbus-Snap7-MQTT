{
 "cells": [
  {
   "cell_type": "markdown",
   "id": "d39ef4c6",
   "metadata": {},
   "source": [
    "# Import Required Function from Library"
   ]
  },
  {
   "cell_type": "code",
   "execution_count": 1,
   "id": "b78eb6e8",
   "metadata": {},
   "outputs": [],
   "source": [
    "import time\n",
    "from opcua import Client, ua, Node\n",
    "from datetime import datetime"
   ]
  },
  {
   "cell_type": "markdown",
   "id": "f79550c5",
   "metadata": {},
   "source": [
    "# SubscriptionHandler Class\n",
    "- We will Get Update When Value Changes "
   ]
  },
  {
   "cell_type": "code",
   "execution_count": 2,
   "id": "2ae26cc1",
   "metadata": {},
   "outputs": [],
   "source": [
    "class SubscriptionHandler:\n",
    "    def datachange_notification(self, node: Node, val, data):\n",
    "        print(str(datetime.now().strftime(\"%Y-%m-%d %H:%M %p\")) + \" : \" + str(node) + \" : \" + str(val))"
   ]
  },
  {
   "cell_type": "code",
   "execution_count": 3,
   "id": "dba8fbdc",
   "metadata": {},
   "outputs": [],
   "source": [
    "client = Client(\"opc.tcp://127.0.0.1:4848\")"
   ]
  },
  {
   "cell_type": "code",
   "execution_count": 5,
   "id": "0a8a5725",
   "metadata": {},
   "outputs": [],
   "source": [
    "client.connect()"
   ]
  },
  {
   "cell_type": "markdown",
   "id": "1b3929a5",
   "metadata": {},
   "source": [
    "# Get Variable Node Using its Browse Path"
   ]
  },
  {
   "cell_type": "code",
   "execution_count": 7,
   "id": "1495ecc4",
   "metadata": {},
   "outputs": [],
   "source": [
    "myvar = client.get_node(\"ns=2;i=1\").get_children()"
   ]
  },
  {
   "cell_type": "code",
   "execution_count": 9,
   "id": "8bc5f293",
   "metadata": {},
   "outputs": [
    {
     "data": {
      "text/plain": [
       "[Node(StringNodeId(ns=2;s=Temperature)),\n",
       " Node(StringNodeId(ns=2;s=Pressure)),\n",
       " Node(StringNodeId(ns=2;s=Flow)),\n",
       " Node(StringNodeId(ns=2;s=Level))]"
      ]
     },
     "execution_count": 9,
     "metadata": {},
     "output_type": "execute_result"
    }
   ],
   "source": [
    "myvar"
   ]
  },
  {
   "cell_type": "markdown",
   "id": "3d4e9ea8",
   "metadata": {},
   "source": [
    "# Subscribing to Variable Node & Get Update for Every Data (Variable Value) Change\n",
    "\n",
    "- Variable Node is Parent Node which Contain All Variables"
   ]
  },
  {
   "cell_type": "code",
   "execution_count": 10,
   "id": "d5e17acc",
   "metadata": {},
   "outputs": [
    {
     "name": "stdout",
     "output_type": "stream",
     "text": [
      "2021-07-04 11:42 AM : ns=2;s=Temperature : 98.29511260986328\n",
      "2021-07-04 11:42 AM : ns=2;s=Pressure : 13.568778038024902\n",
      "2021-07-04 11:42 AM : ns=2;s=Flow : 77.5542984008789\n",
      "2021-07-04 11:42 AM : ns=2;s=Level : 63.06496047973633\n",
      "2021-07-04 11:42 AM : ns=2;s=Temperature : 83.2208251953125\n",
      "2021-07-04 11:42 AM : ns=2;s=Pressure : 81.25426483154297\n",
      "2021-07-04 11:42 AM : ns=2;s=Flow : 17.664003372192383\n",
      "2021-07-04 11:42 AM : ns=2;s=Level : 53.90167999267578\n",
      "2021-07-04 11:42 AM : ns=2;s=Temperature : 10.525397300720215\n",
      "2021-07-04 11:42 AM : ns=2;s=Pressure : 96.28215789794922\n",
      "2021-07-04 11:42 AM : ns=2;s=Flow : 81.66461181640625\n",
      "2021-07-04 11:42 AM : ns=2;s=Level : 58.60186004638672\n",
      "2021-07-04 11:43 AM : ns=2;s=Temperature : 91.44705963134766\n",
      "2021-07-04 11:43 AM : ns=2;s=Pressure : 40.95040512084961\n",
      "2021-07-04 11:43 AM : ns=2;s=Flow : 37.22564697265625\n",
      "2021-07-04 11:43 AM : ns=2;s=Level : 74.19078063964844\n",
      "2021-07-04 11:43 AM : ns=2;s=Temperature : 36.616973876953125\n",
      "2021-07-04 11:43 AM : ns=2;s=Pressure : 73.48348236083984\n",
      "2021-07-04 11:43 AM : ns=2;s=Flow : 46.032127380371094\n",
      "2021-07-04 11:43 AM : ns=2;s=Level : 48.31850051879883\n",
      "2021-07-04 11:43 AM : ns=2;s=Temperature : 73.59635925292969\n",
      "2021-07-04 11:43 AM : ns=2;s=Pressure : 82.3417739868164\n",
      "2021-07-04 11:43 AM : ns=2;s=Flow : 49.68190383911133\n",
      "2021-07-04 11:43 AM : ns=2;s=Level : 35.67745590209961\n",
      "2021-07-04 11:43 AM : ns=2;s=Temperature : 97.01167297363281\n",
      "2021-07-04 11:43 AM : ns=2;s=Pressure : 55.57359313964844\n",
      "2021-07-04 11:43 AM : ns=2;s=Flow : 38.74312210083008\n",
      "2021-07-04 11:43 AM : ns=2;s=Level : 30.748390197753906\n",
      "2021-07-04 11:43 AM : ns=2;s=Temperature : 23.5592098236084\n",
      "2021-07-04 11:43 AM : ns=2;s=Pressure : 86.69001770019531\n",
      "2021-07-04 11:43 AM : ns=2;s=Flow : 87.32638549804688\n",
      "2021-07-04 11:43 AM : ns=2;s=Level : 26.60456657409668\n",
      "2021-07-04 11:43 AM : ns=2;s=Temperature : 86.70425415039062\n",
      "2021-07-04 11:43 AM : ns=2;s=Pressure : 11.768608093261719\n",
      "2021-07-04 11:43 AM : ns=2;s=Flow : 55.894161224365234\n",
      "2021-07-04 11:43 AM : ns=2;s=Level : 16.888235092163086\n",
      "2021-07-04 11:43 AM : ns=2;s=Temperature : 39.72727584838867\n",
      "2021-07-04 11:43 AM : ns=2;s=Pressure : 83.9310302734375\n",
      "2021-07-04 11:43 AM : ns=2;s=Flow : 31.725732803344727\n",
      "2021-07-04 11:43 AM : ns=2;s=Level : 68.6043472290039\n",
      "2021-07-04 11:43 AM : ns=2;s=Temperature : 67.24977111816406\n",
      "2021-07-04 11:43 AM : ns=2;s=Pressure : 99.38440704345703\n",
      "2021-07-04 11:43 AM : ns=2;s=Flow : 58.0147705078125\n",
      "2021-07-04 11:43 AM : ns=2;s=Level : 54.73479080200195\n",
      "2021-07-04 11:43 AM : ns=2;s=Temperature : 14.574716567993164\n",
      "2021-07-04 11:43 AM : ns=2;s=Pressure : 49.07533645629883\n",
      "2021-07-04 11:43 AM : ns=2;s=Flow : 60.33344268798828\n",
      "2021-07-04 11:43 AM : ns=2;s=Level : 37.37114334106445\n",
      "2021-07-04 11:43 AM : ns=2;s=Temperature : 37.41830825805664\n",
      "2021-07-04 11:43 AM : ns=2;s=Pressure : 18.722030639648438\n",
      "2021-07-04 11:43 AM : ns=2;s=Flow : 87.01847839355469\n",
      "2021-07-04 11:43 AM : ns=2;s=Level : 71.96295166015625\n",
      "2021-07-04 11:43 AM : ns=2;s=Temperature : 47.546897888183594\n",
      "2021-07-04 11:43 AM : ns=2;s=Pressure : 15.625950813293457\n",
      "2021-07-04 11:43 AM : ns=2;s=Flow : 75.43879699707031\n",
      "2021-07-04 11:43 AM : ns=2;s=Level : 30.340499877929688\n",
      "2021-07-04 11:43 AM : ns=2;s=Temperature : 77.44690704345703\n",
      "2021-07-04 11:43 AM : ns=2;s=Pressure : 64.05628967285156\n",
      "2021-07-04 11:43 AM : ns=2;s=Flow : 70.22026062011719\n",
      "2021-07-04 11:43 AM : ns=2;s=Level : 59.45231628417969\n",
      "2021-07-04 11:44 AM : ns=2;s=Temperature : 14.581921577453613\n",
      "2021-07-04 11:44 AM : ns=2;s=Pressure : 64.836181640625\n",
      "2021-07-04 11:44 AM : ns=2;s=Flow : 45.88218688964844\n",
      "2021-07-04 11:44 AM : ns=2;s=Level : 97.24607849121094\n",
      "2021-07-04 11:44 AM : ns=2;s=Temperature : 86.55421447753906\n",
      "2021-07-04 11:44 AM : ns=2;s=Pressure : 91.26021575927734\n",
      "2021-07-04 11:44 AM : ns=2;s=Flow : 22.97583770751953\n",
      "2021-07-04 11:44 AM : ns=2;s=Level : 10.139719009399414\n",
      "2021-07-04 11:44 AM : ns=2;s=Temperature : 81.97291564941406\n",
      "2021-07-04 11:44 AM : ns=2;s=Pressure : 54.891212463378906\n",
      "2021-07-04 11:44 AM : ns=2;s=Flow : 89.58625793457031\n",
      "2021-07-04 11:44 AM : ns=2;s=Level : 55.02418518066406\n",
      "2021-07-04 11:44 AM : ns=2;s=Temperature : 30.587711334228516\n",
      "2021-07-04 11:44 AM : ns=2;s=Pressure : 50.444828033447266\n",
      "2021-07-04 11:44 AM : ns=2;s=Flow : 52.342674255371094\n",
      "2021-07-04 11:44 AM : ns=2;s=Level : 70.54631805419922\n",
      "2021-07-04 11:44 AM : ns=2;s=Temperature : 95.52734375\n",
      "2021-07-04 11:44 AM : ns=2;s=Pressure : 24.83766746520996\n",
      "2021-07-04 11:44 AM : ns=2;s=Flow : 87.6556396484375\n",
      "2021-07-04 11:44 AM : ns=2;s=Level : 62.02444076538086\n",
      "2021-07-04 11:44 AM : ns=2;s=Temperature : 14.3634614944458\n",
      "2021-07-04 11:44 AM : ns=2;s=Pressure : 12.50360107421875\n",
      "2021-07-04 11:44 AM : ns=2;s=Flow : 77.5811767578125\n",
      "2021-07-04 11:44 AM : ns=2;s=Level : 54.88187789916992\n",
      "2021-07-04 11:44 AM : ns=2;s=Temperature : 37.812400817871094\n",
      "2021-07-04 11:44 AM : ns=2;s=Pressure : 28.133472442626953\n",
      "2021-07-04 11:44 AM : ns=2;s=Flow : 87.44453430175781\n",
      "2021-07-04 11:44 AM : ns=2;s=Level : 34.329811096191406\n",
      "2021-07-04 11:44 AM : ns=2;s=Temperature : 52.064449310302734\n",
      "2021-07-04 11:44 AM : ns=2;s=Pressure : 51.270992279052734\n",
      "2021-07-04 11:44 AM : ns=2;s=Flow : 66.58721160888672\n",
      "2021-07-04 11:44 AM : ns=2;s=Level : 29.976661682128906\n",
      "2021-07-04 11:44 AM : ns=2;s=Temperature : 96.1315689086914\n",
      "2021-07-04 11:44 AM : ns=2;s=Pressure : 64.77827453613281\n",
      "2021-07-04 11:44 AM : ns=2;s=Flow : 28.370189666748047\n",
      "2021-07-04 11:44 AM : ns=2;s=Level : 50.71870422363281\n",
      "2021-07-04 11:44 AM : ns=2;s=Temperature : 81.56094360351562\n",
      "2021-07-04 11:44 AM : ns=2;s=Pressure : 17.542449951171875\n",
      "2021-07-04 11:44 AM : ns=2;s=Flow : 20.274625778198242\n",
      "2021-07-04 11:44 AM : ns=2;s=Level : 46.78509521484375\n",
      "2021-07-04 11:44 AM : ns=2;s=Temperature : 55.489864349365234\n",
      "2021-07-04 11:44 AM : ns=2;s=Pressure : 58.703189849853516\n",
      "2021-07-04 11:44 AM : ns=2;s=Flow : 93.1841812133789\n",
      "2021-07-04 11:44 AM : ns=2;s=Level : 71.24190521240234\n"
     ]
    }
   ],
   "source": [
    "handler = SubscriptionHandler()\n",
    "sub = client.create_subscription(500, handler)\n",
    "handle = sub.subscribe_data_change(myvar)\n",
    "time.sleep(0.1)"
   ]
  },
  {
   "cell_type": "markdown",
   "id": "ec5c1c4f",
   "metadata": {},
   "source": [
    "# Unscbscribe to Variable Node"
   ]
  },
  {
   "cell_type": "code",
   "execution_count": 11,
   "id": "1298cada",
   "metadata": {},
   "outputs": [],
   "source": [
    "sub.unsubscribe(handle)"
   ]
  },
  {
   "cell_type": "markdown",
   "id": "38596804",
   "metadata": {},
   "source": [
    "# Disconnect Client from OPC-UA Server"
   ]
  },
  {
   "cell_type": "code",
   "execution_count": 12,
   "id": "11383c8a",
   "metadata": {},
   "outputs": [],
   "source": [
    "client.disconnect()"
   ]
  },
  {
   "cell_type": "code",
   "execution_count": null,
   "id": "5ae74f87",
   "metadata": {},
   "outputs": [],
   "source": []
  }
 ],
 "metadata": {
  "kernelspec": {
   "display_name": "Python 3",
   "language": "python",
   "name": "python3"
  },
  "language_info": {
   "codemirror_mode": {
    "name": "ipython",
    "version": 3
   },
   "file_extension": ".py",
   "mimetype": "text/x-python",
   "name": "python",
   "nbconvert_exporter": "python",
   "pygments_lexer": "ipython3",
   "version": "3.6.8"
  }
 },
 "nbformat": 4,
 "nbformat_minor": 5
}
