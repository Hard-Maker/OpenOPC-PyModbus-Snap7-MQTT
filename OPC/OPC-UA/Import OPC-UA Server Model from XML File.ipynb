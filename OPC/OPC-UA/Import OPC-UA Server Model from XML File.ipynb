{
 "cells": [
  {
   "cell_type": "code",
   "execution_count": null,
   "id": "alpha-moment",
   "metadata": {},
   "outputs": [],
   "source": [
    "!python -m pip install opcua"
   ]
  },
  {
   "cell_type": "markdown",
   "id": "gorgeous-potato",
   "metadata": {},
   "source": [
    "# Import Required Library for OPC-UA Server"
   ]
  },
  {
   "cell_type": "code",
   "execution_count": null,
   "id": "latter-prague",
   "metadata": {},
   "outputs": [],
   "source": [
    "from opcua import ua, uamethod, Server\n",
    "from opcua.common.xmlexporter import XmlExporter"
   ]
  },
  {
   "cell_type": "markdown",
   "id": "homeless-walker",
   "metadata": {},
   "source": [
    "# Setting Up OPC-UA Server Parameter"
   ]
  },
  {
   "cell_type": "code",
   "execution_count": null,
   "id": "undefined-outreach",
   "metadata": {},
   "outputs": [],
   "source": [
    "server = Server()\n",
    "url = \"opc.tcp://127.0.0.1:4840\"\n",
    "server.set_endpoint(url)"
   ]
  },
  {
   "cell_type": "markdown",
   "id": "confidential-bacon",
   "metadata": {},
   "source": [
    "# Import Server Model from XML File"
   ]
  },
  {
   "cell_type": "code",
   "execution_count": null,
   "id": "velvet-municipality",
   "metadata": {},
   "outputs": [],
   "source": [
    "server.import_xml('Server_Model.xml')"
   ]
  },
  {
   "cell_type": "markdown",
   "id": "fiscal-latitude",
   "metadata": {},
   "source": [
    "# Start OPC-UA Server"
   ]
  },
  {
   "cell_type": "code",
   "execution_count": null,
   "id": "elder-sculpture",
   "metadata": {},
   "outputs": [],
   "source": [
    "server.start()\n",
    "print(\"Server started at {}\".format(url))"
   ]
  },
  {
   "cell_type": "markdown",
   "id": "recreational-federation",
   "metadata": {},
   "source": [
    "# Stop OPC-UA Server"
   ]
  },
  {
   "cell_type": "code",
   "execution_count": null,
   "id": "affiliated-mountain",
   "metadata": {},
   "outputs": [],
   "source": [
    "server.stop()"
   ]
  }
 ],
 "metadata": {
  "kernelspec": {
   "display_name": "Python 3",
   "language": "python",
   "name": "python3"
  },
  "language_info": {
   "codemirror_mode": {
    "name": "ipython",
    "version": 3
   },
   "file_extension": ".py",
   "mimetype": "text/x-python",
   "name": "python",
   "nbconvert_exporter": "python",
   "pygments_lexer": "ipython3",
   "version": "3.6.8"
  }
 },
 "nbformat": 4,
 "nbformat_minor": 5
}
