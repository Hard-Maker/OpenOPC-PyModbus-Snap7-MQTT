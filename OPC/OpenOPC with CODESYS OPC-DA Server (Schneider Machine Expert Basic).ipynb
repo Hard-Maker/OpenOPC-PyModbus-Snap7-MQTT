{
 "cells": [
  {
   "cell_type": "markdown",
   "id": "suspected-laptop",
   "metadata": {},
   "source": [
    "# Import All Required Libraries "
   ]
  },
  {
   "cell_type": "code",
   "execution_count": null,
   "id": "alternative-latino",
   "metadata": {},
   "outputs": [],
   "source": [
    "import OpenOPC\n",
    "import pywintypes # To avoid timeout error\n",
    "pywintypes.datetime=pywintypes.TimeType"
   ]
  },
  {
   "cell_type": "markdown",
   "id": "international-burton",
   "metadata": {},
   "source": [
    "# Initiate OPC Client"
   ]
  },
  {
   "cell_type": "code",
   "execution_count": null,
   "id": "minor-holiday",
   "metadata": {},
   "outputs": [],
   "source": [
    "opc = OpenOPC.client()"
   ]
  },
  {
   "cell_type": "markdown",
   "id": "extensive-moisture",
   "metadata": {},
   "source": [
    "# Search for all available OPC Servers"
   ]
  },
  {
   "cell_type": "code",
   "execution_count": null,
   "id": "handy-perth",
   "metadata": {},
   "outputs": [],
   "source": [
    "servers = opc.servers()\n",
    "print (servers)"
   ]
  },
  {
   "cell_type": "markdown",
   "id": "linear-patio",
   "metadata": {},
   "source": [
    "# Connect with Specific OPC Server"
   ]
  },
  {
   "cell_type": "code",
   "execution_count": null,
   "id": "thick-austria",
   "metadata": {},
   "outputs": [],
   "source": [
    "opc.connect('CoDeSys.OPC.DA')"
   ]
  },
  {
   "cell_type": "markdown",
   "id": "bibliographic-sheep",
   "metadata": {},
   "source": [
    "# Get list of available aliases"
   ]
  },
  {
   "cell_type": "code",
   "execution_count": null,
   "id": "composite-lancaster",
   "metadata": {},
   "outputs": [],
   "source": [
    "aliases = opc.list()"
   ]
  },
  {
   "cell_type": "code",
   "execution_count": null,
   "id": "religious-mongolia",
   "metadata": {},
   "outputs": [],
   "source": [
    "aliases = opc.list(\".INC*\")\n",
    "print (aliases)"
   ]
  },
  {
   "cell_type": "code",
   "execution_count": null,
   "id": "retired-bedroom",
   "metadata": {},
   "outputs": [],
   "source": [
    "group = ['ACDB_INC1_OFF', 'ACDB_INC1_ON', 'ACDB_INC1_TRIP', 'ACDB_MFM_AVAILABILITY', 'ACDB_MFM_AVG_AMP',]"
   ]
  },
  {
   "cell_type": "code",
   "execution_count": null,
   "id": "central-preview",
   "metadata": {},
   "outputs": [],
   "source": [
    "groups = opc.list('PLC')\n",
    "print(groups)"
   ]
  },
  {
   "cell_type": "markdown",
   "id": "filled-exploration",
   "metadata": {},
   "source": [
    "# Get list of available sub-alias in specific alias"
   ]
  },
  {
   "cell_type": "code",
   "execution_count": null,
   "id": "needed-gothic",
   "metadata": {},
   "outputs": [],
   "source": [
    "salias = opc.list('PLC.Application')\n",
    "print(salias)"
   ]
  },
  {
   "cell_type": "markdown",
   "id": "czech-bathroom",
   "metadata": {},
   "source": [
    "# Get list of available groups in specific alias"
   ]
  },
  {
   "cell_type": "code",
   "execution_count": null,
   "id": "awful-possible",
   "metadata": {},
   "outputs": [],
   "source": [
    "group = opc.list('PLC.Application.GVL.*')\n",
    "print(group)"
   ]
  },
  {
   "cell_type": "markdown",
   "id": "positive-drill",
   "metadata": {},
   "source": [
    "# Get list of avaible tags in specfic group"
   ]
  },
  {
   "cell_type": "code",
   "execution_count": null,
   "id": "present-representative",
   "metadata": {},
   "outputs": [],
   "source": [
    "tags = opc.list('PLC.Application.GVL.RTCFORHmi')\n",
    "print(tags)"
   ]
  },
  {
   "cell_type": "markdown",
   "id": "regular-cancer",
   "metadata": {},
   "source": [
    "# Reading Tag Values"
   ]
  },
  {
   "cell_type": "code",
   "execution_count": null,
   "id": "royal-times",
   "metadata": {},
   "outputs": [],
   "source": [
    "opc.read('PLC.Application.GVL.RTCFORHmi.CDT')"
   ]
  },
  {
   "cell_type": "markdown",
   "id": "accompanied-pastor",
   "metadata": {},
   "source": [
    "# Reading all values of Specific group"
   ]
  },
  {
   "cell_type": "code",
   "execution_count": null,
   "id": "coated-tribe",
   "metadata": {},
   "outputs": [],
   "source": [
    "opc.read(opc.list('SchneiderElectric.SCADA.OpcDaServer.1.*'))"
   ]
  },
  {
   "cell_type": "code",
   "execution_count": null,
   "id": "mysterious-drive",
   "metadata": {},
   "outputs": [],
   "source": [
    "for name, value, quality, time in opc.iread(opc.list('SchneiderElectric.SCADA.OpcDaServer.1.*')):\n",
    "    print (name + \" : \" + str(value))"
   ]
  },
  {
   "cell_type": "code",
   "execution_count": null,
   "id": "owned-shipping",
   "metadata": {},
   "outputs": [],
   "source": [
    "opc.close()"
   ]
  },
  {
   "cell_type": "code",
   "execution_count": null,
   "id": "coral-fellow",
   "metadata": {},
   "outputs": [],
   "source": [
    "for i in aliases:\n",
    "    data = opc.read(i)\n",
    "    print (data)"
   ]
  },
  {
   "cell_type": "code",
   "execution_count": null,
   "id": "introductory-produce",
   "metadata": {},
   "outputs": [],
   "source": []
  }
 ],
 "metadata": {
  "kernelspec": {
   "display_name": "Python 3",
   "language": "python",
   "name": "python3"
  },
  "language_info": {
   "codemirror_mode": {
    "name": "ipython",
    "version": 3
   },
   "file_extension": ".py",
   "mimetype": "text/x-python",
   "name": "python",
   "nbconvert_exporter": "python",
   "pygments_lexer": "ipython3",
   "version": "3.6.8"
  }
 },
 "nbformat": 4,
 "nbformat_minor": 5
}
