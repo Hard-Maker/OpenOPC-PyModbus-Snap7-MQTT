{
 "cells": [
  {
   "cell_type": "markdown",
   "id": "suspected-laptop",
   "metadata": {},
   "source": [
    "# Import All Required Libraries "
   ]
  },
  {
   "cell_type": "code",
   "execution_count": 28,
   "id": "alternative-latino",
   "metadata": {},
   "outputs": [],
   "source": [
    "import OpenOPC\n",
    "import pywintypes # To avoid timeout error\n",
    "pywintypes.datetime=pywintypes.TimeType"
   ]
  },
  {
   "cell_type": "markdown",
   "id": "international-burton",
   "metadata": {},
   "source": [
    "# Initiate OPC Client"
   ]
  },
  {
   "cell_type": "code",
   "execution_count": 20,
   "id": "minor-holiday",
   "metadata": {},
   "outputs": [],
   "source": [
    "opc = OpenOPC.client()"
   ]
  },
  {
   "cell_type": "markdown",
   "id": "extensive-moisture",
   "metadata": {},
   "source": [
    "# Search for all available OPC Servers"
   ]
  },
  {
   "cell_type": "code",
   "execution_count": 21,
   "id": "handy-perth",
   "metadata": {},
   "outputs": [
    {
     "name": "stdout",
     "output_type": "stream",
     "text": [
      "['CoDeSys.OPC.DA', 'SchneiderElectric.SCADA.OpcDaServer.1', 'Schneider-Aut.OFS.2', 'Matrikon.OPC.Simulation.1']\n"
     ]
    }
   ],
   "source": [
    "servers = opc.servers()\n",
    "print (servers)"
   ]
  },
  {
   "cell_type": "markdown",
   "id": "linear-patio",
   "metadata": {},
   "source": [
    "# Connect with Specific OPC Server"
   ]
  },
  {
   "cell_type": "code",
   "execution_count": 22,
   "id": "thick-austria",
   "metadata": {},
   "outputs": [],
   "source": [
    "opc.connect('SchneiderElectric.SCADA.OpcDaServer.1')"
   ]
  },
  {
   "cell_type": "markdown",
   "id": "bibliographic-sheep",
   "metadata": {},
   "source": [
    "# Get list of available aliases"
   ]
  },
  {
   "cell_type": "code",
   "execution_count": 33,
   "id": "composite-lancaster",
   "metadata": {},
   "outputs": [
    {
     "data": {
      "text/plain": [
       "1255"
      ]
     },
     "execution_count": 33,
     "metadata": {},
     "output_type": "execute_result"
    }
   ],
   "source": [
    "aliases = opc.list()\n",
    "#print (aliases)\n",
    "\n",
    "len(aliases)"
   ]
  },
  {
   "cell_type": "code",
   "execution_count": 32,
   "id": "religious-mongolia",
   "metadata": {},
   "outputs": [
    {
     "name": "stdout",
     "output_type": "stream",
     "text": [
      "['INC1_HT_CB_LOCKOUT', 'INC1_HT_CB_LR', 'INC1_HT_CB_MST_TRP', 'INC1_HT_CB_OFF', 'INC1_HT_CB_OFF_CMD', 'INC1_HT_CB_ON', 'INC1_HT_CB_ON_CMD', 'INC1_HT_CB_RLY_HLTHY', 'INC1_HT_CB_SM', 'INC1_HT_CB_SP', 'INC1_HT_CB_TCH', 'INC1_MFM_AVAILABILITY', 'INC1_MFM_AVG_AMP', 'INC1_MFM_BRKDWN_LOSS', 'INC1_MFM_BRKDWN_MNT', 'INC1_MFM_COMM_STS', 'INC1_MFM_CPR', 'INC1_MFM_DC_CAP', 'INC1_MFM_EXP_KVARH', 'INC1_MFM_EXP_KWH', 'INC1_MFM_HZ', 'INC1_MFM_IB', 'INC1_MFM_IMP_KVARH', 'INC1_MFM_IMP_KWH', 'INC1_MFM_IR', 'INC1_MFM_IY', 'INC1_MFM_KVA', 'INC1_MFM_KVAR', 'INC1_MFM_KW', 'INC1_MFM_PF', 'INC1_MFM_PR', 'INC1_MFM_Today_KWH', 'INC1_MFM_VBR', 'INC1_MFM_VRY', 'INC1_MFM_VYB', 'INC1_MFM_YEST_KWH', 'INC1_RELAY_EF_IDMT', 'INC1_RELAY_EF_INST', 'INC1_RELAY_EF_OPERATED', 'INC1_RELAY_FAULT_LOCATOR', 'INC1_RELAY_FUSE_FAIL', 'INC1_RELAY_FUSE_FAILURE_PROT', 'INC1_RELAY_GENERAL_PROTECTION_TRIP', 'INC1_RELAY_IED_FAIL', 'INC1_RELAY_LED_RESET', 'INC1_RELAY_MAIN1_FAIL', 'INC1_RELAY_MAIN2_FAIL', 'INC1_RELAY_OC_IDMT', 'INC1_RELAY_OC_IDMT_B', 'INC1_RELAY_OC_IDMT_R', 'INC1_RELAY_OC_IDMT_Y', 'INC1_RELAY_OC_INST', 'INC1_RELAY_OC_OPERATED', 'INC1_RELAY_OV_OPERATED', 'INC1_RELAY_OV_STAGE1', 'INC1_RELAY_OV_STAGE2', 'INC1_RELAY_OV_START', 'INC2_HT_CB_LOCKOUT', 'INC2_HT_CB_LR', 'INC2_HT_CB_MST_TRP', 'INC2_HT_CB_OFF', 'INC2_HT_CB_OFF_CMD', 'INC2_HT_CB_ON', 'INC2_HT_CB_ON_CMD', 'INC2_HT_CB_RLY_HLTHY', 'INC2_HT_CB_SM', 'INC2_HT_CB_SP', 'INC2_HT_CB_TCH', 'INC2_MFM_AVAILABILITY', 'INC2_MFM_AVG_AMP', 'INC2_MFM_BRKDWN_LOSS', 'INC2_MFM_BRKDWN_MNT', 'INC2_MFM_COMM_STS', 'INC2_MFM_CPR', 'INC2_MFM_DC_CAP', 'INC2_MFM_EXP_KVARH', 'INC2_MFM_EXP_KWH', 'INC2_MFM_HZ', 'INC2_MFM_IB', 'INC2_MFM_IMP_KVARH', 'INC2_MFM_IMP_KWH', 'INC2_MFM_IR', 'INC2_MFM_IY', 'INC2_MFM_KVA', 'INC2_MFM_KVAR', 'INC2_MFM_KW', 'INC2_MFM_PF', 'INC2_MFM_PR', 'INC2_MFM_Today_KWH', 'INC2_MFM_VBR', 'INC2_MFM_VRY', 'INC2_MFM_VYB', 'INC2_MFM_YEST_KWH', 'INC2_RELAY_EF_IDMT', 'INC2_RELAY_EF_INST', 'INC2_RELAY_EF_OPERATED', 'INC2_RELAY_FAULT_LOCATOR', 'INC2_RELAY_FUSE_FAIL', 'INC2_RELAY_FUSE_FAILURE_PROT', 'INC2_RELAY_GENERAL_PROTECTION_TRIP', 'INC2_RELAY_IED_FAIL', 'INC2_RELAY_LED_RESET', 'INC2_RELAY_MAIN1_FAIL', 'INC2_RELAY_MAIN2_FAIL', 'INC2_RELAY_OC_IDMT', 'INC2_RELAY_OC_IDMT_B', 'INC2_RELAY_OC_IDMT_R', 'INC2_RELAY_OC_IDMT_Y', 'INC2_RELAY_OC_INST', 'INC2_RELAY_OC_OPERATED', 'INC2_RELAY_OV_OPERATED', 'INC2_RELAY_OV_STAGE1', 'INC2_RELAY_OV_STAGE2', 'INC2_RELAY_OV_START', 'INC3_HT_CB_LOCKOUT', 'INC3_HT_CB_LR', 'INC3_HT_CB_MST_TRP', 'INC3_HT_CB_OFF', 'INC3_HT_CB_OFF_CMD', 'INC3_HT_CB_ON', 'INC3_HT_CB_ON_CMD', 'INC3_HT_CB_RLY_HLTHY', 'INC3_HT_CB_SM', 'INC3_HT_CB_SP', 'INC3_HT_CB_TCH', 'INC3_MFM_AVAILABILITY', 'INC3_MFM_AVG_AMP', 'INC3_MFM_BRKDWN_LOSS', 'INC3_MFM_BRKDWN_MNT', 'INC3_MFM_COMM_STS', 'INC3_MFM_CPR', 'INC3_MFM_DC_CAP', 'INC3_MFM_EXP_KVARH', 'INC3_MFM_EXP_KWH', 'INC3_MFM_HZ', 'INC3_MFM_IB', 'INC3_MFM_IMP_KVARH', 'INC3_MFM_IMP_KWH', 'INC3_MFM_IR', 'INC3_MFM_IY', 'INC3_MFM_KVA', 'INC3_MFM_KVAR', 'INC3_MFM_KW', 'INC3_MFM_PF', 'INC3_MFM_PR', 'INC3_MFM_Today_KWH', 'INC3_MFM_VBR', 'INC3_MFM_VRY', 'INC3_MFM_VYB', 'INC3_MFM_YEST_KWH', 'INC3_RELAY_EF_IDMT', 'INC3_RELAY_EF_INST', 'INC3_RELAY_EF_OPERATED', 'INC3_RELAY_FAULT_LOCATOR', 'INC3_RELAY_FUSE_FAIL', 'INC3_RELAY_FUSE_FAILURE_PROT', 'INC3_RELAY_GENERAL_PROTECTION_TRIP', 'INC3_RELAY_IED_FAIL', 'INC3_RELAY_LED_RESET', 'INC3_RELAY_MAIN1_FAIL', 'INC3_RELAY_MAIN2_FAIL', 'INC3_RELAY_OC_IDMT', 'INC3_RELAY_OC_IDMT_B', 'INC3_RELAY_OC_IDMT_R', 'INC3_RELAY_OC_IDMT_Y', 'INC3_RELAY_OC_INST', 'INC3_RELAY_OC_OPERATED', 'INC3_RELAY_OV_OPERATED', 'INC3_RELAY_OV_STAGE1', 'INC3_RELAY_OV_STAGE2', 'INC3_RELAY_OV_START', 'INC4_HT_CB_LOCKOUT', 'INC4_HT_CB_LR', 'INC4_HT_CB_MST_TRP', 'INC4_HT_CB_OFF', 'INC4_HT_CB_OFF_CMD', 'INC4_HT_CB_ON', 'INC4_HT_CB_ON_CMD', 'INC4_HT_CB_RLY_HLTHY', 'INC4_HT_CB_SM', 'INC4_HT_CB_SP', 'INC4_HT_CB_TCH', 'INC4_MFM_AVAILABILITY', 'INC4_MFM_AVG_AMP', 'INC4_MFM_BRKDWN_LOSS', 'INC4_MFM_BRKDWN_MNT', 'INC4_MFM_COMM_STS', 'INC4_MFM_CPR', 'INC4_MFM_DC_CAP', 'INC4_MFM_EXP_KVARH', 'INC4_MFM_EXP_KWH', 'INC4_MFM_HZ', 'INC4_MFM_IB', 'INC4_MFM_IMP_KVARH', 'INC4_MFM_IMP_KWH', 'INC4_MFM_IR', 'INC4_MFM_IY', 'INC4_MFM_KVA', 'INC4_MFM_KVAR', 'INC4_MFM_KW', 'INC4_MFM_PF', 'INC4_MFM_PR', 'INC4_MFM_Today_KWH', 'INC4_MFM_VBR', 'INC4_MFM_VRY', 'INC4_MFM_VYB', 'INC4_MFM_YEST_KWH', 'INC4_RELAY_EF_IDMT', 'INC4_RELAY_EF_INST', 'INC4_RELAY_EF_OPERATED', 'INC4_RELAY_FAULT_LOCATOR', 'INC4_RELAY_FUSE_FAIL', 'INC4_RELAY_FUSE_FAILURE_PROT', 'INC4_RELAY_GENERAL_PROTECTION_TRIP', 'INC4_RELAY_IED_FAIL', 'INC4_RELAY_LED_RESET', 'INC4_RELAY_MAIN1_FAIL', 'INC4_RELAY_MAIN2_FAIL', 'INC4_RELAY_OC_IDMT', 'INC4_RELAY_OC_IDMT_B', 'INC4_RELAY_OC_IDMT_R', 'INC4_RELAY_OC_IDMT_Y', 'INC4_RELAY_OC_INST', 'INC4_RELAY_OC_OPERATED', 'INC4_RELAY_OV_OPERATED', 'INC4_RELAY_OV_STAGE1', 'INC4_RELAY_OV_STAGE2', 'INC4_RELAY_OV_START']\n"
     ]
    }
   ],
   "source": [
    "aliases = opc.list(\".INC*\")\n",
    "print (aliases)"
   ]
  },
  {
   "cell_type": "code",
   "execution_count": null,
   "id": "retired-bedroom",
   "metadata": {},
   "outputs": [],
   "source": [
    "group = ['ACDB_INC1_OFF', 'ACDB_INC1_ON', 'ACDB_INC1_TRIP', 'ACDB_MFM_AVAILABILITY', 'ACDB_MFM_AVG_AMP',]"
   ]
  },
  {
   "cell_type": "code",
   "execution_count": 8,
   "id": "central-preview",
   "metadata": {},
   "outputs": [
    {
     "name": "stdout",
     "output_type": "stream",
     "text": [
      "['Application']\n"
     ]
    }
   ],
   "source": [
    "groups = opc.list('PLC')\n",
    "print(groups)"
   ]
  },
  {
   "cell_type": "markdown",
   "id": "filled-exploration",
   "metadata": {},
   "source": [
    "# Get list of available sub-alias in specific alias"
   ]
  },
  {
   "cell_type": "code",
   "execution_count": 9,
   "id": "needed-gothic",
   "metadata": {},
   "outputs": [
    {
     "name": "stdout",
     "output_type": "stream",
     "text": [
      "['GVL']\n"
     ]
    }
   ],
   "source": [
    "salias = opc.list('PLC.Application')\n",
    "print(salias)"
   ]
  },
  {
   "cell_type": "markdown",
   "id": "czech-bathroom",
   "metadata": {},
   "source": [
    "# Get list of available groups in specific alias"
   ]
  },
  {
   "cell_type": "code",
   "execution_count": 11,
   "id": "awful-possible",
   "metadata": {},
   "outputs": [
    {
     "name": "stdout",
     "output_type": "stream",
     "text": [
      "['ACDB_EM', 'AUX_EM', 'AUX_HT', 'ICR1_EM', 'ICR1_HT', 'ICR1_INV1', 'ICR1_INV1_SMB1', 'ICR1_INV1_SMB10', 'ICR1_INV1_SMB11', 'ICR1_INV1_SMB12', 'ICR1_INV1_SMB13', 'ICR1_INV1_SMB14', 'ICR1_INV1_SMB15', 'ICR1_INV1_SMB2', 'ICR1_INV1_SMB3', 'ICR1_INV1_SMB4', 'ICR1_INV1_SMB5', 'ICR1_INV1_SMB6', 'ICR1_INV1_SMB7', 'ICR1_INV1_SMB8', 'ICR1_INV1_SMB9', 'ICR1_INV2', 'ICR1_INV2_SMB1', 'ICR1_INV2_SMB10', 'ICR1_INV2_SMB11', 'ICR1_INV2_SMB12', 'ICR1_INV2_SMB13', 'ICR1_INV2_SMB14', 'ICR1_INV2_SMB15', 'ICR1_INV2_SMB2', 'ICR1_INV2_SMB3', 'ICR1_INV2_SMB4', 'ICR1_INV2_SMB5', 'ICR1_INV2_SMB6', 'ICR1_INV2_SMB7', 'ICR1_INV2_SMB8', 'ICR1_INV2_SMB9', 'ICR1_RELAY', 'ICR1_TRF', 'ICR2_EM', 'ICR2_HT', 'ICR2_INV1', 'ICR2_INV1_SMB1', 'ICR2_INV1_SMB10', 'ICR2_INV1_SMB11', 'ICR2_INV1_SMB12', 'ICR2_INV1_SMB13', 'ICR2_INV1_SMB14', 'ICR2_INV1_SMB15', 'ICR2_INV1_SMB2', 'ICR2_INV1_SMB3', 'ICR2_INV1_SMB4', 'ICR2_INV1_SMB5', 'ICR2_INV1_SMB6', 'ICR2_INV1_SMB7', 'ICR2_INV1_SMB8', 'ICR2_INV1_SMB9', 'ICR2_INV2', 'ICR2_INV2_SMB1', 'ICR2_INV2_SMB10', 'ICR2_INV2_SMB11', 'ICR2_INV2_SMB12', 'ICR2_INV2_SMB13', 'ICR2_INV2_SMB14', 'ICR2_INV2_SMB15', 'ICR2_INV2_SMB2', 'ICR2_INV2_SMB3', 'ICR2_INV2_SMB4', 'ICR2_INV2_SMB5', 'ICR2_INV2_SMB6', 'ICR2_INV2_SMB7', 'ICR2_INV2_SMB8', 'ICR2_INV2_SMB9', 'ICR2_RELAY', 'ICR2_TRF', 'INC1_EM', 'INC1_HT', 'INC1_RELAY', 'INC2_EM', 'INC2_HT', 'INC2_RELAY', 'INC3_EM', 'INC3_HT', 'INC3_RELAY', 'MCR_INV1', 'MCR_INV1_SMB1', 'MCR_INV1_SMB10', 'MCR_INV1_SMB11', 'MCR_INV1_SMB12', 'MCR_INV1_SMB2', 'MCR_INV1_SMB3', 'MCR_INV1_SMB4', 'MCR_INV1_SMB5', 'MCR_INV1_SMB6', 'MCR_INV1_SMB7', 'MCR_INV1_SMB8', 'MCR_INV1_SMB9', 'MCR_TRF', 'OG1_EM', 'OG1_HT', 'OG1_RELAY', 'OG2_EM', 'OG2_HT', 'OG2_RELAY', 'PLC_DIAGNOSTIC', 'PLC_POWER_OFF_DATE', 'PLC_STOP_DATE', 'RTCFORHmi', 'SPARE_EM', 'TVM_EM', 'WMS']\n"
     ]
    }
   ],
   "source": [
    "group = opc.list('PLC.Application.GVL.*')\n",
    "print(group)"
   ]
  },
  {
   "cell_type": "markdown",
   "id": "positive-drill",
   "metadata": {},
   "source": [
    "# Get list of avaible tags in specfic group"
   ]
  },
  {
   "cell_type": "code",
   "execution_count": 14,
   "id": "present-representative",
   "metadata": {},
   "outputs": [
    {
     "name": "stdout",
     "output_type": "stream",
     "text": [
      "['PLC.Application.GVL.RTCFORHmi.CDT', 'PLC.Application.GVL.RTCFORHmi.EN', 'PLC.Application.GVL.RTCFORHmi.PDT', 'PLC.Application.GVL.RTCFORHmi.Q']\n"
     ]
    }
   ],
   "source": [
    "tags = opc.list('PLC.Application.GVL.RTCFORHmi')\n",
    "print(tags)"
   ]
  },
  {
   "cell_type": "markdown",
   "id": "regular-cancer",
   "metadata": {},
   "source": [
    "# Reading Tag Values"
   ]
  },
  {
   "cell_type": "code",
   "execution_count": 15,
   "id": "royal-times",
   "metadata": {},
   "outputs": [
    {
     "data": {
      "text/plain": [
       "('1970-01-01 00:00:00+00:00', 'Good', '2021-01-22 20:35:22.922000+00:00')"
      ]
     },
     "execution_count": 15,
     "metadata": {},
     "output_type": "execute_result"
    }
   ],
   "source": [
    "opc.read('PLC.Application.GVL.RTCFORHmi.CDT')"
   ]
  },
  {
   "cell_type": "markdown",
   "id": "accompanied-pastor",
   "metadata": {},
   "source": [
    "# Reading all values of Specific group"
   ]
  },
  {
   "cell_type": "code",
   "execution_count": 25,
   "id": "coated-tribe",
   "metadata": {},
   "outputs": [
    {
     "ename": "AttributeError",
     "evalue": "module 'string' has no attribute 'join'",
     "output_type": "error",
     "traceback": [
      "\u001b[1;31m---------------------------------------------------------------------------\u001b[0m",
      "\u001b[1;31mAttributeError\u001b[0m                            Traceback (most recent call last)",
      "\u001b[1;32m<ipython-input-25-4f5597cebfbe>\u001b[0m in \u001b[0;36m<module>\u001b[1;34m\u001b[0m\n\u001b[1;32m----> 1\u001b[1;33m \u001b[0mopc\u001b[0m\u001b[1;33m.\u001b[0m\u001b[0mread\u001b[0m\u001b[1;33m(\u001b[0m\u001b[0mopc\u001b[0m\u001b[1;33m.\u001b[0m\u001b[0mlist\u001b[0m\u001b[1;33m(\u001b[0m\u001b[1;34m'SchneiderElectric.SCADA.OpcDaServer.1.*'\u001b[0m\u001b[1;33m)\u001b[0m\u001b[1;33m)\u001b[0m\u001b[1;33m\u001b[0m\u001b[1;33m\u001b[0m\u001b[0m\n\u001b[0m",
      "\u001b[1;32mc:\\users\\parrot\\appdata\\local\\programs\\python\\python36-32\\lib\\site-packages\\OpenOPC.py\u001b[0m in \u001b[0;36mlist\u001b[1;34m(self, paths, recursive, flat, include_type)\u001b[0m\n\u001b[0;32m   1108\u001b[0m \u001b[1;33m\u001b[0m\u001b[0m\n\u001b[0;32m   1109\u001b[0m       \u001b[0mnodes\u001b[0m \u001b[1;33m=\u001b[0m \u001b[0mself\u001b[0m\u001b[1;33m.\u001b[0m\u001b[0milist\u001b[0m\u001b[1;33m(\u001b[0m\u001b[0mpaths\u001b[0m\u001b[1;33m,\u001b[0m \u001b[0mrecursive\u001b[0m\u001b[1;33m,\u001b[0m \u001b[0mflat\u001b[0m\u001b[1;33m,\u001b[0m \u001b[0minclude_type\u001b[0m\u001b[1;33m)\u001b[0m\u001b[1;33m\u001b[0m\u001b[1;33m\u001b[0m\u001b[0m\n\u001b[1;32m-> 1110\u001b[1;33m       \u001b[1;32mreturn\u001b[0m \u001b[0mlist\u001b[0m\u001b[1;33m(\u001b[0m\u001b[0mnodes\u001b[0m\u001b[1;33m)\u001b[0m\u001b[1;33m\u001b[0m\u001b[1;33m\u001b[0m\u001b[0m\n\u001b[0m\u001b[0;32m   1111\u001b[0m \u001b[1;33m\u001b[0m\u001b[0m\n\u001b[0;32m   1112\u001b[0m    \u001b[1;32mdef\u001b[0m \u001b[0mservers\u001b[0m\u001b[1;33m(\u001b[0m\u001b[0mself\u001b[0m\u001b[1;33m,\u001b[0m \u001b[0mopc_host\u001b[0m\u001b[1;33m=\u001b[0m\u001b[1;34m'localhost'\u001b[0m\u001b[1;33m)\u001b[0m\u001b[1;33m:\u001b[0m\u001b[1;33m\u001b[0m\u001b[1;33m\u001b[0m\u001b[0m\n",
      "\u001b[1;32mc:\\users\\parrot\\appdata\\local\\programs\\python\\python36-32\\lib\\site-packages\\OpenOPC.py\u001b[0m in \u001b[0;36milist\u001b[1;34m(self, paths, recursive, flat, include_type)\u001b[0m\n\u001b[0;32m   1075\u001b[0m                      \u001b[1;31m# to form a single search expression\u001b[0m\u001b[1;33m\u001b[0m\u001b[1;33m\u001b[0m\u001b[1;33m\u001b[0m\u001b[0m\n\u001b[0;32m   1076\u001b[0m                      \u001b[1;32melse\u001b[0m\u001b[1;33m:\u001b[0m\u001b[1;33m\u001b[0m\u001b[1;33m\u001b[0m\u001b[0m\n\u001b[1;32m-> 1077\u001b[1;33m                         \u001b[0mp\u001b[0m \u001b[1;33m=\u001b[0m \u001b[0mstring\u001b[0m\u001b[1;33m.\u001b[0m\u001b[0mjoin\u001b[0m\u001b[1;33m(\u001b[0m\u001b[0mpath_list\u001b[0m\u001b[1;33m[\u001b[0m\u001b[0mi\u001b[0m\u001b[1;33m:\u001b[0m\u001b[1;33m]\u001b[0m\u001b[1;33m,\u001b[0m \u001b[1;34m'.'\u001b[0m\u001b[1;33m)\u001b[0m\u001b[1;33m\u001b[0m\u001b[1;33m\u001b[0m\u001b[0m\n\u001b[0m\u001b[0;32m   1078\u001b[0m                         \u001b[0mpattern\u001b[0m \u001b[1;33m=\u001b[0m \u001b[0mre\u001b[0m\u001b[1;33m.\u001b[0m\u001b[0mcompile\u001b[0m\u001b[1;33m(\u001b[0m\u001b[1;34m'^%s$'\u001b[0m \u001b[1;33m%\u001b[0m \u001b[0mwild2regex\u001b[0m\u001b[1;33m(\u001b[0m\u001b[0mp\u001b[0m\u001b[1;33m)\u001b[0m \u001b[1;33m,\u001b[0m \u001b[0mre\u001b[0m\u001b[1;33m.\u001b[0m\u001b[0mIGNORECASE\u001b[0m\u001b[1;33m)\u001b[0m\u001b[1;33m\u001b[0m\u001b[1;33m\u001b[0m\u001b[0m\n\u001b[0;32m   1079\u001b[0m                         \u001b[1;32mbreak\u001b[0m\u001b[1;33m\u001b[0m\u001b[1;33m\u001b[0m\u001b[0m\n",
      "\u001b[1;31mAttributeError\u001b[0m: module 'string' has no attribute 'join'"
     ]
    }
   ],
   "source": [
    "opc.read(opc.list('SchneiderElectric.SCADA.OpcDaServer.1.*'))"
   ]
  },
  {
   "cell_type": "code",
   "execution_count": 24,
   "id": "mysterious-drive",
   "metadata": {},
   "outputs": [
    {
     "ename": "AttributeError",
     "evalue": "module 'string' has no attribute 'join'",
     "output_type": "error",
     "traceback": [
      "\u001b[1;31m---------------------------------------------------------------------------\u001b[0m",
      "\u001b[1;31mAttributeError\u001b[0m                            Traceback (most recent call last)",
      "\u001b[1;32m<ipython-input-24-df3caf137188>\u001b[0m in \u001b[0;36m<module>\u001b[1;34m\u001b[0m\n\u001b[1;32m----> 1\u001b[1;33m \u001b[1;32mfor\u001b[0m \u001b[0mname\u001b[0m\u001b[1;33m,\u001b[0m \u001b[0mvalue\u001b[0m\u001b[1;33m,\u001b[0m \u001b[0mquality\u001b[0m\u001b[1;33m,\u001b[0m \u001b[0mtime\u001b[0m \u001b[1;32min\u001b[0m \u001b[0mopc\u001b[0m\u001b[1;33m.\u001b[0m\u001b[0miread\u001b[0m\u001b[1;33m(\u001b[0m\u001b[0mopc\u001b[0m\u001b[1;33m.\u001b[0m\u001b[0mlist\u001b[0m\u001b[1;33m(\u001b[0m\u001b[1;34m'SchneiderElectric.SCADA.OpcDaServer.1.*'\u001b[0m\u001b[1;33m)\u001b[0m\u001b[1;33m)\u001b[0m\u001b[1;33m:\u001b[0m\u001b[1;33m\u001b[0m\u001b[1;33m\u001b[0m\u001b[0m\n\u001b[0m\u001b[0;32m      2\u001b[0m     \u001b[0mprint\u001b[0m \u001b[1;33m(\u001b[0m\u001b[0mname\u001b[0m \u001b[1;33m+\u001b[0m \u001b[1;34m\" : \"\u001b[0m \u001b[1;33m+\u001b[0m \u001b[0mstr\u001b[0m\u001b[1;33m(\u001b[0m\u001b[0mvalue\u001b[0m\u001b[1;33m)\u001b[0m\u001b[1;33m)\u001b[0m\u001b[1;33m\u001b[0m\u001b[1;33m\u001b[0m\u001b[0m\n",
      "\u001b[1;32mc:\\users\\parrot\\appdata\\local\\programs\\python\\python36-32\\lib\\site-packages\\OpenOPC.py\u001b[0m in \u001b[0;36mlist\u001b[1;34m(self, paths, recursive, flat, include_type)\u001b[0m\n\u001b[0;32m   1108\u001b[0m \u001b[1;33m\u001b[0m\u001b[0m\n\u001b[0;32m   1109\u001b[0m       \u001b[0mnodes\u001b[0m \u001b[1;33m=\u001b[0m \u001b[0mself\u001b[0m\u001b[1;33m.\u001b[0m\u001b[0milist\u001b[0m\u001b[1;33m(\u001b[0m\u001b[0mpaths\u001b[0m\u001b[1;33m,\u001b[0m \u001b[0mrecursive\u001b[0m\u001b[1;33m,\u001b[0m \u001b[0mflat\u001b[0m\u001b[1;33m,\u001b[0m \u001b[0minclude_type\u001b[0m\u001b[1;33m)\u001b[0m\u001b[1;33m\u001b[0m\u001b[1;33m\u001b[0m\u001b[0m\n\u001b[1;32m-> 1110\u001b[1;33m       \u001b[1;32mreturn\u001b[0m \u001b[0mlist\u001b[0m\u001b[1;33m(\u001b[0m\u001b[0mnodes\u001b[0m\u001b[1;33m)\u001b[0m\u001b[1;33m\u001b[0m\u001b[1;33m\u001b[0m\u001b[0m\n\u001b[0m\u001b[0;32m   1111\u001b[0m \u001b[1;33m\u001b[0m\u001b[0m\n\u001b[0;32m   1112\u001b[0m    \u001b[1;32mdef\u001b[0m \u001b[0mservers\u001b[0m\u001b[1;33m(\u001b[0m\u001b[0mself\u001b[0m\u001b[1;33m,\u001b[0m \u001b[0mopc_host\u001b[0m\u001b[1;33m=\u001b[0m\u001b[1;34m'localhost'\u001b[0m\u001b[1;33m)\u001b[0m\u001b[1;33m:\u001b[0m\u001b[1;33m\u001b[0m\u001b[1;33m\u001b[0m\u001b[0m\n",
      "\u001b[1;32mc:\\users\\parrot\\appdata\\local\\programs\\python\\python36-32\\lib\\site-packages\\OpenOPC.py\u001b[0m in \u001b[0;36milist\u001b[1;34m(self, paths, recursive, flat, include_type)\u001b[0m\n\u001b[0;32m   1075\u001b[0m                      \u001b[1;31m# to form a single search expression\u001b[0m\u001b[1;33m\u001b[0m\u001b[1;33m\u001b[0m\u001b[1;33m\u001b[0m\u001b[0m\n\u001b[0;32m   1076\u001b[0m                      \u001b[1;32melse\u001b[0m\u001b[1;33m:\u001b[0m\u001b[1;33m\u001b[0m\u001b[1;33m\u001b[0m\u001b[0m\n\u001b[1;32m-> 1077\u001b[1;33m                         \u001b[0mp\u001b[0m \u001b[1;33m=\u001b[0m \u001b[0mstring\u001b[0m\u001b[1;33m.\u001b[0m\u001b[0mjoin\u001b[0m\u001b[1;33m(\u001b[0m\u001b[0mpath_list\u001b[0m\u001b[1;33m[\u001b[0m\u001b[0mi\u001b[0m\u001b[1;33m:\u001b[0m\u001b[1;33m]\u001b[0m\u001b[1;33m,\u001b[0m \u001b[1;34m'.'\u001b[0m\u001b[1;33m)\u001b[0m\u001b[1;33m\u001b[0m\u001b[1;33m\u001b[0m\u001b[0m\n\u001b[0m\u001b[0;32m   1078\u001b[0m                         \u001b[0mpattern\u001b[0m \u001b[1;33m=\u001b[0m \u001b[0mre\u001b[0m\u001b[1;33m.\u001b[0m\u001b[0mcompile\u001b[0m\u001b[1;33m(\u001b[0m\u001b[1;34m'^%s$'\u001b[0m \u001b[1;33m%\u001b[0m \u001b[0mwild2regex\u001b[0m\u001b[1;33m(\u001b[0m\u001b[0mp\u001b[0m\u001b[1;33m)\u001b[0m \u001b[1;33m,\u001b[0m \u001b[0mre\u001b[0m\u001b[1;33m.\u001b[0m\u001b[0mIGNORECASE\u001b[0m\u001b[1;33m)\u001b[0m\u001b[1;33m\u001b[0m\u001b[1;33m\u001b[0m\u001b[0m\n\u001b[0;32m   1079\u001b[0m                         \u001b[1;32mbreak\u001b[0m\u001b[1;33m\u001b[0m\u001b[1;33m\u001b[0m\u001b[0m\n",
      "\u001b[1;31mAttributeError\u001b[0m: module 'string' has no attribute 'join'"
     ]
    }
   ],
   "source": [
    "for name, value, quality, time in opc.iread(opc.list('SchneiderElectric.SCADA.OpcDaServer.1.*')):\n",
    "    print (name + \" : \" + str(value))"
   ]
  },
  {
   "cell_type": "code",
   "execution_count": 34,
   "id": "owned-shipping",
   "metadata": {},
   "outputs": [],
   "source": [
    "opc.close()"
   ]
  },
  {
   "cell_type": "code",
   "execution_count": 29,
   "id": "coral-fellow",
   "metadata": {},
   "outputs": [
    {
     "ename": "TimeoutError",
     "evalue": "Callback: Timeout waiting for data",
     "output_type": "error",
     "traceback": [
      "\u001b[1;31m---------------------------------------------------------------------------\u001b[0m",
      "\u001b[1;31mTimeoutError\u001b[0m                              Traceback (most recent call last)",
      "\u001b[1;32m<ipython-input-29-a6d78f7b0f99>\u001b[0m in \u001b[0;36m<module>\u001b[1;34m\u001b[0m\n\u001b[0;32m      1\u001b[0m \u001b[1;32mfor\u001b[0m \u001b[0mi\u001b[0m \u001b[1;32min\u001b[0m \u001b[0maliases\u001b[0m\u001b[1;33m:\u001b[0m\u001b[1;33m\u001b[0m\u001b[1;33m\u001b[0m\u001b[0m\n\u001b[1;32m----> 2\u001b[1;33m     \u001b[0mdata\u001b[0m \u001b[1;33m=\u001b[0m \u001b[0mopc\u001b[0m\u001b[1;33m.\u001b[0m\u001b[0mread\u001b[0m\u001b[1;33m(\u001b[0m\u001b[0mi\u001b[0m\u001b[1;33m)\u001b[0m\u001b[1;33m\u001b[0m\u001b[1;33m\u001b[0m\u001b[0m\n\u001b[0m\u001b[0;32m      3\u001b[0m     \u001b[0mprint\u001b[0m \u001b[1;33m(\u001b[0m\u001b[0mdata\u001b[0m\u001b[1;33m)\u001b[0m\u001b[1;33m\u001b[0m\u001b[1;33m\u001b[0m\u001b[0m\n",
      "\u001b[1;32mc:\\users\\parrot\\appdata\\local\\programs\\python\\python36-32\\lib\\site-packages\\OpenOPC.py\u001b[0m in \u001b[0;36mread\u001b[1;34m(self, tags, group, size, pause, source, update, timeout, sync, include_error, rebuild)\u001b[0m\n\u001b[0;32m    621\u001b[0m \u001b[1;33m\u001b[0m\u001b[0m\n\u001b[0;32m    622\u001b[0m       \u001b[1;32mif\u001b[0m \u001b[0msingle\u001b[0m\u001b[1;33m:\u001b[0m\u001b[1;33m\u001b[0m\u001b[1;33m\u001b[0m\u001b[0m\n\u001b[1;32m--> 623\u001b[1;33m          \u001b[1;32mreturn\u001b[0m \u001b[0mlist\u001b[0m\u001b[1;33m(\u001b[0m\u001b[0mresults\u001b[0m\u001b[1;33m)\u001b[0m\u001b[1;33m[\u001b[0m\u001b[1;36m0\u001b[0m\u001b[1;33m]\u001b[0m\u001b[1;33m\u001b[0m\u001b[1;33m\u001b[0m\u001b[0m\n\u001b[0m\u001b[0;32m    624\u001b[0m       \u001b[1;32melse\u001b[0m\u001b[1;33m:\u001b[0m\u001b[1;33m\u001b[0m\u001b[1;33m\u001b[0m\u001b[0m\n\u001b[0;32m    625\u001b[0m          \u001b[1;32mreturn\u001b[0m \u001b[0mlist\u001b[0m\u001b[1;33m(\u001b[0m\u001b[0mresults\u001b[0m\u001b[1;33m)\u001b[0m\u001b[1;33m\u001b[0m\u001b[1;33m\u001b[0m\u001b[0m\n",
      "\u001b[1;32mc:\\users\\parrot\\appdata\\local\\programs\\python\\python36-32\\lib\\site-packages\\OpenOPC.py\u001b[0m in \u001b[0;36miread\u001b[1;34m(self, tags, group, size, pause, source, update, timeout, sync, include_error, rebuild)\u001b[0m\n\u001b[0;32m    541\u001b[0m                      \u001b[0mnow\u001b[0m \u001b[1;33m=\u001b[0m \u001b[0mtime\u001b[0m\u001b[1;33m.\u001b[0m\u001b[0mtime\u001b[0m\u001b[1;33m(\u001b[0m\u001b[1;33m)\u001b[0m \u001b[1;33m*\u001b[0m \u001b[1;36m1000\u001b[0m\u001b[1;33m\u001b[0m\u001b[1;33m\u001b[0m\u001b[0m\n\u001b[0;32m    542\u001b[0m                      \u001b[1;32mif\u001b[0m \u001b[0mnow\u001b[0m \u001b[1;33m-\u001b[0m \u001b[0mstart\u001b[0m \u001b[1;33m>\u001b[0m \u001b[0mtimeout\u001b[0m\u001b[1;33m:\u001b[0m\u001b[1;33m\u001b[0m\u001b[1;33m\u001b[0m\u001b[0m\n\u001b[1;32m--> 543\u001b[1;33m                         \u001b[1;32mraise\u001b[0m \u001b[0mTimeoutError\u001b[0m\u001b[1;33m(\u001b[0m\u001b[1;34m'Callback: Timeout waiting for data'\u001b[0m\u001b[1;33m)\u001b[0m\u001b[1;33m\u001b[0m\u001b[1;33m\u001b[0m\u001b[0m\n\u001b[0m\u001b[0;32m    544\u001b[0m \u001b[1;33m\u001b[0m\u001b[0m\n\u001b[0;32m    545\u001b[0m                      \u001b[1;32mif\u001b[0m \u001b[0mself\u001b[0m\u001b[1;33m.\u001b[0m\u001b[0mcallback_queue\u001b[0m\u001b[1;33m.\u001b[0m\u001b[0mempty\u001b[0m\u001b[1;33m(\u001b[0m\u001b[1;33m)\u001b[0m\u001b[1;33m:\u001b[0m\u001b[1;33m\u001b[0m\u001b[1;33m\u001b[0m\u001b[0m\n",
      "\u001b[1;31mTimeoutError\u001b[0m: Callback: Timeout waiting for data"
     ]
    }
   ],
   "source": [
    "for i in aliases:\n",
    "    data = opc.read(i)\n",
    "    print (data)"
   ]
  },
  {
   "cell_type": "code",
   "execution_count": null,
   "id": "introductory-produce",
   "metadata": {},
   "outputs": [],
   "source": []
  }
 ],
 "metadata": {
  "kernelspec": {
   "display_name": "Python 3",
   "language": "python",
   "name": "python3"
  },
  "language_info": {
   "codemirror_mode": {
    "name": "ipython",
    "version": 3
   },
   "file_extension": ".py",
   "mimetype": "text/x-python",
   "name": "python",
   "nbconvert_exporter": "python",
   "pygments_lexer": "ipython3",
   "version": "3.6.8"
  }
 },
 "nbformat": 4,
 "nbformat_minor": 5
}
