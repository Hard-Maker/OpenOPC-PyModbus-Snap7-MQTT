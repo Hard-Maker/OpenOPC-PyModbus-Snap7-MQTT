{
 "cells": [
  {
   "cell_type": "markdown",
   "id": "suspected-laptop",
   "metadata": {},
   "source": [
    "# Import All Required Libraries "
   ]
  },
  {
   "cell_type": "code",
   "execution_count": 1,
   "id": "alternative-latino",
   "metadata": {},
   "outputs": [],
   "source": [
    "import OpenOPC\n",
    "import pywintypes # To avoid timeout error\n",
    "pywintypes.datetime=pywintypes.TimeType"
   ]
  },
  {
   "cell_type": "markdown",
   "id": "international-burton",
   "metadata": {},
   "source": [
    "# Initiate OPC Client"
   ]
  },
  {
   "cell_type": "code",
   "execution_count": 2,
   "id": "minor-holiday",
   "metadata": {},
   "outputs": [],
   "source": [
    "opc = OpenOPC.client()"
   ]
  },
  {
   "cell_type": "markdown",
   "id": "extensive-moisture",
   "metadata": {},
   "source": [
    "# Search for all available OPC Servers"
   ]
  },
  {
   "cell_type": "code",
   "execution_count": 3,
   "id": "handy-perth",
   "metadata": {},
   "outputs": [
    {
     "name": "stdout",
     "output_type": "stream",
     "text": [
      "['CoDeSys.OPC.DA', 'SchneiderElectric.SCADA.OpcDaServer.1', 'Schneider-Aut.OFS.2', 'Matrikon.OPC.Simulation.1']\n"
     ]
    }
   ],
   "source": [
    "servers = opc.servers()\n",
    "print (servers)"
   ]
  },
  {
   "cell_type": "markdown",
   "id": "linear-patio",
   "metadata": {},
   "source": [
    "# Connect with Specific OPC Server"
   ]
  },
  {
   "cell_type": "code",
   "execution_count": 4,
   "id": "thick-austria",
   "metadata": {},
   "outputs": [],
   "source": [
    "opc.connect('Matrikon.OPC.Simulation.1')"
   ]
  },
  {
   "cell_type": "markdown",
   "id": "bibliographic-sheep",
   "metadata": {},
   "source": [
    "# Get list of available aliases"
   ]
  },
  {
   "cell_type": "code",
   "execution_count": 6,
   "id": "composite-lancaster",
   "metadata": {},
   "outputs": [
    {
     "name": "stdout",
     "output_type": "stream",
     "text": [
      "['Simulation Items', 'Configured Aliases']\n"
     ]
    }
   ],
   "source": [
    "aliases = opc.list()\n",
    "print (aliases)"
   ]
  },
  {
   "cell_type": "markdown",
   "id": "numerous-paradise",
   "metadata": {},
   "source": [
    "# Get list of available groups in specific alias"
   ]
  },
  {
   "cell_type": "code",
   "execution_count": 8,
   "id": "central-preview",
   "metadata": {},
   "outputs": [
    {
     "name": "stdout",
     "output_type": "stream",
     "text": [
      "['Bucket Brigade', 'Random', 'Read Error', 'Saw-toothed Waves', 'Square Waves', 'Triangle Waves', 'Write Error', 'Write Only']\n"
     ]
    }
   ],
   "source": [
    "groups = opc.list('Simulation Items')\n",
    "print(groups)"
   ]
  },
  {
   "cell_type": "markdown",
   "id": "positive-drill",
   "metadata": {},
   "source": [
    "# Get list of avaible tags in specfic group"
   ]
  },
  {
   "cell_type": "code",
   "execution_count": 15,
   "id": "present-representative",
   "metadata": {},
   "outputs": [
    {
     "name": "stdout",
     "output_type": "stream",
     "text": [
      "['Random.ArrayOfReal8', 'Random.ArrayOfString', 'Random.Boolean', 'Random.Int1', 'Random.Int2', 'Random.Int4', 'Random.Money', 'Random.Qualities', 'Random.Real4', 'Random.Real8', 'Random.String', 'Random.Time', 'Random.UInt1', 'Random.UInt2', 'Random.UInt4']\n"
     ]
    }
   ],
   "source": [
    "tags = opc.list('Simulation Items.Random.*')\n",
    "print(tags)"
   ]
  },
  {
   "cell_type": "markdown",
   "id": "regular-cancer",
   "metadata": {},
   "source": [
    "# Reading Tag Values"
   ]
  },
  {
   "cell_type": "code",
   "execution_count": 16,
   "id": "royal-times",
   "metadata": {},
   "outputs": [
    {
     "data": {
      "text/plain": [
       "(29200, 'Good', '2021-01-24 13:56:16.308000+00:00')"
      ]
     },
     "execution_count": 16,
     "metadata": {},
     "output_type": "execute_result"
    }
   ],
   "source": [
    "opc.read('Random.Int2')"
   ]
  },
  {
   "cell_type": "markdown",
   "id": "accompanied-pastor",
   "metadata": {},
   "source": [
    "# Reading all values of Specific group"
   ]
  },
  {
   "cell_type": "code",
   "execution_count": 17,
   "id": "coated-tribe",
   "metadata": {},
   "outputs": [
    {
     "data": {
      "text/plain": [
       "[('Random.ArrayOfReal8',\n",
       "  (10859.07390678, 8587.21587018, 12250.714300500002),\n",
       "  'Good',\n",
       "  '2021-01-24 13:56:32.813000+00:00'),\n",
       " ('Random.ArrayOfString',\n",
       "  ('and', 'servers', 'connect', 'you', 'to', 'a', 'world', 'of', 'process'),\n",
       "  'Good',\n",
       "  '2021-01-24 13:56:32.813000+00:00'),\n",
       " ('Random.Boolean', True, 'Good', '2021-01-24 13:56:32.813000+00:00'),\n",
       " ('Random.Int1', 59, 'Good', '2021-01-24 13:56:32.813000+00:00'),\n",
       " ('Random.Int2', 11903, 'Good', '2021-01-24 13:56:32.813000+00:00'),\n",
       " ('Random.Int4', 3676, 'Good', '2021-01-24 13:56:32.813000+00:00'),\n",
       " ('Random.Money',\n",
       "  Decimal('29643'),\n",
       "  'Good',\n",
       "  '2021-01-24 13:56:32.813000+00:00'),\n",
       " ('Random.Qualities', 4, 'Bad', '2021-01-24 13:56:32.813000+00:00'),\n",
       " ('Random.Real4', 21990.03515625, 'Good', '2021-01-24 13:56:32.813000+00:00'),\n",
       " ('Random.Real8',\n",
       "  7590.858399420001,\n",
       "  'Good',\n",
       "  '2021-01-24 13:56:32.813000+00:00'),\n",
       " ('Random.String', 'data,', 'Good', '2021-01-24 13:56:32.813000+00:00'),\n",
       " ('Random.Time',\n",
       "  '2021-01-24 08:26:32+00:00',\n",
       "  'Good',\n",
       "  '2021-01-24 13:56:32.813000+00:00'),\n",
       " ('Random.UInt1', 28, 'Good', '2021-01-24 13:56:32.813000+00:00'),\n",
       " ('Random.UInt2', 28489, 'Good', '2021-01-24 13:56:32.813000+00:00'),\n",
       " ('Random.UInt4', 24948.0, 'Good', '2021-01-24 13:56:32.813000+00:00')]"
      ]
     },
     "execution_count": 17,
     "metadata": {},
     "output_type": "execute_result"
    }
   ],
   "source": [
    "opc.read(opc.list('Simulation Items.Random.*'))\n",
    "# ['Random.ArrayOfReal8',\n",
    "#  'Random.ArrayOfString',\n",
    "#  'Random.Boolean',\n",
    "#  'Random.Int1',\n",
    "#  'Random.Int2',\n",
    "#  'Random.Int4',\n",
    "#  'Random.Money',\n",
    "#  'Random.Qualities',\n",
    "#  'Random.Real4',\n",
    "#  'Random.Real8',\n",
    "#  'Random.String',\n",
    "#  'Random.Time',\n",
    "#  'Random.UInt1',\n",
    "#  'Random.UInt2',\n",
    "#  'Random.UInt4']"
   ]
  },
  {
   "cell_type": "code",
   "execution_count": 19,
   "id": "decent-circuit",
   "metadata": {},
   "outputs": [
    {
     "name": "stdout",
     "output_type": "stream",
     "text": [
      "Random.ArrayOfReal8 (16649.255588850003, 12894.06782073, 3411.8621365800004, 2846.95393869, 6480.3986416200005, 3024.7293769800003, 9697.166242770001, 3265.1591961000004, 16025.768091810001) Good\n",
      "Random.ArrayOfString ('for', 'a', 'solution', 'that', 'works', '--', 'today.') Good\n",
      "Random.Boolean False Good\n",
      "Random.Int1 39 Good\n",
      "Random.Int2 3959 Good\n",
      "Random.Int4 6493 Good\n",
      "Random.Money 1515 Good\n",
      "Random.Qualities 6 Bad\n",
      "Random.Real4 20649.826171875 Good\n",
      "Random.Real8 12702.538981770002 Good\n",
      "Random.String process, Good\n",
      "Random.Time 2021-01-24 08:27:32+00:00 Good\n",
      "Random.UInt1 225 Good\n",
      "Random.UInt2 58 Good\n",
      "Random.UInt4 14700.0 Good\n"
     ]
    }
   ],
   "source": [
    "for name, value, quality, time in opc.iread(opc.list('Simulation Items.Random.*')):\n",
    "    print (name,value, quality)"
   ]
  },
  {
   "cell_type": "code",
   "execution_count": null,
   "id": "mysterious-drive",
   "metadata": {},
   "outputs": [],
   "source": [
    "for name, value, quality, time in opc.iread(opc.list('Simulation Items.Triangle Waves.*')):\n",
    "    print (name, value)"
   ]
  },
  {
   "cell_type": "code",
   "execution_count": null,
   "id": "owned-shipping",
   "metadata": {},
   "outputs": [],
   "source": [
    "opc.close()"
   ]
  }
 ],
 "metadata": {
  "kernelspec": {
   "display_name": "Python 3",
   "language": "python",
   "name": "python3"
  },
  "language_info": {
   "codemirror_mode": {
    "name": "ipython",
    "version": 3
   },
   "file_extension": ".py",
   "mimetype": "text/x-python",
   "name": "python",
   "nbconvert_exporter": "python",
   "pygments_lexer": "ipython3",
   "version": "3.6.8"
  }
 },
 "nbformat": 4,
 "nbformat_minor": 5
}
