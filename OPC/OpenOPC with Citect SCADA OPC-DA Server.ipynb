{
 "cells": [
  {
   "cell_type": "markdown",
   "id": "suspected-laptop",
   "metadata": {},
   "source": [
    "# Import All Required Libraries "
   ]
  },
  {
   "cell_type": "code",
   "execution_count": 35,
   "id": "alternative-latino",
   "metadata": {},
   "outputs": [],
   "source": [
    "import OpenOPC\n",
    "import pandas as pd\n",
    "import pywintypes # To avoid timeout error\n",
    "pywintypes.datetime=pywintypes.TimeType"
   ]
  },
  {
   "cell_type": "markdown",
   "id": "international-burton",
   "metadata": {},
   "source": [
    "# Initiate OPC Client"
   ]
  },
  {
   "cell_type": "code",
   "execution_count": 36,
   "id": "minor-holiday",
   "metadata": {},
   "outputs": [],
   "source": [
    "opc = OpenOPC.client()"
   ]
  },
  {
   "cell_type": "markdown",
   "id": "extensive-moisture",
   "metadata": {},
   "source": [
    "# Search for all available OPC Servers"
   ]
  },
  {
   "cell_type": "code",
   "execution_count": 37,
   "id": "handy-perth",
   "metadata": {},
   "outputs": [
    {
     "name": "stdout",
     "output_type": "stream",
     "text": [
      "['CoDeSys.OPC.DA', 'SchneiderElectric.SCADA.OpcDaServer.1', 'Schneider-Aut.OFS.2', 'Matrikon.OPC.Simulation.1']\n"
     ]
    }
   ],
   "source": [
    "servers = opc.servers()\n",
    "print (servers)"
   ]
  },
  {
   "cell_type": "markdown",
   "id": "linear-patio",
   "metadata": {},
   "source": [
    "# Connect with Specific OPC Server"
   ]
  },
  {
   "cell_type": "code",
   "execution_count": 38,
   "id": "thick-austria",
   "metadata": {},
   "outputs": [],
   "source": [
    "opc.connect('SchneiderElectric.SCADA.OpcDaServer.1')"
   ]
  },
  {
   "cell_type": "markdown",
   "id": "bibliographic-sheep",
   "metadata": {},
   "source": [
    "# Get list of available aliases"
   ]
  },
  {
   "cell_type": "code",
   "execution_count": 41,
   "id": "composite-lancaster",
   "metadata": {},
   "outputs": [
    {
     "name": "stdout",
     "output_type": "stream",
     "text": [
      "                          0\n",
      "0             ACDB_INC1_OFF\n",
      "1              ACDB_INC1_ON\n",
      "2            ACDB_INC1_TRIP\n",
      "3     ACDB_MFM_AVAILABILITY\n",
      "4          ACDB_MFM_AVG_AMP\n",
      "...                     ...\n",
      "1239           WMS_MOD_TEMP\n",
      "1240           WMS_PWR_SPLY\n",
      "1241               WMS_RAIN\n",
      "1242                 WMS_WD\n",
      "1243                 WMS_WS\n",
      "\n",
      "[1244 rows x 1 columns]\n"
     ]
    }
   ],
   "source": [
    "aliases = opc.list()\n",
    "#print (aliases)\n",
    "\n",
    "csv = pd.DataFrame(aliases) \n",
    "\n",
    "print(csv)"
   ]
  },
  {
   "cell_type": "code",
   "execution_count": 31,
   "id": "paperback-empty",
   "metadata": {
    "scrolled": true
   },
   "outputs": [
    {
     "name": "stdout",
     "output_type": "stream",
     "text": [
      "['ACDB_INC1_OFF', 'ACDB_INC1_ON', 'ACDB_INC1_TRIP', 'ACDB_MFM_AVAILABILITY', 'ACDB_MFM_AVG_AMP', 'ACDB_MFM_BRKDWN_LOSS', 'ACDB_MFM_BRKDWN_MNT', 'ACDB_MFM_COMM_STS', 'ACDB_MFM_CPR', 'ACDB_MFM_DC_CAP', 'ACDB_MFM_EXP_KVARH', 'ACDB_MFM_EXP_KWH', 'ACDB_MFM_HZ', 'ACDB_MFM_IB', 'ACDB_MFM_IMP_KVARH', 'ACDB_MFM_IMP_KWH', 'ACDB_MFM_IR', 'ACDB_MFM_IY', 'ACDB_MFM_KVA', 'ACDB_MFM_KVAR', 'ACDB_MFM_KW', 'ACDB_MFM_PF', 'ACDB_MFM_PR', 'ACDB_MFM_Today_KWH', 'ACDB_MFM_VBR', 'ACDB_MFM_VRY', 'ACDB_MFM_VYB', 'ACDB_MFM_YEST_KWH', 'AUX_HT_CB_LOCKOUT', 'AUX_HT_CB_LR', 'AUX_HT_CB_MST_TRP', 'AUX_HT_CB_OFF', 'AUX_HT_CB_OFF_CMD', 'AUX_HT_CB_ON', 'AUX_HT_CB_ON_CMD', 'AUX_HT_CB_RLY_HLTHY', 'AUX_HT_CB_SM', 'AUX_HT_CB_SP', 'AUX_HT_CB_TCH', 'AUX_MFM_AVAILABILITY', 'AUX_MFM_AVG_AMP', 'AUX_MFM_BRKDWN_LOSS', 'AUX_MFM_BRKDWN_MNT', 'AUX_MFM_COMM_STS', 'AUX_MFM_CPR', 'AUX_MFM_DC_CAP', 'AUX_MFM_EXP_KVARH', 'AUX_MFM_EXP_KWH', 'AUX_MFM_HZ', 'AUX_MFM_IB', 'AUX_MFM_IMP_KVARH', 'AUX_MFM_IMP_KWH', 'AUX_MFM_IR', 'AUX_MFM_IY', 'AUX_MFM_KVA', 'AUX_MFM_KVAR', 'AUX_MFM_KW', 'AUX_MFM_PF', 'AUX_MFM_PR', 'AUX_MFM_Today_KWH', 'AUX_MFM_VBR', 'AUX_MFM_VRY', 'AUX_MFM_VYB', 'AUX_MFM_YEST_KWH', 'AUX_RELAY_EF_IDMT', 'AUX_RELAY_EF_INST', 'AUX_RELAY_EF_OPERATED', 'AUX_RELAY_FAULT_LOCATOR', 'AUX_RELAY_FUSE_FAIL', 'AUX_RELAY_FUSE_FAILURE_PROT', 'AUX_RELAY_GENERAL_PROTECTION_TRIP', 'AUX_RELAY_IED_FAIL', 'AUX_RELAY_LED_RESET', 'AUX_RELAY_MAIN1_FAIL', 'AUX_RELAY_MAIN2_FAIL', 'AUX_RELAY_OC_IDMT', 'AUX_RELAY_OC_IDMT_B', 'AUX_RELAY_OC_IDMT_R', 'AUX_RELAY_OC_IDMT_Y', 'AUX_RELAY_OC_INST', 'AUX_RELAY_OC_OPERATED', 'AUX_RELAY_OV_OPERATED', 'AUX_RELAY_OV_STAGE1', 'AUX_RELAY_OV_STAGE2', 'AUX_RELAY_OV_START', 'BEST_ITC', 'BEST_ITC_INV', 'BEST_ITC_ITC', 'GRID_BRKDWN_LOSS', 'GRID_BRKDWN_MNT', 'GRID_GEN_AVAILABILITY', 'GRID_TIME_AVAILABILTY', 'INC1_HT_CB_LOCKOUT', 'INC1_HT_CB_LR', 'INC1_HT_CB_MST_TRP', 'INC1_HT_CB_OFF', 'INC1_HT_CB_OFF_CMD', 'INC1_HT_CB_ON', 'INC1_HT_CB_ON_CMD', 'INC1_HT_CB_RLY_HLTHY']\n"
     ]
    }
   ],
   "source": [
    "group1 = aliases[0:100]\n",
    "type(group1)\n",
    "print(group1)"
   ]
  },
  {
   "cell_type": "code",
   "execution_count": 32,
   "id": "present-billy",
   "metadata": {},
   "outputs": [
    {
     "ename": "TimeoutError",
     "evalue": "Callback: Timeout waiting for data",
     "output_type": "error",
     "traceback": [
      "\u001b[1;31m---------------------------------------------------------------------------\u001b[0m",
      "\u001b[1;31mTimeoutError\u001b[0m                              Traceback (most recent call last)",
      "\u001b[1;32m<ipython-input-32-4fe4998f978c>\u001b[0m in \u001b[0;36m<module>\u001b[1;34m\u001b[0m\n\u001b[1;32m----> 1\u001b[1;33m \u001b[0mopc\u001b[0m\u001b[1;33m.\u001b[0m\u001b[0mread\u001b[0m\u001b[1;33m(\u001b[0m\u001b[0maliases\u001b[0m\u001b[1;33m[\u001b[0m\u001b[1;36m0\u001b[0m\u001b[1;33m:\u001b[0m\u001b[1;36m100\u001b[0m\u001b[1;33m]\u001b[0m\u001b[1;33m,\u001b[0m \u001b[0mgroup\u001b[0m \u001b[1;33m=\u001b[0m \u001b[1;34m'test'\u001b[0m\u001b[1;33m)\u001b[0m\u001b[1;33m\u001b[0m\u001b[1;33m\u001b[0m\u001b[0m\n\u001b[0m",
      "\u001b[1;32mc:\\users\\parrot\\appdata\\local\\programs\\python\\python36-32\\lib\\site-packages\\OpenOPC.py\u001b[0m in \u001b[0;36mread\u001b[1;34m(self, tags, group, size, pause, source, update, timeout, sync, include_error, rebuild)\u001b[0m\n\u001b[0;32m    623\u001b[0m          \u001b[1;32mreturn\u001b[0m \u001b[0mlist\u001b[0m\u001b[1;33m(\u001b[0m\u001b[0mresults\u001b[0m\u001b[1;33m)\u001b[0m\u001b[1;33m[\u001b[0m\u001b[1;36m0\u001b[0m\u001b[1;33m]\u001b[0m\u001b[1;33m\u001b[0m\u001b[1;33m\u001b[0m\u001b[0m\n\u001b[0;32m    624\u001b[0m       \u001b[1;32melse\u001b[0m\u001b[1;33m:\u001b[0m\u001b[1;33m\u001b[0m\u001b[1;33m\u001b[0m\u001b[0m\n\u001b[1;32m--> 625\u001b[1;33m          \u001b[1;32mreturn\u001b[0m \u001b[0mlist\u001b[0m\u001b[1;33m(\u001b[0m\u001b[0mresults\u001b[0m\u001b[1;33m)\u001b[0m\u001b[1;33m\u001b[0m\u001b[1;33m\u001b[0m\u001b[0m\n\u001b[0m\u001b[0;32m    626\u001b[0m \u001b[1;33m\u001b[0m\u001b[0m\n\u001b[0;32m    627\u001b[0m    \u001b[1;32mdef\u001b[0m \u001b[0m_read_health\u001b[0m\u001b[1;33m(\u001b[0m\u001b[0mself\u001b[0m\u001b[1;33m,\u001b[0m \u001b[0mtags\u001b[0m\u001b[1;33m)\u001b[0m\u001b[1;33m:\u001b[0m\u001b[1;33m\u001b[0m\u001b[1;33m\u001b[0m\u001b[0m\n",
      "\u001b[1;32mc:\\users\\parrot\\appdata\\local\\programs\\python\\python36-32\\lib\\site-packages\\OpenOPC.py\u001b[0m in \u001b[0;36miread\u001b[1;34m(self, tags, group, size, pause, source, update, timeout, sync, include_error, rebuild)\u001b[0m\n\u001b[0;32m    541\u001b[0m                      \u001b[0mnow\u001b[0m \u001b[1;33m=\u001b[0m \u001b[0mtime\u001b[0m\u001b[1;33m.\u001b[0m\u001b[0mtime\u001b[0m\u001b[1;33m(\u001b[0m\u001b[1;33m)\u001b[0m \u001b[1;33m*\u001b[0m \u001b[1;36m1000\u001b[0m\u001b[1;33m\u001b[0m\u001b[1;33m\u001b[0m\u001b[0m\n\u001b[0;32m    542\u001b[0m                      \u001b[1;32mif\u001b[0m \u001b[0mnow\u001b[0m \u001b[1;33m-\u001b[0m \u001b[0mstart\u001b[0m \u001b[1;33m>\u001b[0m \u001b[0mtimeout\u001b[0m\u001b[1;33m:\u001b[0m\u001b[1;33m\u001b[0m\u001b[1;33m\u001b[0m\u001b[0m\n\u001b[1;32m--> 543\u001b[1;33m                         \u001b[1;32mraise\u001b[0m \u001b[0mTimeoutError\u001b[0m\u001b[1;33m(\u001b[0m\u001b[1;34m'Callback: Timeout waiting for data'\u001b[0m\u001b[1;33m)\u001b[0m\u001b[1;33m\u001b[0m\u001b[1;33m\u001b[0m\u001b[0m\n\u001b[0m\u001b[0;32m    544\u001b[0m \u001b[1;33m\u001b[0m\u001b[0m\n\u001b[0;32m    545\u001b[0m                      \u001b[1;32mif\u001b[0m \u001b[0mself\u001b[0m\u001b[1;33m.\u001b[0m\u001b[0mcallback_queue\u001b[0m\u001b[1;33m.\u001b[0m\u001b[0mempty\u001b[0m\u001b[1;33m(\u001b[0m\u001b[1;33m)\u001b[0m\u001b[1;33m:\u001b[0m\u001b[1;33m\u001b[0m\u001b[1;33m\u001b[0m\u001b[0m\n",
      "\u001b[1;31mTimeoutError\u001b[0m: Callback: Timeout waiting for data"
     ]
    }
   ],
   "source": [
    "opc.read(aliases[0:100], group = 'test')"
   ]
  },
  {
   "cell_type": "markdown",
   "id": "accompanied-pastor",
   "metadata": {},
   "source": [
    "# Reading all values of Specific group"
   ]
  },
  {
   "cell_type": "code",
   "execution_count": 25,
   "id": "decent-circuit",
   "metadata": {},
   "outputs": [
    {
     "name": "stdout",
     "output_type": "stream",
     "text": [
      "WMS_AMB_TEMP 63.0\n",
      "WMS_BARO_PRESS 44.0\n",
      "WMS_COMM_STS True\n",
      "WMS_GHI 89.0\n",
      "WMS_GHI_ACC 95.0\n",
      "WMS_GII 99.0\n",
      "WMS_GII_ACC 17.0\n",
      "WMS_HUMIDITY 15.0\n",
      "WMS_MOD_TEMP 91.0\n",
      "WMS_PWR_SPLY 22.0\n",
      "WMS_RAIN 34.0\n",
      "WMS_WD 91.0\n",
      "WMS_WS 36.0\n"
     ]
    }
   ],
   "source": [
    "for name, value, quality, time in opc.iread(opc.list(\"WMS*\")):\n",
    "    print (name,value)"
   ]
  },
  {
   "cell_type": "code",
   "execution_count": 31,
   "id": "owned-shipping",
   "metadata": {},
   "outputs": [],
   "source": [
    "opc.close()"
   ]
  }
 ],
 "metadata": {
  "kernelspec": {
   "display_name": "Python 3",
   "language": "python",
   "name": "python3"
  },
  "language_info": {
   "codemirror_mode": {
    "name": "ipython",
    "version": 3
   },
   "file_extension": ".py",
   "mimetype": "text/x-python",
   "name": "python",
   "nbconvert_exporter": "python",
   "pygments_lexer": "ipython3",
   "version": "3.6.8"
  }
 },
 "nbformat": 4,
 "nbformat_minor": 5
}
