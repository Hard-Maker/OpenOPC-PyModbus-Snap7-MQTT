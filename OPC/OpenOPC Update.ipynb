{
 "cells": [
  {
   "cell_type": "markdown",
   "id": "suspected-laptop",
   "metadata": {},
   "source": [
    "# Import All Required Libraries "
   ]
  },
  {
   "cell_type": "code",
   "execution_count": 7,
   "id": "entertaining-taylor",
   "metadata": {},
   "outputs": [],
   "source": [
    "#!pip install pandas\n",
    "#!pip install pyodbc"
   ]
  },
  {
   "cell_type": "code",
   "execution_count": 2,
   "id": "handmade-candle",
   "metadata": {
    "scrolled": true
   },
   "outputs": [],
   "source": [
    "import OpenOPC\n",
    "import time as t\n",
    "import csv\n",
    "import pandas as pd\n",
    "import datetime\n",
    "import pywintypes \n",
    "from datetime import datetime\n",
    "from datetime import date\n",
    "import os\n",
    "import pyodbc\n",
    "\n",
    "# To avoid timeout error\n",
    "pywintypes.datetime=pywintypes.TimeType\n",
    "\n",
    "now = datetime.now()\n",
    "current_time = now.strftime(\"%H:%M:%S\")\n",
    "today = date.today()\n",
    "date = today.strftime(\"%d_%m_%Y\")\n",
    "extension = \".csv\"\n",
    "Filename = str(date) + extension\n",
    "\n",
    "# Initiate OPC Client\n",
    "\n",
    "opc = OpenOPC.client()\n",
    "\n",
    "# Search for all available OPC Servers\n",
    "\n",
    "servers = opc.servers()\n",
    "#print (servers)\n",
    "\n",
    "# Connect with Specific OPC Server\n",
    "\n",
    "opc.connect('CoDeSys.OPC.DA')\n",
    "\n",
    "# Get list of available aliases\n",
    "\n",
    "aliases = opc.list()\n",
    "#print (aliases)\n",
    "\n",
    "groups = opc.list('PLC')\n",
    "#print(groups)\n",
    "\n",
    "# Get list of available sub-alias in specific alias\n",
    "\n",
    "salias = opc.list('PLC.Application')\n",
    "#print(salias)\n",
    "\n",
    "# Get list of available groups in specific alias\n",
    "\n",
    "maingroup = opc.list('PLC.Application.GVL.*')\n",
    "#print(maingroup)\n",
    "\n",
    "ICR1_group = opc.list('PLC.Application.GVL.ICR1*')\n",
    "# print(ICR1_group)\n",
    "\n",
    "ICR2_group = opc.list('PLC.Application.GVL.ICR2*')\n",
    "# print(ICR2_group)\n",
    "\n",
    "INC_group = opc.list('PLC.Application.GVL.INC*')\n",
    "# print(INC_group)\n",
    "\n",
    "MCR_group = opc.list('PLC.Application.GVL.MCR*')\n",
    "# print(MCR_group)\n",
    "\n",
    "OG_group = opc.list('PLC.Application.GVL.OG*')\n",
    "# print(OG_group)\n",
    "\n",
    "PLC_group = opc.list('PLC.Application.GVL.PLC*')\n",
    "# print(PLC_group)\n",
    "\n",
    "# Get list of avaible tags in specfic group\n",
    "\n",
    "# tags = opc.list('PLC.Application.GVL.RTCFORHmi')\n",
    "# print(tags)\n",
    "\n",
    "# Reading Specific Tag Values\n",
    "\n",
    "#opc.read('PLC.Application.GVL.RTCFORHmi.Q')\n",
    "\n",
    "# Reading all values of Specific group\n",
    "\n",
    "#opc.read(opc.list('PLC.Application.GVL.RTCFORHmi'))\n",
    "\n",
    "# while True:\n",
    "# #for i in group:\n",
    "#     #for name, value, quality, time in opc.iread(opc.list('PLC.Application.GVL.'+i)):\n",
    "#     for name, value, quality, time in opc.iread(opc.list('PLC.Application.GVL.ACDB_EM.*')):\n",
    "#         #print(i)\n",
    "#         print (name + \" : \" + str(value))\n",
    "#     t.sleep(2)\n",
    "\n",
    "iteration = 0\n",
    "\n",
    "Group_list = [ICR1_group, ICR2_group, INC_group, MCR_group, OG_group]"
   ]
  },
  {
   "cell_type": "markdown",
   "id": "single-plaza",
   "metadata": {},
   "source": [
    "# Random Group"
   ]
  },
  {
   "cell_type": "code",
   "execution_count": 3,
   "id": "widespread-zealand",
   "metadata": {},
   "outputs": [],
   "source": [
    "#ACDB_EM, AUX_EM, AUX_HT, \n",
    "\n",
    "#RTCFORHmi, SPARE_EM, TVM_EM, WMS"
   ]
  },
  {
   "cell_type": "markdown",
   "id": "prescribed-smooth",
   "metadata": {},
   "source": [
    "# Reading data Group Wise"
   ]
  },
  {
   "cell_type": "code",
   "execution_count": 4,
   "id": "improved-trinity",
   "metadata": {},
   "outputs": [],
   "source": [
    "def isMultipleof5(n): \n",
    "    while ( n > 0 ): \n",
    "        n = n - 5\n",
    "    if ( n == 0 ): \n",
    "        return 1\n",
    "    return 0"
   ]
  },
  {
   "cell_type": "code",
   "execution_count": 5,
   "id": "plain-hampshire",
   "metadata": {},
   "outputs": [
    {
     "name": "stdout",
     "output_type": "stream",
     "text": [
      "19 is not a multiple of 5\n"
     ]
    }
   ],
   "source": [
    "i = 19\n",
    "if ( isMultipleof5(i) == 1 ): \n",
    "    print (i, \"is multiple of 5\") \n",
    "else: \n",
    "    print (i, \"is not a multiple of 5\") \n",
    " "
   ]
  },
  {
   "cell_type": "code",
   "execution_count": 6,
   "id": "atlantic-boston",
   "metadata": {},
   "outputs": [
    {
     "name": "stdout",
     "output_type": "stream",
     "text": [
      "0\n",
      "DONE\n"
     ]
    }
   ],
   "source": [
    "#-Group_list------------------------------------------------------------------------------------------------------------------\n",
    "with open(str(date) + extension, 'a', newline='') as file:\n",
    "    print(iteration)\n",
    "    writer = csv.writer(file)\n",
    "    writer.writerow([\"Time\", \"Tag\", \"Value\"])\n",
    "\n",
    "    \n",
    "    for i in Group_list:\n",
    "        for j in i:\n",
    "            for name, value, quality, time in opc.iread(opc.list('PLC.Application.GVL.'+j)):\n",
    "                writer.writerow([current_time,name,str(value)])\n",
    "        t.sleep(1)\n",
    "iteration = iteration + 1\n",
    "print (\"DONE\")"
   ]
  },
  {
   "cell_type": "code",
   "execution_count": null,
   "id": "promising-mailing",
   "metadata": {
    "scrolled": false
   },
   "outputs": [],
   "source": [
    "#-ICR1_group--------------------------------------------------------------------------------------------------------------------\n",
    "with open( str(iteration) + \"_\" +\"ICR1_group\"+ str(date) + extension, 'a', newline='') as file:\n",
    "    print(iteration)\n",
    "    writer = csv.writer(file)\n",
    "    writer.writerow([\"Time\", \"Tag\", \"Value\"])\n",
    "    \n",
    "    for i in ICR1_group:\n",
    "        for name, value, quality, time in opc.iread(opc.list('PLC.Application.GVL.'+i)):\n",
    "            writer.writerow([current_time,name,str(value)])\n",
    "        t.sleep(1)\n",
    "#-ICR2_group--------------------------------------------------------------------------------------------------------------------\n",
    "with open( str(iteration) + \"_\" +\"ICR2_group\"+ str(date) + extension, 'a', newline='') as file:\n",
    "    print(iteration)\n",
    "    writer = csv.writer(file)\n",
    "    writer.writerow([\"Time\", \"Tag\", \"Value\"])\n",
    "    \n",
    "    for j in ICR2_group:\n",
    "        for name, value, quality, time in opc.iread(opc.list('PLC.Application.GVL.'+j)):\n",
    "            writer.writerow([current_time,name,str(value)])\n",
    "        t.sleep(1)\n",
    "#-MCR_group--------------------------------------------------------------------------------------------------------------------\n",
    "with open( str(iteration) + \"_\" +\"MCR_group\"+ str(date) + extension, 'a', newline='') as file:\n",
    "    print(iteration)\n",
    "    writer = csv.writer(file)\n",
    "    writer.writerow([\"Time\", \"Tag\", \"Value\"])\n",
    "    \n",
    "    for k in MCR_group:\n",
    "        for name, value, quality, time in opc.iread(opc.list('PLC.Application.GVL.'+k)):\n",
    "            writer.writerow([current_time,name,str(value)])\n",
    "        t.sleep(1)\n",
    "#-INC_group---------------------------------------------------------------------------------------------------------------------\n",
    "with open( str(iteration) + \"_\" +\"INC_group\"+ str(date) + extension, 'a', newline='') as file:\n",
    "    print(iteration)\n",
    "    writer = csv.writer(file)\n",
    "    writer.writerow([\"Time\", \"Tag\", \"Value\"])\n",
    "    \n",
    "    for l in INC_group:\n",
    "        for name, value, quality, time in opc.iread(opc.list('PLC.Application.GVL.'+l)):\n",
    "            writer.writerow([current_time,name,str(value)])\n",
    "        t.sleep(1)\n",
    "\n",
    "iteration = iteration + 1\n",
    "print (\"DONE\")"
   ]
  },
  {
   "cell_type": "code",
   "execution_count": null,
   "id": "trying-bottom",
   "metadata": {},
   "outputs": [],
   "source": [
    "#-OG_group---------------------------------------------------------------------------------------------------------------------\n",
    "with open( str(iteration) + \"_\" +\"OG_group\"+ str(date) + extension, 'a', newline='') as file:\n",
    "    print(iteration)\n",
    "    writer = csv.writer(file)\n",
    "    writer.writerow([\"Time\", \"Tag\", \"Value\"])\n",
    "    \n",
    "    for m in OG_group:\n",
    "        for name, value, quality, time in opc.iread(opc.list('PLC.Application.GVL.'+m)):\n",
    "            writer.writerow([current_time,name,str(value)])\n",
    "        t.sleep(1)"
   ]
  },
  {
   "cell_type": "code",
   "execution_count": null,
   "id": "owned-shipping",
   "metadata": {},
   "outputs": [],
   "source": [
    "#opc.close()"
   ]
  },
  {
   "cell_type": "code",
   "execution_count": null,
   "id": "split-creation",
   "metadata": {},
   "outputs": [],
   "source": [
    "def sql():\n",
    "    # Read CSV File using Panda\n",
    "\n",
    "    data = pd.read_csv (str(iteration) + \"_\" + str(date) + extension)\n",
    "\n",
    "    # Define Column Name \n",
    "\n",
    "    df = pd.DataFrame(data, columns= [\"Time\", \"Tag\", \"Value\"])\n",
    "\n",
    "    # Filterout Row that contain \"BOLLEN\" values and \"NO\" value\n",
    "\n",
    "    df.drop( df[ df['Value'] == 'False' ].index , inplace=True)\n",
    "    df.drop( df[ df['Value'] == 'True' ].index , inplace=True)\n",
    "    df = df.dropna(how='any',axis=0) \n",
    "    #print(df)\n",
    "\n",
    "    # Save Updated File as New file\n",
    "\n",
    "    df.to_csv(str(iteration) + \"_\" + str(date) + extension+'_Update.csv') \n",
    "\n",
    "    # Read New File using Panda\n",
    "\n",
    "    data1 = pd.read_csv (str(iteration) + \"_\" + str(date) + extension+'_Update.csv')   \n",
    "    df1 = pd.DataFrame(data1, columns= [\"Time\", \"Tag\", \"Value\"])\n",
    "\n",
    "    # Connect with SQL Server\n",
    "\n",
    "    server = 'DESKTOP-4CIC0JV' \n",
    "    database = 'OPC' \n",
    "    conn = pyodbc.connect('DRIVER={SQL Server};SERVER='+server+';DATABASE='+database)\n",
    "    cursor = conn.cursor()\n",
    "\n",
    "    # Store Updated CSV into SQL Server 2016\n",
    "\n",
    "    for index, row in df1.iterrows():  \n",
    "        cursor.execute(\"INSERT INTO OPC.dbo.OPC_DATA (Time, Tag, Value) values(?,?,?)\", row.Time, row.Tag, row.Value)\n",
    "\n",
    "    conn.commit()\n"
   ]
  },
  {
   "cell_type": "code",
   "execution_count": null,
   "id": "accepted-execution",
   "metadata": {},
   "outputs": [],
   "source": [
    "os.remove(Filename+'_Update.csv')"
   ]
  },
  {
   "cell_type": "code",
   "execution_count": null,
   "id": "opposed-public",
   "metadata": {},
   "outputs": [],
   "source": [
    "server = 'DESKTOP-4CIC0JV' \n",
    "database = 'OPC' \n",
    "conn = pyodbc.connect('DRIVER={SQL Server};SERVER='+server+';DATABASE='+database)\n",
    "cursor = conn.cursor()\n",
    "\n",
    "# Store Updated CSV into SQL Server 2016\n",
    "cursor.execute(\"select count(*) from fixtures\")  \n",
    "print(list(cursor))\n",
    "\n",
    "print (rowcount)\n",
    "#for index, row in df1.iterrows():  \n",
    "    #cursor.execute(\"INSERT INTO OPC.dbo.OPC_DATA (Time, Tag, Value) values(?,?,?)\", row.Time, row.Tag, row.Value)\n",
    "\n",
    "#conn.commit()"
   ]
  },
  {
   "cell_type": "code",
   "execution_count": null,
   "id": "married-bacteria",
   "metadata": {},
   "outputs": [],
   "source": []
  }
 ],
 "metadata": {
  "kernelspec": {
   "display_name": "Python 3",
   "language": "python",
   "name": "python3"
  },
  "language_info": {
   "codemirror_mode": {
    "name": "ipython",
    "version": 3
   },
   "file_extension": ".py",
   "mimetype": "text/x-python",
   "name": "python",
   "nbconvert_exporter": "python",
   "pygments_lexer": "ipython3",
   "version": "3.6.8"
  }
 },
 "nbformat": 4,
 "nbformat_minor": 5
}
