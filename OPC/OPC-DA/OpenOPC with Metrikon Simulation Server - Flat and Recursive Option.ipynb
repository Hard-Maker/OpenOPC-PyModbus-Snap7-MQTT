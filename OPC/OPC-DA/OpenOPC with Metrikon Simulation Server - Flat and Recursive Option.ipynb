{
 "cells": [
  {
   "cell_type": "markdown",
   "id": "suspected-laptop",
   "metadata": {},
   "source": [
    "# Import All Required Libraries "
   ]
  },
  {
   "cell_type": "code",
   "execution_count": 1,
   "id": "alternative-latino",
   "metadata": {},
   "outputs": [],
   "source": [
    "import OpenOPC\n",
    "import pywintypes # To avoid timeout error\n",
    "pywintypes.datetime=pywintypes.TimeType"
   ]
  },
  {
   "cell_type": "markdown",
   "id": "international-burton",
   "metadata": {},
   "source": [
    "# Initiate OPC Client"
   ]
  },
  {
   "cell_type": "code",
   "execution_count": 2,
   "id": "minor-holiday",
   "metadata": {},
   "outputs": [],
   "source": [
    "opc = OpenOPC.client()"
   ]
  },
  {
   "cell_type": "markdown",
   "id": "extensive-moisture",
   "metadata": {},
   "source": [
    "# Search for all available OPC Servers"
   ]
  },
  {
   "cell_type": "code",
   "execution_count": 4,
   "id": "handy-perth",
   "metadata": {},
   "outputs": [
    {
     "name": "stdout",
     "output_type": "stream",
     "text": [
      "['SchneiderElectric.SCADA.OpcDaServer.1', 'Schneider-Aut.OFS.2', 'Matrikon.OPC.Simulation.1']\n"
     ]
    }
   ],
   "source": [
    "servers = opc.servers()\n",
    "print (servers)"
   ]
  },
  {
   "cell_type": "markdown",
   "id": "linear-patio",
   "metadata": {},
   "source": [
    "# Connect with Specific OPC Server"
   ]
  },
  {
   "cell_type": "code",
   "execution_count": 5,
   "id": "thick-austria",
   "metadata": {},
   "outputs": [],
   "source": [
    "opc.connect('Matrikon.OPC.Simulation.1')"
   ]
  },
  {
   "cell_type": "markdown",
   "id": "bibliographic-sheep",
   "metadata": {},
   "source": [
    "# When Flat = True \n",
    "\n",
    "<img src=\"Flat_True.png\">"
   ]
  },
  {
   "cell_type": "code",
   "execution_count": 8,
   "id": "coordinate-mathematics",
   "metadata": {},
   "outputs": [],
   "source": [
    "flat_tag = opc.list(flat= True)"
   ]
  },
  {
   "cell_type": "code",
   "execution_count": 9,
   "id": "green-darwin",
   "metadata": {},
   "outputs": [
    {
     "data": {
      "text/plain": [
       "101"
      ]
     },
     "execution_count": 9,
     "metadata": {},
     "output_type": "execute_result"
    }
   ],
   "source": [
    "len(flat_tag)"
   ]
  },
  {
   "cell_type": "code",
   "execution_count": 10,
   "id": "composite-lancaster",
   "metadata": {},
   "outputs": [
    {
     "data": {
      "text/plain": [
       "['#MonitorACLFile',\n",
       " '@ClientCount',\n",
       " '@Clients',\n",
       " 'Bucket Brigade.ArrayOfReal8',\n",
       " 'Bucket Brigade.ArrayOfString',\n",
       " 'Bucket Brigade.Boolean',\n",
       " 'Bucket Brigade.Int1',\n",
       " 'Bucket Brigade.Int2',\n",
       " 'Bucket Brigade.Int4',\n",
       " 'Bucket Brigade.Money',\n",
       " 'Bucket Brigade.Real4',\n",
       " 'Bucket Brigade.Real8',\n",
       " 'Bucket Brigade.String',\n",
       " 'Bucket Brigade.Time',\n",
       " 'Bucket Brigade.UInt1',\n",
       " 'Bucket Brigade.UInt2',\n",
       " 'Bucket Brigade.UInt4',\n",
       " 'Random.ArrayOfReal8',\n",
       " 'Random.ArrayOfString',\n",
       " 'Random.Boolean',\n",
       " 'Random.Int1',\n",
       " 'Random.Int2',\n",
       " 'Random.Int4',\n",
       " 'Random.Money',\n",
       " 'Random.Qualities',\n",
       " 'Random.Real4',\n",
       " 'Random.Real8',\n",
       " 'Random.String',\n",
       " 'Random.Time',\n",
       " 'Random.UInt1',\n",
       " 'Random.UInt2',\n",
       " 'Random.UInt4',\n",
       " 'Read Error.ArrayOfReal8',\n",
       " 'Read Error.ArrayOfString',\n",
       " 'Read Error.Boolean',\n",
       " 'Read Error.Int1',\n",
       " 'Read Error.Int2',\n",
       " 'Read Error.Int4',\n",
       " 'Read Error.Money',\n",
       " 'Read Error.Real4',\n",
       " 'Read Error.Real8',\n",
       " 'Read Error.String',\n",
       " 'Read Error.Time',\n",
       " 'Read Error.UInt1',\n",
       " 'Read Error.UInt2',\n",
       " 'Read Error.UInt4',\n",
       " 'Saw-toothed Waves.Int1',\n",
       " 'Saw-toothed Waves.Int2',\n",
       " 'Saw-toothed Waves.Int4',\n",
       " 'Saw-toothed Waves.Money',\n",
       " 'Saw-toothed Waves.Real4',\n",
       " 'Saw-toothed Waves.Real8',\n",
       " 'Saw-toothed Waves.UInt1',\n",
       " 'Saw-toothed Waves.UInt2',\n",
       " 'Saw-toothed Waves.UInt4',\n",
       " 'Square Waves.Boolean',\n",
       " 'Square Waves.Int1',\n",
       " 'Square Waves.Int2',\n",
       " 'Square Waves.Int4',\n",
       " 'Square Waves.Real4',\n",
       " 'Square Waves.Real8',\n",
       " 'Square Waves.UInt1',\n",
       " 'Square Waves.UInt2',\n",
       " 'Square Waves.UInt4',\n",
       " 'Triangle Waves.Int1',\n",
       " 'Triangle Waves.Int2',\n",
       " 'Triangle Waves.Int4',\n",
       " 'Triangle Waves.Money',\n",
       " 'Triangle Waves.Real4',\n",
       " 'Triangle Waves.Real8',\n",
       " 'Triangle Waves.UInt1',\n",
       " 'Triangle Waves.UInt2',\n",
       " 'Triangle Waves.UInt4',\n",
       " 'Write Error.ArrayOfReal8',\n",
       " 'Write Error.ArrayOfString',\n",
       " 'Write Error.Boolean',\n",
       " 'Write Error.Int1',\n",
       " 'Write Error.Int2',\n",
       " 'Write Error.Int4',\n",
       " 'Write Error.Money',\n",
       " 'Write Error.Real4',\n",
       " 'Write Error.Real8',\n",
       " 'Write Error.String',\n",
       " 'Write Error.Time',\n",
       " 'Write Error.UInt1',\n",
       " 'Write Error.UInt2',\n",
       " 'Write Error.UInt4',\n",
       " 'Write Only.ArrayOfReal8',\n",
       " 'Write Only.ArrayOfString',\n",
       " 'Write Only.Boolean',\n",
       " 'Write Only.Int1',\n",
       " 'Write Only.Int2',\n",
       " 'Write Only.Int4',\n",
       " 'Write Only.Money',\n",
       " 'Write Only.Real4',\n",
       " 'Write Only.Real8',\n",
       " 'Write Only.String',\n",
       " 'Write Only.Time',\n",
       " 'Write Only.UInt1',\n",
       " 'Write Only.UInt2',\n",
       " 'Write Only.UInt4']"
      ]
     },
     "execution_count": 10,
     "metadata": {},
     "output_type": "execute_result"
    }
   ],
   "source": [
    "flat_tag"
   ]
  },
  {
   "cell_type": "markdown",
   "id": "twelve-ferry",
   "metadata": {},
   "source": [
    "# When Recursive = True\n",
    "<img src=\"Recursive_True.png\">"
   ]
  },
  {
   "cell_type": "code",
   "execution_count": 12,
   "id": "organizational-archive",
   "metadata": {},
   "outputs": [],
   "source": [
    "recursive_tag = opc.list(recursive= True)"
   ]
  },
  {
   "cell_type": "code",
   "execution_count": 13,
   "id": "committed-entrepreneur",
   "metadata": {},
   "outputs": [
    {
     "data": {
      "text/plain": [
       "98"
      ]
     },
     "execution_count": 13,
     "metadata": {},
     "output_type": "execute_result"
    }
   ],
   "source": [
    "len(recursive_tag)"
   ]
  },
  {
   "cell_type": "code",
   "execution_count": 14,
   "id": "healthy-donor",
   "metadata": {},
   "outputs": [
    {
     "data": {
      "text/plain": [
       "['Bucket Brigade.ArrayOfReal8',\n",
       " 'Bucket Brigade.ArrayOfString',\n",
       " 'Bucket Brigade.Boolean',\n",
       " 'Bucket Brigade.Int1',\n",
       " 'Bucket Brigade.Int2',\n",
       " 'Bucket Brigade.Int4',\n",
       " 'Bucket Brigade.Money',\n",
       " 'Bucket Brigade.Real4',\n",
       " 'Bucket Brigade.Real8',\n",
       " 'Bucket Brigade.String',\n",
       " 'Bucket Brigade.Time',\n",
       " 'Bucket Brigade.UInt1',\n",
       " 'Bucket Brigade.UInt2',\n",
       " 'Bucket Brigade.UInt4',\n",
       " 'Random.ArrayOfReal8',\n",
       " 'Random.ArrayOfString',\n",
       " 'Random.Boolean',\n",
       " 'Random.Int1',\n",
       " 'Random.Int2',\n",
       " 'Random.Int4',\n",
       " 'Random.Money',\n",
       " 'Random.Qualities',\n",
       " 'Random.Real4',\n",
       " 'Random.Real8',\n",
       " 'Random.String',\n",
       " 'Random.Time',\n",
       " 'Random.UInt1',\n",
       " 'Random.UInt2',\n",
       " 'Random.UInt4',\n",
       " 'Read Error.ArrayOfReal8',\n",
       " 'Read Error.ArrayOfString',\n",
       " 'Read Error.Boolean',\n",
       " 'Read Error.Int1',\n",
       " 'Read Error.Int2',\n",
       " 'Read Error.Int4',\n",
       " 'Read Error.Money',\n",
       " 'Read Error.Real4',\n",
       " 'Read Error.Real8',\n",
       " 'Read Error.String',\n",
       " 'Read Error.Time',\n",
       " 'Read Error.UInt1',\n",
       " 'Read Error.UInt2',\n",
       " 'Read Error.UInt4',\n",
       " 'Saw-toothed Waves.Int1',\n",
       " 'Saw-toothed Waves.Int2',\n",
       " 'Saw-toothed Waves.Int4',\n",
       " 'Saw-toothed Waves.Money',\n",
       " 'Saw-toothed Waves.Real4',\n",
       " 'Saw-toothed Waves.Real8',\n",
       " 'Saw-toothed Waves.UInt1',\n",
       " 'Saw-toothed Waves.UInt2',\n",
       " 'Saw-toothed Waves.UInt4',\n",
       " 'Square Waves.Boolean',\n",
       " 'Square Waves.Int1',\n",
       " 'Square Waves.Int2',\n",
       " 'Square Waves.Int4',\n",
       " 'Square Waves.Real4',\n",
       " 'Square Waves.Real8',\n",
       " 'Square Waves.UInt1',\n",
       " 'Square Waves.UInt2',\n",
       " 'Square Waves.UInt4',\n",
       " 'Triangle Waves.Int1',\n",
       " 'Triangle Waves.Int2',\n",
       " 'Triangle Waves.Int4',\n",
       " 'Triangle Waves.Money',\n",
       " 'Triangle Waves.Real4',\n",
       " 'Triangle Waves.Real8',\n",
       " 'Triangle Waves.UInt1',\n",
       " 'Triangle Waves.UInt2',\n",
       " 'Triangle Waves.UInt4',\n",
       " 'Write Error.ArrayOfReal8',\n",
       " 'Write Error.ArrayOfString',\n",
       " 'Write Error.Boolean',\n",
       " 'Write Error.Int1',\n",
       " 'Write Error.Int2',\n",
       " 'Write Error.Int4',\n",
       " 'Write Error.Money',\n",
       " 'Write Error.Real4',\n",
       " 'Write Error.Real8',\n",
       " 'Write Error.String',\n",
       " 'Write Error.Time',\n",
       " 'Write Error.UInt1',\n",
       " 'Write Error.UInt2',\n",
       " 'Write Error.UInt4',\n",
       " 'Write Only.ArrayOfReal8',\n",
       " 'Write Only.ArrayOfString',\n",
       " 'Write Only.Boolean',\n",
       " 'Write Only.Int1',\n",
       " 'Write Only.Int2',\n",
       " 'Write Only.Int4',\n",
       " 'Write Only.Money',\n",
       " 'Write Only.Real4',\n",
       " 'Write Only.Real8',\n",
       " 'Write Only.String',\n",
       " 'Write Only.Time',\n",
       " 'Write Only.UInt1',\n",
       " 'Write Only.UInt2',\n",
       " 'Write Only.UInt4']"
      ]
     },
     "execution_count": 14,
     "metadata": {},
     "output_type": "execute_result"
    }
   ],
   "source": [
    "recursive_tag"
   ]
  },
  {
   "cell_type": "code",
   "execution_count": 15,
   "id": "herbal-interference",
   "metadata": {},
   "outputs": [],
   "source": [
    "both_true = opc.list(recursive= True, flat = True)"
   ]
  },
  {
   "cell_type": "code",
   "execution_count": 16,
   "id": "spectacular-accreditation",
   "metadata": {},
   "outputs": [
    {
     "data": {
      "text/plain": [
       "101"
      ]
     },
     "execution_count": 16,
     "metadata": {},
     "output_type": "execute_result"
    }
   ],
   "source": [
    "len(both_true)"
   ]
  },
  {
   "cell_type": "code",
   "execution_count": 17,
   "id": "institutional-modeling",
   "metadata": {},
   "outputs": [],
   "source": [
    "flat_real = opc.list('*.Real*', flat = True)"
   ]
  },
  {
   "cell_type": "code",
   "execution_count": 22,
   "id": "living-expansion",
   "metadata": {},
   "outputs": [
    {
     "data": {
      "text/plain": [
       "['Bucket Brigade.Real4',\n",
       " 'Bucket Brigade.Real8',\n",
       " 'Random.Real4',\n",
       " 'Random.Real8',\n",
       " 'Read Error.Real4',\n",
       " 'Read Error.Real8',\n",
       " 'Saw-toothed Waves.Real4',\n",
       " 'Saw-toothed Waves.Real8',\n",
       " 'Square Waves.Real4',\n",
       " 'Square Waves.Real8',\n",
       " 'Triangle Waves.Real4',\n",
       " 'Triangle Waves.Real8',\n",
       " 'Write Error.Real4',\n",
       " 'Write Error.Real8',\n",
       " 'Write Only.Real4',\n",
       " 'Write Only.Real8']"
      ]
     },
     "execution_count": 22,
     "metadata": {},
     "output_type": "execute_result"
    }
   ],
   "source": [
    "flat_real"
   ]
  },
  {
   "cell_type": "code",
   "execution_count": 19,
   "id": "finite-writer",
   "metadata": {},
   "outputs": [],
   "source": [
    "recursive_real = opc.list('Sim*.*.Real*', recursive=True)"
   ]
  },
  {
   "cell_type": "code",
   "execution_count": 21,
   "id": "exclusive-practitioner",
   "metadata": {},
   "outputs": [
    {
     "data": {
      "text/plain": [
       "['Bucket Brigade.Real4',\n",
       " 'Bucket Brigade.Real8',\n",
       " 'Random.Real4',\n",
       " 'Random.Real8',\n",
       " 'Read Error.Real4',\n",
       " 'Read Error.Real8',\n",
       " 'Saw-toothed Waves.Real4',\n",
       " 'Saw-toothed Waves.Real8',\n",
       " 'Square Waves.Real4',\n",
       " 'Square Waves.Real8',\n",
       " 'Triangle Waves.Real4',\n",
       " 'Triangle Waves.Real8',\n",
       " 'Write Error.Real4',\n",
       " 'Write Error.Real8',\n",
       " 'Write Only.Real4',\n",
       " 'Write Only.Real8']"
      ]
     },
     "execution_count": 21,
     "metadata": {},
     "output_type": "execute_result"
    }
   ],
   "source": [
    "recursive_real"
   ]
  },
  {
   "cell_type": "code",
   "execution_count": null,
   "id": "owned-shipping",
   "metadata": {},
   "outputs": [],
   "source": [
    "opc.close()"
   ]
  }
 ],
 "metadata": {
  "kernelspec": {
   "display_name": "Python 3",
   "language": "python",
   "name": "python3"
  },
  "language_info": {
   "codemirror_mode": {
    "name": "ipython",
    "version": 3
   },
   "file_extension": ".py",
   "mimetype": "text/x-python",
   "name": "python",
   "nbconvert_exporter": "python",
   "pygments_lexer": "ipython3",
   "version": "3.6.8"
  }
 },
 "nbformat": 4,
 "nbformat_minor": 5
}
