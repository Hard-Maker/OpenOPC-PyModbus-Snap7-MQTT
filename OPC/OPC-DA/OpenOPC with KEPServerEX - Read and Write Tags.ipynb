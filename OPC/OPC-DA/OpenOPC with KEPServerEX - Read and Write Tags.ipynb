{
 "cells": [
  {
   "cell_type": "markdown",
   "id": "suspected-laptop",
   "metadata": {},
   "source": [
    "# Import All Required Libraries "
   ]
  },
  {
   "cell_type": "code",
   "execution_count": null,
   "id": "alternative-latino",
   "metadata": {},
   "outputs": [],
   "source": [
    "import OpenOPC\n",
    "import pywintypes # To avoid timeout error\n",
    "pywintypes.datetime=pywintypes.TimeType"
   ]
  },
  {
   "cell_type": "markdown",
   "id": "international-burton",
   "metadata": {},
   "source": [
    "# Initiate OPC Client"
   ]
  },
  {
   "cell_type": "code",
   "execution_count": null,
   "id": "minor-holiday",
   "metadata": {},
   "outputs": [],
   "source": [
    "opc = OpenOPC.client()"
   ]
  },
  {
   "cell_type": "markdown",
   "id": "extensive-moisture",
   "metadata": {},
   "source": [
    "# Search for all available OPC Servers"
   ]
  },
  {
   "cell_type": "code",
   "execution_count": null,
   "id": "saved-suggestion",
   "metadata": {},
   "outputs": [],
   "source": [
    "servers = opc.servers()"
   ]
  },
  {
   "cell_type": "code",
   "execution_count": null,
   "id": "handy-perth",
   "metadata": {},
   "outputs": [],
   "source": [
    "servers"
   ]
  },
  {
   "cell_type": "markdown",
   "id": "linear-patio",
   "metadata": {},
   "source": [
    "# Connect with KEPServerEx OPC Server"
   ]
  },
  {
   "cell_type": "code",
   "execution_count": null,
   "id": "thick-austria",
   "metadata": {},
   "outputs": [],
   "source": [
    "opc.connect('Kepware.KEPServerEX.V6')"
   ]
  },
  {
   "cell_type": "markdown",
   "id": "bibliographic-sheep",
   "metadata": {},
   "source": [
    "# Get list of available aliases"
   ]
  },
  {
   "cell_type": "code",
   "execution_count": null,
   "id": "floating-politics",
   "metadata": {},
   "outputs": [],
   "source": [
    "aliases = opc.list()"
   ]
  },
  {
   "cell_type": "code",
   "execution_count": null,
   "id": "composite-lancaster",
   "metadata": {},
   "outputs": [],
   "source": [
    "aliases"
   ]
  },
  {
   "cell_type": "markdown",
   "id": "positive-drill",
   "metadata": {},
   "source": [
    "# Get list of tags of Device 1 from Channel 1"
   ]
  },
  {
   "cell_type": "code",
   "execution_count": null,
   "id": "falling-gender",
   "metadata": {},
   "outputs": [],
   "source": [
    "tags = sorted(opc.list('*.T*', flat = True))"
   ]
  },
  {
   "cell_type": "code",
   "execution_count": null,
   "id": "present-representative",
   "metadata": {},
   "outputs": [],
   "source": [
    "tags"
   ]
  },
  {
   "cell_type": "markdown",
   "id": "regular-cancer",
   "metadata": {},
   "source": [
    "# Reading Individual Tag Values"
   ]
  },
  {
   "cell_type": "code",
   "execution_count": null,
   "id": "royal-times",
   "metadata": {
    "scrolled": true
   },
   "outputs": [],
   "source": [
    "opc.read('Channel1.Device1.Tag1')"
   ]
  },
  {
   "cell_type": "code",
   "execution_count": null,
   "id": "listed-destiny",
   "metadata": {},
   "outputs": [],
   "source": [
    "opc.read('Channel1.Device1.Tag2')"
   ]
  },
  {
   "cell_type": "markdown",
   "id": "numerical-lindsay",
   "metadata": {},
   "source": [
    "# Writing Individual Tag Values"
   ]
  },
  {
   "cell_type": "code",
   "execution_count": null,
   "id": "floral-relation",
   "metadata": {},
   "outputs": [],
   "source": [
    "opc.write(('Channel1.Device1.Tag1',1))"
   ]
  },
  {
   "cell_type": "code",
   "execution_count": null,
   "id": "stable-battery",
   "metadata": {},
   "outputs": [],
   "source": [
    "opc.write(('Channel1.Device1.Tag2',2))"
   ]
  },
  {
   "cell_type": "markdown",
   "id": "fossil-nepal",
   "metadata": {},
   "source": [
    "# Read Multiple Tag at Once"
   ]
  },
  {
   "cell_type": "code",
   "execution_count": null,
   "id": "therapeutic-mortality",
   "metadata": {},
   "outputs": [],
   "source": [
    "opc.read(tags)"
   ]
  },
  {
   "cell_type": "markdown",
   "id": "steady-package",
   "metadata": {},
   "source": [
    "# Write Multiple Tag at Once"
   ]
  },
  {
   "cell_type": "code",
   "execution_count": null,
   "id": "parliamentary-parameter",
   "metadata": {},
   "outputs": [],
   "source": [
    "tag_val = [('Channel1.Device1.Tag1', 1),\n",
    "           ('Channel1.Device1.Tag2', 2),\n",
    "           ('Channel1.Device1.Tag3', 3),\n",
    "           ('Channel1.Device1.Tag4', 4),\n",
    "           ('Channel1.Device1.Tag5', 5),\n",
    "           ('Channel1.Device1.Tag6', 6),\n",
    "           ('Channel1.Device1.Tag7', 7),\n",
    "           ('Channel1.Device1.Tag8', 8),\n",
    "           ('Channel1.Device1.Tag9', 10)]"
   ]
  },
  {
   "cell_type": "code",
   "execution_count": null,
   "id": "absolute-bangkok",
   "metadata": {},
   "outputs": [],
   "source": [
    "opc.write(tag_val)"
   ]
  },
  {
   "cell_type": "code",
   "execution_count": null,
   "id": "owned-shipping",
   "metadata": {},
   "outputs": [],
   "source": [
    "opc.close()"
   ]
  }
 ],
 "metadata": {
  "kernelspec": {
   "display_name": "Python 3",
   "language": "python",
   "name": "python3"
  },
  "language_info": {
   "codemirror_mode": {
    "name": "ipython",
    "version": 3
   },
   "file_extension": ".py",
   "mimetype": "text/x-python",
   "name": "python",
   "nbconvert_exporter": "python",
   "pygments_lexer": "ipython3",
   "version": "3.6.8"
  }
 },
 "nbformat": 4,
 "nbformat_minor": 5
}
