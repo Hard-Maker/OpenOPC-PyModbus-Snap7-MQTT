{
 "cells": [
  {
   "cell_type": "markdown",
   "id": "suspected-laptop",
   "metadata": {},
   "source": [
    "# Import All Required Libraries "
   ]
  },
  {
   "cell_type": "code",
   "execution_count": 1,
   "id": "alternative-latino",
   "metadata": {},
   "outputs": [],
   "source": [
    "import OpenOPC\n",
    "import pywintypes # To avoid timeout error\n",
    "pywintypes.datetime=pywintypes.TimeType"
   ]
  },
  {
   "cell_type": "markdown",
   "id": "international-burton",
   "metadata": {},
   "source": [
    "# Initiate OPC Client"
   ]
  },
  {
   "cell_type": "code",
   "execution_count": 2,
   "id": "minor-holiday",
   "metadata": {},
   "outputs": [],
   "source": [
    "opc = OpenOPC.client()"
   ]
  },
  {
   "cell_type": "markdown",
   "id": "extensive-moisture",
   "metadata": {},
   "source": [
    "# Search for all available OPC Servers"
   ]
  },
  {
   "cell_type": "code",
   "execution_count": 3,
   "id": "handy-perth",
   "metadata": {},
   "outputs": [
    {
     "name": "stdout",
     "output_type": "stream",
     "text": [
      "['SchneiderElectric.SCADA.OpcDaServer.1', 'Schneider-Aut.OFS.2', 'Matrikon.OPC.Simulation.1']\n"
     ]
    }
   ],
   "source": [
    "servers = opc.servers()\n",
    "print (servers)"
   ]
  },
  {
   "cell_type": "markdown",
   "id": "linear-patio",
   "metadata": {},
   "source": [
    "# Connect with Matrikon OPC Server"
   ]
  },
  {
   "cell_type": "code",
   "execution_count": 4,
   "id": "thick-austria",
   "metadata": {},
   "outputs": [],
   "source": [
    "opc.connect('Matrikon.OPC.Simulation.1')"
   ]
  },
  {
   "cell_type": "markdown",
   "id": "bibliographic-sheep",
   "metadata": {},
   "source": [
    "# Get list of available aliases"
   ]
  },
  {
   "cell_type": "code",
   "execution_count": 5,
   "id": "composite-lancaster",
   "metadata": {},
   "outputs": [
    {
     "name": "stdout",
     "output_type": "stream",
     "text": [
      "['Simulation Items', 'Configured Aliases']\n"
     ]
    }
   ],
   "source": [
    "aliases = opc.list()\n",
    "print (aliases)"
   ]
  },
  {
   "cell_type": "markdown",
   "id": "numerous-paradise",
   "metadata": {},
   "source": [
    "# Get list of available groups in specific alias"
   ]
  },
  {
   "cell_type": "code",
   "execution_count": 6,
   "id": "expressed-elements",
   "metadata": {},
   "outputs": [],
   "source": [
    "groups = opc.list('Simulation Items')"
   ]
  },
  {
   "cell_type": "code",
   "execution_count": 7,
   "id": "central-preview",
   "metadata": {},
   "outputs": [
    {
     "data": {
      "text/plain": [
       "['Bucket Brigade',\n",
       " 'Random',\n",
       " 'Read Error',\n",
       " 'Saw-toothed Waves',\n",
       " 'Square Waves',\n",
       " 'Triangle Waves',\n",
       " 'Write Error',\n",
       " 'Write Only']"
      ]
     },
     "execution_count": 7,
     "metadata": {},
     "output_type": "execute_result"
    }
   ],
   "source": [
    "groups"
   ]
  },
  {
   "cell_type": "markdown",
   "id": "positive-drill",
   "metadata": {},
   "source": [
    "# Get list of avaible tags in specfic group"
   ]
  },
  {
   "cell_type": "code",
   "execution_count": 8,
   "id": "present-representative",
   "metadata": {},
   "outputs": [],
   "source": [
    "tags = opc.list('Simulation Items.Random.*')"
   ]
  },
  {
   "cell_type": "code",
   "execution_count": 9,
   "id": "hydraulic-deployment",
   "metadata": {},
   "outputs": [
    {
     "data": {
      "text/plain": [
       "['Random.ArrayOfReal8',\n",
       " 'Random.ArrayOfString',\n",
       " 'Random.Boolean',\n",
       " 'Random.Int1',\n",
       " 'Random.Int2',\n",
       " 'Random.Int4',\n",
       " 'Random.Money',\n",
       " 'Random.Qualities',\n",
       " 'Random.Real4',\n",
       " 'Random.Real8',\n",
       " 'Random.String',\n",
       " 'Random.Time',\n",
       " 'Random.UInt1',\n",
       " 'Random.UInt2',\n",
       " 'Random.UInt4']"
      ]
     },
     "execution_count": 9,
     "metadata": {},
     "output_type": "execute_result"
    }
   ],
   "source": [
    "tags"
   ]
  },
  {
   "cell_type": "markdown",
   "id": "convinced-green",
   "metadata": {},
   "source": [
    "# Getting Tag Properties\n"
   ]
  },
  {
   "attachments": {
    "image.png": {
     "image/png": "[encoded data removed]"
    }
   },
   "cell_type": "markdown",
   "id": "regular-cancer",
   "metadata": {},
   "source": [
    "<h1><center>Canonical DataType Details!</center></h1>\n",
    "\n",
    "![image.png](attachment:image.png)"
   ]
  },
  {
   "cell_type": "code",
   "execution_count": 17,
   "id": "contemporary-campus",
   "metadata": {},
   "outputs": [
    {
     "data": {
      "text/plain": [
       "[(1, 11), (3, 'Good')]"
      ]
     },
     "execution_count": 17,
     "metadata": {},
     "output_type": "execute_result"
    }
   ],
   "source": [
    "opc.properties('Random.Boolean', id = (1,3))"
   ]
  },
  {
   "cell_type": "code",
   "execution_count": 21,
   "id": "textile-traffic",
   "metadata": {},
   "outputs": [
    {
     "data": {
      "text/plain": [
       "[(0, 'Item ID (virtual property)', 'Random.Int2'),\n",
       " (1, 'Item Canonical DataType', 2),\n",
       " (2, 'Item Value', 27350),\n",
       " (3, 'Item Quality', 'Good'),\n",
       " (4, 'Item Timestamp', '2021-05-10 15:48:41+00:00'),\n",
       " (5, 'Item Access Rights', 'Read'),\n",
       " (6, 'Server Scan Rate', 100.0),\n",
       " (7, 'Item EU Type', 0),\n",
       " (8, 'Item EUInfo', None),\n",
       " (101, 'Item Description', 'Random value.')]"
      ]
     },
     "execution_count": 21,
     "metadata": {},
     "output_type": "execute_result"
    }
   ],
   "source": [
    "opc.properties('Random.Int2')"
   ]
  },
  {
   "cell_type": "code",
   "execution_count": 23,
   "id": "royal-times",
   "metadata": {
    "scrolled": true
   },
   "outputs": [
    {
     "data": {
      "text/plain": [
       "8"
      ]
     },
     "execution_count": 23,
     "metadata": {},
     "output_type": "execute_result"
    }
   ],
   "source": [
    "opc.properties('Random.String' , id = 1)"
   ]
  },
  {
   "cell_type": "code",
   "execution_count": 24,
   "id": "owned-shipping",
   "metadata": {},
   "outputs": [],
   "source": [
    "opc.close()"
   ]
  }
 ],
 "metadata": {
  "kernelspec": {
   "display_name": "Python 3",
   "language": "python",
   "name": "python3"
  },
  "language_info": {
   "codemirror_mode": {
    "name": "ipython",
    "version": 3
   },
   "file_extension": ".py",
   "mimetype": "text/x-python",
   "name": "python",
   "nbconvert_exporter": "python",
   "pygments_lexer": "ipython3",
   "version": "3.6.8"
  }
 },
 "nbformat": 4,
 "nbformat_minor": 5
}
