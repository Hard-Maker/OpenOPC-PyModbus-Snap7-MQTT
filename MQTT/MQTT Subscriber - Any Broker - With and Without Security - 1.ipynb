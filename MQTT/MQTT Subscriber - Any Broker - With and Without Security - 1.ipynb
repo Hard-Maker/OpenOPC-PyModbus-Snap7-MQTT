{
 "cells": [
  {
   "cell_type": "markdown",
   "id": "f5d6f4b0",
   "metadata": {},
   "source": [
    "# Steps to Start Mosquitto  Broker \n",
    "- Open CMD as Administrator\n",
    "- Navigate to : \"C:\\Program Files\\mosquitto\"\n",
    "- Start Mosquitto  Service by This Command : \"net start mosquitto\"\n",
    "- Set Port for Mosquitto  Broker by This Command : \"mosquitto -p 1883\""
   ]
  },
  {
   "cell_type": "markdown",
   "id": "a955d3f2",
   "metadata": {},
   "source": [
    "# Import Required Function from Library"
   ]
  },
  {
   "cell_type": "code",
   "execution_count": 1,
   "id": "440a47ed",
   "metadata": {},
   "outputs": [],
   "source": [
    "import random\n",
    "from paho.mqtt import client as mqtt_client"
   ]
  },
  {
   "cell_type": "markdown",
   "id": "dfa38b2b",
   "metadata": {},
   "source": [
    "# Define Broker Perameter "
   ]
  },
  {
   "cell_type": "code",
   "execution_count": 2,
   "id": "776a6f83",
   "metadata": {},
   "outputs": [],
   "source": [
    "broker = 'localhost'\n",
    "port = 1883"
   ]
  },
  {
   "cell_type": "markdown",
   "id": "9c5ebb15",
   "metadata": {},
   "source": [
    "# Topic Which You want to Subscribe"
   ]
  },
  {
   "cell_type": "code",
   "execution_count": 3,
   "id": "99303cd3",
   "metadata": {},
   "outputs": [],
   "source": [
    "topic1 = \"house/Room_Temp_1\"\n",
    "topic2 = \"house/Room_Temp_2\""
   ]
  },
  {
   "cell_type": "markdown",
   "id": "39b3c49f",
   "metadata": {},
   "source": [
    "# Username and Password of Broker if Any!"
   ]
  },
  {
   "cell_type": "code",
   "execution_count": 4,
   "id": "0050a24e",
   "metadata": {},
   "outputs": [],
   "source": [
    "# username = 'emqx'\n",
    "# password = 'public'"
   ]
  },
  {
   "cell_type": "markdown",
   "id": "d2272a43",
   "metadata": {},
   "source": [
    "# initiate Client"
   ]
  },
  {
   "cell_type": "code",
   "execution_count": 5,
   "id": "a4fe5332",
   "metadata": {},
   "outputs": [],
   "source": [
    "client = mqtt_client.Client(\"Python MQTT Subscriber\")"
   ]
  },
  {
   "cell_type": "markdown",
   "id": "9eddfd5b",
   "metadata": {},
   "source": [
    "# Use this : If Broker has Username and Password"
   ]
  },
  {
   "cell_type": "code",
   "execution_count": 6,
   "id": "7a99190d",
   "metadata": {},
   "outputs": [],
   "source": [
    "#client.username_pw_set(username, password)"
   ]
  },
  {
   "cell_type": "markdown",
   "id": "e09e2a9f",
   "metadata": {},
   "source": [
    "# Create Connection with MQTT Broker"
   ]
  },
  {
   "cell_type": "code",
   "execution_count": 7,
   "id": "70f54df7",
   "metadata": {},
   "outputs": [
    {
     "data": {
      "text/plain": [
       "0"
      ]
     },
     "execution_count": 7,
     "metadata": {},
     "output_type": "execute_result"
    }
   ],
   "source": [
    "client.connect(broker, port)"
   ]
  },
  {
   "cell_type": "markdown",
   "id": "faceb2c1",
   "metadata": {},
   "source": [
    "# Subscribe to TOPIC"
   ]
  },
  {
   "cell_type": "code",
   "execution_count": 8,
   "id": "2c73bb37",
   "metadata": {},
   "outputs": [
    {
     "data": {
      "text/plain": [
       "(0, 1)"
      ]
     },
     "execution_count": 8,
     "metadata": {},
     "output_type": "execute_result"
    }
   ],
   "source": [
    "client.subscribe(topic1)"
   ]
  },
  {
   "cell_type": "code",
   "execution_count": 9,
   "id": "f93d8761",
   "metadata": {},
   "outputs": [
    {
     "data": {
      "text/plain": [
       "(0, 2)"
      ]
     },
     "execution_count": 9,
     "metadata": {},
     "output_type": "execute_result"
    }
   ],
   "source": [
    "client.subscribe(topic2)"
   ]
  },
  {
   "cell_type": "markdown",
   "id": "cbdeb3bd",
   "metadata": {},
   "source": [
    "# When Topic Value Changes, Read it and Decode it"
   ]
  },
  {
   "cell_type": "code",
   "execution_count": 10,
   "id": "7641c43b",
   "metadata": {},
   "outputs": [],
   "source": [
    "def on_message(client, userdata, msg):\n",
    "    print(f\"[+]Info : {msg.topic} Change to : {msg.payload.decode()} \")"
   ]
  },
  {
   "cell_type": "code",
   "execution_count": 11,
   "id": "b12f382a",
   "metadata": {},
   "outputs": [],
   "source": [
    "client.on_message = on_message"
   ]
  },
  {
   "cell_type": "markdown",
   "id": "edac1af7",
   "metadata": {},
   "source": [
    "# Run Client Loop Forever and Read Incomming Message Continously"
   ]
  },
  {
   "cell_type": "code",
   "execution_count": null,
   "id": "86dcaac7",
   "metadata": {},
   "outputs": [
    {
     "name": "stdout",
     "output_type": "stream",
     "text": [
      "[+]Info : house/Room_Temp_1 Change to : 32 \n",
      "[+]Info : house/Room_Temp_1 Change to : 33 \n",
      "[+]Info : house/Room_Temp_2 Change to : 35 \n",
      "[+]Info : house/Room_Temp_1 Change to : 34 \n",
      "[+]Info : house/Room_Temp_2 Change to : 36 \n",
      "[+]Info : house/Room_Temp_1 Change to : 35 \n",
      "[+]Info : house/Room_Temp_2 Change to : 37 \n",
      "[+]Info : house/Room_Temp_1 Change to : 36 \n",
      "[+]Info : house/Room_Temp_2 Change to : 38 \n",
      "[+]Info : house/Room_Temp_1 Change to : 37 \n",
      "[+]Info : house/Room_Temp_2 Change to : 39 \n",
      "[+]Info : house/Room_Temp_1 Change to : 38 \n",
      "[+]Info : house/Room_Temp_2 Change to : 40 \n",
      "[+]Info : house/Room_Temp_1 Change to : 39 \n",
      "[+]Info : house/Room_Temp_2 Change to : 41 \n",
      "[+]Info : house/Room_Temp_1 Change to : 40 \n",
      "[+]Info : house/Room_Temp_2 Change to : 42 \n",
      "[+]Info : house/Room_Temp_1 Change to : 41 \n",
      "[+]Info : house/Room_Temp_2 Change to : 43 \n",
      "[+]Info : house/Room_Temp_1 Change to : 42 \n",
      "[+]Info : house/Room_Temp_2 Change to : 44 \n",
      "[+]Info : house/Room_Temp_1 Change to : 43 \n",
      "[+]Info : house/Room_Temp_2 Change to : 45 \n",
      "[+]Info : house/Room_Temp_1 Change to : 44 \n",
      "[+]Info : house/Room_Temp_2 Change to : 46 \n",
      "[+]Info : house/Room_Temp_1 Change to : 45 \n",
      "[+]Info : house/Room_Temp_2 Change to : 47 \n",
      "[+]Info : house/Room_Temp_1 Change to : 46 \n",
      "[+]Info : house/Room_Temp_2 Change to : 48 \n",
      "[+]Info : house/Room_Temp_1 Change to : 47 \n",
      "[+]Info : house/Room_Temp_2 Change to : 49 \n",
      "[+]Info : house/Room_Temp_1 Change to : 48 \n",
      "[+]Info : house/Room_Temp_2 Change to : 50 \n",
      "[+]Info : house/Room_Temp_1 Change to : 49 \n",
      "[+]Info : house/Room_Temp_2 Change to : 51 \n",
      "[+]Info : house/Room_Temp_1 Change to : 50 \n",
      "[+]Info : house/Room_Temp_2 Change to : 52 \n",
      "[+]Info : house/Room_Temp_1 Change to : 51 \n",
      "[+]Info : house/Room_Temp_2 Change to : 53 \n",
      "[+]Info : house/Room_Temp_1 Change to : 52 \n",
      "[+]Info : house/Room_Temp_2 Change to : 54 \n",
      "[+]Info : house/Room_Temp_1 Change to : 53 \n",
      "[+]Info : house/Room_Temp_2 Change to : 55 \n",
      "[+]Info : house/Room_Temp_1 Change to : 54 \n",
      "[+]Info : house/Room_Temp_2 Change to : 56 \n",
      "[+]Info : house/Room_Temp_1 Change to : 55 \n",
      "[+]Info : house/Room_Temp_2 Change to : 57 \n",
      "[+]Info : house/Room_Temp_1 Change to : 56 \n",
      "[+]Info : house/Room_Temp_2 Change to : 58 \n",
      "[+]Info : house/Room_Temp_1 Change to : 57 \n",
      "[+]Info : house/Room_Temp_2 Change to : 59 \n",
      "[+]Info : house/Room_Temp_1 Change to : 58 \n",
      "[+]Info : house/Room_Temp_2 Change to : 60 \n",
      "[+]Info : house/Room_Temp_1 Change to : 59 \n",
      "[+]Info : house/Room_Temp_2 Change to : 61 \n",
      "[+]Info : house/Room_Temp_1 Change to : 60 \n",
      "[+]Info : house/Room_Temp_2 Change to : 62 \n",
      "[+]Info : house/Room_Temp_1 Change to : 61 \n",
      "[+]Info : house/Room_Temp_2 Change to : 63 \n",
      "[+]Info : house/Room_Temp_1 Change to : 62 \n",
      "[+]Info : house/Room_Temp_2 Change to : 64 \n",
      "[+]Info : house/Room_Temp_1 Change to : 63 \n",
      "[+]Info : house/Room_Temp_2 Change to : 65 \n",
      "[+]Info : house/Room_Temp_1 Change to : 64 \n",
      "[+]Info : house/Room_Temp_2 Change to : 66 \n",
      "[+]Info : house/Room_Temp_1 Change to : 65 \n",
      "[+]Info : house/Room_Temp_2 Change to : 67 \n",
      "[+]Info : house/Room_Temp_1 Change to : 66 \n",
      "[+]Info : house/Room_Temp_2 Change to : 68 \n",
      "[+]Info : house/Room_Temp_1 Change to : 67 \n",
      "[+]Info : house/Room_Temp_2 Change to : 69 \n",
      "[+]Info : house/Room_Temp_1 Change to : 68 \n",
      "[+]Info : house/Room_Temp_2 Change to : 70 \n",
      "[+]Info : house/Room_Temp_1 Change to : 69 \n",
      "[+]Info : house/Room_Temp_2 Change to : 71 \n",
      "[+]Info : house/Room_Temp_1 Change to : 70 \n",
      "[+]Info : house/Room_Temp_2 Change to : 72 \n",
      "[+]Info : house/Room_Temp_1 Change to : 71 \n",
      "[+]Info : house/Room_Temp_2 Change to : 73 \n",
      "[+]Info : house/Room_Temp_1 Change to : 72 \n",
      "[+]Info : house/Room_Temp_2 Change to : 74 \n",
      "[+]Info : house/Room_Temp_1 Change to : 73 \n",
      "[+]Info : house/Room_Temp_2 Change to : 75 \n",
      "[+]Info : house/Room_Temp_1 Change to : 74 \n",
      "[+]Info : house/Room_Temp_2 Change to : 76 \n",
      "[+]Info : house/Room_Temp_1 Change to : 75 \n",
      "[+]Info : house/Room_Temp_2 Change to : 77 \n",
      "[+]Info : house/Room_Temp_1 Change to : 76 \n",
      "[+]Info : house/Room_Temp_2 Change to : 78 \n",
      "[+]Info : house/Room_Temp_1 Change to : 77 \n",
      "[+]Info : house/Room_Temp_2 Change to : 79 \n",
      "[+]Info : house/Room_Temp_1 Change to : 78 \n",
      "[+]Info : house/Room_Temp_2 Change to : 80 \n",
      "[+]Info : house/Room_Temp_1 Change to : 79 \n",
      "[+]Info : house/Room_Temp_2 Change to : 81 \n",
      "[+]Info : house/Room_Temp_1 Change to : 80 \n",
      "[+]Info : house/Room_Temp_2 Change to : 82 \n",
      "[+]Info : house/Room_Temp_1 Change to : 81 \n",
      "[+]Info : house/Room_Temp_2 Change to : 83 \n",
      "[+]Info : house/Room_Temp_1 Change to : 82 \n",
      "[+]Info : house/Room_Temp_2 Change to : 84 \n",
      "[+]Info : house/Room_Temp_1 Change to : 83 \n",
      "[+]Info : house/Room_Temp_2 Change to : 85 \n",
      "[+]Info : house/Room_Temp_1 Change to : 84 \n",
      "[+]Info : house/Room_Temp_2 Change to : 86 \n",
      "[+]Info : house/Room_Temp_1 Change to : 85 \n",
      "[+]Info : house/Room_Temp_2 Change to : 87 \n",
      "[+]Info : house/Room_Temp_1 Change to : 86 \n",
      "[+]Info : house/Room_Temp_2 Change to : 88 \n",
      "[+]Info : house/Room_Temp_1 Change to : 87 \n",
      "[+]Info : house/Room_Temp_2 Change to : 89 \n",
      "[+]Info : house/Room_Temp_1 Change to : 88 \n",
      "[+]Info : house/Room_Temp_2 Change to : 90 \n",
      "[+]Info : house/Room_Temp_1 Change to : 89 \n",
      "[+]Info : house/Room_Temp_2 Change to : 91 \n",
      "[+]Info : house/Room_Temp_1 Change to : 90 \n",
      "[+]Info : house/Room_Temp_2 Change to : 92 \n",
      "[+]Info : house/Room_Temp_1 Change to : 91 \n",
      "[+]Info : house/Room_Temp_2 Change to : 93 \n",
      "[+]Info : house/Room_Temp_1 Change to : 92 \n",
      "[+]Info : house/Room_Temp_2 Change to : 94 \n",
      "[+]Info : house/Room_Temp_1 Change to : 93 \n",
      "[+]Info : house/Room_Temp_2 Change to : 95 \n",
      "[+]Info : house/Room_Temp_1 Change to : 94 \n",
      "[+]Info : house/Room_Temp_2 Change to : 96 \n",
      "[+]Info : house/Room_Temp_1 Change to : 95 \n",
      "[+]Info : house/Room_Temp_2 Change to : 97 \n",
      "[+]Info : house/Room_Temp_1 Change to : 96 \n",
      "[+]Info : house/Room_Temp_2 Change to : 98 \n",
      "[+]Info : house/Room_Temp_1 Change to : 97 \n",
      "[+]Info : house/Room_Temp_2 Change to : 99 \n",
      "[+]Info : house/Room_Temp_1 Change to : 98 \n",
      "[+]Info : house/Room_Temp_2 Change to : 100 \n",
      "[+]Info : house/Room_Temp_1 Change to : 99 \n",
      "[+]Info : house/Room_Temp_2 Change to : 101 \n",
      "[+]Info : house/Room_Temp_1 Change to : 100 \n",
      "[+]Info : house/Room_Temp_2 Change to : 102 \n",
      "[+]Info : house/Room_Temp_1 Change to : 101 \n",
      "[+]Info : house/Room_Temp_2 Change to : 103 \n",
      "[+]Info : house/Room_Temp_1 Change to : 102 \n",
      "[+]Info : house/Room_Temp_2 Change to : 104 \n",
      "[+]Info : house/Room_Temp_1 Change to : 103 \n",
      "[+]Info : house/Room_Temp_2 Change to : 105 \n",
      "[+]Info : house/Room_Temp_1 Change to : 104 \n",
      "[+]Info : house/Room_Temp_2 Change to : 106 \n",
      "[+]Info : house/Room_Temp_1 Change to : 105 \n",
      "[+]Info : house/Room_Temp_2 Change to : 107 \n",
      "[+]Info : house/Room_Temp_1 Change to : 106 \n",
      "[+]Info : house/Room_Temp_2 Change to : 108 \n",
      "[+]Info : house/Room_Temp_1 Change to : 107 \n",
      "[+]Info : house/Room_Temp_2 Change to : 109 \n",
      "[+]Info : house/Room_Temp_1 Change to : 108 \n",
      "[+]Info : house/Room_Temp_2 Change to : 110 \n",
      "[+]Info : house/Room_Temp_1 Change to : 109 \n",
      "[+]Info : house/Room_Temp_2 Change to : 111 \n",
      "[+]Info : house/Room_Temp_1 Change to : 110 \n",
      "[+]Info : house/Room_Temp_2 Change to : 112 \n",
      "[+]Info : house/Room_Temp_1 Change to : 111 \n",
      "[+]Info : house/Room_Temp_2 Change to : 113 \n",
      "[+]Info : house/Room_Temp_1 Change to : 112 \n",
      "[+]Info : house/Room_Temp_2 Change to : 114 \n",
      "[+]Info : house/Room_Temp_1 Change to : 113 \n",
      "[+]Info : house/Room_Temp_2 Change to : 115 \n",
      "[+]Info : house/Room_Temp_1 Change to : 114 \n",
      "[+]Info : house/Room_Temp_2 Change to : 116 \n",
      "[+]Info : house/Room_Temp_1 Change to : 115 \n",
      "[+]Info : house/Room_Temp_2 Change to : 117 \n",
      "[+]Info : house/Room_Temp_1 Change to : 116 \n",
      "[+]Info : house/Room_Temp_2 Change to : 118 \n",
      "[+]Info : house/Room_Temp_1 Change to : 117 \n",
      "[+]Info : house/Room_Temp_2 Change to : 119 \n",
      "[+]Info : house/Room_Temp_1 Change to : 118 \n",
      "[+]Info : house/Room_Temp_2 Change to : 120 \n",
      "[+]Info : house/Room_Temp_1 Change to : 119 \n",
      "[+]Info : house/Room_Temp_2 Change to : 121 \n",
      "[+]Info : house/Room_Temp_1 Change to : 120 \n",
      "[+]Info : house/Room_Temp_2 Change to : 122 \n",
      "[+]Info : house/Room_Temp_1 Change to : 121 \n",
      "[+]Info : house/Room_Temp_2 Change to : 123 \n",
      "[+]Info : house/Room_Temp_1 Change to : 122 \n",
      "[+]Info : house/Room_Temp_2 Change to : 124 \n",
      "[+]Info : house/Room_Temp_1 Change to : 123 \n",
      "[+]Info : house/Room_Temp_2 Change to : 125 \n",
      "[+]Info : house/Room_Temp_1 Change to : 124 \n",
      "[+]Info : house/Room_Temp_2 Change to : 126 \n",
      "[+]Info : house/Room_Temp_1 Change to : 125 \n",
      "[+]Info : house/Room_Temp_2 Change to : 127 \n"
     ]
    },
    {
     "name": "stdout",
     "output_type": "stream",
     "text": [
      "[+]Info : house/Room_Temp_1 Change to : 126 \n",
      "[+]Info : house/Room_Temp_2 Change to : 128 \n",
      "[+]Info : house/Room_Temp_1 Change to : 127 \n",
      "[+]Info : house/Room_Temp_2 Change to : 129 \n",
      "[+]Info : house/Room_Temp_1 Change to : 128 \n",
      "[+]Info : house/Room_Temp_2 Change to : 130 \n",
      "[+]Info : house/Room_Temp_1 Change to : 129 \n",
      "[+]Info : house/Room_Temp_2 Change to : 131 \n",
      "[+]Info : house/Room_Temp_1 Change to : 130 \n",
      "[+]Info : house/Room_Temp_2 Change to : 132 \n",
      "[+]Info : house/Room_Temp_1 Change to : 131 \n",
      "[+]Info : house/Room_Temp_2 Change to : 133 \n",
      "[+]Info : house/Room_Temp_1 Change to : 132 \n",
      "[+]Info : house/Room_Temp_2 Change to : 134 \n",
      "[+]Info : house/Room_Temp_1 Change to : 133 \n",
      "[+]Info : house/Room_Temp_2 Change to : 135 \n",
      "[+]Info : house/Room_Temp_1 Change to : 134 \n",
      "[+]Info : house/Room_Temp_2 Change to : 136 \n",
      "[+]Info : house/Room_Temp_1 Change to : 135 \n",
      "[+]Info : house/Room_Temp_2 Change to : 137 \n",
      "[+]Info : house/Room_Temp_1 Change to : 136 \n",
      "[+]Info : house/Room_Temp_2 Change to : 138 \n",
      "[+]Info : house/Room_Temp_1 Change to : 137 \n",
      "[+]Info : house/Room_Temp_2 Change to : 139 \n",
      "[+]Info : house/Room_Temp_1 Change to : 138 \n",
      "[+]Info : house/Room_Temp_2 Change to : 140 \n",
      "[+]Info : house/Room_Temp_1 Change to : 139 \n",
      "[+]Info : house/Room_Temp_2 Change to : 141 \n",
      "[+]Info : house/Room_Temp_1 Change to : 140 \n",
      "[+]Info : house/Room_Temp_2 Change to : 142 \n",
      "[+]Info : house/Room_Temp_1 Change to : 141 \n",
      "[+]Info : house/Room_Temp_2 Change to : 143 \n",
      "[+]Info : house/Room_Temp_1 Change to : 142 \n",
      "[+]Info : house/Room_Temp_2 Change to : 144 \n",
      "[+]Info : house/Room_Temp_1 Change to : 143 \n",
      "[+]Info : house/Room_Temp_2 Change to : 145 \n",
      "[+]Info : house/Room_Temp_1 Change to : 144 \n",
      "[+]Info : house/Room_Temp_2 Change to : 146 \n",
      "[+]Info : house/Room_Temp_1 Change to : 145 \n",
      "[+]Info : house/Room_Temp_2 Change to : 147 \n",
      "[+]Info : house/Room_Temp_1 Change to : 146 \n",
      "[+]Info : house/Room_Temp_2 Change to : 148 \n",
      "[+]Info : house/Room_Temp_1 Change to : 147 \n",
      "[+]Info : house/Room_Temp_2 Change to : 149 \n",
      "[+]Info : house/Room_Temp_1 Change to : 148 \n",
      "[+]Info : house/Room_Temp_2 Change to : 150 \n",
      "[+]Info : house/Room_Temp_1 Change to : 149 \n",
      "[+]Info : house/Room_Temp_2 Change to : 151 \n",
      "[+]Info : house/Room_Temp_1 Change to : 150 \n",
      "[+]Info : house/Room_Temp_2 Change to : 152 \n",
      "[+]Info : house/Room_Temp_1 Change to : 151 \n",
      "[+]Info : house/Room_Temp_2 Change to : 153 \n",
      "[+]Info : house/Room_Temp_1 Change to : 152 \n",
      "[+]Info : house/Room_Temp_2 Change to : 154 \n",
      "[+]Info : house/Room_Temp_1 Change to : 153 \n",
      "[+]Info : house/Room_Temp_2 Change to : 155 \n",
      "[+]Info : house/Room_Temp_1 Change to : 154 \n",
      "[+]Info : house/Room_Temp_2 Change to : 156 \n",
      "[+]Info : house/Room_Temp_1 Change to : 155 \n",
      "[+]Info : house/Room_Temp_2 Change to : 157 \n",
      "[+]Info : house/Room_Temp_1 Change to : 156 \n",
      "[+]Info : house/Room_Temp_2 Change to : 158 \n",
      "[+]Info : house/Room_Temp_1 Change to : 157 \n",
      "[+]Info : house/Room_Temp_2 Change to : 159 \n",
      "[+]Info : house/Room_Temp_1 Change to : 158 \n",
      "[+]Info : house/Room_Temp_2 Change to : 160 \n",
      "[+]Info : house/Room_Temp_1 Change to : 159 \n",
      "[+]Info : house/Room_Temp_2 Change to : 161 \n",
      "[+]Info : house/Room_Temp_1 Change to : 160 \n",
      "[+]Info : house/Room_Temp_2 Change to : 162 \n",
      "[+]Info : house/Room_Temp_1 Change to : 161 \n",
      "[+]Info : house/Room_Temp_2 Change to : 163 \n",
      "[+]Info : house/Room_Temp_1 Change to : 162 \n",
      "[+]Info : house/Room_Temp_2 Change to : 164 \n",
      "[+]Info : house/Room_Temp_1 Change to : 163 \n",
      "[+]Info : house/Room_Temp_2 Change to : 165 \n",
      "[+]Info : house/Room_Temp_1 Change to : 164 \n",
      "[+]Info : house/Room_Temp_2 Change to : 166 \n",
      "[+]Info : house/Room_Temp_1 Change to : 165 \n",
      "[+]Info : house/Room_Temp_2 Change to : 167 \n",
      "[+]Info : house/Room_Temp_1 Change to : 166 \n",
      "[+]Info : house/Room_Temp_2 Change to : 168 \n",
      "[+]Info : house/Room_Temp_1 Change to : 167 \n",
      "[+]Info : house/Room_Temp_2 Change to : 169 \n",
      "[+]Info : house/Room_Temp_1 Change to : 168 \n",
      "[+]Info : house/Room_Temp_2 Change to : 170 \n",
      "[+]Info : house/Room_Temp_1 Change to : 169 \n",
      "[+]Info : house/Room_Temp_2 Change to : 171 \n",
      "[+]Info : house/Room_Temp_1 Change to : 170 \n",
      "[+]Info : house/Room_Temp_2 Change to : 172 \n",
      "[+]Info : house/Room_Temp_1 Change to : 171 \n",
      "[+]Info : house/Room_Temp_2 Change to : 173 \n",
      "[+]Info : house/Room_Temp_1 Change to : 172 \n",
      "[+]Info : house/Room_Temp_2 Change to : 174 \n",
      "[+]Info : house/Room_Temp_1 Change to : 173 \n",
      "[+]Info : house/Room_Temp_2 Change to : 175 \n",
      "[+]Info : house/Room_Temp_1 Change to : 174 \n",
      "[+]Info : house/Room_Temp_2 Change to : 176 \n",
      "[+]Info : house/Room_Temp_1 Change to : 175 \n",
      "[+]Info : house/Room_Temp_2 Change to : 177 \n",
      "[+]Info : house/Room_Temp_1 Change to : 176 \n",
      "[+]Info : house/Room_Temp_2 Change to : 178 \n",
      "[+]Info : house/Room_Temp_1 Change to : 177 \n",
      "[+]Info : house/Room_Temp_2 Change to : 179 \n",
      "[+]Info : house/Room_Temp_1 Change to : 178 \n",
      "[+]Info : house/Room_Temp_2 Change to : 180 \n",
      "[+]Info : house/Room_Temp_1 Change to : 179 \n",
      "[+]Info : house/Room_Temp_2 Change to : 181 \n",
      "[+]Info : house/Room_Temp_1 Change to : 180 \n",
      "[+]Info : house/Room_Temp_2 Change to : 182 \n",
      "[+]Info : house/Room_Temp_1 Change to : 181 \n",
      "[+]Info : house/Room_Temp_2 Change to : 183 \n",
      "[+]Info : house/Room_Temp_1 Change to : 182 \n",
      "[+]Info : house/Room_Temp_2 Change to : 184 \n",
      "[+]Info : house/Room_Temp_1 Change to : 183 \n",
      "[+]Info : house/Room_Temp_2 Change to : 185 \n",
      "[+]Info : house/Room_Temp_1 Change to : 184 \n",
      "[+]Info : house/Room_Temp_2 Change to : 186 \n",
      "[+]Info : house/Room_Temp_1 Change to : 185 \n",
      "[+]Info : house/Room_Temp_2 Change to : 187 \n",
      "[+]Info : house/Room_Temp_1 Change to : 186 \n",
      "[+]Info : house/Room_Temp_2 Change to : 188 \n",
      "[+]Info : house/Room_Temp_1 Change to : 187 \n",
      "[+]Info : house/Room_Temp_2 Change to : 189 \n",
      "[+]Info : house/Room_Temp_1 Change to : 188 \n",
      "[+]Info : house/Room_Temp_2 Change to : 190 \n",
      "[+]Info : house/Room_Temp_1 Change to : 189 \n",
      "[+]Info : house/Room_Temp_2 Change to : 191 \n",
      "[+]Info : house/Room_Temp_1 Change to : 190 \n",
      "[+]Info : house/Room_Temp_2 Change to : 192 \n",
      "[+]Info : house/Room_Temp_1 Change to : 191 \n",
      "[+]Info : house/Room_Temp_2 Change to : 193 \n",
      "[+]Info : house/Room_Temp_1 Change to : 192 \n",
      "[+]Info : house/Room_Temp_2 Change to : 194 \n",
      "[+]Info : house/Room_Temp_1 Change to : 193 \n",
      "[+]Info : house/Room_Temp_2 Change to : 195 \n",
      "[+]Info : house/Room_Temp_1 Change to : 194 \n",
      "[+]Info : house/Room_Temp_2 Change to : 196 \n",
      "[+]Info : house/Room_Temp_1 Change to : 195 \n",
      "[+]Info : house/Room_Temp_2 Change to : 197 \n",
      "[+]Info : house/Room_Temp_1 Change to : 196 \n",
      "[+]Info : house/Room_Temp_2 Change to : 198 \n",
      "[+]Info : house/Room_Temp_1 Change to : 197 \n",
      "[+]Info : house/Room_Temp_2 Change to : 199 \n",
      "[+]Info : house/Room_Temp_1 Change to : 198 \n",
      "[+]Info : house/Room_Temp_2 Change to : 200 \n",
      "[+]Info : house/Room_Temp_1 Change to : 199 \n",
      "[+]Info : house/Room_Temp_2 Change to : 201 \n",
      "[+]Info : house/Room_Temp_1 Change to : 200 \n",
      "[+]Info : house/Room_Temp_2 Change to : 202 \n",
      "[+]Info : house/Room_Temp_1 Change to : 201 \n",
      "[+]Info : house/Room_Temp_2 Change to : 203 \n",
      "[+]Info : house/Room_Temp_1 Change to : 202 \n",
      "[+]Info : house/Room_Temp_2 Change to : 204 \n",
      "[+]Info : house/Room_Temp_1 Change to : 203 \n",
      "[+]Info : house/Room_Temp_2 Change to : 205 \n",
      "[+]Info : house/Room_Temp_1 Change to : 204 \n",
      "[+]Info : house/Room_Temp_2 Change to : 206 \n",
      "[+]Info : house/Room_Temp_1 Change to : 205 \n",
      "[+]Info : house/Room_Temp_2 Change to : 207 \n",
      "[+]Info : house/Room_Temp_1 Change to : 206 \n",
      "[+]Info : house/Room_Temp_2 Change to : 208 \n",
      "[+]Info : house/Room_Temp_1 Change to : 207 \n",
      "[+]Info : house/Room_Temp_2 Change to : 209 \n",
      "[+]Info : house/Room_Temp_1 Change to : 208 \n",
      "[+]Info : house/Room_Temp_2 Change to : 210 \n",
      "[+]Info : house/Room_Temp_1 Change to : 209 \n",
      "[+]Info : house/Room_Temp_2 Change to : 211 \n",
      "[+]Info : house/Room_Temp_1 Change to : 210 \n",
      "[+]Info : house/Room_Temp_2 Change to : 212 \n",
      "[+]Info : house/Room_Temp_1 Change to : 211 \n",
      "[+]Info : house/Room_Temp_2 Change to : 213 \n",
      "[+]Info : house/Room_Temp_1 Change to : 212 \n",
      "[+]Info : house/Room_Temp_2 Change to : 214 \n",
      "[+]Info : house/Room_Temp_1 Change to : 213 \n",
      "[+]Info : house/Room_Temp_2 Change to : 215 \n",
      "[+]Info : house/Room_Temp_1 Change to : 214 \n",
      "[+]Info : house/Room_Temp_2 Change to : 216 \n",
      "[+]Info : house/Room_Temp_1 Change to : 215 \n",
      "[+]Info : house/Room_Temp_2 Change to : 217 \n",
      "[+]Info : house/Room_Temp_1 Change to : 216 \n",
      "[+]Info : house/Room_Temp_2 Change to : 218 \n",
      "[+]Info : house/Room_Temp_1 Change to : 217 \n",
      "[+]Info : house/Room_Temp_2 Change to : 219 \n"
     ]
    }
   ],
   "source": [
    "client.loop_forever()"
   ]
  },
  {
   "cell_type": "code",
   "execution_count": null,
   "id": "0f61b3ff",
   "metadata": {},
   "outputs": [],
   "source": []
  }
 ],
 "metadata": {
  "kernelspec": {
   "display_name": "Python 3",
   "language": "python",
   "name": "python3"
  },
  "language_info": {
   "codemirror_mode": {
    "name": "ipython",
    "version": 3
   },
   "file_extension": ".py",
   "mimetype": "text/x-python",
   "name": "python",
   "nbconvert_exporter": "python",
   "pygments_lexer": "ipython3",
   "version": "3.6.8"
  }
 },
 "nbformat": 4,
 "nbformat_minor": 5
}
