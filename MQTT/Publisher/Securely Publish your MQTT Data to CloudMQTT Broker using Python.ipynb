{
 "cells": [
  {
   "cell_type": "markdown",
   "id": "bizarre-comparison",
   "metadata": {},
   "source": [
    "# Install MQTT Library for Python"
   ]
  },
  {
   "cell_type": "code",
   "execution_count": null,
   "id": "different-comfort",
   "metadata": {},
   "outputs": [],
   "source": [
    "!python -m pip install paho.mqtt"
   ]
  },
  {
   "cell_type": "markdown",
   "id": "musical-pierre",
   "metadata": {},
   "source": [
    "# Import Functions from Library to Make Publisher"
   ]
  },
  {
   "cell_type": "code",
   "execution_count": null,
   "id": "rolled-airfare",
   "metadata": {},
   "outputs": [],
   "source": [
    "import paho.mqtt.client as paho\n",
    "%config Completer.use_jedi = False\n",
    "import time"
   ]
  },
  {
   "cell_type": "markdown",
   "id": "friendly-mustang",
   "metadata": {},
   "source": [
    "# Define Perameter for Publisher"
   ]
  },
  {
   "cell_type": "code",
   "execution_count": null,
   "id": "recreational-correlation",
   "metadata": {},
   "outputs": [],
   "source": [
    "broker = \"\" # Add Broker Link \n",
    "port = 1883 # Set Port\n",
    "username = \"\" # Set Username of Your Broker Link\n",
    "password = \"\" # Set Password of Your Broker Link"
   ]
  },
  {
   "cell_type": "markdown",
   "id": "banner-mainstream",
   "metadata": {},
   "source": [
    "# Establish Connection"
   ]
  },
  {
   "cell_type": "code",
   "execution_count": null,
   "id": "magnetic-sitting",
   "metadata": {},
   "outputs": [],
   "source": [
    "publisher = paho.Client(\"MQTT PYTHON PUBLISHER\")\n",
    "publisher.username_pw_set(username, password)\n",
    "publisher.connect(broker,port)"
   ]
  },
  {
   "cell_type": "markdown",
   "id": "fleet-pharmaceutical",
   "metadata": {},
   "source": [
    "# Update Topic Value Continuous"
   ]
  },
  {
   "cell_type": "code",
   "execution_count": null,
   "id": "professional-myanmar",
   "metadata": {},
   "outputs": [],
   "source": [
    "Value = 0\n",
    "while True:\n",
    "    publisher.publish(\"house/Room_Temp\",Value)\n",
    "    print(\"Please check data on your Subscriber Code \\n\")\n",
    "    time.sleep(5)\n",
    "    Value = Value + 1\n"
   ]
  }
 ],
 "metadata": {
  "kernelspec": {
   "display_name": "Python 3",
   "language": "python",
   "name": "python3"
  },
  "language_info": {
   "codemirror_mode": {
    "name": "ipython",
    "version": 3
   },
   "file_extension": ".py",
   "mimetype": "text/x-python",
   "name": "python",
   "nbconvert_exporter": "python",
   "pygments_lexer": "ipython3",
   "version": "3.6.8"
  }
 },
 "nbformat": 4,
 "nbformat_minor": 5
}
