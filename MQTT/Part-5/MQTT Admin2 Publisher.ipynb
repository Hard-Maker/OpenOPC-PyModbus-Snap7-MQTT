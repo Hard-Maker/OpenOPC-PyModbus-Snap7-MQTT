{
 "cells": [
  {
   "cell_type": "code",
   "execution_count": null,
   "id": "rolled-airfare",
   "metadata": {},
   "outputs": [],
   "source": [
    "import paho.mqtt.client as paho\n",
    "%config Completer.use_jedi = False\n",
    "import time"
   ]
  },
  {
   "cell_type": "code",
   "execution_count": null,
   "id": "recreational-correlation",
   "metadata": {},
   "outputs": [],
   "source": [
    "broker = \"localhost\"\n",
    "port = 1883\n",
    "username = \"root\" # Set Username of Your Broker Link\n",
    "password = \"toor\" # Set Password of Your Broker Link"
   ]
  },
  {
   "cell_type": "code",
   "execution_count": null,
   "id": "accepted-phrase",
   "metadata": {},
   "outputs": [],
   "source": [
    "publisher = paho.Client(\"MQTT PYTHON PUBLISHER\")\n",
    "publisher.username_pw_set(username, password)\n",
    "publisher.connect(broker,port)"
   ]
  },
  {
   "cell_type": "code",
   "execution_count": null,
   "id": "professional-myanmar",
   "metadata": {},
   "outputs": [],
   "source": [
    "Value = 0\n",
    "while True:\n",
    "    publisher.publish(\"temp\",Value)\n",
    "#     publisher.publish(\"temp2\",Value+2)\n",
    "    #print(\"Please check data on your Subscriber Code \\n\")\n",
    "    time.sleep(5)\n",
    "    Value = Value + 1\n"
   ]
  },
  {
   "cell_type": "code",
   "execution_count": null,
   "id": "8a0ce7aa",
   "metadata": {},
   "outputs": [],
   "source": []
  }
 ],
 "metadata": {
  "kernelspec": {
   "display_name": "Python 3",
   "language": "python",
   "name": "python3"
  },
  "language_info": {
   "codemirror_mode": {
    "name": "ipython",
    "version": 3
   },
   "file_extension": ".py",
   "mimetype": "text/x-python",
   "name": "python",
   "nbconvert_exporter": "python",
   "pygments_lexer": "ipython3",
   "version": "3.6.8"
  }
 },
 "nbformat": 4,
 "nbformat_minor": 5
}
