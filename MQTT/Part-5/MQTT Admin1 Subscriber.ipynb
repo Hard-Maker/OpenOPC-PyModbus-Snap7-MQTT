{
 "cells": [
  {
   "cell_type": "code",
   "execution_count": null,
   "id": "440a47ed",
   "metadata": {},
   "outputs": [],
   "source": [
    "import random\n",
    "from paho.mqtt import client as mqtt_client"
   ]
  },
  {
   "cell_type": "code",
   "execution_count": null,
   "id": "776a6f83",
   "metadata": {},
   "outputs": [],
   "source": [
    "broker = 'localhost'\n",
    "port = 1883\n",
    "username = 'admin2'\n",
    "password = 'admin@123'"
   ]
  },
  {
   "cell_type": "code",
   "execution_count": null,
   "id": "99303cd3",
   "metadata": {},
   "outputs": [],
   "source": [
    "topic1 = \"temp1\""
   ]
  },
  {
   "cell_type": "code",
   "execution_count": null,
   "id": "a4fe5332",
   "metadata": {},
   "outputs": [],
   "source": [
    "client = mqtt_client.Client(\"Python MQTT Subscriber\")\n",
    "client.username_pw_set(username, password)\n",
    "client.connect(broker, port)"
   ]
  },
  {
   "cell_type": "code",
   "execution_count": null,
   "id": "2c73bb37",
   "metadata": {},
   "outputs": [],
   "source": [
    "client.subscribe(topic1)\n"
   ]
  },
  {
   "cell_type": "code",
   "execution_count": null,
   "id": "7641c43b",
   "metadata": {},
   "outputs": [],
   "source": [
    "def on_message(client, userdata, msg):\n",
    "    print(f\"[+]Info : {msg.topic} Change to : {msg.payload.decode()} \")"
   ]
  },
  {
   "cell_type": "code",
   "execution_count": null,
   "id": "b12f382a",
   "metadata": {},
   "outputs": [],
   "source": [
    "client.on_message = on_message"
   ]
  },
  {
   "cell_type": "code",
   "execution_count": null,
   "id": "86dcaac7",
   "metadata": {},
   "outputs": [],
   "source": [
    "client.loop_forever()"
   ]
  },
  {
   "cell_type": "code",
   "execution_count": null,
   "id": "0f61b3ff",
   "metadata": {},
   "outputs": [],
   "source": []
  }
 ],
 "metadata": {
  "kernelspec": {
   "display_name": "Python 3",
   "language": "python",
   "name": "python3"
  },
  "language_info": {
   "codemirror_mode": {
    "name": "ipython",
    "version": 3
   },
   "file_extension": ".py",
   "mimetype": "text/x-python",
   "name": "python",
   "nbconvert_exporter": "python",
   "pygments_lexer": "ipython3",
   "version": "3.6.8"
  }
 },
 "nbformat": 4,
 "nbformat_minor": 5
}
