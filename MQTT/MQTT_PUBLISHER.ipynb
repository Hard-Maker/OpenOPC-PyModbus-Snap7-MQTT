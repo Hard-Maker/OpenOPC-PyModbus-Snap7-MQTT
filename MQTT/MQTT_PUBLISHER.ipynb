{
 "cells": [
  {
   "cell_type": "markdown",
   "id": "bizarre-comparison",
   "metadata": {},
   "source": [
    "# Install MQTT Library for Python"
   ]
  },
  {
   "cell_type": "code",
   "execution_count": null,
   "id": "million-willow",
   "metadata": {},
   "outputs": [],
   "source": [
    "!pip install paho.mqtt"
   ]
  },
  {
   "cell_type": "code",
   "execution_count": null,
   "id": "different-comfort",
   "metadata": {
    "scrolled": true
   },
   "outputs": [],
   "source": [
    "!python -m pip install paho.mqtt"
   ]
  },
  {
   "cell_type": "markdown",
   "id": "musical-pierre",
   "metadata": {},
   "source": [
    "# Import Functions from Library to Make Publisher"
   ]
  },
  {
   "cell_type": "code",
   "execution_count": 1,
   "id": "rolled-airfare",
   "metadata": {},
   "outputs": [],
   "source": [
    "import paho.mqtt.client as paho\n",
    "%config Completer.use_jedi = False\n",
    "import time"
   ]
  },
  {
   "cell_type": "markdown",
   "id": "friendly-mustang",
   "metadata": {},
   "source": [
    "# Define Perameter for Publisher"
   ]
  },
  {
   "cell_type": "code",
   "execution_count": 2,
   "id": "recreational-correlation",
   "metadata": {},
   "outputs": [],
   "source": [
    "broker = \"localhost\"\n",
    "port = 1883"
   ]
  },
  {
   "cell_type": "markdown",
   "id": "banner-mainstream",
   "metadata": {},
   "source": [
    "# Establish Connection"
   ]
  },
  {
   "cell_type": "code",
   "execution_count": 3,
   "id": "accepted-phrase",
   "metadata": {},
   "outputs": [],
   "source": [
    "publisher = paho.Client(\"MQTT PYTHON PUBLISHER\")"
   ]
  },
  {
   "cell_type": "code",
   "execution_count": 5,
   "id": "magnetic-sitting",
   "metadata": {},
   "outputs": [
    {
     "data": {
      "text/plain": [
       "0"
      ]
     },
     "execution_count": 5,
     "metadata": {},
     "output_type": "execute_result"
    }
   ],
   "source": [
    "publisher.connect(broker,port)"
   ]
  },
  {
   "cell_type": "markdown",
   "id": "fleet-pharmaceutical",
   "metadata": {},
   "source": [
    "# Update Topic Value Continuous"
   ]
  },
  {
   "cell_type": "code",
   "execution_count": 6,
   "id": "professional-myanmar",
   "metadata": {},
   "outputs": [
    {
     "name": "stdout",
     "output_type": "stream",
     "text": [
      "Please check data on your Subscriber Code \n",
      "\n",
      "Please check data on your Subscriber Code \n",
      "\n",
      "Please check data on your Subscriber Code \n",
      "\n",
      "Please check data on your Subscriber Code \n",
      "\n",
      "Please check data on your Subscriber Code \n",
      "\n",
      "Please check data on your Subscriber Code \n",
      "\n",
      "Please check data on your Subscriber Code \n",
      "\n",
      "Please check data on your Subscriber Code \n",
      "\n",
      "Please check data on your Subscriber Code \n",
      "\n",
      "Please check data on your Subscriber Code \n",
      "\n",
      "Please check data on your Subscriber Code \n",
      "\n",
      "Please check data on your Subscriber Code \n",
      "\n",
      "Please check data on your Subscriber Code \n",
      "\n",
      "Please check data on your Subscriber Code \n",
      "\n",
      "Please check data on your Subscriber Code \n",
      "\n",
      "Please check data on your Subscriber Code \n",
      "\n",
      "Please check data on your Subscriber Code \n",
      "\n",
      "Please check data on your Subscriber Code \n",
      "\n",
      "Please check data on your Subscriber Code \n",
      "\n",
      "Please check data on your Subscriber Code \n",
      "\n",
      "Please check data on your Subscriber Code \n",
      "\n",
      "Please check data on your Subscriber Code \n",
      "\n",
      "Please check data on your Subscriber Code \n",
      "\n",
      "Please check data on your Subscriber Code \n",
      "\n",
      "Please check data on your Subscriber Code \n",
      "\n",
      "Please check data on your Subscriber Code \n",
      "\n",
      "Please check data on your Subscriber Code \n",
      "\n",
      "Please check data on your Subscriber Code \n",
      "\n",
      "Please check data on your Subscriber Code \n",
      "\n",
      "Please check data on your Subscriber Code \n",
      "\n",
      "Please check data on your Subscriber Code \n",
      "\n",
      "Please check data on your Subscriber Code \n",
      "\n",
      "Please check data on your Subscriber Code \n",
      "\n",
      "Please check data on your Subscriber Code \n",
      "\n",
      "Please check data on your Subscriber Code \n",
      "\n",
      "Please check data on your Subscriber Code \n",
      "\n",
      "Please check data on your Subscriber Code \n",
      "\n",
      "Please check data on your Subscriber Code \n",
      "\n",
      "Please check data on your Subscriber Code \n",
      "\n",
      "Please check data on your Subscriber Code \n",
      "\n",
      "Please check data on your Subscriber Code \n",
      "\n",
      "Please check data on your Subscriber Code \n",
      "\n",
      "Please check data on your Subscriber Code \n",
      "\n",
      "Please check data on your Subscriber Code \n",
      "\n",
      "Please check data on your Subscriber Code \n",
      "\n",
      "Please check data on your Subscriber Code \n",
      "\n",
      "Please check data on your Subscriber Code \n",
      "\n",
      "Please check data on your Subscriber Code \n",
      "\n",
      "Please check data on your Subscriber Code \n",
      "\n",
      "Please check data on your Subscriber Code \n",
      "\n",
      "Please check data on your Subscriber Code \n",
      "\n",
      "Please check data on your Subscriber Code \n",
      "\n",
      "Please check data on your Subscriber Code \n",
      "\n",
      "Please check data on your Subscriber Code \n",
      "\n",
      "Please check data on your Subscriber Code \n",
      "\n",
      "Please check data on your Subscriber Code \n",
      "\n",
      "Please check data on your Subscriber Code \n",
      "\n",
      "Please check data on your Subscriber Code \n",
      "\n",
      "Please check data on your Subscriber Code \n",
      "\n",
      "Please check data on your Subscriber Code \n",
      "\n",
      "Please check data on your Subscriber Code \n",
      "\n",
      "Please check data on your Subscriber Code \n",
      "\n",
      "Please check data on your Subscriber Code \n",
      "\n",
      "Please check data on your Subscriber Code \n",
      "\n",
      "Please check data on your Subscriber Code \n",
      "\n",
      "Please check data on your Subscriber Code \n",
      "\n",
      "Please check data on your Subscriber Code \n",
      "\n",
      "Please check data on your Subscriber Code \n",
      "\n",
      "Please check data on your Subscriber Code \n",
      "\n",
      "Please check data on your Subscriber Code \n",
      "\n",
      "Please check data on your Subscriber Code \n",
      "\n",
      "Please check data on your Subscriber Code \n",
      "\n",
      "Please check data on your Subscriber Code \n",
      "\n",
      "Please check data on your Subscriber Code \n",
      "\n",
      "Please check data on your Subscriber Code \n",
      "\n"
     ]
    },
    {
     "ename": "KeyboardInterrupt",
     "evalue": "",
     "output_type": "error",
     "traceback": [
      "\u001b[1;31m---------------------------------------------------------------------------\u001b[0m",
      "\u001b[1;31mKeyboardInterrupt\u001b[0m                         Traceback (most recent call last)",
      "\u001b[1;32m<ipython-input-6-38349e2e330c>\u001b[0m in \u001b[0;36m<module>\u001b[1;34m\u001b[0m\n\u001b[0;32m      4\u001b[0m     \u001b[0mpublisher\u001b[0m\u001b[1;33m.\u001b[0m\u001b[0mpublish\u001b[0m\u001b[1;33m(\u001b[0m\u001b[1;34m\"house/Room_Temp_2\"\u001b[0m\u001b[1;33m,\u001b[0m\u001b[0mValue\u001b[0m\u001b[1;33m+\u001b[0m\u001b[1;36m2\u001b[0m\u001b[1;33m)\u001b[0m\u001b[1;33m\u001b[0m\u001b[1;33m\u001b[0m\u001b[0m\n\u001b[0;32m      5\u001b[0m     \u001b[0mprint\u001b[0m\u001b[1;33m(\u001b[0m\u001b[1;34m\"Please check data on your Subscriber Code \\n\"\u001b[0m\u001b[1;33m)\u001b[0m\u001b[1;33m\u001b[0m\u001b[1;33m\u001b[0m\u001b[0m\n\u001b[1;32m----> 6\u001b[1;33m     \u001b[0mtime\u001b[0m\u001b[1;33m.\u001b[0m\u001b[0msleep\u001b[0m\u001b[1;33m(\u001b[0m\u001b[1;36m5\u001b[0m\u001b[1;33m)\u001b[0m\u001b[1;33m\u001b[0m\u001b[1;33m\u001b[0m\u001b[0m\n\u001b[0m\u001b[0;32m      7\u001b[0m     \u001b[0mValue\u001b[0m \u001b[1;33m=\u001b[0m \u001b[0mValue\u001b[0m \u001b[1;33m+\u001b[0m \u001b[1;36m1\u001b[0m\u001b[1;33m\u001b[0m\u001b[1;33m\u001b[0m\u001b[0m\n",
      "\u001b[1;31mKeyboardInterrupt\u001b[0m: "
     ]
    }
   ],
   "source": [
    "Value = 0\n",
    "while True:\n",
    "    publisher.publish(\"house/Room_Temp_1\",Value)\n",
    "    publisher.publish(\"house/Room_Temp_2\",Value+2)\n",
    "    print(\"Please check data on your Subscriber Code \\n\")\n",
    "    time.sleep(5)\n",
    "    Value = Value + 1\n"
   ]
  },
  {
   "cell_type": "code",
   "execution_count": null,
   "id": "smart-douglas",
   "metadata": {},
   "outputs": [],
   "source": []
  }
 ],
 "metadata": {
  "kernelspec": {
   "display_name": "Python 3",
   "language": "python",
   "name": "python3"
  },
  "language_info": {
   "codemirror_mode": {
    "name": "ipython",
    "version": 3
   },
   "file_extension": ".py",
   "mimetype": "text/x-python",
   "name": "python",
   "nbconvert_exporter": "python",
   "pygments_lexer": "ipython3",
   "version": "3.6.8"
  }
 },
 "nbformat": 4,
 "nbformat_minor": 5
}
