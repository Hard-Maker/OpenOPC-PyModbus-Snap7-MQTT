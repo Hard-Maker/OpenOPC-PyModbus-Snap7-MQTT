{
 "cells": [
  {
   "cell_type": "markdown",
   "id": "f489a6e7",
   "metadata": {},
   "source": [
    "# Import Required Function from Library"
   ]
  },
  {
   "cell_type": "code",
   "execution_count": 1,
   "id": "a33cefae",
   "metadata": {},
   "outputs": [],
   "source": [
    "import random\n",
    "from paho.mqtt import client as mqtt_client"
   ]
  },
  {
   "cell_type": "markdown",
   "id": "31ab2f45",
   "metadata": {},
   "source": [
    "# Define Broker Perameter and Topic Which you want to Subscribe"
   ]
  },
  {
   "cell_type": "code",
   "execution_count": 2,
   "id": "209b0af4",
   "metadata": {},
   "outputs": [],
   "source": [
    "broker = 'localhost'\n",
    "port = 1883\n",
    "topic1 = \"house/Room_Temp_1\"\n",
    "#topic2 = \"house/Room_Temp_2\"\n",
    "# username = 'emqx'\n",
    "# password = 'public'"
   ]
  },
  {
   "cell_type": "markdown",
   "id": "aa91fe60",
   "metadata": {},
   "source": [
    "# Function to Create Connection with MQTT Broker"
   ]
  },
  {
   "cell_type": "code",
   "execution_count": 3,
   "id": "b758b871",
   "metadata": {},
   "outputs": [],
   "source": [
    "def connect_mqtt() -> mqtt_client:\n",
    "    def on_connect(client, userdata, flags, rc):\n",
    "        if rc == 0: print(\"[+]Info : Connected to MQTT Broker!\")\n",
    "        else: print(\"[-]Error : Failed to connect, return code : \", rc)\n",
    "\n",
    "    client = mqtt_client.Client(\"Python MQTT Subscriber\")\n",
    "    #client.username_pw_set(username, password)\n",
    "    client.on_connect = on_connect\n",
    "    client.connect(broker, port)\n",
    "    return client"
   ]
  },
  {
   "cell_type": "markdown",
   "id": "bd38d032",
   "metadata": {},
   "source": [
    "# Function to Subscribe to Any Topic and Print Topic Data When Value Update by Publisher"
   ]
  },
  {
   "cell_type": "code",
   "execution_count": 4,
   "id": "5f10cf2a",
   "metadata": {},
   "outputs": [],
   "source": [
    "def subscribe(client: mqtt_client, topic):\n",
    "    def on_message(client, userdata, msg):\n",
    "        print(f\"[+]Info : {msg.topic} Change to : {msg.payload.decode()} \")\n",
    "\n",
    "    client.subscribe(topic)\n",
    "    client.on_message = on_message"
   ]
  },
  {
   "cell_type": "code",
   "execution_count": null,
   "id": "6e44509e",
   "metadata": {},
   "outputs": [],
   "source": [
    "# Function for "
   ]
  },
  {
   "cell_type": "code",
   "execution_count": 5,
   "id": "b223a822",
   "metadata": {},
   "outputs": [],
   "source": [
    "def run():\n",
    "    client = connect_mqtt()\n",
    "    subscribe(client, topic1)\n",
    "    #subscribe(client, topic2)\n",
    "    client.loop_forever()"
   ]
  },
  {
   "cell_type": "code",
   "execution_count": 6,
   "id": "d25d1be8",
   "metadata": {},
   "outputs": [
    {
     "name": "stdout",
     "output_type": "stream",
     "text": [
      "[+]Info : Connected to MQTT Broker!\n",
      "[+]Info : house/Room_Temp_1 Change to : 62 \n",
      "[+]Info : house/Room_Temp_1 Change to : 63 \n",
      "[+]Info : house/Room_Temp_1 Change to : 64 \n",
      "[+]Info : house/Room_Temp_1 Change to : 65 \n",
      "[+]Info : house/Room_Temp_1 Change to : 66 \n",
      "[+]Info : house/Room_Temp_1 Change to : 67 \n"
     ]
    }
   ],
   "source": [
    "if __name__ == '__main__':\n",
    "    try:\n",
    "        run()\n",
    "    except KeyboardInterrupt:\n",
    "        pass"
   ]
  },
  {
   "cell_type": "code",
   "execution_count": null,
   "id": "d0ff9e02",
   "metadata": {},
   "outputs": [],
   "source": []
  }
 ],
 "metadata": {
  "kernelspec": {
   "display_name": "Python 3",
   "language": "python",
   "name": "python3"
  },
  "language_info": {
   "codemirror_mode": {
    "name": "ipython",
    "version": 3
   },
   "file_extension": ".py",
   "mimetype": "text/x-python",
   "name": "python",
   "nbconvert_exporter": "python",
   "pygments_lexer": "ipython3",
   "version": "3.6.8"
  }
 },
 "nbformat": 4,
 "nbformat_minor": 5
}
