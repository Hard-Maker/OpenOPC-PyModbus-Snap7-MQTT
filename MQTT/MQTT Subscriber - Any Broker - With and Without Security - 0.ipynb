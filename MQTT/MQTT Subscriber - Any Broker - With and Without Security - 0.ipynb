{
 "cells": [
  {
   "cell_type": "markdown",
   "id": "a955d3f2",
   "metadata": {},
   "source": [
    "# Import Required Function from Library"
   ]
  },
  {
   "cell_type": "code",
   "execution_count": 1,
   "id": "440a47ed",
   "metadata": {},
   "outputs": [],
   "source": [
    "import random\n",
    "from paho.mqtt import client as mqtt_client"
   ]
  },
  {
   "cell_type": "markdown",
   "id": "dfa38b2b",
   "metadata": {},
   "source": [
    "# Define Broker Perameter and Topic Which you want to Subscribe"
   ]
  },
  {
   "cell_type": "code",
   "execution_count": 2,
   "id": "0050a24e",
   "metadata": {},
   "outputs": [],
   "source": [
    "broker = 'localhost'\n",
    "port = 1883\n",
    "topic1 = \"house/Room_Temp_1\"\n",
    "#topic2 = \"house/Room_Temp_2\"\n",
    "# username = 'emqx'\n",
    "# password = 'public'"
   ]
  },
  {
   "cell_type": "markdown",
   "id": "d2272a43",
   "metadata": {},
   "source": [
    "# Function to Create Connection with MQTT Broker"
   ]
  },
  {
   "cell_type": "code",
   "execution_count": null,
   "id": "d8fd706e",
   "metadata": {},
   "outputs": [],
   "source": [
    "def connect_mqtt() -> mqtt_client:\n",
    "    def on_connect(client, userdata, flags, rc):\n",
    "        if rc == 0: print(\"[+]Info : Connected to MQTT Broker!\")\n",
    "        else: print(\"[-]Error : Failed to connect, return code : \", rc)\n",
    "\n",
    "    client = mqtt_client.Client(\"Python MQTT Subscriber\")\n",
    "    #client.username_pw_set(username, password)\n",
    "    client.on_connect = on_connect\n",
    "    client.connect(broker, port)\n",
    "    return client"
   ]
  },
  {
   "cell_type": "markdown",
   "id": "4a425b73",
   "metadata": {},
   "source": [
    "# Function to Subscribe to Any Topic and Print Topic Data When Value Update by Publisher"
   ]
  },
  {
   "cell_type": "code",
   "execution_count": null,
   "id": "f2202afe",
   "metadata": {},
   "outputs": [],
   "source": [
    "def subscribe(client: mqtt_client, topic):\n",
    "    def on_message(client, userdata, msg):\n",
    "        print(f\"[+]Info : {msg.topic} Change to : {msg.payload.decode()} \")\n",
    "\n",
    "    client.subscribe(topic)\n",
    "    client.on_message = on_message"
   ]
  },
  {
   "cell_type": "markdown",
   "id": "1fd4b6ad",
   "metadata": {},
   "source": [
    "# Function for Final Run"
   ]
  },
  {
   "cell_type": "code",
   "execution_count": null,
   "id": "bcaedd36",
   "metadata": {},
   "outputs": [],
   "source": [
    "def run():\n",
    "    client = connect_mqtt()\n",
    "    subscribe(client, topic1)\n",
    "    #subscribe(client, topic2)\n",
    "    client.loop_forever()"
   ]
  },
  {
   "cell_type": "code",
   "execution_count": null,
   "id": "d25d1be8",
   "metadata": {},
   "outputs": [],
   "source": [
    "if __name__ == '__main__':\n",
    "    try:\n",
    "        run()\n",
    "    except KeyboardInterrupt:\n",
    "        pass"
   ]
  },
  {
   "cell_type": "code",
   "execution_count": null,
   "id": "05abe01f",
   "metadata": {},
   "outputs": [],
   "source": []
  }
 ],
 "metadata": {
  "kernelspec": {
   "display_name": "Python 3",
   "language": "python",
   "name": "python3"
  },
  "language_info": {
   "codemirror_mode": {
    "name": "ipython",
    "version": 3
   },
   "file_extension": ".py",
   "mimetype": "text/x-python",
   "name": "python",
   "nbconvert_exporter": "python",
   "pygments_lexer": "ipython3",
   "version": "3.6.8"
  }
 },
 "nbformat": 4,
 "nbformat_minor": 5
}
